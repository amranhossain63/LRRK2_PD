{
 "cells": [
  {
   "cell_type": "markdown",
   "id": "aa023b26",
   "metadata": {},
   "source": [
    "# Analyze speech features to classify PD"
   ]
  },
  {
   "cell_type": "markdown",
   "id": "1256cf2b",
   "metadata": {},
   "source": [
    "## Import Package "
   ]
  },
  {
   "cell_type": "code",
   "execution_count": 1,
   "id": "8600e917",
   "metadata": {},
   "outputs": [],
   "source": [
    "import numpy as np\n",
    "import pandas as pd\n",
    "import matplotlib.pyplot as plt\n",
    "\n",
    "\n",
    "from sklearn import preprocessing\n",
    "from sklearn import metrics\n",
    "\n",
    "from sklearn.metrics import log_loss\n",
    "from sklearn.metrics import confusion_matrix\n",
    "import sklearn.metrics as metrics\n",
    "from sklearn.metrics import ConfusionMatrixDisplay\n",
    "from sklearn.metrics import classification_report\n",
    "from sklearn.metrics import accuracy_score\n",
    "\n",
    "from sklearn.metrics import roc_curve, auc,roc_auc_score\n",
    "from sklearn.metrics import RocCurveDisplay\n",
    "from sklearn.model_selection import GridSearchCV, cross_val_score, KFold\n",
    "from sklearn.metrics import mean_squared_error\n",
    "\n",
    "\n",
    "from sklearn.neural_network import MLPClassifier\n",
    "\n"
   ]
  },
  {
   "cell_type": "markdown",
   "id": "8653db2d",
   "metadata": {},
   "source": [
    "## Load and Anayze Data "
   ]
  },
  {
   "cell_type": "markdown",
   "id": "db3675eb",
   "metadata": {},
   "source": [
    "### Load Data"
   ]
  },
  {
   "cell_type": "code",
   "execution_count": 2,
   "id": "d50fddc4",
   "metadata": {},
   "outputs": [],
   "source": [
    "biomarker_data = \"Data/\""
   ]
  },
  {
   "cell_type": "code",
   "execution_count": 3,
   "id": "03ffa3c1",
   "metadata": {
    "scrolled": false
   },
   "outputs": [],
   "source": [
    "train_data = pd.read_csv(biomarker_data +\"pd_trainData.csv\",low_memory=False)\n",
    "\n",
    "test_data = pd.read_csv(biomarker_data +\"pd_testData.csv\",low_memory=False)"
   ]
  },
  {
   "cell_type": "code",
   "execution_count": 4,
   "id": "c86a1652",
   "metadata": {},
   "outputs": [
    {
     "data": {
      "text/html": [
       "<div>\n",
       "<style scoped>\n",
       "    .dataframe tbody tr th:only-of-type {\n",
       "        vertical-align: middle;\n",
       "    }\n",
       "\n",
       "    .dataframe tbody tr th {\n",
       "        vertical-align: top;\n",
       "    }\n",
       "\n",
       "    .dataframe thead th {\n",
       "        text-align: right;\n",
       "    }\n",
       "</style>\n",
       "<table border=\"1\" class=\"dataframe\">\n",
       "  <thead>\n",
       "    <tr style=\"text-align: right;\">\n",
       "      <th></th>\n",
       "      <th>lrrkid</th>\n",
       "      <th>gender</th>\n",
       "      <th>educcat_calc</th>\n",
       "      <th>pdenrl</th>\n",
       "      <th>agediag</th>\n",
       "      <th>ageonset</th>\n",
       "      <th>demopd_ageassess</th>\n",
       "      <th>pd_duration</th>\n",
       "      <th>pdmedyn</th>\n",
       "      <th>MCATOT</th>\n",
       "      <th>...</th>\n",
       "      <th>CNSOTHCM_lyme disease</th>\n",
       "      <th>CNSOTHCM_meningioma</th>\n",
       "      <th>CNSOTHCM_meningitis</th>\n",
       "      <th>CNSOTHCM_meningitis in childhood</th>\n",
       "      <th>CNSOTHCM_migraine</th>\n",
       "      <th>CNSOTHCM_multiple sclerosis</th>\n",
       "      <th>CNSOTHCM_nonREM parasonmnia (sleep walking)</th>\n",
       "      <th>CNSOTHCM_optic neuritis</th>\n",
       "      <th>CNSOTHCM_possible Sleep apnea-hypopnea?</th>\n",
       "      <th>CNSOTHCM_they deny having RLS but suitable symptoms, not diagnosed of depression but scales suggest he is depressed</th>\n",
       "    </tr>\n",
       "  </thead>\n",
       "  <tbody>\n",
       "    <tr>\n",
       "      <th>0</th>\n",
       "      <td>1420001.0</td>\n",
       "      <td>2.0</td>\n",
       "      <td>6.0</td>\n",
       "      <td>1.0</td>\n",
       "      <td>42.0</td>\n",
       "      <td>40.0</td>\n",
       "      <td>72.0</td>\n",
       "      <td>30.0</td>\n",
       "      <td>0.0</td>\n",
       "      <td>25.0</td>\n",
       "      <td>...</td>\n",
       "      <td>0.0</td>\n",
       "      <td>0.0</td>\n",
       "      <td>0.0</td>\n",
       "      <td>0.0</td>\n",
       "      <td>0.0</td>\n",
       "      <td>0.0</td>\n",
       "      <td>0.0</td>\n",
       "      <td>0.0</td>\n",
       "      <td>0.0</td>\n",
       "      <td>0.0</td>\n",
       "    </tr>\n",
       "    <tr>\n",
       "      <th>1</th>\n",
       "      <td>1420001.0</td>\n",
       "      <td>2.0</td>\n",
       "      <td>6.0</td>\n",
       "      <td>1.0</td>\n",
       "      <td>42.0</td>\n",
       "      <td>40.0</td>\n",
       "      <td>72.0</td>\n",
       "      <td>30.0</td>\n",
       "      <td>0.0</td>\n",
       "      <td>25.0</td>\n",
       "      <td>...</td>\n",
       "      <td>0.0</td>\n",
       "      <td>0.0</td>\n",
       "      <td>0.0</td>\n",
       "      <td>0.0</td>\n",
       "      <td>0.0</td>\n",
       "      <td>0.0</td>\n",
       "      <td>0.0</td>\n",
       "      <td>0.0</td>\n",
       "      <td>0.0</td>\n",
       "      <td>0.0</td>\n",
       "    </tr>\n",
       "    <tr>\n",
       "      <th>2</th>\n",
       "      <td>1420001.0</td>\n",
       "      <td>2.0</td>\n",
       "      <td>6.0</td>\n",
       "      <td>1.0</td>\n",
       "      <td>42.0</td>\n",
       "      <td>40.0</td>\n",
       "      <td>72.0</td>\n",
       "      <td>30.0</td>\n",
       "      <td>0.0</td>\n",
       "      <td>25.0</td>\n",
       "      <td>...</td>\n",
       "      <td>0.0</td>\n",
       "      <td>0.0</td>\n",
       "      <td>0.0</td>\n",
       "      <td>0.0</td>\n",
       "      <td>0.0</td>\n",
       "      <td>0.0</td>\n",
       "      <td>0.0</td>\n",
       "      <td>0.0</td>\n",
       "      <td>0.0</td>\n",
       "      <td>0.0</td>\n",
       "    </tr>\n",
       "    <tr>\n",
       "      <th>3</th>\n",
       "      <td>1420001.0</td>\n",
       "      <td>2.0</td>\n",
       "      <td>6.0</td>\n",
       "      <td>1.0</td>\n",
       "      <td>42.0</td>\n",
       "      <td>40.0</td>\n",
       "      <td>72.0</td>\n",
       "      <td>30.0</td>\n",
       "      <td>0.0</td>\n",
       "      <td>25.0</td>\n",
       "      <td>...</td>\n",
       "      <td>0.0</td>\n",
       "      <td>0.0</td>\n",
       "      <td>0.0</td>\n",
       "      <td>0.0</td>\n",
       "      <td>0.0</td>\n",
       "      <td>0.0</td>\n",
       "      <td>0.0</td>\n",
       "      <td>0.0</td>\n",
       "      <td>0.0</td>\n",
       "      <td>0.0</td>\n",
       "    </tr>\n",
       "    <tr>\n",
       "      <th>4</th>\n",
       "      <td>1420001.0</td>\n",
       "      <td>2.0</td>\n",
       "      <td>6.0</td>\n",
       "      <td>1.0</td>\n",
       "      <td>42.0</td>\n",
       "      <td>40.0</td>\n",
       "      <td>72.0</td>\n",
       "      <td>30.0</td>\n",
       "      <td>0.0</td>\n",
       "      <td>25.0</td>\n",
       "      <td>...</td>\n",
       "      <td>0.0</td>\n",
       "      <td>0.0</td>\n",
       "      <td>0.0</td>\n",
       "      <td>0.0</td>\n",
       "      <td>0.0</td>\n",
       "      <td>0.0</td>\n",
       "      <td>0.0</td>\n",
       "      <td>0.0</td>\n",
       "      <td>0.0</td>\n",
       "      <td>0.0</td>\n",
       "    </tr>\n",
       "  </tbody>\n",
       "</table>\n",
       "<p>5 rows × 4379 columns</p>\n",
       "</div>"
      ],
      "text/plain": [
       "      lrrkid  gender  educcat_calc  pdenrl  agediag  ageonset  \\\n",
       "0  1420001.0     2.0           6.0     1.0     42.0      40.0   \n",
       "1  1420001.0     2.0           6.0     1.0     42.0      40.0   \n",
       "2  1420001.0     2.0           6.0     1.0     42.0      40.0   \n",
       "3  1420001.0     2.0           6.0     1.0     42.0      40.0   \n",
       "4  1420001.0     2.0           6.0     1.0     42.0      40.0   \n",
       "\n",
       "   demopd_ageassess  pd_duration  pdmedyn  MCATOT  ...  CNSOTHCM_lyme disease  \\\n",
       "0              72.0         30.0      0.0    25.0  ...                    0.0   \n",
       "1              72.0         30.0      0.0    25.0  ...                    0.0   \n",
       "2              72.0         30.0      0.0    25.0  ...                    0.0   \n",
       "3              72.0         30.0      0.0    25.0  ...                    0.0   \n",
       "4              72.0         30.0      0.0    25.0  ...                    0.0   \n",
       "\n",
       "   CNSOTHCM_meningioma  CNSOTHCM_meningitis  CNSOTHCM_meningitis in childhood  \\\n",
       "0                  0.0                  0.0                               0.0   \n",
       "1                  0.0                  0.0                               0.0   \n",
       "2                  0.0                  0.0                               0.0   \n",
       "3                  0.0                  0.0                               0.0   \n",
       "4                  0.0                  0.0                               0.0   \n",
       "\n",
       "   CNSOTHCM_migraine  CNSOTHCM_multiple sclerosis  \\\n",
       "0                0.0                          0.0   \n",
       "1                0.0                          0.0   \n",
       "2                0.0                          0.0   \n",
       "3                0.0                          0.0   \n",
       "4                0.0                          0.0   \n",
       "\n",
       "   CNSOTHCM_nonREM parasonmnia (sleep walking)  CNSOTHCM_optic neuritis  \\\n",
       "0                                          0.0                      0.0   \n",
       "1                                          0.0                      0.0   \n",
       "2                                          0.0                      0.0   \n",
       "3                                          0.0                      0.0   \n",
       "4                                          0.0                      0.0   \n",
       "\n",
       "   CNSOTHCM_possible Sleep apnea-hypopnea?  \\\n",
       "0                                      0.0   \n",
       "1                                      0.0   \n",
       "2                                      0.0   \n",
       "3                                      0.0   \n",
       "4                                      0.0   \n",
       "\n",
       "   CNSOTHCM_they deny having RLS but suitable symptoms, not diagnosed of depression but scales suggest he is depressed  \n",
       "0                                                0.0                                                                    \n",
       "1                                                0.0                                                                    \n",
       "2                                                0.0                                                                    \n",
       "3                                                0.0                                                                    \n",
       "4                                                0.0                                                                    \n",
       "\n",
       "[5 rows x 4379 columns]"
      ]
     },
     "execution_count": 4,
     "metadata": {},
     "output_type": "execute_result"
    }
   ],
   "source": [
    "train_data.head()"
   ]
  },
  {
   "cell_type": "code",
   "execution_count": 5,
   "id": "6261824e",
   "metadata": {},
   "outputs": [
    {
     "data": {
      "text/html": [
       "<div>\n",
       "<style scoped>\n",
       "    .dataframe tbody tr th:only-of-type {\n",
       "        vertical-align: middle;\n",
       "    }\n",
       "\n",
       "    .dataframe tbody tr th {\n",
       "        vertical-align: top;\n",
       "    }\n",
       "\n",
       "    .dataframe thead th {\n",
       "        text-align: right;\n",
       "    }\n",
       "</style>\n",
       "<table border=\"1\" class=\"dataframe\">\n",
       "  <thead>\n",
       "    <tr style=\"text-align: right;\">\n",
       "      <th></th>\n",
       "      <th>lrrkid</th>\n",
       "      <th>gender</th>\n",
       "      <th>educcat_calc</th>\n",
       "      <th>pdenrl</th>\n",
       "      <th>agediag</th>\n",
       "      <th>ageonset</th>\n",
       "      <th>demopd_ageassess</th>\n",
       "      <th>pd_duration</th>\n",
       "      <th>pdmedyn</th>\n",
       "      <th>MCATOT</th>\n",
       "      <th>...</th>\n",
       "      <th>CNSOTHCM_lyme disease</th>\n",
       "      <th>CNSOTHCM_meningioma</th>\n",
       "      <th>CNSOTHCM_meningitis</th>\n",
       "      <th>CNSOTHCM_meningitis in childhood</th>\n",
       "      <th>CNSOTHCM_migraine</th>\n",
       "      <th>CNSOTHCM_multiple sclerosis</th>\n",
       "      <th>CNSOTHCM_nonREM parasonmnia (sleep walking)</th>\n",
       "      <th>CNSOTHCM_optic neuritis</th>\n",
       "      <th>CNSOTHCM_possible Sleep apnea-hypopnea?</th>\n",
       "      <th>CNSOTHCM_they deny having RLS but suitable symptoms, not diagnosed of depression but scales suggest he is depressed</th>\n",
       "    </tr>\n",
       "  </thead>\n",
       "  <tbody>\n",
       "    <tr>\n",
       "      <th>0</th>\n",
       "      <td>6950001.0</td>\n",
       "      <td>1.0</td>\n",
       "      <td>3.0</td>\n",
       "      <td>0.0</td>\n",
       "      <td>0.0</td>\n",
       "      <td>0.0</td>\n",
       "      <td>61.0</td>\n",
       "      <td>0.0</td>\n",
       "      <td>0.0</td>\n",
       "      <td>29.0</td>\n",
       "      <td>...</td>\n",
       "      <td>0.0</td>\n",
       "      <td>0.0</td>\n",
       "      <td>0.0</td>\n",
       "      <td>0.0</td>\n",
       "      <td>0.0</td>\n",
       "      <td>0.0</td>\n",
       "      <td>0.0</td>\n",
       "      <td>0.0</td>\n",
       "      <td>0.0</td>\n",
       "      <td>0.0</td>\n",
       "    </tr>\n",
       "    <tr>\n",
       "      <th>1</th>\n",
       "      <td>6950001.0</td>\n",
       "      <td>1.0</td>\n",
       "      <td>3.0</td>\n",
       "      <td>0.0</td>\n",
       "      <td>0.0</td>\n",
       "      <td>0.0</td>\n",
       "      <td>61.0</td>\n",
       "      <td>0.0</td>\n",
       "      <td>0.0</td>\n",
       "      <td>29.0</td>\n",
       "      <td>...</td>\n",
       "      <td>0.0</td>\n",
       "      <td>0.0</td>\n",
       "      <td>0.0</td>\n",
       "      <td>0.0</td>\n",
       "      <td>0.0</td>\n",
       "      <td>0.0</td>\n",
       "      <td>0.0</td>\n",
       "      <td>0.0</td>\n",
       "      <td>0.0</td>\n",
       "      <td>0.0</td>\n",
       "    </tr>\n",
       "    <tr>\n",
       "      <th>2</th>\n",
       "      <td>6950001.0</td>\n",
       "      <td>1.0</td>\n",
       "      <td>3.0</td>\n",
       "      <td>0.0</td>\n",
       "      <td>0.0</td>\n",
       "      <td>0.0</td>\n",
       "      <td>61.0</td>\n",
       "      <td>0.0</td>\n",
       "      <td>0.0</td>\n",
       "      <td>29.0</td>\n",
       "      <td>...</td>\n",
       "      <td>0.0</td>\n",
       "      <td>0.0</td>\n",
       "      <td>0.0</td>\n",
       "      <td>0.0</td>\n",
       "      <td>0.0</td>\n",
       "      <td>0.0</td>\n",
       "      <td>0.0</td>\n",
       "      <td>0.0</td>\n",
       "      <td>0.0</td>\n",
       "      <td>0.0</td>\n",
       "    </tr>\n",
       "    <tr>\n",
       "      <th>3</th>\n",
       "      <td>6950001.0</td>\n",
       "      <td>1.0</td>\n",
       "      <td>3.0</td>\n",
       "      <td>0.0</td>\n",
       "      <td>0.0</td>\n",
       "      <td>0.0</td>\n",
       "      <td>61.0</td>\n",
       "      <td>0.0</td>\n",
       "      <td>0.0</td>\n",
       "      <td>29.0</td>\n",
       "      <td>...</td>\n",
       "      <td>0.0</td>\n",
       "      <td>0.0</td>\n",
       "      <td>0.0</td>\n",
       "      <td>0.0</td>\n",
       "      <td>0.0</td>\n",
       "      <td>0.0</td>\n",
       "      <td>0.0</td>\n",
       "      <td>0.0</td>\n",
       "      <td>0.0</td>\n",
       "      <td>0.0</td>\n",
       "    </tr>\n",
       "    <tr>\n",
       "      <th>4</th>\n",
       "      <td>6950001.0</td>\n",
       "      <td>1.0</td>\n",
       "      <td>3.0</td>\n",
       "      <td>0.0</td>\n",
       "      <td>0.0</td>\n",
       "      <td>0.0</td>\n",
       "      <td>61.0</td>\n",
       "      <td>0.0</td>\n",
       "      <td>0.0</td>\n",
       "      <td>29.0</td>\n",
       "      <td>...</td>\n",
       "      <td>0.0</td>\n",
       "      <td>0.0</td>\n",
       "      <td>0.0</td>\n",
       "      <td>0.0</td>\n",
       "      <td>0.0</td>\n",
       "      <td>0.0</td>\n",
       "      <td>0.0</td>\n",
       "      <td>0.0</td>\n",
       "      <td>0.0</td>\n",
       "      <td>0.0</td>\n",
       "    </tr>\n",
       "  </tbody>\n",
       "</table>\n",
       "<p>5 rows × 4379 columns</p>\n",
       "</div>"
      ],
      "text/plain": [
       "      lrrkid  gender  educcat_calc  pdenrl  agediag  ageonset  \\\n",
       "0  6950001.0     1.0           3.0     0.0      0.0       0.0   \n",
       "1  6950001.0     1.0           3.0     0.0      0.0       0.0   \n",
       "2  6950001.0     1.0           3.0     0.0      0.0       0.0   \n",
       "3  6950001.0     1.0           3.0     0.0      0.0       0.0   \n",
       "4  6950001.0     1.0           3.0     0.0      0.0       0.0   \n",
       "\n",
       "   demopd_ageassess  pd_duration  pdmedyn  MCATOT  ...  CNSOTHCM_lyme disease  \\\n",
       "0              61.0          0.0      0.0    29.0  ...                    0.0   \n",
       "1              61.0          0.0      0.0    29.0  ...                    0.0   \n",
       "2              61.0          0.0      0.0    29.0  ...                    0.0   \n",
       "3              61.0          0.0      0.0    29.0  ...                    0.0   \n",
       "4              61.0          0.0      0.0    29.0  ...                    0.0   \n",
       "\n",
       "   CNSOTHCM_meningioma  CNSOTHCM_meningitis  CNSOTHCM_meningitis in childhood  \\\n",
       "0                  0.0                  0.0                               0.0   \n",
       "1                  0.0                  0.0                               0.0   \n",
       "2                  0.0                  0.0                               0.0   \n",
       "3                  0.0                  0.0                               0.0   \n",
       "4                  0.0                  0.0                               0.0   \n",
       "\n",
       "   CNSOTHCM_migraine  CNSOTHCM_multiple sclerosis  \\\n",
       "0                0.0                          0.0   \n",
       "1                0.0                          0.0   \n",
       "2                0.0                          0.0   \n",
       "3                0.0                          0.0   \n",
       "4                0.0                          0.0   \n",
       "\n",
       "   CNSOTHCM_nonREM parasonmnia (sleep walking)  CNSOTHCM_optic neuritis  \\\n",
       "0                                          0.0                      0.0   \n",
       "1                                          0.0                      0.0   \n",
       "2                                          0.0                      0.0   \n",
       "3                                          0.0                      0.0   \n",
       "4                                          0.0                      0.0   \n",
       "\n",
       "   CNSOTHCM_possible Sleep apnea-hypopnea?  \\\n",
       "0                                      0.0   \n",
       "1                                      0.0   \n",
       "2                                      0.0   \n",
       "3                                      0.0   \n",
       "4                                      0.0   \n",
       "\n",
       "   CNSOTHCM_they deny having RLS but suitable symptoms, not diagnosed of depression but scales suggest he is depressed  \n",
       "0                                                0.0                                                                    \n",
       "1                                                0.0                                                                    \n",
       "2                                                0.0                                                                    \n",
       "3                                                0.0                                                                    \n",
       "4                                                0.0                                                                    \n",
       "\n",
       "[5 rows x 4379 columns]"
      ]
     },
     "execution_count": 5,
     "metadata": {},
     "output_type": "execute_result"
    }
   ],
   "source": [
    "test_data.head()"
   ]
  },
  {
   "cell_type": "code",
   "execution_count": 6,
   "id": "63da6849",
   "metadata": {},
   "outputs": [
    {
     "data": {
      "text/plain": [
       "False    8342\n",
       "Name: lrrkid, dtype: int64"
      ]
     },
     "execution_count": 6,
     "metadata": {},
     "output_type": "execute_result"
    }
   ],
   "source": [
    "#check duplicate patient on train and test\n",
    "train_data['lrrkid'].isin(test_data['lrrkid']).value_counts()"
   ]
  },
  {
   "cell_type": "code",
   "execution_count": 7,
   "id": "0e864132",
   "metadata": {},
   "outputs": [
    {
     "name": "stdout",
     "output_type": "stream",
     "text": [
      "<class 'pandas.core.frame.DataFrame'>\n",
      "RangeIndex: 3519 entries, 0 to 3518\n",
      "Columns: 4379 entries, lrrkid to CNSOTHCM_they deny having RLS but suitable symptoms, not diagnosed of depression but scales suggest he is depressed\n",
      "dtypes: float64(4379)\n",
      "memory usage: 117.6 MB\n"
     ]
    }
   ],
   "source": [
    "test_data.info()"
   ]
  },
  {
   "cell_type": "code",
   "execution_count": 8,
   "id": "ed6436cf",
   "metadata": {},
   "outputs": [
    {
     "name": "stdout",
     "output_type": "stream",
     "text": [
      "<class 'pandas.core.frame.DataFrame'>\n",
      "RangeIndex: 8342 entries, 0 to 8341\n",
      "Columns: 4379 entries, lrrkid to CNSOTHCM_they deny having RLS but suitable symptoms, not diagnosed of depression but scales suggest he is depressed\n",
      "dtypes: float64(4379)\n",
      "memory usage: 278.7 MB\n"
     ]
    }
   ],
   "source": [
    "train_data.info()"
   ]
  },
  {
   "cell_type": "code",
   "execution_count": 9,
   "id": "3501b368",
   "metadata": {
    "scrolled": true
   },
   "outputs": [
    {
     "data": {
      "text/html": [
       "<div>\n",
       "<style scoped>\n",
       "    .dataframe tbody tr th:only-of-type {\n",
       "        vertical-align: middle;\n",
       "    }\n",
       "\n",
       "    .dataframe tbody tr th {\n",
       "        vertical-align: top;\n",
       "    }\n",
       "\n",
       "    .dataframe thead th {\n",
       "        text-align: right;\n",
       "    }\n",
       "</style>\n",
       "<table border=\"1\" class=\"dataframe\">\n",
       "  <thead>\n",
       "    <tr style=\"text-align: right;\">\n",
       "      <th></th>\n",
       "      <th>lrrkid</th>\n",
       "      <th>gender</th>\n",
       "      <th>educcat_calc</th>\n",
       "      <th>pdenrl</th>\n",
       "      <th>agediag</th>\n",
       "      <th>ageonset</th>\n",
       "      <th>demopd_ageassess</th>\n",
       "      <th>pd_duration</th>\n",
       "      <th>pdmedyn</th>\n",
       "      <th>MCATOT</th>\n",
       "      <th>...</th>\n",
       "      <th>CNSOTHCM_lyme disease</th>\n",
       "      <th>CNSOTHCM_meningioma</th>\n",
       "      <th>CNSOTHCM_meningitis</th>\n",
       "      <th>CNSOTHCM_meningitis in childhood</th>\n",
       "      <th>CNSOTHCM_migraine</th>\n",
       "      <th>CNSOTHCM_multiple sclerosis</th>\n",
       "      <th>CNSOTHCM_nonREM parasonmnia (sleep walking)</th>\n",
       "      <th>CNSOTHCM_optic neuritis</th>\n",
       "      <th>CNSOTHCM_possible Sleep apnea-hypopnea?</th>\n",
       "      <th>CNSOTHCM_they deny having RLS but suitable symptoms, not diagnosed of depression but scales suggest he is depressed</th>\n",
       "    </tr>\n",
       "  </thead>\n",
       "  <tbody>\n",
       "    <tr>\n",
       "      <th>0</th>\n",
       "      <td>1420001.0</td>\n",
       "      <td>2.0</td>\n",
       "      <td>6.0</td>\n",
       "      <td>1.0</td>\n",
       "      <td>42.0</td>\n",
       "      <td>40.0</td>\n",
       "      <td>72.0</td>\n",
       "      <td>30.0</td>\n",
       "      <td>0.0</td>\n",
       "      <td>25.0</td>\n",
       "      <td>...</td>\n",
       "      <td>0.0</td>\n",
       "      <td>0.0</td>\n",
       "      <td>0.0</td>\n",
       "      <td>0.0</td>\n",
       "      <td>0.0</td>\n",
       "      <td>0.0</td>\n",
       "      <td>0.0</td>\n",
       "      <td>0.0</td>\n",
       "      <td>0.0</td>\n",
       "      <td>0.0</td>\n",
       "    </tr>\n",
       "    <tr>\n",
       "      <th>1</th>\n",
       "      <td>1420001.0</td>\n",
       "      <td>2.0</td>\n",
       "      <td>6.0</td>\n",
       "      <td>1.0</td>\n",
       "      <td>42.0</td>\n",
       "      <td>40.0</td>\n",
       "      <td>72.0</td>\n",
       "      <td>30.0</td>\n",
       "      <td>0.0</td>\n",
       "      <td>25.0</td>\n",
       "      <td>...</td>\n",
       "      <td>0.0</td>\n",
       "      <td>0.0</td>\n",
       "      <td>0.0</td>\n",
       "      <td>0.0</td>\n",
       "      <td>0.0</td>\n",
       "      <td>0.0</td>\n",
       "      <td>0.0</td>\n",
       "      <td>0.0</td>\n",
       "      <td>0.0</td>\n",
       "      <td>0.0</td>\n",
       "    </tr>\n",
       "    <tr>\n",
       "      <th>2</th>\n",
       "      <td>1420001.0</td>\n",
       "      <td>2.0</td>\n",
       "      <td>6.0</td>\n",
       "      <td>1.0</td>\n",
       "      <td>42.0</td>\n",
       "      <td>40.0</td>\n",
       "      <td>72.0</td>\n",
       "      <td>30.0</td>\n",
       "      <td>0.0</td>\n",
       "      <td>25.0</td>\n",
       "      <td>...</td>\n",
       "      <td>0.0</td>\n",
       "      <td>0.0</td>\n",
       "      <td>0.0</td>\n",
       "      <td>0.0</td>\n",
       "      <td>0.0</td>\n",
       "      <td>0.0</td>\n",
       "      <td>0.0</td>\n",
       "      <td>0.0</td>\n",
       "      <td>0.0</td>\n",
       "      <td>0.0</td>\n",
       "    </tr>\n",
       "    <tr>\n",
       "      <th>3</th>\n",
       "      <td>1420001.0</td>\n",
       "      <td>2.0</td>\n",
       "      <td>6.0</td>\n",
       "      <td>1.0</td>\n",
       "      <td>42.0</td>\n",
       "      <td>40.0</td>\n",
       "      <td>72.0</td>\n",
       "      <td>30.0</td>\n",
       "      <td>0.0</td>\n",
       "      <td>25.0</td>\n",
       "      <td>...</td>\n",
       "      <td>0.0</td>\n",
       "      <td>0.0</td>\n",
       "      <td>0.0</td>\n",
       "      <td>0.0</td>\n",
       "      <td>0.0</td>\n",
       "      <td>0.0</td>\n",
       "      <td>0.0</td>\n",
       "      <td>0.0</td>\n",
       "      <td>0.0</td>\n",
       "      <td>0.0</td>\n",
       "    </tr>\n",
       "    <tr>\n",
       "      <th>4</th>\n",
       "      <td>1420001.0</td>\n",
       "      <td>2.0</td>\n",
       "      <td>6.0</td>\n",
       "      <td>1.0</td>\n",
       "      <td>42.0</td>\n",
       "      <td>40.0</td>\n",
       "      <td>72.0</td>\n",
       "      <td>30.0</td>\n",
       "      <td>0.0</td>\n",
       "      <td>25.0</td>\n",
       "      <td>...</td>\n",
       "      <td>0.0</td>\n",
       "      <td>0.0</td>\n",
       "      <td>0.0</td>\n",
       "      <td>0.0</td>\n",
       "      <td>0.0</td>\n",
       "      <td>0.0</td>\n",
       "      <td>0.0</td>\n",
       "      <td>0.0</td>\n",
       "      <td>0.0</td>\n",
       "      <td>0.0</td>\n",
       "    </tr>\n",
       "    <tr>\n",
       "      <th>5</th>\n",
       "      <td>1420001.0</td>\n",
       "      <td>2.0</td>\n",
       "      <td>6.0</td>\n",
       "      <td>1.0</td>\n",
       "      <td>42.0</td>\n",
       "      <td>40.0</td>\n",
       "      <td>72.0</td>\n",
       "      <td>30.0</td>\n",
       "      <td>0.0</td>\n",
       "      <td>25.0</td>\n",
       "      <td>...</td>\n",
       "      <td>0.0</td>\n",
       "      <td>0.0</td>\n",
       "      <td>0.0</td>\n",
       "      <td>0.0</td>\n",
       "      <td>0.0</td>\n",
       "      <td>0.0</td>\n",
       "      <td>0.0</td>\n",
       "      <td>0.0</td>\n",
       "      <td>0.0</td>\n",
       "      <td>0.0</td>\n",
       "    </tr>\n",
       "    <tr>\n",
       "      <th>6</th>\n",
       "      <td>1420001.0</td>\n",
       "      <td>2.0</td>\n",
       "      <td>6.0</td>\n",
       "      <td>1.0</td>\n",
       "      <td>42.0</td>\n",
       "      <td>40.0</td>\n",
       "      <td>72.0</td>\n",
       "      <td>30.0</td>\n",
       "      <td>0.0</td>\n",
       "      <td>25.0</td>\n",
       "      <td>...</td>\n",
       "      <td>0.0</td>\n",
       "      <td>0.0</td>\n",
       "      <td>0.0</td>\n",
       "      <td>0.0</td>\n",
       "      <td>0.0</td>\n",
       "      <td>0.0</td>\n",
       "      <td>0.0</td>\n",
       "      <td>0.0</td>\n",
       "      <td>0.0</td>\n",
       "      <td>0.0</td>\n",
       "    </tr>\n",
       "    <tr>\n",
       "      <th>7</th>\n",
       "      <td>1420001.0</td>\n",
       "      <td>2.0</td>\n",
       "      <td>6.0</td>\n",
       "      <td>1.0</td>\n",
       "      <td>42.0</td>\n",
       "      <td>40.0</td>\n",
       "      <td>72.0</td>\n",
       "      <td>30.0</td>\n",
       "      <td>0.0</td>\n",
       "      <td>25.0</td>\n",
       "      <td>...</td>\n",
       "      <td>0.0</td>\n",
       "      <td>0.0</td>\n",
       "      <td>0.0</td>\n",
       "      <td>0.0</td>\n",
       "      <td>0.0</td>\n",
       "      <td>0.0</td>\n",
       "      <td>0.0</td>\n",
       "      <td>0.0</td>\n",
       "      <td>0.0</td>\n",
       "      <td>0.0</td>\n",
       "    </tr>\n",
       "    <tr>\n",
       "      <th>8</th>\n",
       "      <td>660003.0</td>\n",
       "      <td>2.0</td>\n",
       "      <td>0.0</td>\n",
       "      <td>0.0</td>\n",
       "      <td>0.0</td>\n",
       "      <td>0.0</td>\n",
       "      <td>0.0</td>\n",
       "      <td>0.0</td>\n",
       "      <td>0.0</td>\n",
       "      <td>25.0</td>\n",
       "      <td>...</td>\n",
       "      <td>0.0</td>\n",
       "      <td>0.0</td>\n",
       "      <td>0.0</td>\n",
       "      <td>0.0</td>\n",
       "      <td>0.0</td>\n",
       "      <td>0.0</td>\n",
       "      <td>0.0</td>\n",
       "      <td>0.0</td>\n",
       "      <td>0.0</td>\n",
       "      <td>0.0</td>\n",
       "    </tr>\n",
       "    <tr>\n",
       "      <th>9</th>\n",
       "      <td>660003.0</td>\n",
       "      <td>2.0</td>\n",
       "      <td>0.0</td>\n",
       "      <td>0.0</td>\n",
       "      <td>0.0</td>\n",
       "      <td>0.0</td>\n",
       "      <td>0.0</td>\n",
       "      <td>0.0</td>\n",
       "      <td>0.0</td>\n",
       "      <td>25.0</td>\n",
       "      <td>...</td>\n",
       "      <td>0.0</td>\n",
       "      <td>0.0</td>\n",
       "      <td>0.0</td>\n",
       "      <td>0.0</td>\n",
       "      <td>0.0</td>\n",
       "      <td>0.0</td>\n",
       "      <td>0.0</td>\n",
       "      <td>0.0</td>\n",
       "      <td>0.0</td>\n",
       "      <td>0.0</td>\n",
       "    </tr>\n",
       "  </tbody>\n",
       "</table>\n",
       "<p>10 rows × 4379 columns</p>\n",
       "</div>"
      ],
      "text/plain": [
       "      lrrkid  gender  educcat_calc  pdenrl  agediag  ageonset  \\\n",
       "0  1420001.0     2.0           6.0     1.0     42.0      40.0   \n",
       "1  1420001.0     2.0           6.0     1.0     42.0      40.0   \n",
       "2  1420001.0     2.0           6.0     1.0     42.0      40.0   \n",
       "3  1420001.0     2.0           6.0     1.0     42.0      40.0   \n",
       "4  1420001.0     2.0           6.0     1.0     42.0      40.0   \n",
       "5  1420001.0     2.0           6.0     1.0     42.0      40.0   \n",
       "6  1420001.0     2.0           6.0     1.0     42.0      40.0   \n",
       "7  1420001.0     2.0           6.0     1.0     42.0      40.0   \n",
       "8   660003.0     2.0           0.0     0.0      0.0       0.0   \n",
       "9   660003.0     2.0           0.0     0.0      0.0       0.0   \n",
       "\n",
       "   demopd_ageassess  pd_duration  pdmedyn  MCATOT  ...  CNSOTHCM_lyme disease  \\\n",
       "0              72.0         30.0      0.0    25.0  ...                    0.0   \n",
       "1              72.0         30.0      0.0    25.0  ...                    0.0   \n",
       "2              72.0         30.0      0.0    25.0  ...                    0.0   \n",
       "3              72.0         30.0      0.0    25.0  ...                    0.0   \n",
       "4              72.0         30.0      0.0    25.0  ...                    0.0   \n",
       "5              72.0         30.0      0.0    25.0  ...                    0.0   \n",
       "6              72.0         30.0      0.0    25.0  ...                    0.0   \n",
       "7              72.0         30.0      0.0    25.0  ...                    0.0   \n",
       "8               0.0          0.0      0.0    25.0  ...                    0.0   \n",
       "9               0.0          0.0      0.0    25.0  ...                    0.0   \n",
       "\n",
       "   CNSOTHCM_meningioma  CNSOTHCM_meningitis  CNSOTHCM_meningitis in childhood  \\\n",
       "0                  0.0                  0.0                               0.0   \n",
       "1                  0.0                  0.0                               0.0   \n",
       "2                  0.0                  0.0                               0.0   \n",
       "3                  0.0                  0.0                               0.0   \n",
       "4                  0.0                  0.0                               0.0   \n",
       "5                  0.0                  0.0                               0.0   \n",
       "6                  0.0                  0.0                               0.0   \n",
       "7                  0.0                  0.0                               0.0   \n",
       "8                  0.0                  0.0                               0.0   \n",
       "9                  0.0                  0.0                               0.0   \n",
       "\n",
       "   CNSOTHCM_migraine  CNSOTHCM_multiple sclerosis  \\\n",
       "0                0.0                          0.0   \n",
       "1                0.0                          0.0   \n",
       "2                0.0                          0.0   \n",
       "3                0.0                          0.0   \n",
       "4                0.0                          0.0   \n",
       "5                0.0                          0.0   \n",
       "6                0.0                          0.0   \n",
       "7                0.0                          0.0   \n",
       "8                0.0                          0.0   \n",
       "9                0.0                          0.0   \n",
       "\n",
       "   CNSOTHCM_nonREM parasonmnia (sleep walking)  CNSOTHCM_optic neuritis  \\\n",
       "0                                          0.0                      0.0   \n",
       "1                                          0.0                      0.0   \n",
       "2                                          0.0                      0.0   \n",
       "3                                          0.0                      0.0   \n",
       "4                                          0.0                      0.0   \n",
       "5                                          0.0                      0.0   \n",
       "6                                          0.0                      0.0   \n",
       "7                                          0.0                      0.0   \n",
       "8                                          0.0                      0.0   \n",
       "9                                          0.0                      0.0   \n",
       "\n",
       "   CNSOTHCM_possible Sleep apnea-hypopnea?  \\\n",
       "0                                      0.0   \n",
       "1                                      0.0   \n",
       "2                                      0.0   \n",
       "3                                      0.0   \n",
       "4                                      0.0   \n",
       "5                                      0.0   \n",
       "6                                      0.0   \n",
       "7                                      0.0   \n",
       "8                                      0.0   \n",
       "9                                      0.0   \n",
       "\n",
       "   CNSOTHCM_they deny having RLS but suitable symptoms, not diagnosed of depression but scales suggest he is depressed  \n",
       "0                                                0.0                                                                    \n",
       "1                                                0.0                                                                    \n",
       "2                                                0.0                                                                    \n",
       "3                                                0.0                                                                    \n",
       "4                                                0.0                                                                    \n",
       "5                                                0.0                                                                    \n",
       "6                                                0.0                                                                    \n",
       "7                                                0.0                                                                    \n",
       "8                                                0.0                                                                    \n",
       "9                                                0.0                                                                    \n",
       "\n",
       "[10 rows x 4379 columns]"
      ]
     },
     "execution_count": 9,
     "metadata": {},
     "output_type": "execute_result"
    }
   ],
   "source": [
    "train_data.head(10)"
   ]
  },
  {
   "cell_type": "code",
   "execution_count": 10,
   "id": "17205a58",
   "metadata": {},
   "outputs": [
    {
     "data": {
      "text/plain": [
       "289"
      ]
     },
     "execution_count": 10,
     "metadata": {},
     "output_type": "execute_result"
    }
   ],
   "source": [
    "test_data['lrrkid'].nunique()"
   ]
  },
  {
   "cell_type": "code",
   "execution_count": 11,
   "id": "6ab1a891",
   "metadata": {},
   "outputs": [
    {
     "data": {
      "text/plain": [
       "675"
      ]
     },
     "execution_count": 11,
     "metadata": {},
     "output_type": "execute_result"
    }
   ],
   "source": [
    "train_data['lrrkid'].nunique()"
   ]
  },
  {
   "cell_type": "code",
   "execution_count": 12,
   "id": "cf04b74f",
   "metadata": {},
   "outputs": [
    {
     "data": {
      "text/plain": [
       "1.0    4294\n",
       "0.0    4048\n",
       "Name: pdenrl, dtype: int64"
      ]
     },
     "execution_count": 12,
     "metadata": {},
     "output_type": "execute_result"
    }
   ],
   "source": [
    "train_data[\"pdenrl\"].value_counts()"
   ]
  },
  {
   "cell_type": "code",
   "execution_count": 13,
   "id": "5768c9ef",
   "metadata": {},
   "outputs": [
    {
     "data": {
      "text/plain": [
       "0.0    1921\n",
       "1.0    1598\n",
       "Name: pdenrl, dtype: int64"
      ]
     },
     "execution_count": 13,
     "metadata": {},
     "output_type": "execute_result"
    }
   ],
   "source": [
    "test_data[\"pdenrl\"].value_counts()"
   ]
  },
  {
   "cell_type": "markdown",
   "id": "072cbaaf",
   "metadata": {},
   "source": [
    "# Target variable y and independent variables x"
   ]
  },
  {
   "cell_type": "code",
   "execution_count": 14,
   "id": "36f146eb",
   "metadata": {},
   "outputs": [
    {
     "data": {
      "text/plain": [
       "0    1.0\n",
       "1    1.0\n",
       "2    1.0\n",
       "3    1.0\n",
       "4    1.0\n",
       "Name: pdenrl, dtype: float64"
      ]
     },
     "execution_count": 14,
     "metadata": {},
     "output_type": "execute_result"
    }
   ],
   "source": [
    "\n",
    "trainX = train_data.drop(['lrrkid','pdenrl'], axis=1)\n",
    "\n",
    "trainy = train_data['pdenrl']\n",
    "\n",
    "trainy[0:5]"
   ]
  },
  {
   "cell_type": "code",
   "execution_count": 15,
   "id": "7b641f2a",
   "metadata": {},
   "outputs": [
    {
     "data": {
      "text/html": [
       "<div>\n",
       "<style scoped>\n",
       "    .dataframe tbody tr th:only-of-type {\n",
       "        vertical-align: middle;\n",
       "    }\n",
       "\n",
       "    .dataframe tbody tr th {\n",
       "        vertical-align: top;\n",
       "    }\n",
       "\n",
       "    .dataframe thead th {\n",
       "        text-align: right;\n",
       "    }\n",
       "</style>\n",
       "<table border=\"1\" class=\"dataframe\">\n",
       "  <thead>\n",
       "    <tr style=\"text-align: right;\">\n",
       "      <th></th>\n",
       "      <th>gender</th>\n",
       "      <th>educcat_calc</th>\n",
       "      <th>agediag</th>\n",
       "      <th>ageonset</th>\n",
       "      <th>demopd_ageassess</th>\n",
       "      <th>pd_duration</th>\n",
       "      <th>pdmedyn</th>\n",
       "      <th>MCATOT</th>\n",
       "      <th>moca_ageassess</th>\n",
       "      <th>updrs1</th>\n",
       "      <th>...</th>\n",
       "      <th>CNSOTHCM_lyme disease</th>\n",
       "      <th>CNSOTHCM_meningioma</th>\n",
       "      <th>CNSOTHCM_meningitis</th>\n",
       "      <th>CNSOTHCM_meningitis in childhood</th>\n",
       "      <th>CNSOTHCM_migraine</th>\n",
       "      <th>CNSOTHCM_multiple sclerosis</th>\n",
       "      <th>CNSOTHCM_nonREM parasonmnia (sleep walking)</th>\n",
       "      <th>CNSOTHCM_optic neuritis</th>\n",
       "      <th>CNSOTHCM_possible Sleep apnea-hypopnea?</th>\n",
       "      <th>CNSOTHCM_they deny having RLS but suitable symptoms, not diagnosed of depression but scales suggest he is depressed</th>\n",
       "    </tr>\n",
       "  </thead>\n",
       "  <tbody>\n",
       "    <tr>\n",
       "      <th>0</th>\n",
       "      <td>2.0</td>\n",
       "      <td>6.0</td>\n",
       "      <td>42.0</td>\n",
       "      <td>40.0</td>\n",
       "      <td>72.0</td>\n",
       "      <td>30.0</td>\n",
       "      <td>0.0</td>\n",
       "      <td>25.0</td>\n",
       "      <td>72.0</td>\n",
       "      <td>0.0</td>\n",
       "      <td>...</td>\n",
       "      <td>0.0</td>\n",
       "      <td>0.0</td>\n",
       "      <td>0.0</td>\n",
       "      <td>0.0</td>\n",
       "      <td>0.0</td>\n",
       "      <td>0.0</td>\n",
       "      <td>0.0</td>\n",
       "      <td>0.0</td>\n",
       "      <td>0.0</td>\n",
       "      <td>0.0</td>\n",
       "    </tr>\n",
       "    <tr>\n",
       "      <th>1</th>\n",
       "      <td>2.0</td>\n",
       "      <td>6.0</td>\n",
       "      <td>42.0</td>\n",
       "      <td>40.0</td>\n",
       "      <td>72.0</td>\n",
       "      <td>30.0</td>\n",
       "      <td>0.0</td>\n",
       "      <td>25.0</td>\n",
       "      <td>72.0</td>\n",
       "      <td>0.0</td>\n",
       "      <td>...</td>\n",
       "      <td>0.0</td>\n",
       "      <td>0.0</td>\n",
       "      <td>0.0</td>\n",
       "      <td>0.0</td>\n",
       "      <td>0.0</td>\n",
       "      <td>0.0</td>\n",
       "      <td>0.0</td>\n",
       "      <td>0.0</td>\n",
       "      <td>0.0</td>\n",
       "      <td>0.0</td>\n",
       "    </tr>\n",
       "    <tr>\n",
       "      <th>2</th>\n",
       "      <td>2.0</td>\n",
       "      <td>6.0</td>\n",
       "      <td>42.0</td>\n",
       "      <td>40.0</td>\n",
       "      <td>72.0</td>\n",
       "      <td>30.0</td>\n",
       "      <td>0.0</td>\n",
       "      <td>25.0</td>\n",
       "      <td>72.0</td>\n",
       "      <td>0.0</td>\n",
       "      <td>...</td>\n",
       "      <td>0.0</td>\n",
       "      <td>0.0</td>\n",
       "      <td>0.0</td>\n",
       "      <td>0.0</td>\n",
       "      <td>0.0</td>\n",
       "      <td>0.0</td>\n",
       "      <td>0.0</td>\n",
       "      <td>0.0</td>\n",
       "      <td>0.0</td>\n",
       "      <td>0.0</td>\n",
       "    </tr>\n",
       "    <tr>\n",
       "      <th>3</th>\n",
       "      <td>2.0</td>\n",
       "      <td>6.0</td>\n",
       "      <td>42.0</td>\n",
       "      <td>40.0</td>\n",
       "      <td>72.0</td>\n",
       "      <td>30.0</td>\n",
       "      <td>0.0</td>\n",
       "      <td>25.0</td>\n",
       "      <td>72.0</td>\n",
       "      <td>0.0</td>\n",
       "      <td>...</td>\n",
       "      <td>0.0</td>\n",
       "      <td>0.0</td>\n",
       "      <td>0.0</td>\n",
       "      <td>0.0</td>\n",
       "      <td>0.0</td>\n",
       "      <td>0.0</td>\n",
       "      <td>0.0</td>\n",
       "      <td>0.0</td>\n",
       "      <td>0.0</td>\n",
       "      <td>0.0</td>\n",
       "    </tr>\n",
       "    <tr>\n",
       "      <th>4</th>\n",
       "      <td>2.0</td>\n",
       "      <td>6.0</td>\n",
       "      <td>42.0</td>\n",
       "      <td>40.0</td>\n",
       "      <td>72.0</td>\n",
       "      <td>30.0</td>\n",
       "      <td>0.0</td>\n",
       "      <td>25.0</td>\n",
       "      <td>72.0</td>\n",
       "      <td>0.0</td>\n",
       "      <td>...</td>\n",
       "      <td>0.0</td>\n",
       "      <td>0.0</td>\n",
       "      <td>0.0</td>\n",
       "      <td>0.0</td>\n",
       "      <td>0.0</td>\n",
       "      <td>0.0</td>\n",
       "      <td>0.0</td>\n",
       "      <td>0.0</td>\n",
       "      <td>0.0</td>\n",
       "      <td>0.0</td>\n",
       "    </tr>\n",
       "  </tbody>\n",
       "</table>\n",
       "<p>5 rows × 4377 columns</p>\n",
       "</div>"
      ],
      "text/plain": [
       "   gender  educcat_calc  agediag  ageonset  demopd_ageassess  pd_duration  \\\n",
       "0     2.0           6.0     42.0      40.0              72.0         30.0   \n",
       "1     2.0           6.0     42.0      40.0              72.0         30.0   \n",
       "2     2.0           6.0     42.0      40.0              72.0         30.0   \n",
       "3     2.0           6.0     42.0      40.0              72.0         30.0   \n",
       "4     2.0           6.0     42.0      40.0              72.0         30.0   \n",
       "\n",
       "   pdmedyn  MCATOT  moca_ageassess  updrs1  ...  CNSOTHCM_lyme disease  \\\n",
       "0      0.0    25.0            72.0     0.0  ...                    0.0   \n",
       "1      0.0    25.0            72.0     0.0  ...                    0.0   \n",
       "2      0.0    25.0            72.0     0.0  ...                    0.0   \n",
       "3      0.0    25.0            72.0     0.0  ...                    0.0   \n",
       "4      0.0    25.0            72.0     0.0  ...                    0.0   \n",
       "\n",
       "   CNSOTHCM_meningioma  CNSOTHCM_meningitis  CNSOTHCM_meningitis in childhood  \\\n",
       "0                  0.0                  0.0                               0.0   \n",
       "1                  0.0                  0.0                               0.0   \n",
       "2                  0.0                  0.0                               0.0   \n",
       "3                  0.0                  0.0                               0.0   \n",
       "4                  0.0                  0.0                               0.0   \n",
       "\n",
       "   CNSOTHCM_migraine  CNSOTHCM_multiple sclerosis  \\\n",
       "0                0.0                          0.0   \n",
       "1                0.0                          0.0   \n",
       "2                0.0                          0.0   \n",
       "3                0.0                          0.0   \n",
       "4                0.0                          0.0   \n",
       "\n",
       "   CNSOTHCM_nonREM parasonmnia (sleep walking)  CNSOTHCM_optic neuritis  \\\n",
       "0                                          0.0                      0.0   \n",
       "1                                          0.0                      0.0   \n",
       "2                                          0.0                      0.0   \n",
       "3                                          0.0                      0.0   \n",
       "4                                          0.0                      0.0   \n",
       "\n",
       "   CNSOTHCM_possible Sleep apnea-hypopnea?  \\\n",
       "0                                      0.0   \n",
       "1                                      0.0   \n",
       "2                                      0.0   \n",
       "3                                      0.0   \n",
       "4                                      0.0   \n",
       "\n",
       "   CNSOTHCM_they deny having RLS but suitable symptoms, not diagnosed of depression but scales suggest he is depressed  \n",
       "0                                                0.0                                                                    \n",
       "1                                                0.0                                                                    \n",
       "2                                                0.0                                                                    \n",
       "3                                                0.0                                                                    \n",
       "4                                                0.0                                                                    \n",
       "\n",
       "[5 rows x 4377 columns]"
      ]
     },
     "execution_count": 15,
     "metadata": {},
     "output_type": "execute_result"
    }
   ],
   "source": [
    "trainX.head()"
   ]
  },
  {
   "cell_type": "code",
   "execution_count": 16,
   "id": "7510ef08",
   "metadata": {},
   "outputs": [
    {
     "data": {
      "text/plain": [
       "0    0.0\n",
       "1    0.0\n",
       "2    0.0\n",
       "3    0.0\n",
       "4    0.0\n",
       "Name: pdenrl, dtype: float64"
      ]
     },
     "execution_count": 16,
     "metadata": {},
     "output_type": "execute_result"
    }
   ],
   "source": [
    "testX = test_data.drop(['lrrkid','pdenrl'], axis=1)\n",
    "\n",
    "testY = test_data['pdenrl']\n",
    "\n",
    "testY[0:5]"
   ]
  },
  {
   "cell_type": "code",
   "execution_count": 17,
   "id": "9e7f9021",
   "metadata": {},
   "outputs": [
    {
     "data": {
      "text/html": [
       "<div>\n",
       "<style scoped>\n",
       "    .dataframe tbody tr th:only-of-type {\n",
       "        vertical-align: middle;\n",
       "    }\n",
       "\n",
       "    .dataframe tbody tr th {\n",
       "        vertical-align: top;\n",
       "    }\n",
       "\n",
       "    .dataframe thead th {\n",
       "        text-align: right;\n",
       "    }\n",
       "</style>\n",
       "<table border=\"1\" class=\"dataframe\">\n",
       "  <thead>\n",
       "    <tr style=\"text-align: right;\">\n",
       "      <th></th>\n",
       "      <th>gender</th>\n",
       "      <th>educcat_calc</th>\n",
       "      <th>agediag</th>\n",
       "      <th>ageonset</th>\n",
       "      <th>demopd_ageassess</th>\n",
       "      <th>pd_duration</th>\n",
       "      <th>pdmedyn</th>\n",
       "      <th>MCATOT</th>\n",
       "      <th>moca_ageassess</th>\n",
       "      <th>updrs1</th>\n",
       "      <th>...</th>\n",
       "      <th>CNSOTHCM_lyme disease</th>\n",
       "      <th>CNSOTHCM_meningioma</th>\n",
       "      <th>CNSOTHCM_meningitis</th>\n",
       "      <th>CNSOTHCM_meningitis in childhood</th>\n",
       "      <th>CNSOTHCM_migraine</th>\n",
       "      <th>CNSOTHCM_multiple sclerosis</th>\n",
       "      <th>CNSOTHCM_nonREM parasonmnia (sleep walking)</th>\n",
       "      <th>CNSOTHCM_optic neuritis</th>\n",
       "      <th>CNSOTHCM_possible Sleep apnea-hypopnea?</th>\n",
       "      <th>CNSOTHCM_they deny having RLS but suitable symptoms, not diagnosed of depression but scales suggest he is depressed</th>\n",
       "    </tr>\n",
       "  </thead>\n",
       "  <tbody>\n",
       "    <tr>\n",
       "      <th>0</th>\n",
       "      <td>1.0</td>\n",
       "      <td>3.0</td>\n",
       "      <td>0.0</td>\n",
       "      <td>0.0</td>\n",
       "      <td>61.0</td>\n",
       "      <td>0.0</td>\n",
       "      <td>0.0</td>\n",
       "      <td>29.0</td>\n",
       "      <td>61.0</td>\n",
       "      <td>0.0</td>\n",
       "      <td>...</td>\n",
       "      <td>0.0</td>\n",
       "      <td>0.0</td>\n",
       "      <td>0.0</td>\n",
       "      <td>0.0</td>\n",
       "      <td>0.0</td>\n",
       "      <td>0.0</td>\n",
       "      <td>0.0</td>\n",
       "      <td>0.0</td>\n",
       "      <td>0.0</td>\n",
       "      <td>0.0</td>\n",
       "    </tr>\n",
       "    <tr>\n",
       "      <th>1</th>\n",
       "      <td>1.0</td>\n",
       "      <td>3.0</td>\n",
       "      <td>0.0</td>\n",
       "      <td>0.0</td>\n",
       "      <td>61.0</td>\n",
       "      <td>0.0</td>\n",
       "      <td>0.0</td>\n",
       "      <td>29.0</td>\n",
       "      <td>61.0</td>\n",
       "      <td>0.0</td>\n",
       "      <td>...</td>\n",
       "      <td>0.0</td>\n",
       "      <td>0.0</td>\n",
       "      <td>0.0</td>\n",
       "      <td>0.0</td>\n",
       "      <td>0.0</td>\n",
       "      <td>0.0</td>\n",
       "      <td>0.0</td>\n",
       "      <td>0.0</td>\n",
       "      <td>0.0</td>\n",
       "      <td>0.0</td>\n",
       "    </tr>\n",
       "    <tr>\n",
       "      <th>2</th>\n",
       "      <td>1.0</td>\n",
       "      <td>3.0</td>\n",
       "      <td>0.0</td>\n",
       "      <td>0.0</td>\n",
       "      <td>61.0</td>\n",
       "      <td>0.0</td>\n",
       "      <td>0.0</td>\n",
       "      <td>29.0</td>\n",
       "      <td>61.0</td>\n",
       "      <td>0.0</td>\n",
       "      <td>...</td>\n",
       "      <td>0.0</td>\n",
       "      <td>0.0</td>\n",
       "      <td>0.0</td>\n",
       "      <td>0.0</td>\n",
       "      <td>0.0</td>\n",
       "      <td>0.0</td>\n",
       "      <td>0.0</td>\n",
       "      <td>0.0</td>\n",
       "      <td>0.0</td>\n",
       "      <td>0.0</td>\n",
       "    </tr>\n",
       "    <tr>\n",
       "      <th>3</th>\n",
       "      <td>1.0</td>\n",
       "      <td>3.0</td>\n",
       "      <td>0.0</td>\n",
       "      <td>0.0</td>\n",
       "      <td>61.0</td>\n",
       "      <td>0.0</td>\n",
       "      <td>0.0</td>\n",
       "      <td>29.0</td>\n",
       "      <td>61.0</td>\n",
       "      <td>0.0</td>\n",
       "      <td>...</td>\n",
       "      <td>0.0</td>\n",
       "      <td>0.0</td>\n",
       "      <td>0.0</td>\n",
       "      <td>0.0</td>\n",
       "      <td>0.0</td>\n",
       "      <td>0.0</td>\n",
       "      <td>0.0</td>\n",
       "      <td>0.0</td>\n",
       "      <td>0.0</td>\n",
       "      <td>0.0</td>\n",
       "    </tr>\n",
       "    <tr>\n",
       "      <th>4</th>\n",
       "      <td>1.0</td>\n",
       "      <td>3.0</td>\n",
       "      <td>0.0</td>\n",
       "      <td>0.0</td>\n",
       "      <td>61.0</td>\n",
       "      <td>0.0</td>\n",
       "      <td>0.0</td>\n",
       "      <td>29.0</td>\n",
       "      <td>61.0</td>\n",
       "      <td>0.0</td>\n",
       "      <td>...</td>\n",
       "      <td>0.0</td>\n",
       "      <td>0.0</td>\n",
       "      <td>0.0</td>\n",
       "      <td>0.0</td>\n",
       "      <td>0.0</td>\n",
       "      <td>0.0</td>\n",
       "      <td>0.0</td>\n",
       "      <td>0.0</td>\n",
       "      <td>0.0</td>\n",
       "      <td>0.0</td>\n",
       "    </tr>\n",
       "  </tbody>\n",
       "</table>\n",
       "<p>5 rows × 4377 columns</p>\n",
       "</div>"
      ],
      "text/plain": [
       "   gender  educcat_calc  agediag  ageonset  demopd_ageassess  pd_duration  \\\n",
       "0     1.0           3.0      0.0       0.0              61.0          0.0   \n",
       "1     1.0           3.0      0.0       0.0              61.0          0.0   \n",
       "2     1.0           3.0      0.0       0.0              61.0          0.0   \n",
       "3     1.0           3.0      0.0       0.0              61.0          0.0   \n",
       "4     1.0           3.0      0.0       0.0              61.0          0.0   \n",
       "\n",
       "   pdmedyn  MCATOT  moca_ageassess  updrs1  ...  CNSOTHCM_lyme disease  \\\n",
       "0      0.0    29.0            61.0     0.0  ...                    0.0   \n",
       "1      0.0    29.0            61.0     0.0  ...                    0.0   \n",
       "2      0.0    29.0            61.0     0.0  ...                    0.0   \n",
       "3      0.0    29.0            61.0     0.0  ...                    0.0   \n",
       "4      0.0    29.0            61.0     0.0  ...                    0.0   \n",
       "\n",
       "   CNSOTHCM_meningioma  CNSOTHCM_meningitis  CNSOTHCM_meningitis in childhood  \\\n",
       "0                  0.0                  0.0                               0.0   \n",
       "1                  0.0                  0.0                               0.0   \n",
       "2                  0.0                  0.0                               0.0   \n",
       "3                  0.0                  0.0                               0.0   \n",
       "4                  0.0                  0.0                               0.0   \n",
       "\n",
       "   CNSOTHCM_migraine  CNSOTHCM_multiple sclerosis  \\\n",
       "0                0.0                          0.0   \n",
       "1                0.0                          0.0   \n",
       "2                0.0                          0.0   \n",
       "3                0.0                          0.0   \n",
       "4                0.0                          0.0   \n",
       "\n",
       "   CNSOTHCM_nonREM parasonmnia (sleep walking)  CNSOTHCM_optic neuritis  \\\n",
       "0                                          0.0                      0.0   \n",
       "1                                          0.0                      0.0   \n",
       "2                                          0.0                      0.0   \n",
       "3                                          0.0                      0.0   \n",
       "4                                          0.0                      0.0   \n",
       "\n",
       "   CNSOTHCM_possible Sleep apnea-hypopnea?  \\\n",
       "0                                      0.0   \n",
       "1                                      0.0   \n",
       "2                                      0.0   \n",
       "3                                      0.0   \n",
       "4                                      0.0   \n",
       "\n",
       "   CNSOTHCM_they deny having RLS but suitable symptoms, not diagnosed of depression but scales suggest he is depressed  \n",
       "0                                                0.0                                                                    \n",
       "1                                                0.0                                                                    \n",
       "2                                                0.0                                                                    \n",
       "3                                                0.0                                                                    \n",
       "4                                                0.0                                                                    \n",
       "\n",
       "[5 rows x 4377 columns]"
      ]
     },
     "execution_count": 17,
     "metadata": {},
     "output_type": "execute_result"
    }
   ],
   "source": [
    "testX.head()"
   ]
  },
  {
   "cell_type": "code",
   "execution_count": 18,
   "id": "630cd65a",
   "metadata": {},
   "outputs": [
    {
     "name": "stdout",
     "output_type": "stream",
     "text": [
      "Shape of Xtest: 3519   4377\n",
      "Shape of yest:  3519\n",
      "Shape of trainx: 8342   4377\n",
      "Shape of trainY:  8342\n"
     ]
    }
   ],
   "source": [
    "print(\"Shape of Xtest: %d   %d\" % (testX.shape))\n",
    "print(\"Shape of yest:  %d\" % (testY.shape))\n",
    "\n",
    "print(\"Shape of trainx: %d   %d\" % (trainX.shape))\n",
    "print(\"Shape of trainY:  %d\" % (trainy.shape))"
   ]
  },
  {
   "cell_type": "raw",
   "id": "363f7b2b",
   "metadata": {},
   "source": [
    "#Performing over-sampling of the data, since the classes are imbalanced\n",
    "\n",
    "from imblearn.over_sampling import SMOTE\n",
    "sm = SMOTE(random_state=42)\n",
    "trainX, trainy = sm.fit_resample(trainX, trainy)\n",
    "\n",
    "print(\"Shape of trainx: %d   %d\" % (trainX.shape))\n",
    "print(\"Shape of trainY:  %d\" % (trainy.shape))"
   ]
  },
  {
   "cell_type": "code",
   "execution_count": null,
   "id": "ffc0ad1b",
   "metadata": {},
   "outputs": [],
   "source": []
  },
  {
   "cell_type": "code",
   "execution_count": 19,
   "id": "c99cfb15",
   "metadata": {},
   "outputs": [],
   "source": [
    "\n",
    "\n",
    "\n",
    "from sklearn.preprocessing import StandardScaler\n",
    "import time\n",
    "\n",
    "sc = StandardScaler()\n",
    "trainX = sc.fit_transform(trainX)\n",
    "testX = sc.transform(testX)"
   ]
  },
  {
   "cell_type": "markdown",
   "id": "28aa2fbd",
   "metadata": {},
   "source": [
    "## Support Vector Machine"
   ]
  },
  {
   "cell_type": "code",
   "execution_count": 20,
   "id": "1cc5c80d",
   "metadata": {},
   "outputs": [],
   "source": [
    "from sklearn.feature_selection import SelectFromModel\n",
    "from sklearn.pipeline import Pipeline\n",
    "from sklearn.svm import LinearSVC\n",
    "from sklearn.ensemble import RandomForestClassifier\n",
    "\n",
    "clf_svm = Pipeline([\n",
    "  ('feature_selection', SelectFromModel(LinearSVC(C=2.0, penalty=\"l1\",max_iter=5000, dual=False))),\n",
    "  ('classification', RandomForestClassifier(n_estimators=300))\n",
    "])\n",
    "\n",
    "\n",
    "#SVC(kernel='linear')\n",
    "#(LinearSVC(penalty=\"l1\", dual=False)\n",
    "\n",
    "\n"
   ]
  },
  {
   "cell_type": "code",
   "execution_count": 21,
   "id": "2163e9bb",
   "metadata": {},
   "outputs": [
    {
     "name": "stderr",
     "output_type": "stream",
     "text": [
      "C:\\ProgramData\\Anaconda3\\lib\\site-packages\\sklearn\\svm\\_base.py:1242: ConvergenceWarning: Liblinear failed to converge, increase the number of iterations.\n",
      "  warnings.warn(\n"
     ]
    },
    {
     "data": {
      "text/html": [
       "<style>#sk-container-id-1 {color: black;}#sk-container-id-1 pre{padding: 0;}#sk-container-id-1 div.sk-toggleable {background-color: white;}#sk-container-id-1 label.sk-toggleable__label {cursor: pointer;display: block;width: 100%;margin-bottom: 0;padding: 0.3em;box-sizing: border-box;text-align: center;}#sk-container-id-1 label.sk-toggleable__label-arrow:before {content: \"▸\";float: left;margin-right: 0.25em;color: #696969;}#sk-container-id-1 label.sk-toggleable__label-arrow:hover:before {color: black;}#sk-container-id-1 div.sk-estimator:hover label.sk-toggleable__label-arrow:before {color: black;}#sk-container-id-1 div.sk-toggleable__content {max-height: 0;max-width: 0;overflow: hidden;text-align: left;background-color: #f0f8ff;}#sk-container-id-1 div.sk-toggleable__content pre {margin: 0.2em;color: black;border-radius: 0.25em;background-color: #f0f8ff;}#sk-container-id-1 input.sk-toggleable__control:checked~div.sk-toggleable__content {max-height: 200px;max-width: 100%;overflow: auto;}#sk-container-id-1 input.sk-toggleable__control:checked~label.sk-toggleable__label-arrow:before {content: \"▾\";}#sk-container-id-1 div.sk-estimator input.sk-toggleable__control:checked~label.sk-toggleable__label {background-color: #d4ebff;}#sk-container-id-1 div.sk-label input.sk-toggleable__control:checked~label.sk-toggleable__label {background-color: #d4ebff;}#sk-container-id-1 input.sk-hidden--visually {border: 0;clip: rect(1px 1px 1px 1px);clip: rect(1px, 1px, 1px, 1px);height: 1px;margin: -1px;overflow: hidden;padding: 0;position: absolute;width: 1px;}#sk-container-id-1 div.sk-estimator {font-family: monospace;background-color: #f0f8ff;border: 1px dotted black;border-radius: 0.25em;box-sizing: border-box;margin-bottom: 0.5em;}#sk-container-id-1 div.sk-estimator:hover {background-color: #d4ebff;}#sk-container-id-1 div.sk-parallel-item::after {content: \"\";width: 100%;border-bottom: 1px solid gray;flex-grow: 1;}#sk-container-id-1 div.sk-label:hover label.sk-toggleable__label {background-color: #d4ebff;}#sk-container-id-1 div.sk-serial::before {content: \"\";position: absolute;border-left: 1px solid gray;box-sizing: border-box;top: 0;bottom: 0;left: 50%;z-index: 0;}#sk-container-id-1 div.sk-serial {display: flex;flex-direction: column;align-items: center;background-color: white;padding-right: 0.2em;padding-left: 0.2em;position: relative;}#sk-container-id-1 div.sk-item {position: relative;z-index: 1;}#sk-container-id-1 div.sk-parallel {display: flex;align-items: stretch;justify-content: center;background-color: white;position: relative;}#sk-container-id-1 div.sk-item::before, #sk-container-id-1 div.sk-parallel-item::before {content: \"\";position: absolute;border-left: 1px solid gray;box-sizing: border-box;top: 0;bottom: 0;left: 50%;z-index: -1;}#sk-container-id-1 div.sk-parallel-item {display: flex;flex-direction: column;z-index: 1;position: relative;background-color: white;}#sk-container-id-1 div.sk-parallel-item:first-child::after {align-self: flex-end;width: 50%;}#sk-container-id-1 div.sk-parallel-item:last-child::after {align-self: flex-start;width: 50%;}#sk-container-id-1 div.sk-parallel-item:only-child::after {width: 0;}#sk-container-id-1 div.sk-dashed-wrapped {border: 1px dashed gray;margin: 0 0.4em 0.5em 0.4em;box-sizing: border-box;padding-bottom: 0.4em;background-color: white;}#sk-container-id-1 div.sk-label label {font-family: monospace;font-weight: bold;display: inline-block;line-height: 1.2em;}#sk-container-id-1 div.sk-label-container {text-align: center;}#sk-container-id-1 div.sk-container {/* jupyter's `normalize.less` sets `[hidden] { display: none; }` but bootstrap.min.css set `[hidden] { display: none !important; }` so we also need the `!important` here to be able to override the default hidden behavior on the sphinx rendered scikit-learn.org. See: https://github.com/scikit-learn/scikit-learn/issues/21755 */display: inline-block !important;position: relative;}#sk-container-id-1 div.sk-text-repr-fallback {display: none;}</style><div id=\"sk-container-id-1\" class=\"sk-top-container\"><div class=\"sk-text-repr-fallback\"><pre>Pipeline(steps=[(&#x27;feature_selection&#x27;,\n",
       "                 SelectFromModel(estimator=LinearSVC(C=2.0, dual=False,\n",
       "                                                     max_iter=5000,\n",
       "                                                     penalty=&#x27;l1&#x27;))),\n",
       "                (&#x27;classification&#x27;, RandomForestClassifier(n_estimators=300))])</pre><b>In a Jupyter environment, please rerun this cell to show the HTML representation or trust the notebook. <br />On GitHub, the HTML representation is unable to render, please try loading this page with nbviewer.org.</b></div><div class=\"sk-container\" hidden><div class=\"sk-item sk-dashed-wrapped\"><div class=\"sk-label-container\"><div class=\"sk-label sk-toggleable\"><input class=\"sk-toggleable__control sk-hidden--visually\" id=\"sk-estimator-id-1\" type=\"checkbox\" ><label for=\"sk-estimator-id-1\" class=\"sk-toggleable__label sk-toggleable__label-arrow\">Pipeline</label><div class=\"sk-toggleable__content\"><pre>Pipeline(steps=[(&#x27;feature_selection&#x27;,\n",
       "                 SelectFromModel(estimator=LinearSVC(C=2.0, dual=False,\n",
       "                                                     max_iter=5000,\n",
       "                                                     penalty=&#x27;l1&#x27;))),\n",
       "                (&#x27;classification&#x27;, RandomForestClassifier(n_estimators=300))])</pre></div></div></div><div class=\"sk-serial\"><div class=\"sk-item sk-dashed-wrapped\"><div class=\"sk-label-container\"><div class=\"sk-label sk-toggleable\"><input class=\"sk-toggleable__control sk-hidden--visually\" id=\"sk-estimator-id-2\" type=\"checkbox\" ><label for=\"sk-estimator-id-2\" class=\"sk-toggleable__label sk-toggleable__label-arrow\">feature_selection: SelectFromModel</label><div class=\"sk-toggleable__content\"><pre>SelectFromModel(estimator=LinearSVC(C=2.0, dual=False, max_iter=5000,\n",
       "                                    penalty=&#x27;l1&#x27;))</pre></div></div></div><div class=\"sk-parallel\"><div class=\"sk-parallel-item\"><div class=\"sk-item\"><div class=\"sk-label-container\"><div class=\"sk-label sk-toggleable\"><input class=\"sk-toggleable__control sk-hidden--visually\" id=\"sk-estimator-id-3\" type=\"checkbox\" ><label for=\"sk-estimator-id-3\" class=\"sk-toggleable__label sk-toggleable__label-arrow\">estimator: LinearSVC</label><div class=\"sk-toggleable__content\"><pre>LinearSVC(C=2.0, dual=False, max_iter=5000, penalty=&#x27;l1&#x27;)</pre></div></div></div><div class=\"sk-serial\"><div class=\"sk-item\"><div class=\"sk-estimator sk-toggleable\"><input class=\"sk-toggleable__control sk-hidden--visually\" id=\"sk-estimator-id-4\" type=\"checkbox\" ><label for=\"sk-estimator-id-4\" class=\"sk-toggleable__label sk-toggleable__label-arrow\">LinearSVC</label><div class=\"sk-toggleable__content\"><pre>LinearSVC(C=2.0, dual=False, max_iter=5000, penalty=&#x27;l1&#x27;)</pre></div></div></div></div></div></div></div></div><div class=\"sk-item\"><div class=\"sk-estimator sk-toggleable\"><input class=\"sk-toggleable__control sk-hidden--visually\" id=\"sk-estimator-id-5\" type=\"checkbox\" ><label for=\"sk-estimator-id-5\" class=\"sk-toggleable__label sk-toggleable__label-arrow\">RandomForestClassifier</label><div class=\"sk-toggleable__content\"><pre>RandomForestClassifier(n_estimators=300)</pre></div></div></div></div></div></div></div>"
      ],
      "text/plain": [
       "Pipeline(steps=[('feature_selection',\n",
       "                 SelectFromModel(estimator=LinearSVC(C=2.0, dual=False,\n",
       "                                                     max_iter=5000,\n",
       "                                                     penalty='l1'))),\n",
       "                ('classification', RandomForestClassifier(n_estimators=300))])"
      ]
     },
     "execution_count": 21,
     "metadata": {},
     "output_type": "execute_result"
    }
   ],
   "source": [
    "clf_svm.fit(trainX,trainy)"
   ]
  },
  {
   "cell_type": "code",
   "execution_count": 22,
   "id": "12fec641",
   "metadata": {},
   "outputs": [
    {
     "name": "stdout",
     "output_type": "stream",
     "text": [
      "Train Score:  1.0\n"
     ]
    }
   ],
   "source": [
    "fsvm_score = clf_svm.score(trainX, trainy)\n",
    "print(\"Train Score: \", fsvm_score)"
   ]
  },
  {
   "cell_type": "code",
   "execution_count": 23,
   "id": "2bae415e",
   "metadata": {},
   "outputs": [
    {
     "name": "stderr",
     "output_type": "stream",
     "text": [
      "C:\\ProgramData\\Anaconda3\\lib\\site-packages\\sklearn\\svm\\_base.py:1242: ConvergenceWarning: Liblinear failed to converge, increase the number of iterations.\n",
      "  warnings.warn(\n",
      "C:\\ProgramData\\Anaconda3\\lib\\site-packages\\sklearn\\svm\\_base.py:1242: ConvergenceWarning: Liblinear failed to converge, increase the number of iterations.\n",
      "  warnings.warn(\n",
      "C:\\ProgramData\\Anaconda3\\lib\\site-packages\\sklearn\\svm\\_base.py:1242: ConvergenceWarning: Liblinear failed to converge, increase the number of iterations.\n",
      "  warnings.warn(\n",
      "C:\\ProgramData\\Anaconda3\\lib\\site-packages\\sklearn\\svm\\_base.py:1242: ConvergenceWarning: Liblinear failed to converge, increase the number of iterations.\n",
      "  warnings.warn(\n",
      "C:\\ProgramData\\Anaconda3\\lib\\site-packages\\sklearn\\svm\\_base.py:1242: ConvergenceWarning: Liblinear failed to converge, increase the number of iterations.\n",
      "  warnings.warn(\n",
      "C:\\ProgramData\\Anaconda3\\lib\\site-packages\\sklearn\\svm\\_base.py:1242: ConvergenceWarning: Liblinear failed to converge, increase the number of iterations.\n",
      "  warnings.warn(\n",
      "C:\\ProgramData\\Anaconda3\\lib\\site-packages\\sklearn\\svm\\_base.py:1242: ConvergenceWarning: Liblinear failed to converge, increase the number of iterations.\n",
      "  warnings.warn(\n",
      "C:\\ProgramData\\Anaconda3\\lib\\site-packages\\sklearn\\svm\\_base.py:1242: ConvergenceWarning: Liblinear failed to converge, increase the number of iterations.\n",
      "  warnings.warn(\n",
      "C:\\ProgramData\\Anaconda3\\lib\\site-packages\\sklearn\\svm\\_base.py:1242: ConvergenceWarning: Liblinear failed to converge, increase the number of iterations.\n",
      "  warnings.warn(\n"
     ]
    },
    {
     "name": "stdout",
     "output_type": "stream",
     "text": [
      "CV average score: 0.94\n"
     ]
    }
   ],
   "source": [
    "fcv_scores = cross_val_score(clf_svm, trainX, trainy, cv=10)\n",
    "print(\"CV average score: %.2f\" % fcv_scores.mean())"
   ]
  },
  {
   "cell_type": "code",
   "execution_count": 24,
   "id": "7d8952a4",
   "metadata": {},
   "outputs": [
    {
     "name": "stdout",
     "output_type": "stream",
     "text": [
      "[[1824   97]\n",
      " [  69 1529]]\n"
     ]
    }
   ],
   "source": [
    "ypred = clf_svm.predict(testX)\n",
    "\n",
    "cm = confusion_matrix(testY, ypred)\n",
    "print(cm)"
   ]
  },
  {
   "cell_type": "code",
   "execution_count": 25,
   "id": "efab4d19",
   "metadata": {},
   "outputs": [
    {
     "name": "stdout",
     "output_type": "stream",
     "text": [
      "SVM test accuracy_score: 95.28275078147202\n"
     ]
    }
   ],
   "source": [
    "SVM_accuracy_score = accuracy_score(testY,clf_svm.predict(testX))*100\n",
    "print(\"SVM test accuracy_score:\", SVM_accuracy_score)"
   ]
  },
  {
   "cell_type": "code",
   "execution_count": 26,
   "id": "5ca8bd48",
   "metadata": {},
   "outputs": [
    {
     "data": {
      "text/plain": [
       "<sklearn.metrics._plot.roc_curve.RocCurveDisplay at 0x225145fadc0>"
      ]
     },
     "execution_count": 26,
     "metadata": {},
     "output_type": "execute_result"
    },
    {
     "data": {
      "image/png": "[encoded data removed]",
      "text/plain": [
       "<Figure size 432x288 with 1 Axes>"
      ]
     },
     "metadata": {
      "needs_background": "light"
     },
     "output_type": "display_data"
    }
   ],
   "source": [
    "RocCurveDisplay.from_estimator(clf_svm,testX,testY)"
   ]
  },
  {
   "cell_type": "code",
   "execution_count": 27,
   "id": "239390a7",
   "metadata": {},
   "outputs": [
    {
     "data": {
      "image/png": "[encoded data removed]",
      "text/plain": [
       "<Figure size 432x288 with 2 Axes>"
      ]
     },
     "metadata": {
      "needs_background": "light"
     },
     "output_type": "display_data"
    }
   ],
   "source": [
    "\n",
    "ConfusionMatrixDisplay.from_estimator(clf_svm, testX, testY)  \n",
    "plt.show() "
   ]
  },
  {
   "cell_type": "code",
   "execution_count": 28,
   "id": "9620806f",
   "metadata": {},
   "outputs": [
    {
     "name": "stdout",
     "output_type": "stream",
     "text": [
      "confusion matrix\n",
      " [[1824   97]\n",
      " [  69 1529]]\n",
      "\n",
      "classification report\n",
      "               precision    recall  f1-score   support\n",
      "\n",
      "         0.0       0.96      0.95      0.96      1921\n",
      "         1.0       0.94      0.96      0.95      1598\n",
      "\n",
      "    accuracy                           0.95      3519\n",
      "   macro avg       0.95      0.95      0.95      3519\n",
      "weighted avg       0.95      0.95      0.95      3519\n",
      "\n",
      "Accuracy:  95.28275078147202\n"
     ]
    }
   ],
   "source": [
    "print(\"confusion matrix\\n\",confusion_matrix(testY,ypred))\n",
    "print(\"\\nclassification report\\n\",classification_report(testY,ypred))\n",
    "print(\"Accuracy: \",accuracy_score(testY,ypred)*100)"
   ]
  },
  {
   "cell_type": "code",
   "execution_count": null,
   "id": "237d2e09",
   "metadata": {},
   "outputs": [],
   "source": []
  },
  {
   "cell_type": "markdown",
   "id": "82de9afd",
   "metadata": {},
   "source": [
    "## LogisticRegression"
   ]
  },
  {
   "cell_type": "code",
   "execution_count": 29,
   "id": "7a054daa",
   "metadata": {},
   "outputs": [],
   "source": [
    "from sklearn.linear_model import LogisticRegression\n",
    "\n",
    "#lr_clf = LogisticRegression(penalty='l1', solver='liblinear', random_state=0)\n",
    "\n",
    "lr_clf = Pipeline([\n",
    "  ('feature_selection', SelectFromModel(LinearSVC(C=2.0, penalty=\"l1\",max_iter=5000, dual=False))),\n",
    "  ('classification', LogisticRegression(penalty='l1', solver='liblinear', random_state=0))\n",
    "])"
   ]
  },
  {
   "cell_type": "code",
   "execution_count": 30,
   "id": "81afd539",
   "metadata": {},
   "outputs": [
    {
     "name": "stderr",
     "output_type": "stream",
     "text": [
      "C:\\ProgramData\\Anaconda3\\lib\\site-packages\\sklearn\\svm\\_base.py:1242: ConvergenceWarning: Liblinear failed to converge, increase the number of iterations.\n",
      "  warnings.warn(\n"
     ]
    },
    {
     "data": {
      "text/html": [
       "<style>#sk-container-id-2 {color: black;}#sk-container-id-2 pre{padding: 0;}#sk-container-id-2 div.sk-toggleable {background-color: white;}#sk-container-id-2 label.sk-toggleable__label {cursor: pointer;display: block;width: 100%;margin-bottom: 0;padding: 0.3em;box-sizing: border-box;text-align: center;}#sk-container-id-2 label.sk-toggleable__label-arrow:before {content: \"▸\";float: left;margin-right: 0.25em;color: #696969;}#sk-container-id-2 label.sk-toggleable__label-arrow:hover:before {color: black;}#sk-container-id-2 div.sk-estimator:hover label.sk-toggleable__label-arrow:before {color: black;}#sk-container-id-2 div.sk-toggleable__content {max-height: 0;max-width: 0;overflow: hidden;text-align: left;background-color: #f0f8ff;}#sk-container-id-2 div.sk-toggleable__content pre {margin: 0.2em;color: black;border-radius: 0.25em;background-color: #f0f8ff;}#sk-container-id-2 input.sk-toggleable__control:checked~div.sk-toggleable__content {max-height: 200px;max-width: 100%;overflow: auto;}#sk-container-id-2 input.sk-toggleable__control:checked~label.sk-toggleable__label-arrow:before {content: \"▾\";}#sk-container-id-2 div.sk-estimator input.sk-toggleable__control:checked~label.sk-toggleable__label {background-color: #d4ebff;}#sk-container-id-2 div.sk-label input.sk-toggleable__control:checked~label.sk-toggleable__label {background-color: #d4ebff;}#sk-container-id-2 input.sk-hidden--visually {border: 0;clip: rect(1px 1px 1px 1px);clip: rect(1px, 1px, 1px, 1px);height: 1px;margin: -1px;overflow: hidden;padding: 0;position: absolute;width: 1px;}#sk-container-id-2 div.sk-estimator {font-family: monospace;background-color: #f0f8ff;border: 1px dotted black;border-radius: 0.25em;box-sizing: border-box;margin-bottom: 0.5em;}#sk-container-id-2 div.sk-estimator:hover {background-color: #d4ebff;}#sk-container-id-2 div.sk-parallel-item::after {content: \"\";width: 100%;border-bottom: 1px solid gray;flex-grow: 1;}#sk-container-id-2 div.sk-label:hover label.sk-toggleable__label {background-color: #d4ebff;}#sk-container-id-2 div.sk-serial::before {content: \"\";position: absolute;border-left: 1px solid gray;box-sizing: border-box;top: 0;bottom: 0;left: 50%;z-index: 0;}#sk-container-id-2 div.sk-serial {display: flex;flex-direction: column;align-items: center;background-color: white;padding-right: 0.2em;padding-left: 0.2em;position: relative;}#sk-container-id-2 div.sk-item {position: relative;z-index: 1;}#sk-container-id-2 div.sk-parallel {display: flex;align-items: stretch;justify-content: center;background-color: white;position: relative;}#sk-container-id-2 div.sk-item::before, #sk-container-id-2 div.sk-parallel-item::before {content: \"\";position: absolute;border-left: 1px solid gray;box-sizing: border-box;top: 0;bottom: 0;left: 50%;z-index: -1;}#sk-container-id-2 div.sk-parallel-item {display: flex;flex-direction: column;z-index: 1;position: relative;background-color: white;}#sk-container-id-2 div.sk-parallel-item:first-child::after {align-self: flex-end;width: 50%;}#sk-container-id-2 div.sk-parallel-item:last-child::after {align-self: flex-start;width: 50%;}#sk-container-id-2 div.sk-parallel-item:only-child::after {width: 0;}#sk-container-id-2 div.sk-dashed-wrapped {border: 1px dashed gray;margin: 0 0.4em 0.5em 0.4em;box-sizing: border-box;padding-bottom: 0.4em;background-color: white;}#sk-container-id-2 div.sk-label label {font-family: monospace;font-weight: bold;display: inline-block;line-height: 1.2em;}#sk-container-id-2 div.sk-label-container {text-align: center;}#sk-container-id-2 div.sk-container {/* jupyter's `normalize.less` sets `[hidden] { display: none; }` but bootstrap.min.css set `[hidden] { display: none !important; }` so we also need the `!important` here to be able to override the default hidden behavior on the sphinx rendered scikit-learn.org. See: https://github.com/scikit-learn/scikit-learn/issues/21755 */display: inline-block !important;position: relative;}#sk-container-id-2 div.sk-text-repr-fallback {display: none;}</style><div id=\"sk-container-id-2\" class=\"sk-top-container\"><div class=\"sk-text-repr-fallback\"><pre>Pipeline(steps=[(&#x27;feature_selection&#x27;,\n",
       "                 SelectFromModel(estimator=LinearSVC(C=2.0, dual=False,\n",
       "                                                     max_iter=5000,\n",
       "                                                     penalty=&#x27;l1&#x27;))),\n",
       "                (&#x27;classification&#x27;,\n",
       "                 LogisticRegression(penalty=&#x27;l1&#x27;, random_state=0,\n",
       "                                    solver=&#x27;liblinear&#x27;))])</pre><b>In a Jupyter environment, please rerun this cell to show the HTML representation or trust the notebook. <br />On GitHub, the HTML representation is unable to render, please try loading this page with nbviewer.org.</b></div><div class=\"sk-container\" hidden><div class=\"sk-item sk-dashed-wrapped\"><div class=\"sk-label-container\"><div class=\"sk-label sk-toggleable\"><input class=\"sk-toggleable__control sk-hidden--visually\" id=\"sk-estimator-id-6\" type=\"checkbox\" ><label for=\"sk-estimator-id-6\" class=\"sk-toggleable__label sk-toggleable__label-arrow\">Pipeline</label><div class=\"sk-toggleable__content\"><pre>Pipeline(steps=[(&#x27;feature_selection&#x27;,\n",
       "                 SelectFromModel(estimator=LinearSVC(C=2.0, dual=False,\n",
       "                                                     max_iter=5000,\n",
       "                                                     penalty=&#x27;l1&#x27;))),\n",
       "                (&#x27;classification&#x27;,\n",
       "                 LogisticRegression(penalty=&#x27;l1&#x27;, random_state=0,\n",
       "                                    solver=&#x27;liblinear&#x27;))])</pre></div></div></div><div class=\"sk-serial\"><div class=\"sk-item sk-dashed-wrapped\"><div class=\"sk-label-container\"><div class=\"sk-label sk-toggleable\"><input class=\"sk-toggleable__control sk-hidden--visually\" id=\"sk-estimator-id-7\" type=\"checkbox\" ><label for=\"sk-estimator-id-7\" class=\"sk-toggleable__label sk-toggleable__label-arrow\">feature_selection: SelectFromModel</label><div class=\"sk-toggleable__content\"><pre>SelectFromModel(estimator=LinearSVC(C=2.0, dual=False, max_iter=5000,\n",
       "                                    penalty=&#x27;l1&#x27;))</pre></div></div></div><div class=\"sk-parallel\"><div class=\"sk-parallel-item\"><div class=\"sk-item\"><div class=\"sk-label-container\"><div class=\"sk-label sk-toggleable\"><input class=\"sk-toggleable__control sk-hidden--visually\" id=\"sk-estimator-id-8\" type=\"checkbox\" ><label for=\"sk-estimator-id-8\" class=\"sk-toggleable__label sk-toggleable__label-arrow\">estimator: LinearSVC</label><div class=\"sk-toggleable__content\"><pre>LinearSVC(C=2.0, dual=False, max_iter=5000, penalty=&#x27;l1&#x27;)</pre></div></div></div><div class=\"sk-serial\"><div class=\"sk-item\"><div class=\"sk-estimator sk-toggleable\"><input class=\"sk-toggleable__control sk-hidden--visually\" id=\"sk-estimator-id-9\" type=\"checkbox\" ><label for=\"sk-estimator-id-9\" class=\"sk-toggleable__label sk-toggleable__label-arrow\">LinearSVC</label><div class=\"sk-toggleable__content\"><pre>LinearSVC(C=2.0, dual=False, max_iter=5000, penalty=&#x27;l1&#x27;)</pre></div></div></div></div></div></div></div></div><div class=\"sk-item\"><div class=\"sk-estimator sk-toggleable\"><input class=\"sk-toggleable__control sk-hidden--visually\" id=\"sk-estimator-id-10\" type=\"checkbox\" ><label for=\"sk-estimator-id-10\" class=\"sk-toggleable__label sk-toggleable__label-arrow\">LogisticRegression</label><div class=\"sk-toggleable__content\"><pre>LogisticRegression(penalty=&#x27;l1&#x27;, random_state=0, solver=&#x27;liblinear&#x27;)</pre></div></div></div></div></div></div></div>"
      ],
      "text/plain": [
       "Pipeline(steps=[('feature_selection',\n",
       "                 SelectFromModel(estimator=LinearSVC(C=2.0, dual=False,\n",
       "                                                     max_iter=5000,\n",
       "                                                     penalty='l1'))),\n",
       "                ('classification',\n",
       "                 LogisticRegression(penalty='l1', random_state=0,\n",
       "                                    solver='liblinear'))])"
      ]
     },
     "execution_count": 30,
     "metadata": {},
     "output_type": "execute_result"
    }
   ],
   "source": [
    "#start = time.time() \n",
    "# fitting x samples and y classes \n",
    "lr_clf.fit(trainX,trainy)\n",
    "#stop = time.time()\n",
    "#print(f\"Training time: {stop - start}s\") "
   ]
  },
  {
   "cell_type": "code",
   "execution_count": 31,
   "id": "b4949039",
   "metadata": {},
   "outputs": [
    {
     "name": "stdout",
     "output_type": "stream",
     "text": [
      "Train Score:  0.9677535363222249\n"
     ]
    }
   ],
   "source": [
    "lr_score = lr_clf.score(trainX, trainy)\n",
    "print(\"Train Score: \", lr_score)"
   ]
  },
  {
   "cell_type": "code",
   "execution_count": 32,
   "id": "b2b409d0",
   "metadata": {},
   "outputs": [
    {
     "name": "stderr",
     "output_type": "stream",
     "text": [
      "C:\\ProgramData\\Anaconda3\\lib\\site-packages\\sklearn\\svm\\_base.py:1242: ConvergenceWarning: Liblinear failed to converge, increase the number of iterations.\n",
      "  warnings.warn(\n",
      "C:\\ProgramData\\Anaconda3\\lib\\site-packages\\sklearn\\svm\\_base.py:1242: ConvergenceWarning: Liblinear failed to converge, increase the number of iterations.\n",
      "  warnings.warn(\n",
      "C:\\ProgramData\\Anaconda3\\lib\\site-packages\\sklearn\\svm\\_base.py:1242: ConvergenceWarning: Liblinear failed to converge, increase the number of iterations.\n",
      "  warnings.warn(\n",
      "C:\\ProgramData\\Anaconda3\\lib\\site-packages\\sklearn\\svm\\_base.py:1242: ConvergenceWarning: Liblinear failed to converge, increase the number of iterations.\n",
      "  warnings.warn(\n",
      "C:\\ProgramData\\Anaconda3\\lib\\site-packages\\sklearn\\svm\\_base.py:1242: ConvergenceWarning: Liblinear failed to converge, increase the number of iterations.\n",
      "  warnings.warn(\n",
      "C:\\ProgramData\\Anaconda3\\lib\\site-packages\\sklearn\\svm\\_base.py:1242: ConvergenceWarning: Liblinear failed to converge, increase the number of iterations.\n",
      "  warnings.warn(\n",
      "C:\\ProgramData\\Anaconda3\\lib\\site-packages\\sklearn\\svm\\_base.py:1242: ConvergenceWarning: Liblinear failed to converge, increase the number of iterations.\n",
      "  warnings.warn(\n",
      "C:\\ProgramData\\Anaconda3\\lib\\site-packages\\sklearn\\svm\\_base.py:1242: ConvergenceWarning: Liblinear failed to converge, increase the number of iterations.\n",
      "  warnings.warn(\n",
      "C:\\ProgramData\\Anaconda3\\lib\\site-packages\\sklearn\\svm\\_base.py:1242: ConvergenceWarning: Liblinear failed to converge, increase the number of iterations.\n",
      "  warnings.warn(\n",
      "C:\\ProgramData\\Anaconda3\\lib\\site-packages\\sklearn\\svm\\_base.py:1242: ConvergenceWarning: Liblinear failed to converge, increase the number of iterations.\n",
      "  warnings.warn(\n"
     ]
    },
    {
     "name": "stdout",
     "output_type": "stream",
     "text": [
      "CV average score: 0.94\n"
     ]
    }
   ],
   "source": [
    "lr_cv_scores = cross_val_score(lr_clf, trainX, trainy, cv=10)\n",
    "print(\"CV average score: %.2f\" % lr_cv_scores.mean())"
   ]
  },
  {
   "cell_type": "code",
   "execution_count": 33,
   "id": "2bb9ce9f",
   "metadata": {},
   "outputs": [
    {
     "name": "stdout",
     "output_type": "stream",
     "text": [
      "[[1812  109]\n",
      " [  68 1530]]\n"
     ]
    }
   ],
   "source": [
    "lr_ypred = lr_clf.predict(testX)\n",
    "\n",
    "cm = confusion_matrix(testY, lr_ypred)\n",
    "print(cm)"
   ]
  },
  {
   "cell_type": "code",
   "execution_count": 34,
   "id": "08487a13",
   "metadata": {},
   "outputs": [
    {
     "name": "stdout",
     "output_type": "stream",
     "text": [
      "LR test accuracy_score: 94.97016197783461\n"
     ]
    }
   ],
   "source": [
    "lr_accuracy_score = accuracy_score(testY,lr_clf.predict(testX))*100\n",
    "print(\"LR test accuracy_score:\", lr_accuracy_score)"
   ]
  },
  {
   "cell_type": "code",
   "execution_count": 35,
   "id": "a88f30da",
   "metadata": {},
   "outputs": [
    {
     "data": {
      "text/plain": [
       "<sklearn.metrics._plot.roc_curve.RocCurveDisplay at 0x22535050fa0>"
      ]
     },
     "execution_count": 35,
     "metadata": {},
     "output_type": "execute_result"
    },
    {
     "data": {
      "image/png": "[encoded data removed]",
      "text/plain": [
       "<Figure size 432x288 with 1 Axes>"
      ]
     },
     "metadata": {
      "needs_background": "light"
     },
     "output_type": "display_data"
    }
   ],
   "source": [
    "RocCurveDisplay.from_estimator(lr_clf,testX,testY)"
   ]
  },
  {
   "cell_type": "code",
   "execution_count": 36,
   "id": "49b37372",
   "metadata": {},
   "outputs": [
    {
     "data": {
      "image/png": "[encoded data removed]",
      "text/plain": [
       "<Figure size 432x288 with 2 Axes>"
      ]
     },
     "metadata": {
      "needs_background": "light"
     },
     "output_type": "display_data"
    }
   ],
   "source": [
    "#confusion_matrix(y_test,yhat_svm)\n",
    "\n",
    "\n",
    "ConfusionMatrixDisplay.from_estimator(lr_clf, testX, testY)  \n",
    "plt.show() "
   ]
  },
  {
   "cell_type": "code",
   "execution_count": 37,
   "id": "3271d048",
   "metadata": {},
   "outputs": [
    {
     "name": "stdout",
     "output_type": "stream",
     "text": [
      "confusion matrix\n",
      " [[1812  109]\n",
      " [  68 1530]]\n",
      "\n",
      "classification report\n",
      "               precision    recall  f1-score   support\n",
      "\n",
      "         0.0       0.96      0.94      0.95      1921\n",
      "         1.0       0.93      0.96      0.95      1598\n",
      "\n",
      "    accuracy                           0.95      3519\n",
      "   macro avg       0.95      0.95      0.95      3519\n",
      "weighted avg       0.95      0.95      0.95      3519\n",
      "\n",
      "Accuracy:  94.97016197783461\n"
     ]
    }
   ],
   "source": [
    "print(\"confusion matrix\\n\",confusion_matrix(testY,lr_ypred))\n",
    "print(\"\\nclassification report\\n\",classification_report(testY,lr_ypred))\n",
    "print(\"Accuracy: \",accuracy_score(testY,lr_ypred)*100)"
   ]
  },
  {
   "cell_type": "code",
   "execution_count": 38,
   "id": "b69ac6bc",
   "metadata": {},
   "outputs": [],
   "source": [
    "from sklearn.linear_model import LogisticRegression\n",
    "\n",
    "\n",
    "lrsv_clf = Pipeline([\n",
    "  ('feature_selection', SelectFromModel(LogisticRegression(C=1, penalty='l1', solver='liblinear', random_state=0))),\n",
    "  ('classification', LinearSVC(C=2.0, penalty=\"l1\",max_iter=5000, dual=False))\n",
    "])\n",
    "\n",
    "\n",
    "#LinearSVC(C=2.0, penalty=\"l1\",max_iter=5000, dual=False)\n",
    "lr_clf = Pipeline([\n",
    "  ('feature_selection', SelectFromModel(LinearSVC(C=2.0, penalty=\"l1\",max_iter=5000, dual=False))),\n",
    "  ('classification', LogisticRegression(penalty='l1', solver='liblinear', random_state=0))\n",
    "])"
   ]
  },
  {
   "cell_type": "code",
   "execution_count": 39,
   "id": "c7aa6b6d",
   "metadata": {},
   "outputs": [
    {
     "name": "stderr",
     "output_type": "stream",
     "text": [
      "C:\\ProgramData\\Anaconda3\\lib\\site-packages\\sklearn\\svm\\_base.py:1242: ConvergenceWarning: Liblinear failed to converge, increase the number of iterations.\n",
      "  warnings.warn(\n"
     ]
    },
    {
     "data": {
      "text/html": [
       "<style>#sk-container-id-3 {color: black;}#sk-container-id-3 pre{padding: 0;}#sk-container-id-3 div.sk-toggleable {background-color: white;}#sk-container-id-3 label.sk-toggleable__label {cursor: pointer;display: block;width: 100%;margin-bottom: 0;padding: 0.3em;box-sizing: border-box;text-align: center;}#sk-container-id-3 label.sk-toggleable__label-arrow:before {content: \"▸\";float: left;margin-right: 0.25em;color: #696969;}#sk-container-id-3 label.sk-toggleable__label-arrow:hover:before {color: black;}#sk-container-id-3 div.sk-estimator:hover label.sk-toggleable__label-arrow:before {color: black;}#sk-container-id-3 div.sk-toggleable__content {max-height: 0;max-width: 0;overflow: hidden;text-align: left;background-color: #f0f8ff;}#sk-container-id-3 div.sk-toggleable__content pre {margin: 0.2em;color: black;border-radius: 0.25em;background-color: #f0f8ff;}#sk-container-id-3 input.sk-toggleable__control:checked~div.sk-toggleable__content {max-height: 200px;max-width: 100%;overflow: auto;}#sk-container-id-3 input.sk-toggleable__control:checked~label.sk-toggleable__label-arrow:before {content: \"▾\";}#sk-container-id-3 div.sk-estimator input.sk-toggleable__control:checked~label.sk-toggleable__label {background-color: #d4ebff;}#sk-container-id-3 div.sk-label input.sk-toggleable__control:checked~label.sk-toggleable__label {background-color: #d4ebff;}#sk-container-id-3 input.sk-hidden--visually {border: 0;clip: rect(1px 1px 1px 1px);clip: rect(1px, 1px, 1px, 1px);height: 1px;margin: -1px;overflow: hidden;padding: 0;position: absolute;width: 1px;}#sk-container-id-3 div.sk-estimator {font-family: monospace;background-color: #f0f8ff;border: 1px dotted black;border-radius: 0.25em;box-sizing: border-box;margin-bottom: 0.5em;}#sk-container-id-3 div.sk-estimator:hover {background-color: #d4ebff;}#sk-container-id-3 div.sk-parallel-item::after {content: \"\";width: 100%;border-bottom: 1px solid gray;flex-grow: 1;}#sk-container-id-3 div.sk-label:hover label.sk-toggleable__label {background-color: #d4ebff;}#sk-container-id-3 div.sk-serial::before {content: \"\";position: absolute;border-left: 1px solid gray;box-sizing: border-box;top: 0;bottom: 0;left: 50%;z-index: 0;}#sk-container-id-3 div.sk-serial {display: flex;flex-direction: column;align-items: center;background-color: white;padding-right: 0.2em;padding-left: 0.2em;position: relative;}#sk-container-id-3 div.sk-item {position: relative;z-index: 1;}#sk-container-id-3 div.sk-parallel {display: flex;align-items: stretch;justify-content: center;background-color: white;position: relative;}#sk-container-id-3 div.sk-item::before, #sk-container-id-3 div.sk-parallel-item::before {content: \"\";position: absolute;border-left: 1px solid gray;box-sizing: border-box;top: 0;bottom: 0;left: 50%;z-index: -1;}#sk-container-id-3 div.sk-parallel-item {display: flex;flex-direction: column;z-index: 1;position: relative;background-color: white;}#sk-container-id-3 div.sk-parallel-item:first-child::after {align-self: flex-end;width: 50%;}#sk-container-id-3 div.sk-parallel-item:last-child::after {align-self: flex-start;width: 50%;}#sk-container-id-3 div.sk-parallel-item:only-child::after {width: 0;}#sk-container-id-3 div.sk-dashed-wrapped {border: 1px dashed gray;margin: 0 0.4em 0.5em 0.4em;box-sizing: border-box;padding-bottom: 0.4em;background-color: white;}#sk-container-id-3 div.sk-label label {font-family: monospace;font-weight: bold;display: inline-block;line-height: 1.2em;}#sk-container-id-3 div.sk-label-container {text-align: center;}#sk-container-id-3 div.sk-container {/* jupyter's `normalize.less` sets `[hidden] { display: none; }` but bootstrap.min.css set `[hidden] { display: none !important; }` so we also need the `!important` here to be able to override the default hidden behavior on the sphinx rendered scikit-learn.org. See: https://github.com/scikit-learn/scikit-learn/issues/21755 */display: inline-block !important;position: relative;}#sk-container-id-3 div.sk-text-repr-fallback {display: none;}</style><div id=\"sk-container-id-3\" class=\"sk-top-container\"><div class=\"sk-text-repr-fallback\"><pre>Pipeline(steps=[(&#x27;feature_selection&#x27;,\n",
       "                 SelectFromModel(estimator=LogisticRegression(C=1, penalty=&#x27;l1&#x27;,\n",
       "                                                              random_state=0,\n",
       "                                                              solver=&#x27;liblinear&#x27;))),\n",
       "                (&#x27;classification&#x27;,\n",
       "                 LinearSVC(C=2.0, dual=False, max_iter=5000, penalty=&#x27;l1&#x27;))])</pre><b>In a Jupyter environment, please rerun this cell to show the HTML representation or trust the notebook. <br />On GitHub, the HTML representation is unable to render, please try loading this page with nbviewer.org.</b></div><div class=\"sk-container\" hidden><div class=\"sk-item sk-dashed-wrapped\"><div class=\"sk-label-container\"><div class=\"sk-label sk-toggleable\"><input class=\"sk-toggleable__control sk-hidden--visually\" id=\"sk-estimator-id-11\" type=\"checkbox\" ><label for=\"sk-estimator-id-11\" class=\"sk-toggleable__label sk-toggleable__label-arrow\">Pipeline</label><div class=\"sk-toggleable__content\"><pre>Pipeline(steps=[(&#x27;feature_selection&#x27;,\n",
       "                 SelectFromModel(estimator=LogisticRegression(C=1, penalty=&#x27;l1&#x27;,\n",
       "                                                              random_state=0,\n",
       "                                                              solver=&#x27;liblinear&#x27;))),\n",
       "                (&#x27;classification&#x27;,\n",
       "                 LinearSVC(C=2.0, dual=False, max_iter=5000, penalty=&#x27;l1&#x27;))])</pre></div></div></div><div class=\"sk-serial\"><div class=\"sk-item sk-dashed-wrapped\"><div class=\"sk-label-container\"><div class=\"sk-label sk-toggleable\"><input class=\"sk-toggleable__control sk-hidden--visually\" id=\"sk-estimator-id-12\" type=\"checkbox\" ><label for=\"sk-estimator-id-12\" class=\"sk-toggleable__label sk-toggleable__label-arrow\">feature_selection: SelectFromModel</label><div class=\"sk-toggleable__content\"><pre>SelectFromModel(estimator=LogisticRegression(C=1, penalty=&#x27;l1&#x27;, random_state=0,\n",
       "                                             solver=&#x27;liblinear&#x27;))</pre></div></div></div><div class=\"sk-parallel\"><div class=\"sk-parallel-item\"><div class=\"sk-item\"><div class=\"sk-label-container\"><div class=\"sk-label sk-toggleable\"><input class=\"sk-toggleable__control sk-hidden--visually\" id=\"sk-estimator-id-13\" type=\"checkbox\" ><label for=\"sk-estimator-id-13\" class=\"sk-toggleable__label sk-toggleable__label-arrow\">estimator: LogisticRegression</label><div class=\"sk-toggleable__content\"><pre>LogisticRegression(C=1, penalty=&#x27;l1&#x27;, random_state=0, solver=&#x27;liblinear&#x27;)</pre></div></div></div><div class=\"sk-serial\"><div class=\"sk-item\"><div class=\"sk-estimator sk-toggleable\"><input class=\"sk-toggleable__control sk-hidden--visually\" id=\"sk-estimator-id-14\" type=\"checkbox\" ><label for=\"sk-estimator-id-14\" class=\"sk-toggleable__label sk-toggleable__label-arrow\">LogisticRegression</label><div class=\"sk-toggleable__content\"><pre>LogisticRegression(C=1, penalty=&#x27;l1&#x27;, random_state=0, solver=&#x27;liblinear&#x27;)</pre></div></div></div></div></div></div></div></div><div class=\"sk-item\"><div class=\"sk-estimator sk-toggleable\"><input class=\"sk-toggleable__control sk-hidden--visually\" id=\"sk-estimator-id-15\" type=\"checkbox\" ><label for=\"sk-estimator-id-15\" class=\"sk-toggleable__label sk-toggleable__label-arrow\">LinearSVC</label><div class=\"sk-toggleable__content\"><pre>LinearSVC(C=2.0, dual=False, max_iter=5000, penalty=&#x27;l1&#x27;)</pre></div></div></div></div></div></div></div>"
      ],
      "text/plain": [
       "Pipeline(steps=[('feature_selection',\n",
       "                 SelectFromModel(estimator=LogisticRegression(C=1, penalty='l1',\n",
       "                                                              random_state=0,\n",
       "                                                              solver='liblinear'))),\n",
       "                ('classification',\n",
       "                 LinearSVC(C=2.0, dual=False, max_iter=5000, penalty='l1'))])"
      ]
     },
     "execution_count": 39,
     "metadata": {},
     "output_type": "execute_result"
    }
   ],
   "source": [
    "lrsv_clf.fit(trainX,trainy)"
   ]
  },
  {
   "cell_type": "code",
   "execution_count": 40,
   "id": "c6ef2905",
   "metadata": {},
   "outputs": [
    {
     "name": "stdout",
     "output_type": "stream",
     "text": [
      "Train Score:  0.9688324142891392\n"
     ]
    }
   ],
   "source": [
    "lr_score = lrsv_clf.score(trainX, trainy)\n",
    "print(\"Train Score: \", lr_score)"
   ]
  },
  {
   "cell_type": "code",
   "execution_count": 41,
   "id": "4b566874",
   "metadata": {},
   "outputs": [
    {
     "name": "stderr",
     "output_type": "stream",
     "text": [
      "C:\\ProgramData\\Anaconda3\\lib\\site-packages\\sklearn\\svm\\_base.py:1242: ConvergenceWarning: Liblinear failed to converge, increase the number of iterations.\n",
      "  warnings.warn(\n",
      "C:\\ProgramData\\Anaconda3\\lib\\site-packages\\sklearn\\svm\\_base.py:1242: ConvergenceWarning: Liblinear failed to converge, increase the number of iterations.\n",
      "  warnings.warn(\n",
      "C:\\ProgramData\\Anaconda3\\lib\\site-packages\\sklearn\\svm\\_base.py:1242: ConvergenceWarning: Liblinear failed to converge, increase the number of iterations.\n",
      "  warnings.warn(\n",
      "C:\\ProgramData\\Anaconda3\\lib\\site-packages\\sklearn\\svm\\_base.py:1242: ConvergenceWarning: Liblinear failed to converge, increase the number of iterations.\n",
      "  warnings.warn(\n",
      "C:\\ProgramData\\Anaconda3\\lib\\site-packages\\sklearn\\svm\\_base.py:1242: ConvergenceWarning: Liblinear failed to converge, increase the number of iterations.\n",
      "  warnings.warn(\n",
      "C:\\ProgramData\\Anaconda3\\lib\\site-packages\\sklearn\\svm\\_base.py:1242: ConvergenceWarning: Liblinear failed to converge, increase the number of iterations.\n",
      "  warnings.warn(\n",
      "C:\\ProgramData\\Anaconda3\\lib\\site-packages\\sklearn\\svm\\_base.py:1242: ConvergenceWarning: Liblinear failed to converge, increase the number of iterations.\n",
      "  warnings.warn(\n",
      "C:\\ProgramData\\Anaconda3\\lib\\site-packages\\sklearn\\svm\\_base.py:1242: ConvergenceWarning: Liblinear failed to converge, increase the number of iterations.\n",
      "  warnings.warn(\n"
     ]
    },
    {
     "name": "stdout",
     "output_type": "stream",
     "text": [
      "CV average score: 0.94\n"
     ]
    },
    {
     "name": "stderr",
     "output_type": "stream",
     "text": [
      "C:\\ProgramData\\Anaconda3\\lib\\site-packages\\sklearn\\svm\\_base.py:1242: ConvergenceWarning: Liblinear failed to converge, increase the number of iterations.\n",
      "  warnings.warn(\n"
     ]
    }
   ],
   "source": [
    "lr_cv_scores = cross_val_score(lrsv_clf, trainX, trainy, cv=10)\n",
    "print(\"CV average score: %.2f\" % lr_cv_scores.mean())"
   ]
  },
  {
   "cell_type": "code",
   "execution_count": 42,
   "id": "c449fe23",
   "metadata": {},
   "outputs": [
    {
     "name": "stdout",
     "output_type": "stream",
     "text": [
      "LR test accuracy_score: 94.54390451832907\n"
     ]
    }
   ],
   "source": [
    "lr_accuracy_score = accuracy_score(testY,lrsv_clf.predict(testX))*100\n",
    "print(\"LR test accuracy_score:\", lr_accuracy_score)"
   ]
  },
  {
   "cell_type": "code",
   "execution_count": 43,
   "id": "4c4dffbb",
   "metadata": {},
   "outputs": [
    {
     "data": {
      "text/plain": [
       "<sklearn.metrics._plot.roc_curve.RocCurveDisplay at 0x22535176ac0>"
      ]
     },
     "execution_count": 43,
     "metadata": {},
     "output_type": "execute_result"
    },
    {
     "data": {
      "image/png": "[encoded data removed]",
      "text/plain": [
       "<Figure size 432x288 with 1 Axes>"
      ]
     },
     "metadata": {
      "needs_background": "light"
     },
     "output_type": "display_data"
    }
   ],
   "source": [
    "RocCurveDisplay.from_estimator(lrsv_clf,testX,testY)"
   ]
  },
  {
   "cell_type": "code",
   "execution_count": 44,
   "id": "c4ddb29b",
   "metadata": {},
   "outputs": [
    {
     "data": {
      "image/png": "[encoded data removed]",
      "text/plain": [
       "<Figure size 432x288 with 2 Axes>"
      ]
     },
     "metadata": {
      "needs_background": "light"
     },
     "output_type": "display_data"
    }
   ],
   "source": [
    "\n",
    "ConfusionMatrixDisplay.from_estimator(lrsv_clf, testX, testY)  \n",
    "plt.show() "
   ]
  },
  {
   "cell_type": "code",
   "execution_count": 45,
   "id": "a80a23c7",
   "metadata": {},
   "outputs": [
    {
     "name": "stdout",
     "output_type": "stream",
     "text": [
      "confusion matrix\n",
      " [[1812  109]\n",
      " [  68 1530]]\n",
      "\n",
      "classification report\n",
      "               precision    recall  f1-score   support\n",
      "\n",
      "         0.0       0.96      0.94      0.95      1921\n",
      "         1.0       0.93      0.96      0.95      1598\n",
      "\n",
      "    accuracy                           0.95      3519\n",
      "   macro avg       0.95      0.95      0.95      3519\n",
      "weighted avg       0.95      0.95      0.95      3519\n",
      "\n",
      "Accuracy:  94.97016197783461\n"
     ]
    }
   ],
   "source": [
    "print(\"confusion matrix\\n\",confusion_matrix(testY,lr_ypred))\n",
    "print(\"\\nclassification report\\n\",classification_report(testY,lr_ypred))\n",
    "print(\"Accuracy: \",accuracy_score(testY,lr_ypred)*100)"
   ]
  },
  {
   "cell_type": "markdown",
   "id": "4105085e",
   "metadata": {},
   "source": [
    "## KNeighborsClassifier (KNN)"
   ]
  },
  {
   "cell_type": "code",
   "execution_count": 46,
   "id": "55d0c163",
   "metadata": {},
   "outputs": [],
   "source": [
    "from sklearn.neighbors import KNeighborsClassifier\n",
    "\n",
    "#Knn_clf = KNeighborsClassifier()\n",
    "\n",
    "\n",
    "Knn_clf = Pipeline([\n",
    "  ('feature_selection', SelectFromModel(LinearSVC(C=2.0, penalty=\"l1\",max_iter=5000, dual=False))),\n",
    "  ('classification', KNeighborsClassifier(n_neighbors=10))\n",
    "])\n"
   ]
  },
  {
   "cell_type": "code",
   "execution_count": 47,
   "id": "37d3bf20",
   "metadata": {},
   "outputs": [
    {
     "name": "stderr",
     "output_type": "stream",
     "text": [
      "C:\\ProgramData\\Anaconda3\\lib\\site-packages\\sklearn\\svm\\_base.py:1242: ConvergenceWarning: Liblinear failed to converge, increase the number of iterations.\n",
      "  warnings.warn(\n"
     ]
    },
    {
     "data": {
      "text/html": [
       "<style>#sk-container-id-4 {color: black;}#sk-container-id-4 pre{padding: 0;}#sk-container-id-4 div.sk-toggleable {background-color: white;}#sk-container-id-4 label.sk-toggleable__label {cursor: pointer;display: block;width: 100%;margin-bottom: 0;padding: 0.3em;box-sizing: border-box;text-align: center;}#sk-container-id-4 label.sk-toggleable__label-arrow:before {content: \"▸\";float: left;margin-right: 0.25em;color: #696969;}#sk-container-id-4 label.sk-toggleable__label-arrow:hover:before {color: black;}#sk-container-id-4 div.sk-estimator:hover label.sk-toggleable__label-arrow:before {color: black;}#sk-container-id-4 div.sk-toggleable__content {max-height: 0;max-width: 0;overflow: hidden;text-align: left;background-color: #f0f8ff;}#sk-container-id-4 div.sk-toggleable__content pre {margin: 0.2em;color: black;border-radius: 0.25em;background-color: #f0f8ff;}#sk-container-id-4 input.sk-toggleable__control:checked~div.sk-toggleable__content {max-height: 200px;max-width: 100%;overflow: auto;}#sk-container-id-4 input.sk-toggleable__control:checked~label.sk-toggleable__label-arrow:before {content: \"▾\";}#sk-container-id-4 div.sk-estimator input.sk-toggleable__control:checked~label.sk-toggleable__label {background-color: #d4ebff;}#sk-container-id-4 div.sk-label input.sk-toggleable__control:checked~label.sk-toggleable__label {background-color: #d4ebff;}#sk-container-id-4 input.sk-hidden--visually {border: 0;clip: rect(1px 1px 1px 1px);clip: rect(1px, 1px, 1px, 1px);height: 1px;margin: -1px;overflow: hidden;padding: 0;position: absolute;width: 1px;}#sk-container-id-4 div.sk-estimator {font-family: monospace;background-color: #f0f8ff;border: 1px dotted black;border-radius: 0.25em;box-sizing: border-box;margin-bottom: 0.5em;}#sk-container-id-4 div.sk-estimator:hover {background-color: #d4ebff;}#sk-container-id-4 div.sk-parallel-item::after {content: \"\";width: 100%;border-bottom: 1px solid gray;flex-grow: 1;}#sk-container-id-4 div.sk-label:hover label.sk-toggleable__label {background-color: #d4ebff;}#sk-container-id-4 div.sk-serial::before {content: \"\";position: absolute;border-left: 1px solid gray;box-sizing: border-box;top: 0;bottom: 0;left: 50%;z-index: 0;}#sk-container-id-4 div.sk-serial {display: flex;flex-direction: column;align-items: center;background-color: white;padding-right: 0.2em;padding-left: 0.2em;position: relative;}#sk-container-id-4 div.sk-item {position: relative;z-index: 1;}#sk-container-id-4 div.sk-parallel {display: flex;align-items: stretch;justify-content: center;background-color: white;position: relative;}#sk-container-id-4 div.sk-item::before, #sk-container-id-4 div.sk-parallel-item::before {content: \"\";position: absolute;border-left: 1px solid gray;box-sizing: border-box;top: 0;bottom: 0;left: 50%;z-index: -1;}#sk-container-id-4 div.sk-parallel-item {display: flex;flex-direction: column;z-index: 1;position: relative;background-color: white;}#sk-container-id-4 div.sk-parallel-item:first-child::after {align-self: flex-end;width: 50%;}#sk-container-id-4 div.sk-parallel-item:last-child::after {align-self: flex-start;width: 50%;}#sk-container-id-4 div.sk-parallel-item:only-child::after {width: 0;}#sk-container-id-4 div.sk-dashed-wrapped {border: 1px dashed gray;margin: 0 0.4em 0.5em 0.4em;box-sizing: border-box;padding-bottom: 0.4em;background-color: white;}#sk-container-id-4 div.sk-label label {font-family: monospace;font-weight: bold;display: inline-block;line-height: 1.2em;}#sk-container-id-4 div.sk-label-container {text-align: center;}#sk-container-id-4 div.sk-container {/* jupyter's `normalize.less` sets `[hidden] { display: none; }` but bootstrap.min.css set `[hidden] { display: none !important; }` so we also need the `!important` here to be able to override the default hidden behavior on the sphinx rendered scikit-learn.org. See: https://github.com/scikit-learn/scikit-learn/issues/21755 */display: inline-block !important;position: relative;}#sk-container-id-4 div.sk-text-repr-fallback {display: none;}</style><div id=\"sk-container-id-4\" class=\"sk-top-container\"><div class=\"sk-text-repr-fallback\"><pre>Pipeline(steps=[(&#x27;feature_selection&#x27;,\n",
       "                 SelectFromModel(estimator=LinearSVC(C=2.0, dual=False,\n",
       "                                                     max_iter=5000,\n",
       "                                                     penalty=&#x27;l1&#x27;))),\n",
       "                (&#x27;classification&#x27;, KNeighborsClassifier(n_neighbors=10))])</pre><b>In a Jupyter environment, please rerun this cell to show the HTML representation or trust the notebook. <br />On GitHub, the HTML representation is unable to render, please try loading this page with nbviewer.org.</b></div><div class=\"sk-container\" hidden><div class=\"sk-item sk-dashed-wrapped\"><div class=\"sk-label-container\"><div class=\"sk-label sk-toggleable\"><input class=\"sk-toggleable__control sk-hidden--visually\" id=\"sk-estimator-id-16\" type=\"checkbox\" ><label for=\"sk-estimator-id-16\" class=\"sk-toggleable__label sk-toggleable__label-arrow\">Pipeline</label><div class=\"sk-toggleable__content\"><pre>Pipeline(steps=[(&#x27;feature_selection&#x27;,\n",
       "                 SelectFromModel(estimator=LinearSVC(C=2.0, dual=False,\n",
       "                                                     max_iter=5000,\n",
       "                                                     penalty=&#x27;l1&#x27;))),\n",
       "                (&#x27;classification&#x27;, KNeighborsClassifier(n_neighbors=10))])</pre></div></div></div><div class=\"sk-serial\"><div class=\"sk-item sk-dashed-wrapped\"><div class=\"sk-label-container\"><div class=\"sk-label sk-toggleable\"><input class=\"sk-toggleable__control sk-hidden--visually\" id=\"sk-estimator-id-17\" type=\"checkbox\" ><label for=\"sk-estimator-id-17\" class=\"sk-toggleable__label sk-toggleable__label-arrow\">feature_selection: SelectFromModel</label><div class=\"sk-toggleable__content\"><pre>SelectFromModel(estimator=LinearSVC(C=2.0, dual=False, max_iter=5000,\n",
       "                                    penalty=&#x27;l1&#x27;))</pre></div></div></div><div class=\"sk-parallel\"><div class=\"sk-parallel-item\"><div class=\"sk-item\"><div class=\"sk-label-container\"><div class=\"sk-label sk-toggleable\"><input class=\"sk-toggleable__control sk-hidden--visually\" id=\"sk-estimator-id-18\" type=\"checkbox\" ><label for=\"sk-estimator-id-18\" class=\"sk-toggleable__label sk-toggleable__label-arrow\">estimator: LinearSVC</label><div class=\"sk-toggleable__content\"><pre>LinearSVC(C=2.0, dual=False, max_iter=5000, penalty=&#x27;l1&#x27;)</pre></div></div></div><div class=\"sk-serial\"><div class=\"sk-item\"><div class=\"sk-estimator sk-toggleable\"><input class=\"sk-toggleable__control sk-hidden--visually\" id=\"sk-estimator-id-19\" type=\"checkbox\" ><label for=\"sk-estimator-id-19\" class=\"sk-toggleable__label sk-toggleable__label-arrow\">LinearSVC</label><div class=\"sk-toggleable__content\"><pre>LinearSVC(C=2.0, dual=False, max_iter=5000, penalty=&#x27;l1&#x27;)</pre></div></div></div></div></div></div></div></div><div class=\"sk-item\"><div class=\"sk-estimator sk-toggleable\"><input class=\"sk-toggleable__control sk-hidden--visually\" id=\"sk-estimator-id-20\" type=\"checkbox\" ><label for=\"sk-estimator-id-20\" class=\"sk-toggleable__label sk-toggleable__label-arrow\">KNeighborsClassifier</label><div class=\"sk-toggleable__content\"><pre>KNeighborsClassifier(n_neighbors=10)</pre></div></div></div></div></div></div></div>"
      ],
      "text/plain": [
       "Pipeline(steps=[('feature_selection',\n",
       "                 SelectFromModel(estimator=LinearSVC(C=2.0, dual=False,\n",
       "                                                     max_iter=5000,\n",
       "                                                     penalty='l1'))),\n",
       "                ('classification', KNeighborsClassifier(n_neighbors=10))])"
      ]
     },
     "execution_count": 47,
     "metadata": {},
     "output_type": "execute_result"
    }
   ],
   "source": [
    "#start = time.time() \n",
    "# fitting x samples and y classes \n",
    "Knn_clf.fit(trainX,trainy)\n",
    "#stop = time.time()\n",
    "#print(f\"Training time: {stop - start}s\")"
   ]
  },
  {
   "cell_type": "code",
   "execution_count": 48,
   "id": "2211f81c",
   "metadata": {},
   "outputs": [
    {
     "name": "stdout",
     "output_type": "stream",
     "text": [
      "Train Score:  91.58475185806762\n"
     ]
    }
   ],
   "source": [
    "Knn_score = Knn_clf.score(trainX, trainy)\n",
    "print(\"Train Score: \", Knn_score*100)"
   ]
  },
  {
   "cell_type": "code",
   "execution_count": 49,
   "id": "0a75752d",
   "metadata": {},
   "outputs": [
    {
     "name": "stderr",
     "output_type": "stream",
     "text": [
      "C:\\ProgramData\\Anaconda3\\lib\\site-packages\\sklearn\\svm\\_base.py:1242: ConvergenceWarning: Liblinear failed to converge, increase the number of iterations.\n",
      "  warnings.warn(\n",
      "C:\\ProgramData\\Anaconda3\\lib\\site-packages\\sklearn\\svm\\_base.py:1242: ConvergenceWarning: Liblinear failed to converge, increase the number of iterations.\n",
      "  warnings.warn(\n",
      "C:\\ProgramData\\Anaconda3\\lib\\site-packages\\sklearn\\svm\\_base.py:1242: ConvergenceWarning: Liblinear failed to converge, increase the number of iterations.\n",
      "  warnings.warn(\n",
      "C:\\ProgramData\\Anaconda3\\lib\\site-packages\\sklearn\\svm\\_base.py:1242: ConvergenceWarning: Liblinear failed to converge, increase the number of iterations.\n",
      "  warnings.warn(\n",
      "C:\\ProgramData\\Anaconda3\\lib\\site-packages\\sklearn\\svm\\_base.py:1242: ConvergenceWarning: Liblinear failed to converge, increase the number of iterations.\n",
      "  warnings.warn(\n",
      "C:\\ProgramData\\Anaconda3\\lib\\site-packages\\sklearn\\svm\\_base.py:1242: ConvergenceWarning: Liblinear failed to converge, increase the number of iterations.\n",
      "  warnings.warn(\n",
      "C:\\ProgramData\\Anaconda3\\lib\\site-packages\\sklearn\\svm\\_base.py:1242: ConvergenceWarning: Liblinear failed to converge, increase the number of iterations.\n",
      "  warnings.warn(\n",
      "C:\\ProgramData\\Anaconda3\\lib\\site-packages\\sklearn\\svm\\_base.py:1242: ConvergenceWarning: Liblinear failed to converge, increase the number of iterations.\n",
      "  warnings.warn(\n"
     ]
    },
    {
     "name": "stdout",
     "output_type": "stream",
     "text": [
      "CV average score: 0.82\n"
     ]
    },
    {
     "name": "stderr",
     "output_type": "stream",
     "text": [
      "C:\\ProgramData\\Anaconda3\\lib\\site-packages\\sklearn\\svm\\_base.py:1242: ConvergenceWarning: Liblinear failed to converge, increase the number of iterations.\n",
      "  warnings.warn(\n"
     ]
    }
   ],
   "source": [
    "knn_cv_scores = cross_val_score(Knn_clf, trainX, trainy, cv=10)\n",
    "print(\"CV average score: %.2f\" % knn_cv_scores.mean())\n"
   ]
  },
  {
   "cell_type": "code",
   "execution_count": 50,
   "id": "e86cb153",
   "metadata": {},
   "outputs": [
    {
     "name": "stdout",
     "output_type": "stream",
     "text": [
      "[[1750  171]\n",
      " [ 229 1369]]\n"
     ]
    }
   ],
   "source": [
    "knn_ypred = Knn_clf.predict(testX)\n",
    "\n",
    "cm = confusion_matrix(testY, knn_ypred)\n",
    "print(cm)"
   ]
  },
  {
   "cell_type": "code",
   "execution_count": 51,
   "id": "9bf6b4c8",
   "metadata": {},
   "outputs": [
    {
     "name": "stdout",
     "output_type": "stream",
     "text": [
      "KNN test accuracy_score: 88.63313441318556\n"
     ]
    }
   ],
   "source": [
    "knn_accuracy_score = accuracy_score(testY,Knn_clf.predict(testX))*100\n",
    "print(\"KNN test accuracy_score:\", knn_accuracy_score)"
   ]
  },
  {
   "cell_type": "code",
   "execution_count": 52,
   "id": "22e657af",
   "metadata": {},
   "outputs": [
    {
     "data": {
      "text/plain": [
       "<sklearn.metrics._plot.roc_curve.RocCurveDisplay at 0x225351f0ee0>"
      ]
     },
     "execution_count": 52,
     "metadata": {},
     "output_type": "execute_result"
    },
    {
     "data": {
      "image/png": "[encoded data removed]",
      "text/plain": [
       "<Figure size 432x288 with 1 Axes>"
      ]
     },
     "metadata": {
      "needs_background": "light"
     },
     "output_type": "display_data"
    }
   ],
   "source": [
    "RocCurveDisplay.from_estimator(Knn_clf,testX,testY)"
   ]
  },
  {
   "cell_type": "code",
   "execution_count": 53,
   "id": "1bbe1e54",
   "metadata": {},
   "outputs": [
    {
     "data": {
      "image/png": "[encoded data removed]",
      "text/plain": [
       "<Figure size 432x288 with 2 Axes>"
      ]
     },
     "metadata": {
      "needs_background": "light"
     },
     "output_type": "display_data"
    }
   ],
   "source": [
    "\n",
    "#confusion_matrix(y_test,yhat_svm)\n",
    "\n",
    "ConfusionMatrixDisplay.from_estimator(Knn_clf, testX, testY)  \n",
    "plt.show() "
   ]
  },
  {
   "cell_type": "code",
   "execution_count": 54,
   "id": "e9a6bdee",
   "metadata": {},
   "outputs": [
    {
     "name": "stdout",
     "output_type": "stream",
     "text": [
      "confusion matrix\n",
      " [[1750  171]\n",
      " [ 229 1369]]\n",
      "\n",
      "classification report\n",
      "               precision    recall  f1-score   support\n",
      "\n",
      "         0.0       0.88      0.91      0.90      1921\n",
      "         1.0       0.89      0.86      0.87      1598\n",
      "\n",
      "    accuracy                           0.89      3519\n",
      "   macro avg       0.89      0.88      0.88      3519\n",
      "weighted avg       0.89      0.89      0.89      3519\n",
      "\n",
      "Accuracy:  88.63313441318556\n"
     ]
    }
   ],
   "source": [
    "print(\"confusion matrix\\n\",confusion_matrix(testY,knn_ypred))\n",
    "print(\"\\nclassification report\\n\",classification_report(testY,knn_ypred))\n",
    "print(\"Accuracy: \",accuracy_score(testY,knn_ypred)*100)"
   ]
  },
  {
   "cell_type": "markdown",
   "id": "e984995e",
   "metadata": {},
   "source": [
    "## Decision Trees"
   ]
  },
  {
   "cell_type": "markdown",
   "id": "d77296d2",
   "metadata": {},
   "source": [
    "Decision Trees (DTs) are a non-parametric supervised learning method used for classification and regression. The goal is to create a model that predicts the value of a target variable by learning simple decision rules inferred from the data features. A tree can be seen as a piecewise constant approximation"
   ]
  },
  {
   "cell_type": "code",
   "execution_count": 55,
   "id": "a63ffd58",
   "metadata": {},
   "outputs": [],
   "source": [
    "from sklearn import tree\n",
    "from sklearn.tree import DecisionTreeClassifier\n",
    "\n",
    "#dt_clf = tree.DecisionTreeClassifier()\n",
    "\n",
    "dt_clf = Pipeline([\n",
    "  ('feature_selection', SelectFromModel(LinearSVC(C=2.0, penalty=\"l1\",max_iter=5000, dual=False))),\n",
    "  ('classification', DecisionTreeClassifier(criterion='entropy', random_state= 0))\n",
    "])\n",
    "\n",
    "\n",
    "#dt_clf = dt_clf.fit(trainX,trainy)"
   ]
  },
  {
   "cell_type": "code",
   "execution_count": 56,
   "id": "bf85512a",
   "metadata": {},
   "outputs": [
    {
     "name": "stderr",
     "output_type": "stream",
     "text": [
      "C:\\ProgramData\\Anaconda3\\lib\\site-packages\\sklearn\\svm\\_base.py:1242: ConvergenceWarning: Liblinear failed to converge, increase the number of iterations.\n",
      "  warnings.warn(\n"
     ]
    },
    {
     "data": {
      "text/html": [
       "<style>#sk-container-id-5 {color: black;}#sk-container-id-5 pre{padding: 0;}#sk-container-id-5 div.sk-toggleable {background-color: white;}#sk-container-id-5 label.sk-toggleable__label {cursor: pointer;display: block;width: 100%;margin-bottom: 0;padding: 0.3em;box-sizing: border-box;text-align: center;}#sk-container-id-5 label.sk-toggleable__label-arrow:before {content: \"▸\";float: left;margin-right: 0.25em;color: #696969;}#sk-container-id-5 label.sk-toggleable__label-arrow:hover:before {color: black;}#sk-container-id-5 div.sk-estimator:hover label.sk-toggleable__label-arrow:before {color: black;}#sk-container-id-5 div.sk-toggleable__content {max-height: 0;max-width: 0;overflow: hidden;text-align: left;background-color: #f0f8ff;}#sk-container-id-5 div.sk-toggleable__content pre {margin: 0.2em;color: black;border-radius: 0.25em;background-color: #f0f8ff;}#sk-container-id-5 input.sk-toggleable__control:checked~div.sk-toggleable__content {max-height: 200px;max-width: 100%;overflow: auto;}#sk-container-id-5 input.sk-toggleable__control:checked~label.sk-toggleable__label-arrow:before {content: \"▾\";}#sk-container-id-5 div.sk-estimator input.sk-toggleable__control:checked~label.sk-toggleable__label {background-color: #d4ebff;}#sk-container-id-5 div.sk-label input.sk-toggleable__control:checked~label.sk-toggleable__label {background-color: #d4ebff;}#sk-container-id-5 input.sk-hidden--visually {border: 0;clip: rect(1px 1px 1px 1px);clip: rect(1px, 1px, 1px, 1px);height: 1px;margin: -1px;overflow: hidden;padding: 0;position: absolute;width: 1px;}#sk-container-id-5 div.sk-estimator {font-family: monospace;background-color: #f0f8ff;border: 1px dotted black;border-radius: 0.25em;box-sizing: border-box;margin-bottom: 0.5em;}#sk-container-id-5 div.sk-estimator:hover {background-color: #d4ebff;}#sk-container-id-5 div.sk-parallel-item::after {content: \"\";width: 100%;border-bottom: 1px solid gray;flex-grow: 1;}#sk-container-id-5 div.sk-label:hover label.sk-toggleable__label {background-color: #d4ebff;}#sk-container-id-5 div.sk-serial::before {content: \"\";position: absolute;border-left: 1px solid gray;box-sizing: border-box;top: 0;bottom: 0;left: 50%;z-index: 0;}#sk-container-id-5 div.sk-serial {display: flex;flex-direction: column;align-items: center;background-color: white;padding-right: 0.2em;padding-left: 0.2em;position: relative;}#sk-container-id-5 div.sk-item {position: relative;z-index: 1;}#sk-container-id-5 div.sk-parallel {display: flex;align-items: stretch;justify-content: center;background-color: white;position: relative;}#sk-container-id-5 div.sk-item::before, #sk-container-id-5 div.sk-parallel-item::before {content: \"\";position: absolute;border-left: 1px solid gray;box-sizing: border-box;top: 0;bottom: 0;left: 50%;z-index: -1;}#sk-container-id-5 div.sk-parallel-item {display: flex;flex-direction: column;z-index: 1;position: relative;background-color: white;}#sk-container-id-5 div.sk-parallel-item:first-child::after {align-self: flex-end;width: 50%;}#sk-container-id-5 div.sk-parallel-item:last-child::after {align-self: flex-start;width: 50%;}#sk-container-id-5 div.sk-parallel-item:only-child::after {width: 0;}#sk-container-id-5 div.sk-dashed-wrapped {border: 1px dashed gray;margin: 0 0.4em 0.5em 0.4em;box-sizing: border-box;padding-bottom: 0.4em;background-color: white;}#sk-container-id-5 div.sk-label label {font-family: monospace;font-weight: bold;display: inline-block;line-height: 1.2em;}#sk-container-id-5 div.sk-label-container {text-align: center;}#sk-container-id-5 div.sk-container {/* jupyter's `normalize.less` sets `[hidden] { display: none; }` but bootstrap.min.css set `[hidden] { display: none !important; }` so we also need the `!important` here to be able to override the default hidden behavior on the sphinx rendered scikit-learn.org. See: https://github.com/scikit-learn/scikit-learn/issues/21755 */display: inline-block !important;position: relative;}#sk-container-id-5 div.sk-text-repr-fallback {display: none;}</style><div id=\"sk-container-id-5\" class=\"sk-top-container\"><div class=\"sk-text-repr-fallback\"><pre>Pipeline(steps=[(&#x27;feature_selection&#x27;,\n",
       "                 SelectFromModel(estimator=LinearSVC(C=2.0, dual=False,\n",
       "                                                     max_iter=5000,\n",
       "                                                     penalty=&#x27;l1&#x27;))),\n",
       "                (&#x27;classification&#x27;,\n",
       "                 DecisionTreeClassifier(criterion=&#x27;entropy&#x27;, random_state=0))])</pre><b>In a Jupyter environment, please rerun this cell to show the HTML representation or trust the notebook. <br />On GitHub, the HTML representation is unable to render, please try loading this page with nbviewer.org.</b></div><div class=\"sk-container\" hidden><div class=\"sk-item sk-dashed-wrapped\"><div class=\"sk-label-container\"><div class=\"sk-label sk-toggleable\"><input class=\"sk-toggleable__control sk-hidden--visually\" id=\"sk-estimator-id-21\" type=\"checkbox\" ><label for=\"sk-estimator-id-21\" class=\"sk-toggleable__label sk-toggleable__label-arrow\">Pipeline</label><div class=\"sk-toggleable__content\"><pre>Pipeline(steps=[(&#x27;feature_selection&#x27;,\n",
       "                 SelectFromModel(estimator=LinearSVC(C=2.0, dual=False,\n",
       "                                                     max_iter=5000,\n",
       "                                                     penalty=&#x27;l1&#x27;))),\n",
       "                (&#x27;classification&#x27;,\n",
       "                 DecisionTreeClassifier(criterion=&#x27;entropy&#x27;, random_state=0))])</pre></div></div></div><div class=\"sk-serial\"><div class=\"sk-item sk-dashed-wrapped\"><div class=\"sk-label-container\"><div class=\"sk-label sk-toggleable\"><input class=\"sk-toggleable__control sk-hidden--visually\" id=\"sk-estimator-id-22\" type=\"checkbox\" ><label for=\"sk-estimator-id-22\" class=\"sk-toggleable__label sk-toggleable__label-arrow\">feature_selection: SelectFromModel</label><div class=\"sk-toggleable__content\"><pre>SelectFromModel(estimator=LinearSVC(C=2.0, dual=False, max_iter=5000,\n",
       "                                    penalty=&#x27;l1&#x27;))</pre></div></div></div><div class=\"sk-parallel\"><div class=\"sk-parallel-item\"><div class=\"sk-item\"><div class=\"sk-label-container\"><div class=\"sk-label sk-toggleable\"><input class=\"sk-toggleable__control sk-hidden--visually\" id=\"sk-estimator-id-23\" type=\"checkbox\" ><label for=\"sk-estimator-id-23\" class=\"sk-toggleable__label sk-toggleable__label-arrow\">estimator: LinearSVC</label><div class=\"sk-toggleable__content\"><pre>LinearSVC(C=2.0, dual=False, max_iter=5000, penalty=&#x27;l1&#x27;)</pre></div></div></div><div class=\"sk-serial\"><div class=\"sk-item\"><div class=\"sk-estimator sk-toggleable\"><input class=\"sk-toggleable__control sk-hidden--visually\" id=\"sk-estimator-id-24\" type=\"checkbox\" ><label for=\"sk-estimator-id-24\" class=\"sk-toggleable__label sk-toggleable__label-arrow\">LinearSVC</label><div class=\"sk-toggleable__content\"><pre>LinearSVC(C=2.0, dual=False, max_iter=5000, penalty=&#x27;l1&#x27;)</pre></div></div></div></div></div></div></div></div><div class=\"sk-item\"><div class=\"sk-estimator sk-toggleable\"><input class=\"sk-toggleable__control sk-hidden--visually\" id=\"sk-estimator-id-25\" type=\"checkbox\" ><label for=\"sk-estimator-id-25\" class=\"sk-toggleable__label sk-toggleable__label-arrow\">DecisionTreeClassifier</label><div class=\"sk-toggleable__content\"><pre>DecisionTreeClassifier(criterion=&#x27;entropy&#x27;, random_state=0)</pre></div></div></div></div></div></div></div>"
      ],
      "text/plain": [
       "Pipeline(steps=[('feature_selection',\n",
       "                 SelectFromModel(estimator=LinearSVC(C=2.0, dual=False,\n",
       "                                                     max_iter=5000,\n",
       "                                                     penalty='l1'))),\n",
       "                ('classification',\n",
       "                 DecisionTreeClassifier(criterion='entropy', random_state=0))])"
      ]
     },
     "execution_count": 56,
     "metadata": {},
     "output_type": "execute_result"
    }
   ],
   "source": [
    "#start = time.time() \n",
    "\n",
    "dt_clf.fit(trainX,trainy)\n",
    "\n",
    "#stop = time.time()\n",
    "#print(f\"Training time: {stop - start}s\") "
   ]
  },
  {
   "cell_type": "code",
   "execution_count": 57,
   "id": "1c8a9a3f",
   "metadata": {},
   "outputs": [
    {
     "name": "stdout",
     "output_type": "stream",
     "text": [
      "Train Score:  1.0\n"
     ]
    }
   ],
   "source": [
    "dt_score = dt_clf.score(trainX, trainy)\n",
    "print(\"Train Score: \", dt_score)"
   ]
  },
  {
   "cell_type": "code",
   "execution_count": 58,
   "id": "13d09544",
   "metadata": {},
   "outputs": [
    {
     "name": "stderr",
     "output_type": "stream",
     "text": [
      "C:\\ProgramData\\Anaconda3\\lib\\site-packages\\sklearn\\svm\\_base.py:1242: ConvergenceWarning: Liblinear failed to converge, increase the number of iterations.\n",
      "  warnings.warn(\n",
      "C:\\ProgramData\\Anaconda3\\lib\\site-packages\\sklearn\\svm\\_base.py:1242: ConvergenceWarning: Liblinear failed to converge, increase the number of iterations.\n",
      "  warnings.warn(\n",
      "C:\\ProgramData\\Anaconda3\\lib\\site-packages\\sklearn\\svm\\_base.py:1242: ConvergenceWarning: Liblinear failed to converge, increase the number of iterations.\n",
      "  warnings.warn(\n",
      "C:\\ProgramData\\Anaconda3\\lib\\site-packages\\sklearn\\svm\\_base.py:1242: ConvergenceWarning: Liblinear failed to converge, increase the number of iterations.\n",
      "  warnings.warn(\n",
      "C:\\ProgramData\\Anaconda3\\lib\\site-packages\\sklearn\\svm\\_base.py:1242: ConvergenceWarning: Liblinear failed to converge, increase the number of iterations.\n",
      "  warnings.warn(\n",
      "C:\\ProgramData\\Anaconda3\\lib\\site-packages\\sklearn\\svm\\_base.py:1242: ConvergenceWarning: Liblinear failed to converge, increase the number of iterations.\n",
      "  warnings.warn(\n",
      "C:\\ProgramData\\Anaconda3\\lib\\site-packages\\sklearn\\svm\\_base.py:1242: ConvergenceWarning: Liblinear failed to converge, increase the number of iterations.\n",
      "  warnings.warn(\n",
      "C:\\ProgramData\\Anaconda3\\lib\\site-packages\\sklearn\\svm\\_base.py:1242: ConvergenceWarning: Liblinear failed to converge, increase the number of iterations.\n",
      "  warnings.warn(\n",
      "C:\\ProgramData\\Anaconda3\\lib\\site-packages\\sklearn\\svm\\_base.py:1242: ConvergenceWarning: Liblinear failed to converge, increase the number of iterations.\n",
      "  warnings.warn(\n"
     ]
    },
    {
     "name": "stdout",
     "output_type": "stream",
     "text": [
      "CV average score: 0.94\n"
     ]
    }
   ],
   "source": [
    "dt_cv_scores = cross_val_score(dt_clf, trainX, trainy, cv=10)\n",
    "print(\"CV average score: %.2f\" % dt_cv_scores.mean())"
   ]
  },
  {
   "cell_type": "code",
   "execution_count": 59,
   "id": "3252c6dc",
   "metadata": {},
   "outputs": [
    {
     "name": "stdout",
     "output_type": "stream",
     "text": [
      "[[1816  105]\n",
      " [  78 1520]]\n"
     ]
    }
   ],
   "source": [
    "dt_ypred = dt_clf.predict(testX)\n",
    "\n",
    "\n",
    "dtcm = confusion_matrix(testY, dt_ypred)\n",
    "print(dtcm)"
   ]
  },
  {
   "cell_type": "code",
   "execution_count": 60,
   "id": "1dc9c08b",
   "metadata": {},
   "outputs": [
    {
     "name": "stdout",
     "output_type": "stream",
     "text": [
      "DT test accuracy_score: 94.7996589940324\n"
     ]
    }
   ],
   "source": [
    "dt_accuracy_score = accuracy_score(testY,dt_clf.predict(testX))*100\n",
    "print(\"DT test accuracy_score:\", dt_accuracy_score)"
   ]
  },
  {
   "cell_type": "code",
   "execution_count": 61,
   "id": "52339208",
   "metadata": {},
   "outputs": [
    {
     "data": {
      "text/plain": [
       "<sklearn.metrics._plot.roc_curve.RocCurveDisplay at 0x2253528af40>"
      ]
     },
     "execution_count": 61,
     "metadata": {},
     "output_type": "execute_result"
    },
    {
     "data": {
      "image/png": "[encoded data removed]",
      "text/plain": [
       "<Figure size 432x288 with 1 Axes>"
      ]
     },
     "metadata": {
      "needs_background": "light"
     },
     "output_type": "display_data"
    }
   ],
   "source": [
    "RocCurveDisplay.from_estimator(dt_clf,testX,testY)"
   ]
  },
  {
   "cell_type": "code",
   "execution_count": 62,
   "id": "18c981c8",
   "metadata": {},
   "outputs": [
    {
     "data": {
      "image/png": "[encoded data removed]",
      "text/plain": [
       "<Figure size 432x288 with 2 Axes>"
      ]
     },
     "metadata": {
      "needs_background": "light"
     },
     "output_type": "display_data"
    }
   ],
   "source": [
    "\n",
    "ConfusionMatrixDisplay.from_estimator(dt_clf, testX, testY)  \n",
    "plt.show() "
   ]
  },
  {
   "cell_type": "code",
   "execution_count": 63,
   "id": "65550d7c",
   "metadata": {},
   "outputs": [
    {
     "name": "stdout",
     "output_type": "stream",
     "text": [
      "confusion matrix\n",
      " [[1816  105]\n",
      " [  78 1520]]\n",
      "\n",
      "classification report\n",
      "               precision    recall  f1-score   support\n",
      "\n",
      "         0.0       0.96      0.95      0.95      1921\n",
      "         1.0       0.94      0.95      0.94      1598\n",
      "\n",
      "    accuracy                           0.95      3519\n",
      "   macro avg       0.95      0.95      0.95      3519\n",
      "weighted avg       0.95      0.95      0.95      3519\n",
      "\n",
      "Accuracy:  94.7996589940324\n"
     ]
    }
   ],
   "source": [
    "print(\"confusion matrix\\n\",confusion_matrix(testY,dt_ypred))\n",
    "print(\"\\nclassification report\\n\",classification_report(testY,dt_ypred))\n",
    "print(\"Accuracy: \",accuracy_score(testY,dt_ypred)*100)"
   ]
  },
  {
   "cell_type": "markdown",
   "id": "24a37b49",
   "metadata": {},
   "source": [
    "## RandomForestClassifier"
   ]
  },
  {
   "cell_type": "code",
   "execution_count": 64,
   "id": "591d36f8",
   "metadata": {},
   "outputs": [],
   "source": [
    "from sklearn.ensemble import RandomForestClassifier\n",
    "\n",
    "#rf_clf = RandomForestClassifier( random_state=0)\n",
    "\n",
    "\n",
    "rf_clf = Pipeline([\n",
    "  ('feature_selection', SelectFromModel(RandomForestClassifier(n_estimators=300))),\n",
    "  ('classification', LinearSVC(C=2.0, penalty=\"l1\",max_iter=5000, dual=False))\n",
    "])\n",
    "\n"
   ]
  },
  {
   "cell_type": "code",
   "execution_count": 65,
   "id": "b837f336",
   "metadata": {},
   "outputs": [
    {
     "name": "stderr",
     "output_type": "stream",
     "text": [
      "C:\\ProgramData\\Anaconda3\\lib\\site-packages\\sklearn\\svm\\_base.py:1242: ConvergenceWarning: Liblinear failed to converge, increase the number of iterations.\n",
      "  warnings.warn(\n"
     ]
    },
    {
     "data": {
      "text/html": [
       "<style>#sk-container-id-6 {color: black;}#sk-container-id-6 pre{padding: 0;}#sk-container-id-6 div.sk-toggleable {background-color: white;}#sk-container-id-6 label.sk-toggleable__label {cursor: pointer;display: block;width: 100%;margin-bottom: 0;padding: 0.3em;box-sizing: border-box;text-align: center;}#sk-container-id-6 label.sk-toggleable__label-arrow:before {content: \"▸\";float: left;margin-right: 0.25em;color: #696969;}#sk-container-id-6 label.sk-toggleable__label-arrow:hover:before {color: black;}#sk-container-id-6 div.sk-estimator:hover label.sk-toggleable__label-arrow:before {color: black;}#sk-container-id-6 div.sk-toggleable__content {max-height: 0;max-width: 0;overflow: hidden;text-align: left;background-color: #f0f8ff;}#sk-container-id-6 div.sk-toggleable__content pre {margin: 0.2em;color: black;border-radius: 0.25em;background-color: #f0f8ff;}#sk-container-id-6 input.sk-toggleable__control:checked~div.sk-toggleable__content {max-height: 200px;max-width: 100%;overflow: auto;}#sk-container-id-6 input.sk-toggleable__control:checked~label.sk-toggleable__label-arrow:before {content: \"▾\";}#sk-container-id-6 div.sk-estimator input.sk-toggleable__control:checked~label.sk-toggleable__label {background-color: #d4ebff;}#sk-container-id-6 div.sk-label input.sk-toggleable__control:checked~label.sk-toggleable__label {background-color: #d4ebff;}#sk-container-id-6 input.sk-hidden--visually {border: 0;clip: rect(1px 1px 1px 1px);clip: rect(1px, 1px, 1px, 1px);height: 1px;margin: -1px;overflow: hidden;padding: 0;position: absolute;width: 1px;}#sk-container-id-6 div.sk-estimator {font-family: monospace;background-color: #f0f8ff;border: 1px dotted black;border-radius: 0.25em;box-sizing: border-box;margin-bottom: 0.5em;}#sk-container-id-6 div.sk-estimator:hover {background-color: #d4ebff;}#sk-container-id-6 div.sk-parallel-item::after {content: \"\";width: 100%;border-bottom: 1px solid gray;flex-grow: 1;}#sk-container-id-6 div.sk-label:hover label.sk-toggleable__label {background-color: #d4ebff;}#sk-container-id-6 div.sk-serial::before {content: \"\";position: absolute;border-left: 1px solid gray;box-sizing: border-box;top: 0;bottom: 0;left: 50%;z-index: 0;}#sk-container-id-6 div.sk-serial {display: flex;flex-direction: column;align-items: center;background-color: white;padding-right: 0.2em;padding-left: 0.2em;position: relative;}#sk-container-id-6 div.sk-item {position: relative;z-index: 1;}#sk-container-id-6 div.sk-parallel {display: flex;align-items: stretch;justify-content: center;background-color: white;position: relative;}#sk-container-id-6 div.sk-item::before, #sk-container-id-6 div.sk-parallel-item::before {content: \"\";position: absolute;border-left: 1px solid gray;box-sizing: border-box;top: 0;bottom: 0;left: 50%;z-index: -1;}#sk-container-id-6 div.sk-parallel-item {display: flex;flex-direction: column;z-index: 1;position: relative;background-color: white;}#sk-container-id-6 div.sk-parallel-item:first-child::after {align-self: flex-end;width: 50%;}#sk-container-id-6 div.sk-parallel-item:last-child::after {align-self: flex-start;width: 50%;}#sk-container-id-6 div.sk-parallel-item:only-child::after {width: 0;}#sk-container-id-6 div.sk-dashed-wrapped {border: 1px dashed gray;margin: 0 0.4em 0.5em 0.4em;box-sizing: border-box;padding-bottom: 0.4em;background-color: white;}#sk-container-id-6 div.sk-label label {font-family: monospace;font-weight: bold;display: inline-block;line-height: 1.2em;}#sk-container-id-6 div.sk-label-container {text-align: center;}#sk-container-id-6 div.sk-container {/* jupyter's `normalize.less` sets `[hidden] { display: none; }` but bootstrap.min.css set `[hidden] { display: none !important; }` so we also need the `!important` here to be able to override the default hidden behavior on the sphinx rendered scikit-learn.org. See: https://github.com/scikit-learn/scikit-learn/issues/21755 */display: inline-block !important;position: relative;}#sk-container-id-6 div.sk-text-repr-fallback {display: none;}</style><div id=\"sk-container-id-6\" class=\"sk-top-container\"><div class=\"sk-text-repr-fallback\"><pre>Pipeline(steps=[(&#x27;feature_selection&#x27;,\n",
       "                 SelectFromModel(estimator=RandomForestClassifier(n_estimators=300))),\n",
       "                (&#x27;classification&#x27;,\n",
       "                 LinearSVC(C=2.0, dual=False, max_iter=5000, penalty=&#x27;l1&#x27;))])</pre><b>In a Jupyter environment, please rerun this cell to show the HTML representation or trust the notebook. <br />On GitHub, the HTML representation is unable to render, please try loading this page with nbviewer.org.</b></div><div class=\"sk-container\" hidden><div class=\"sk-item sk-dashed-wrapped\"><div class=\"sk-label-container\"><div class=\"sk-label sk-toggleable\"><input class=\"sk-toggleable__control sk-hidden--visually\" id=\"sk-estimator-id-26\" type=\"checkbox\" ><label for=\"sk-estimator-id-26\" class=\"sk-toggleable__label sk-toggleable__label-arrow\">Pipeline</label><div class=\"sk-toggleable__content\"><pre>Pipeline(steps=[(&#x27;feature_selection&#x27;,\n",
       "                 SelectFromModel(estimator=RandomForestClassifier(n_estimators=300))),\n",
       "                (&#x27;classification&#x27;,\n",
       "                 LinearSVC(C=2.0, dual=False, max_iter=5000, penalty=&#x27;l1&#x27;))])</pre></div></div></div><div class=\"sk-serial\"><div class=\"sk-item sk-dashed-wrapped\"><div class=\"sk-label-container\"><div class=\"sk-label sk-toggleable\"><input class=\"sk-toggleable__control sk-hidden--visually\" id=\"sk-estimator-id-27\" type=\"checkbox\" ><label for=\"sk-estimator-id-27\" class=\"sk-toggleable__label sk-toggleable__label-arrow\">feature_selection: SelectFromModel</label><div class=\"sk-toggleable__content\"><pre>SelectFromModel(estimator=RandomForestClassifier(n_estimators=300))</pre></div></div></div><div class=\"sk-parallel\"><div class=\"sk-parallel-item\"><div class=\"sk-item\"><div class=\"sk-label-container\"><div class=\"sk-label sk-toggleable\"><input class=\"sk-toggleable__control sk-hidden--visually\" id=\"sk-estimator-id-28\" type=\"checkbox\" ><label for=\"sk-estimator-id-28\" class=\"sk-toggleable__label sk-toggleable__label-arrow\">estimator: RandomForestClassifier</label><div class=\"sk-toggleable__content\"><pre>RandomForestClassifier(n_estimators=300)</pre></div></div></div><div class=\"sk-serial\"><div class=\"sk-item\"><div class=\"sk-estimator sk-toggleable\"><input class=\"sk-toggleable__control sk-hidden--visually\" id=\"sk-estimator-id-29\" type=\"checkbox\" ><label for=\"sk-estimator-id-29\" class=\"sk-toggleable__label sk-toggleable__label-arrow\">RandomForestClassifier</label><div class=\"sk-toggleable__content\"><pre>RandomForestClassifier(n_estimators=300)</pre></div></div></div></div></div></div></div></div><div class=\"sk-item\"><div class=\"sk-estimator sk-toggleable\"><input class=\"sk-toggleable__control sk-hidden--visually\" id=\"sk-estimator-id-30\" type=\"checkbox\" ><label for=\"sk-estimator-id-30\" class=\"sk-toggleable__label sk-toggleable__label-arrow\">LinearSVC</label><div class=\"sk-toggleable__content\"><pre>LinearSVC(C=2.0, dual=False, max_iter=5000, penalty=&#x27;l1&#x27;)</pre></div></div></div></div></div></div></div>"
      ],
      "text/plain": [
       "Pipeline(steps=[('feature_selection',\n",
       "                 SelectFromModel(estimator=RandomForestClassifier(n_estimators=300))),\n",
       "                ('classification',\n",
       "                 LinearSVC(C=2.0, dual=False, max_iter=5000, penalty='l1'))])"
      ]
     },
     "execution_count": 65,
     "metadata": {},
     "output_type": "execute_result"
    }
   ],
   "source": [
    "#start = time.time() \n",
    "\n",
    "rf_clf.fit(trainX,trainy)\n",
    "\n",
    "#stop = time.time()\n",
    "#print(f\"Training time: {stop - start}s\") "
   ]
  },
  {
   "cell_type": "code",
   "execution_count": 66,
   "id": "9a2fddee",
   "metadata": {},
   "outputs": [
    {
     "name": "stdout",
     "output_type": "stream",
     "text": [
      "Train Score:  0.9667945336849676\n"
     ]
    }
   ],
   "source": [
    "rf_score = rf_clf.score(trainX, trainy)\n",
    "print(\"Train Score: \", rf_score)"
   ]
  },
  {
   "cell_type": "code",
   "execution_count": 67,
   "id": "ef85f9c1",
   "metadata": {},
   "outputs": [
    {
     "name": "stderr",
     "output_type": "stream",
     "text": [
      "C:\\ProgramData\\Anaconda3\\lib\\site-packages\\sklearn\\svm\\_base.py:1242: ConvergenceWarning: Liblinear failed to converge, increase the number of iterations.\n",
      "  warnings.warn(\n",
      "C:\\ProgramData\\Anaconda3\\lib\\site-packages\\sklearn\\svm\\_base.py:1242: ConvergenceWarning: Liblinear failed to converge, increase the number of iterations.\n",
      "  warnings.warn(\n",
      "C:\\ProgramData\\Anaconda3\\lib\\site-packages\\sklearn\\svm\\_base.py:1242: ConvergenceWarning: Liblinear failed to converge, increase the number of iterations.\n",
      "  warnings.warn(\n",
      "C:\\ProgramData\\Anaconda3\\lib\\site-packages\\sklearn\\svm\\_base.py:1242: ConvergenceWarning: Liblinear failed to converge, increase the number of iterations.\n",
      "  warnings.warn(\n",
      "C:\\ProgramData\\Anaconda3\\lib\\site-packages\\sklearn\\svm\\_base.py:1242: ConvergenceWarning: Liblinear failed to converge, increase the number of iterations.\n",
      "  warnings.warn(\n",
      "C:\\ProgramData\\Anaconda3\\lib\\site-packages\\sklearn\\svm\\_base.py:1242: ConvergenceWarning: Liblinear failed to converge, increase the number of iterations.\n",
      "  warnings.warn(\n",
      "C:\\ProgramData\\Anaconda3\\lib\\site-packages\\sklearn\\svm\\_base.py:1242: ConvergenceWarning: Liblinear failed to converge, increase the number of iterations.\n",
      "  warnings.warn(\n",
      "C:\\ProgramData\\Anaconda3\\lib\\site-packages\\sklearn\\svm\\_base.py:1242: ConvergenceWarning: Liblinear failed to converge, increase the number of iterations.\n",
      "  warnings.warn(\n",
      "C:\\ProgramData\\Anaconda3\\lib\\site-packages\\sklearn\\svm\\_base.py:1242: ConvergenceWarning: Liblinear failed to converge, increase the number of iterations.\n",
      "  warnings.warn(\n"
     ]
    },
    {
     "name": "stdout",
     "output_type": "stream",
     "text": [
      "CV average score: 0.94\n"
     ]
    },
    {
     "name": "stderr",
     "output_type": "stream",
     "text": [
      "C:\\ProgramData\\Anaconda3\\lib\\site-packages\\sklearn\\svm\\_base.py:1242: ConvergenceWarning: Liblinear failed to converge, increase the number of iterations.\n",
      "  warnings.warn(\n"
     ]
    }
   ],
   "source": [
    "rf_cv_scores = cross_val_score(rf_clf, trainX, trainy, cv=10)\n",
    "print(\"CV average score: %.2f\" % rf_cv_scores.mean())"
   ]
  },
  {
   "cell_type": "code",
   "execution_count": 68,
   "id": "d52a8ab0",
   "metadata": {},
   "outputs": [
    {
     "name": "stdout",
     "output_type": "stream",
     "text": [
      "[[1811  110]\n",
      " [  82 1516]]\n"
     ]
    }
   ],
   "source": [
    "rf_ypred = rf_clf.predict(testX)\n",
    "\n",
    "rfcm = confusion_matrix(testY, rf_ypred)\n",
    "print(rfcm)"
   ]
  },
  {
   "cell_type": "code",
   "execution_count": 69,
   "id": "8e565ffc",
   "metadata": {},
   "outputs": [
    {
     "name": "stdout",
     "output_type": "stream",
     "text": [
      "DT test accuracy_score: 94.54390451832907\n"
     ]
    }
   ],
   "source": [
    "rf_accuracy_score = accuracy_score(testY,rf_clf.predict(testX))*100\n",
    "print(\"DT test accuracy_score:\", rf_accuracy_score)"
   ]
  },
  {
   "cell_type": "code",
   "execution_count": 70,
   "id": "497a7456",
   "metadata": {},
   "outputs": [
    {
     "data": {
      "text/plain": [
       "<sklearn.metrics._plot.roc_curve.RocCurveDisplay at 0x225354e8130>"
      ]
     },
     "execution_count": 70,
     "metadata": {},
     "output_type": "execute_result"
    },
    {
     "data": {
      "image/png": "[encoded data removed]",
      "text/plain": [
       "<Figure size 432x288 with 1 Axes>"
      ]
     },
     "metadata": {
      "needs_background": "light"
     },
     "output_type": "display_data"
    }
   ],
   "source": [
    "RocCurveDisplay.from_estimator(rf_clf,testX,testY)"
   ]
  },
  {
   "cell_type": "code",
   "execution_count": 71,
   "id": "85a7d353",
   "metadata": {},
   "outputs": [
    {
     "data": {
      "image/png": "[encoded data removed]",
      "text/plain": [
       "<Figure size 432x288 with 2 Axes>"
      ]
     },
     "metadata": {
      "needs_background": "light"
     },
     "output_type": "display_data"
    }
   ],
   "source": [
    "ConfusionMatrixDisplay.from_estimator(rf_clf, testX, testY)  \n",
    "plt.show() "
   ]
  },
  {
   "cell_type": "code",
   "execution_count": 72,
   "id": "16749c0f",
   "metadata": {},
   "outputs": [
    {
     "name": "stdout",
     "output_type": "stream",
     "text": [
      "confusion matrix\n",
      " [[1811  110]\n",
      " [  82 1516]]\n",
      "\n",
      "classification report\n",
      "               precision    recall  f1-score   support\n",
      "\n",
      "         0.0       0.96      0.94      0.95      1921\n",
      "         1.0       0.93      0.95      0.94      1598\n",
      "\n",
      "    accuracy                           0.95      3519\n",
      "   macro avg       0.94      0.95      0.95      3519\n",
      "weighted avg       0.95      0.95      0.95      3519\n",
      "\n",
      "Accuracy:  94.54390451832907\n"
     ]
    }
   ],
   "source": [
    "print(\"confusion matrix\\n\",confusion_matrix(testY,rf_ypred))\n",
    "print(\"\\nclassification report\\n\",classification_report(testY,rf_ypred))\n",
    "print(\"Accuracy: \",accuracy_score(testY,rf_ypred)*100)"
   ]
  },
  {
   "cell_type": "markdown",
   "id": "9e85f5d7",
   "metadata": {},
   "source": [
    "## AdaBoostClassifier"
   ]
  },
  {
   "cell_type": "code",
   "execution_count": 73,
   "id": "697676c5",
   "metadata": {},
   "outputs": [],
   "source": [
    "from sklearn.ensemble import AdaBoostClassifier\n",
    "\n",
    "#ada_clf = AdaBoostClassifier(n_estimators=100, random_state=0)\n",
    "\n",
    "\n",
    "ada_clf = Pipeline([\n",
    "  ('feature_selection', SelectFromModel(LinearSVC(C=2.0, penalty=\"l1\",max_iter=5000, dual=False))),\n",
    "  ('classification', AdaBoostClassifier(n_estimators=100, random_state=0))\n",
    "])"
   ]
  },
  {
   "cell_type": "code",
   "execution_count": 74,
   "id": "b791ce42",
   "metadata": {},
   "outputs": [
    {
     "name": "stderr",
     "output_type": "stream",
     "text": [
      "C:\\ProgramData\\Anaconda3\\lib\\site-packages\\sklearn\\svm\\_base.py:1242: ConvergenceWarning: Liblinear failed to converge, increase the number of iterations.\n",
      "  warnings.warn(\n"
     ]
    },
    {
     "data": {
      "text/html": [
       "<style>#sk-container-id-7 {color: black;}#sk-container-id-7 pre{padding: 0;}#sk-container-id-7 div.sk-toggleable {background-color: white;}#sk-container-id-7 label.sk-toggleable__label {cursor: pointer;display: block;width: 100%;margin-bottom: 0;padding: 0.3em;box-sizing: border-box;text-align: center;}#sk-container-id-7 label.sk-toggleable__label-arrow:before {content: \"▸\";float: left;margin-right: 0.25em;color: #696969;}#sk-container-id-7 label.sk-toggleable__label-arrow:hover:before {color: black;}#sk-container-id-7 div.sk-estimator:hover label.sk-toggleable__label-arrow:before {color: black;}#sk-container-id-7 div.sk-toggleable__content {max-height: 0;max-width: 0;overflow: hidden;text-align: left;background-color: #f0f8ff;}#sk-container-id-7 div.sk-toggleable__content pre {margin: 0.2em;color: black;border-radius: 0.25em;background-color: #f0f8ff;}#sk-container-id-7 input.sk-toggleable__control:checked~div.sk-toggleable__content {max-height: 200px;max-width: 100%;overflow: auto;}#sk-container-id-7 input.sk-toggleable__control:checked~label.sk-toggleable__label-arrow:before {content: \"▾\";}#sk-container-id-7 div.sk-estimator input.sk-toggleable__control:checked~label.sk-toggleable__label {background-color: #d4ebff;}#sk-container-id-7 div.sk-label input.sk-toggleable__control:checked~label.sk-toggleable__label {background-color: #d4ebff;}#sk-container-id-7 input.sk-hidden--visually {border: 0;clip: rect(1px 1px 1px 1px);clip: rect(1px, 1px, 1px, 1px);height: 1px;margin: -1px;overflow: hidden;padding: 0;position: absolute;width: 1px;}#sk-container-id-7 div.sk-estimator {font-family: monospace;background-color: #f0f8ff;border: 1px dotted black;border-radius: 0.25em;box-sizing: border-box;margin-bottom: 0.5em;}#sk-container-id-7 div.sk-estimator:hover {background-color: #d4ebff;}#sk-container-id-7 div.sk-parallel-item::after {content: \"\";width: 100%;border-bottom: 1px solid gray;flex-grow: 1;}#sk-container-id-7 div.sk-label:hover label.sk-toggleable__label {background-color: #d4ebff;}#sk-container-id-7 div.sk-serial::before {content: \"\";position: absolute;border-left: 1px solid gray;box-sizing: border-box;top: 0;bottom: 0;left: 50%;z-index: 0;}#sk-container-id-7 div.sk-serial {display: flex;flex-direction: column;align-items: center;background-color: white;padding-right: 0.2em;padding-left: 0.2em;position: relative;}#sk-container-id-7 div.sk-item {position: relative;z-index: 1;}#sk-container-id-7 div.sk-parallel {display: flex;align-items: stretch;justify-content: center;background-color: white;position: relative;}#sk-container-id-7 div.sk-item::before, #sk-container-id-7 div.sk-parallel-item::before {content: \"\";position: absolute;border-left: 1px solid gray;box-sizing: border-box;top: 0;bottom: 0;left: 50%;z-index: -1;}#sk-container-id-7 div.sk-parallel-item {display: flex;flex-direction: column;z-index: 1;position: relative;background-color: white;}#sk-container-id-7 div.sk-parallel-item:first-child::after {align-self: flex-end;width: 50%;}#sk-container-id-7 div.sk-parallel-item:last-child::after {align-self: flex-start;width: 50%;}#sk-container-id-7 div.sk-parallel-item:only-child::after {width: 0;}#sk-container-id-7 div.sk-dashed-wrapped {border: 1px dashed gray;margin: 0 0.4em 0.5em 0.4em;box-sizing: border-box;padding-bottom: 0.4em;background-color: white;}#sk-container-id-7 div.sk-label label {font-family: monospace;font-weight: bold;display: inline-block;line-height: 1.2em;}#sk-container-id-7 div.sk-label-container {text-align: center;}#sk-container-id-7 div.sk-container {/* jupyter's `normalize.less` sets `[hidden] { display: none; }` but bootstrap.min.css set `[hidden] { display: none !important; }` so we also need the `!important` here to be able to override the default hidden behavior on the sphinx rendered scikit-learn.org. See: https://github.com/scikit-learn/scikit-learn/issues/21755 */display: inline-block !important;position: relative;}#sk-container-id-7 div.sk-text-repr-fallback {display: none;}</style><div id=\"sk-container-id-7\" class=\"sk-top-container\"><div class=\"sk-text-repr-fallback\"><pre>Pipeline(steps=[(&#x27;feature_selection&#x27;,\n",
       "                 SelectFromModel(estimator=LinearSVC(C=2.0, dual=False,\n",
       "                                                     max_iter=5000,\n",
       "                                                     penalty=&#x27;l1&#x27;))),\n",
       "                (&#x27;classification&#x27;,\n",
       "                 AdaBoostClassifier(n_estimators=100, random_state=0))])</pre><b>In a Jupyter environment, please rerun this cell to show the HTML representation or trust the notebook. <br />On GitHub, the HTML representation is unable to render, please try loading this page with nbviewer.org.</b></div><div class=\"sk-container\" hidden><div class=\"sk-item sk-dashed-wrapped\"><div class=\"sk-label-container\"><div class=\"sk-label sk-toggleable\"><input class=\"sk-toggleable__control sk-hidden--visually\" id=\"sk-estimator-id-31\" type=\"checkbox\" ><label for=\"sk-estimator-id-31\" class=\"sk-toggleable__label sk-toggleable__label-arrow\">Pipeline</label><div class=\"sk-toggleable__content\"><pre>Pipeline(steps=[(&#x27;feature_selection&#x27;,\n",
       "                 SelectFromModel(estimator=LinearSVC(C=2.0, dual=False,\n",
       "                                                     max_iter=5000,\n",
       "                                                     penalty=&#x27;l1&#x27;))),\n",
       "                (&#x27;classification&#x27;,\n",
       "                 AdaBoostClassifier(n_estimators=100, random_state=0))])</pre></div></div></div><div class=\"sk-serial\"><div class=\"sk-item sk-dashed-wrapped\"><div class=\"sk-label-container\"><div class=\"sk-label sk-toggleable\"><input class=\"sk-toggleable__control sk-hidden--visually\" id=\"sk-estimator-id-32\" type=\"checkbox\" ><label for=\"sk-estimator-id-32\" class=\"sk-toggleable__label sk-toggleable__label-arrow\">feature_selection: SelectFromModel</label><div class=\"sk-toggleable__content\"><pre>SelectFromModel(estimator=LinearSVC(C=2.0, dual=False, max_iter=5000,\n",
       "                                    penalty=&#x27;l1&#x27;))</pre></div></div></div><div class=\"sk-parallel\"><div class=\"sk-parallel-item\"><div class=\"sk-item\"><div class=\"sk-label-container\"><div class=\"sk-label sk-toggleable\"><input class=\"sk-toggleable__control sk-hidden--visually\" id=\"sk-estimator-id-33\" type=\"checkbox\" ><label for=\"sk-estimator-id-33\" class=\"sk-toggleable__label sk-toggleable__label-arrow\">estimator: LinearSVC</label><div class=\"sk-toggleable__content\"><pre>LinearSVC(C=2.0, dual=False, max_iter=5000, penalty=&#x27;l1&#x27;)</pre></div></div></div><div class=\"sk-serial\"><div class=\"sk-item\"><div class=\"sk-estimator sk-toggleable\"><input class=\"sk-toggleable__control sk-hidden--visually\" id=\"sk-estimator-id-34\" type=\"checkbox\" ><label for=\"sk-estimator-id-34\" class=\"sk-toggleable__label sk-toggleable__label-arrow\">LinearSVC</label><div class=\"sk-toggleable__content\"><pre>LinearSVC(C=2.0, dual=False, max_iter=5000, penalty=&#x27;l1&#x27;)</pre></div></div></div></div></div></div></div></div><div class=\"sk-item\"><div class=\"sk-estimator sk-toggleable\"><input class=\"sk-toggleable__control sk-hidden--visually\" id=\"sk-estimator-id-35\" type=\"checkbox\" ><label for=\"sk-estimator-id-35\" class=\"sk-toggleable__label sk-toggleable__label-arrow\">AdaBoostClassifier</label><div class=\"sk-toggleable__content\"><pre>AdaBoostClassifier(n_estimators=100, random_state=0)</pre></div></div></div></div></div></div></div>"
      ],
      "text/plain": [
       "Pipeline(steps=[('feature_selection',\n",
       "                 SelectFromModel(estimator=LinearSVC(C=2.0, dual=False,\n",
       "                                                     max_iter=5000,\n",
       "                                                     penalty='l1'))),\n",
       "                ('classification',\n",
       "                 AdaBoostClassifier(n_estimators=100, random_state=0))])"
      ]
     },
     "execution_count": 74,
     "metadata": {},
     "output_type": "execute_result"
    }
   ],
   "source": [
    "ada_clf.fit(trainX,trainy)"
   ]
  },
  {
   "cell_type": "code",
   "execution_count": 75,
   "id": "c1fc77e6",
   "metadata": {},
   "outputs": [
    {
     "name": "stdout",
     "output_type": "stream",
     "text": [
      "Train Score:  0.9751858067609686\n"
     ]
    }
   ],
   "source": [
    "ada_score = ada_clf.score(trainX, trainy)\n",
    "print(\"Train Score: \", ada_score)"
   ]
  },
  {
   "cell_type": "code",
   "execution_count": 76,
   "id": "169045c6",
   "metadata": {},
   "outputs": [
    {
     "name": "stderr",
     "output_type": "stream",
     "text": [
      "C:\\ProgramData\\Anaconda3\\lib\\site-packages\\sklearn\\svm\\_base.py:1242: ConvergenceWarning: Liblinear failed to converge, increase the number of iterations.\n",
      "  warnings.warn(\n",
      "C:\\ProgramData\\Anaconda3\\lib\\site-packages\\sklearn\\svm\\_base.py:1242: ConvergenceWarning: Liblinear failed to converge, increase the number of iterations.\n",
      "  warnings.warn(\n",
      "C:\\ProgramData\\Anaconda3\\lib\\site-packages\\sklearn\\svm\\_base.py:1242: ConvergenceWarning: Liblinear failed to converge, increase the number of iterations.\n",
      "  warnings.warn(\n",
      "C:\\ProgramData\\Anaconda3\\lib\\site-packages\\sklearn\\svm\\_base.py:1242: ConvergenceWarning: Liblinear failed to converge, increase the number of iterations.\n",
      "  warnings.warn(\n",
      "C:\\ProgramData\\Anaconda3\\lib\\site-packages\\sklearn\\svm\\_base.py:1242: ConvergenceWarning: Liblinear failed to converge, increase the number of iterations.\n",
      "  warnings.warn(\n",
      "C:\\ProgramData\\Anaconda3\\lib\\site-packages\\sklearn\\svm\\_base.py:1242: ConvergenceWarning: Liblinear failed to converge, increase the number of iterations.\n",
      "  warnings.warn(\n",
      "C:\\ProgramData\\Anaconda3\\lib\\site-packages\\sklearn\\svm\\_base.py:1242: ConvergenceWarning: Liblinear failed to converge, increase the number of iterations.\n",
      "  warnings.warn(\n",
      "C:\\ProgramData\\Anaconda3\\lib\\site-packages\\sklearn\\svm\\_base.py:1242: ConvergenceWarning: Liblinear failed to converge, increase the number of iterations.\n",
      "  warnings.warn(\n",
      "C:\\ProgramData\\Anaconda3\\lib\\site-packages\\sklearn\\svm\\_base.py:1242: ConvergenceWarning: Liblinear failed to converge, increase the number of iterations.\n",
      "  warnings.warn(\n"
     ]
    },
    {
     "name": "stdout",
     "output_type": "stream",
     "text": [
      "CV average score: 0.92\n"
     ]
    }
   ],
   "source": [
    "ada_cv_scores = cross_val_score(ada_clf, trainX, trainy, cv=10)\n",
    "print(\"CV average score: %.2f\" % ada_cv_scores.mean())"
   ]
  },
  {
   "cell_type": "code",
   "execution_count": 77,
   "id": "36793151",
   "metadata": {},
   "outputs": [
    {
     "name": "stdout",
     "output_type": "stream",
     "text": [
      "[[1773  148]\n",
      " [  73 1525]]\n"
     ]
    }
   ],
   "source": [
    "ada_ypred = ada_clf.predict(testX)\n",
    "\n",
    "adacm = confusion_matrix(testY, ada_ypred)\n",
    "print(adacm)"
   ]
  },
  {
   "cell_type": "code",
   "execution_count": 78,
   "id": "043497c8",
   "metadata": {},
   "outputs": [
    {
     "name": "stdout",
     "output_type": "stream",
     "text": [
      "ADABoosting test accuracy_score: 93.71980676328504\n"
     ]
    }
   ],
   "source": [
    "ada_accuracy_score = accuracy_score(testY,ada_clf.predict(testX))*100\n",
    "print(\"ADABoosting test accuracy_score:\", ada_accuracy_score)"
   ]
  },
  {
   "cell_type": "code",
   "execution_count": 79,
   "id": "ddcde92e",
   "metadata": {},
   "outputs": [
    {
     "data": {
      "text/plain": [
       "<sklearn.metrics._plot.roc_curve.RocCurveDisplay at 0x22535693ee0>"
      ]
     },
     "execution_count": 79,
     "metadata": {},
     "output_type": "execute_result"
    },
    {
     "data": {
      "image/png": "[encoded data removed]",
      "text/plain": [
       "<Figure size 432x288 with 1 Axes>"
      ]
     },
     "metadata": {
      "needs_background": "light"
     },
     "output_type": "display_data"
    }
   ],
   "source": [
    "RocCurveDisplay.from_estimator(ada_clf,testX,testY)"
   ]
  },
  {
   "cell_type": "code",
   "execution_count": 80,
   "id": "b9725153",
   "metadata": {},
   "outputs": [
    {
     "data": {
      "image/png": "[encoded data removed]",
      "text/plain": [
       "<Figure size 432x288 with 2 Axes>"
      ]
     },
     "metadata": {
      "needs_background": "light"
     },
     "output_type": "display_data"
    }
   ],
   "source": [
    " \n",
    "ConfusionMatrixDisplay.from_estimator(ada_clf, testX, testY)  \n",
    "plt.show() "
   ]
  },
  {
   "cell_type": "code",
   "execution_count": 81,
   "id": "29ce0fb4",
   "metadata": {},
   "outputs": [
    {
     "name": "stdout",
     "output_type": "stream",
     "text": [
      "confusion matrix\n",
      " [[1773  148]\n",
      " [  73 1525]]\n",
      "\n",
      "classification report\n",
      "               precision    recall  f1-score   support\n",
      "\n",
      "         0.0       0.96      0.92      0.94      1921\n",
      "         1.0       0.91      0.95      0.93      1598\n",
      "\n",
      "    accuracy                           0.94      3519\n",
      "   macro avg       0.94      0.94      0.94      3519\n",
      "weighted avg       0.94      0.94      0.94      3519\n",
      "\n",
      "Accuracy:  93.71980676328504\n"
     ]
    }
   ],
   "source": [
    "print(\"confusion matrix\\n\",confusion_matrix(testY,ada_ypred))\n",
    "print(\"\\nclassification report\\n\",classification_report(testY,ada_ypred))\n",
    "print(\"Accuracy: \",accuracy_score(testY,ada_ypred)*100)"
   ]
  },
  {
   "cell_type": "markdown",
   "id": "fb088786",
   "metadata": {},
   "source": [
    "## GradientBoostingClassifier"
   ]
  },
  {
   "cell_type": "code",
   "execution_count": 82,
   "id": "c3b502c8",
   "metadata": {},
   "outputs": [],
   "source": [
    "from sklearn.ensemble import GradientBoostingClassifier \n",
    "\n",
    "#gb_clf = GradientBoostingClassifier(n_estimators=100, learning_rate=1.0,max_depth=1, random_state=0)\n",
    "\n",
    "\n",
    "gb_clf = Pipeline([\n",
    "  ('feature_selection', SelectFromModel(LinearSVC(C=2.0, penalty=\"l1\",max_iter=5000, dual=False))),\n",
    "  ('classification',GradientBoostingClassifier(n_estimators=100, learning_rate=1.0,max_depth=1, random_state=0))\n",
    "])"
   ]
  },
  {
   "cell_type": "code",
   "execution_count": 83,
   "id": "d3fb032d",
   "metadata": {},
   "outputs": [
    {
     "name": "stderr",
     "output_type": "stream",
     "text": [
      "C:\\ProgramData\\Anaconda3\\lib\\site-packages\\sklearn\\svm\\_base.py:1242: ConvergenceWarning: Liblinear failed to converge, increase the number of iterations.\n",
      "  warnings.warn(\n"
     ]
    },
    {
     "data": {
      "text/html": [
       "<style>#sk-container-id-8 {color: black;}#sk-container-id-8 pre{padding: 0;}#sk-container-id-8 div.sk-toggleable {background-color: white;}#sk-container-id-8 label.sk-toggleable__label {cursor: pointer;display: block;width: 100%;margin-bottom: 0;padding: 0.3em;box-sizing: border-box;text-align: center;}#sk-container-id-8 label.sk-toggleable__label-arrow:before {content: \"▸\";float: left;margin-right: 0.25em;color: #696969;}#sk-container-id-8 label.sk-toggleable__label-arrow:hover:before {color: black;}#sk-container-id-8 div.sk-estimator:hover label.sk-toggleable__label-arrow:before {color: black;}#sk-container-id-8 div.sk-toggleable__content {max-height: 0;max-width: 0;overflow: hidden;text-align: left;background-color: #f0f8ff;}#sk-container-id-8 div.sk-toggleable__content pre {margin: 0.2em;color: black;border-radius: 0.25em;background-color: #f0f8ff;}#sk-container-id-8 input.sk-toggleable__control:checked~div.sk-toggleable__content {max-height: 200px;max-width: 100%;overflow: auto;}#sk-container-id-8 input.sk-toggleable__control:checked~label.sk-toggleable__label-arrow:before {content: \"▾\";}#sk-container-id-8 div.sk-estimator input.sk-toggleable__control:checked~label.sk-toggleable__label {background-color: #d4ebff;}#sk-container-id-8 div.sk-label input.sk-toggleable__control:checked~label.sk-toggleable__label {background-color: #d4ebff;}#sk-container-id-8 input.sk-hidden--visually {border: 0;clip: rect(1px 1px 1px 1px);clip: rect(1px, 1px, 1px, 1px);height: 1px;margin: -1px;overflow: hidden;padding: 0;position: absolute;width: 1px;}#sk-container-id-8 div.sk-estimator {font-family: monospace;background-color: #f0f8ff;border: 1px dotted black;border-radius: 0.25em;box-sizing: border-box;margin-bottom: 0.5em;}#sk-container-id-8 div.sk-estimator:hover {background-color: #d4ebff;}#sk-container-id-8 div.sk-parallel-item::after {content: \"\";width: 100%;border-bottom: 1px solid gray;flex-grow: 1;}#sk-container-id-8 div.sk-label:hover label.sk-toggleable__label {background-color: #d4ebff;}#sk-container-id-8 div.sk-serial::before {content: \"\";position: absolute;border-left: 1px solid gray;box-sizing: border-box;top: 0;bottom: 0;left: 50%;z-index: 0;}#sk-container-id-8 div.sk-serial {display: flex;flex-direction: column;align-items: center;background-color: white;padding-right: 0.2em;padding-left: 0.2em;position: relative;}#sk-container-id-8 div.sk-item {position: relative;z-index: 1;}#sk-container-id-8 div.sk-parallel {display: flex;align-items: stretch;justify-content: center;background-color: white;position: relative;}#sk-container-id-8 div.sk-item::before, #sk-container-id-8 div.sk-parallel-item::before {content: \"\";position: absolute;border-left: 1px solid gray;box-sizing: border-box;top: 0;bottom: 0;left: 50%;z-index: -1;}#sk-container-id-8 div.sk-parallel-item {display: flex;flex-direction: column;z-index: 1;position: relative;background-color: white;}#sk-container-id-8 div.sk-parallel-item:first-child::after {align-self: flex-end;width: 50%;}#sk-container-id-8 div.sk-parallel-item:last-child::after {align-self: flex-start;width: 50%;}#sk-container-id-8 div.sk-parallel-item:only-child::after {width: 0;}#sk-container-id-8 div.sk-dashed-wrapped {border: 1px dashed gray;margin: 0 0.4em 0.5em 0.4em;box-sizing: border-box;padding-bottom: 0.4em;background-color: white;}#sk-container-id-8 div.sk-label label {font-family: monospace;font-weight: bold;display: inline-block;line-height: 1.2em;}#sk-container-id-8 div.sk-label-container {text-align: center;}#sk-container-id-8 div.sk-container {/* jupyter's `normalize.less` sets `[hidden] { display: none; }` but bootstrap.min.css set `[hidden] { display: none !important; }` so we also need the `!important` here to be able to override the default hidden behavior on the sphinx rendered scikit-learn.org. See: https://github.com/scikit-learn/scikit-learn/issues/21755 */display: inline-block !important;position: relative;}#sk-container-id-8 div.sk-text-repr-fallback {display: none;}</style><div id=\"sk-container-id-8\" class=\"sk-top-container\"><div class=\"sk-text-repr-fallback\"><pre>Pipeline(steps=[(&#x27;feature_selection&#x27;,\n",
       "                 SelectFromModel(estimator=LinearSVC(C=2.0, dual=False,\n",
       "                                                     max_iter=5000,\n",
       "                                                     penalty=&#x27;l1&#x27;))),\n",
       "                (&#x27;classification&#x27;,\n",
       "                 GradientBoostingClassifier(learning_rate=1.0, max_depth=1,\n",
       "                                            random_state=0))])</pre><b>In a Jupyter environment, please rerun this cell to show the HTML representation or trust the notebook. <br />On GitHub, the HTML representation is unable to render, please try loading this page with nbviewer.org.</b></div><div class=\"sk-container\" hidden><div class=\"sk-item sk-dashed-wrapped\"><div class=\"sk-label-container\"><div class=\"sk-label sk-toggleable\"><input class=\"sk-toggleable__control sk-hidden--visually\" id=\"sk-estimator-id-36\" type=\"checkbox\" ><label for=\"sk-estimator-id-36\" class=\"sk-toggleable__label sk-toggleable__label-arrow\">Pipeline</label><div class=\"sk-toggleable__content\"><pre>Pipeline(steps=[(&#x27;feature_selection&#x27;,\n",
       "                 SelectFromModel(estimator=LinearSVC(C=2.0, dual=False,\n",
       "                                                     max_iter=5000,\n",
       "                                                     penalty=&#x27;l1&#x27;))),\n",
       "                (&#x27;classification&#x27;,\n",
       "                 GradientBoostingClassifier(learning_rate=1.0, max_depth=1,\n",
       "                                            random_state=0))])</pre></div></div></div><div class=\"sk-serial\"><div class=\"sk-item sk-dashed-wrapped\"><div class=\"sk-label-container\"><div class=\"sk-label sk-toggleable\"><input class=\"sk-toggleable__control sk-hidden--visually\" id=\"sk-estimator-id-37\" type=\"checkbox\" ><label for=\"sk-estimator-id-37\" class=\"sk-toggleable__label sk-toggleable__label-arrow\">feature_selection: SelectFromModel</label><div class=\"sk-toggleable__content\"><pre>SelectFromModel(estimator=LinearSVC(C=2.0, dual=False, max_iter=5000,\n",
       "                                    penalty=&#x27;l1&#x27;))</pre></div></div></div><div class=\"sk-parallel\"><div class=\"sk-parallel-item\"><div class=\"sk-item\"><div class=\"sk-label-container\"><div class=\"sk-label sk-toggleable\"><input class=\"sk-toggleable__control sk-hidden--visually\" id=\"sk-estimator-id-38\" type=\"checkbox\" ><label for=\"sk-estimator-id-38\" class=\"sk-toggleable__label sk-toggleable__label-arrow\">estimator: LinearSVC</label><div class=\"sk-toggleable__content\"><pre>LinearSVC(C=2.0, dual=False, max_iter=5000, penalty=&#x27;l1&#x27;)</pre></div></div></div><div class=\"sk-serial\"><div class=\"sk-item\"><div class=\"sk-estimator sk-toggleable\"><input class=\"sk-toggleable__control sk-hidden--visually\" id=\"sk-estimator-id-39\" type=\"checkbox\" ><label for=\"sk-estimator-id-39\" class=\"sk-toggleable__label sk-toggleable__label-arrow\">LinearSVC</label><div class=\"sk-toggleable__content\"><pre>LinearSVC(C=2.0, dual=False, max_iter=5000, penalty=&#x27;l1&#x27;)</pre></div></div></div></div></div></div></div></div><div class=\"sk-item\"><div class=\"sk-estimator sk-toggleable\"><input class=\"sk-toggleable__control sk-hidden--visually\" id=\"sk-estimator-id-40\" type=\"checkbox\" ><label for=\"sk-estimator-id-40\" class=\"sk-toggleable__label sk-toggleable__label-arrow\">GradientBoostingClassifier</label><div class=\"sk-toggleable__content\"><pre>GradientBoostingClassifier(learning_rate=1.0, max_depth=1, random_state=0)</pre></div></div></div></div></div></div></div>"
      ],
      "text/plain": [
       "Pipeline(steps=[('feature_selection',\n",
       "                 SelectFromModel(estimator=LinearSVC(C=2.0, dual=False,\n",
       "                                                     max_iter=5000,\n",
       "                                                     penalty='l1'))),\n",
       "                ('classification',\n",
       "                 GradientBoostingClassifier(learning_rate=1.0, max_depth=1,\n",
       "                                            random_state=0))])"
      ]
     },
     "execution_count": 83,
     "metadata": {},
     "output_type": "execute_result"
    }
   ],
   "source": [
    "gb_clf.fit(trainX, trainy)"
   ]
  },
  {
   "cell_type": "code",
   "execution_count": 84,
   "id": "c6d3d1ac",
   "metadata": {},
   "outputs": [
    {
     "name": "stdout",
     "output_type": "stream",
     "text": [
      "Train Score:  0.9757851834092544\n"
     ]
    }
   ],
   "source": [
    "gb_score = gb_clf.score(trainX, trainy)\n",
    "print(\"Train Score: \", gb_score)"
   ]
  },
  {
   "cell_type": "code",
   "execution_count": 85,
   "id": "a1da615c",
   "metadata": {},
   "outputs": [
    {
     "name": "stderr",
     "output_type": "stream",
     "text": [
      "C:\\ProgramData\\Anaconda3\\lib\\site-packages\\sklearn\\svm\\_base.py:1242: ConvergenceWarning: Liblinear failed to converge, increase the number of iterations.\n",
      "  warnings.warn(\n",
      "C:\\ProgramData\\Anaconda3\\lib\\site-packages\\sklearn\\svm\\_base.py:1242: ConvergenceWarning: Liblinear failed to converge, increase the number of iterations.\n",
      "  warnings.warn(\n",
      "C:\\ProgramData\\Anaconda3\\lib\\site-packages\\sklearn\\svm\\_base.py:1242: ConvergenceWarning: Liblinear failed to converge, increase the number of iterations.\n",
      "  warnings.warn(\n",
      "C:\\ProgramData\\Anaconda3\\lib\\site-packages\\sklearn\\svm\\_base.py:1242: ConvergenceWarning: Liblinear failed to converge, increase the number of iterations.\n",
      "  warnings.warn(\n",
      "C:\\ProgramData\\Anaconda3\\lib\\site-packages\\sklearn\\svm\\_base.py:1242: ConvergenceWarning: Liblinear failed to converge, increase the number of iterations.\n",
      "  warnings.warn(\n",
      "C:\\ProgramData\\Anaconda3\\lib\\site-packages\\sklearn\\svm\\_base.py:1242: ConvergenceWarning: Liblinear failed to converge, increase the number of iterations.\n",
      "  warnings.warn(\n",
      "C:\\ProgramData\\Anaconda3\\lib\\site-packages\\sklearn\\svm\\_base.py:1242: ConvergenceWarning: Liblinear failed to converge, increase the number of iterations.\n",
      "  warnings.warn(\n",
      "C:\\ProgramData\\Anaconda3\\lib\\site-packages\\sklearn\\svm\\_base.py:1242: ConvergenceWarning: Liblinear failed to converge, increase the number of iterations.\n",
      "  warnings.warn(\n",
      "C:\\ProgramData\\Anaconda3\\lib\\site-packages\\sklearn\\svm\\_base.py:1242: ConvergenceWarning: Liblinear failed to converge, increase the number of iterations.\n",
      "  warnings.warn(\n"
     ]
    },
    {
     "name": "stdout",
     "output_type": "stream",
     "text": [
      "CV average score: 0.94\n"
     ]
    }
   ],
   "source": [
    "gb_cv_scores = cross_val_score(gb_clf, trainX, trainy, cv=10)\n",
    "print(\"CV average score: %.2f\" % gb_cv_scores.mean())"
   ]
  },
  {
   "cell_type": "code",
   "execution_count": 86,
   "id": "5950b4b0",
   "metadata": {},
   "outputs": [
    {
     "name": "stdout",
     "output_type": "stream",
     "text": [
      "[[1801  120]\n",
      " [  64 1534]]\n"
     ]
    }
   ],
   "source": [
    "gb_ypred = gb_clf.predict(testX)\n",
    "\n",
    "gbcm = confusion_matrix(testY, gb_ypred)\n",
    "print(gbcm)"
   ]
  },
  {
   "cell_type": "code",
   "execution_count": 87,
   "id": "9169e33a",
   "metadata": {},
   "outputs": [
    {
     "name": "stdout",
     "output_type": "stream",
     "text": [
      "GBBoosting test accuracy_score: 94.77124183006535\n"
     ]
    }
   ],
   "source": [
    "gb_accuracy_score = accuracy_score(testY,gb_clf.predict(testX))*100\n",
    "print(\"GBBoosting test accuracy_score:\", gb_accuracy_score)"
   ]
  },
  {
   "cell_type": "code",
   "execution_count": 88,
   "id": "fe41acbb",
   "metadata": {},
   "outputs": [
    {
     "data": {
      "text/plain": [
       "<sklearn.metrics._plot.roc_curve.RocCurveDisplay at 0x22535310790>"
      ]
     },
     "execution_count": 88,
     "metadata": {},
     "output_type": "execute_result"
    },
    {
     "data": {
      "image/png": "[encoded data removed]",
      "text/plain": [
       "<Figure size 432x288 with 1 Axes>"
      ]
     },
     "metadata": {
      "needs_background": "light"
     },
     "output_type": "display_data"
    }
   ],
   "source": [
    "RocCurveDisplay.from_estimator(gb_clf,testX,testY)"
   ]
  },
  {
   "cell_type": "code",
   "execution_count": 89,
   "id": "e4ce8276",
   "metadata": {},
   "outputs": [
    {
     "data": {
      "image/png": "[encoded data removed]",
      "text/plain": [
       "<Figure size 432x288 with 2 Axes>"
      ]
     },
     "metadata": {
      "needs_background": "light"
     },
     "output_type": "display_data"
    }
   ],
   "source": [
    "ConfusionMatrixDisplay.from_estimator(gb_clf, testX, testY)  \n",
    "plt.show() "
   ]
  },
  {
   "cell_type": "code",
   "execution_count": 90,
   "id": "8079e8da",
   "metadata": {},
   "outputs": [
    {
     "name": "stdout",
     "output_type": "stream",
     "text": [
      "confusion matrix\n",
      " [[1801  120]\n",
      " [  64 1534]]\n",
      "\n",
      "classification report\n",
      "               precision    recall  f1-score   support\n",
      "\n",
      "         0.0       0.97      0.94      0.95      1921\n",
      "         1.0       0.93      0.96      0.94      1598\n",
      "\n",
      "    accuracy                           0.95      3519\n",
      "   macro avg       0.95      0.95      0.95      3519\n",
      "weighted avg       0.95      0.95      0.95      3519\n",
      "\n",
      "Accuracy:  94.77124183006535\n"
     ]
    }
   ],
   "source": [
    "print(\"confusion matrix\\n\",confusion_matrix(testY,gb_ypred))\n",
    "print(\"\\nclassification report\\n\",classification_report(testY,gb_ypred))\n",
    "print(\"Accuracy: \",accuracy_score(testY,gb_ypred)*100)"
   ]
  },
  {
   "cell_type": "code",
   "execution_count": null,
   "id": "aae9fe24",
   "metadata": {},
   "outputs": [],
   "source": []
  },
  {
   "cell_type": "code",
   "execution_count": null,
   "id": "f8ada765",
   "metadata": {},
   "outputs": [],
   "source": []
  },
  {
   "cell_type": "markdown",
   "id": "c75f0632",
   "metadata": {},
   "source": [
    "# TRAINING AND TESTING THE NEURAL NETWORK"
   ]
  },
  {
   "cell_type": "markdown",
   "id": "1f439083",
   "metadata": {},
   "source": [
    "## Multi-layer Perceptron classifier (MLP classifier)"
   ]
  },
  {
   "cell_type": "code",
   "execution_count": 91,
   "id": "d3a9e972",
   "metadata": {},
   "outputs": [],
   "source": [
    "\n",
    "#tuple representing number of neurons in intermediate layers\n",
    "nhiddentple=(256,128,64,32)\n",
    "\n",
    "#   XX is the regularization parameter\n",
    "XX = 1.e-4\n",
    "\n",
    "# seed for random number generator\n",
    "iseed = 1234\n",
    "\n",
    "#the number of layers is set with hidden_layer_sizes\n",
    "#create the multilayer perceptron object\n",
    "#MLP_clf = MLPClassifier(hidden_layer_sizes=nhiddentple,activation='relu', solver='adam', early_stopping=True,\n",
    "#random_state=iseed, batch_size=64, max_iter=2000, validation_fraction=0.1, tol=1.e-6, verbose=True)\n",
    "\n",
    "\n",
    "MLP_clf = Pipeline([\n",
    "  ('feature_selection', SelectFromModel(LinearSVC(C=2.0, penalty=\"l1\",max_iter=5000, dual=False))),\n",
    "  ('classification', MLPClassifier(hidden_layer_sizes=nhiddentple,activation='relu', solver='adam', early_stopping=True, \n",
    "                                   random_state=iseed, batch_size=64, max_iter=2000, validation_fraction=0.1, tol=1.e-6, verbose=True))\n",
    "])\n"
   ]
  },
  {
   "cell_type": "code",
   "execution_count": 92,
   "id": "c68e05ac",
   "metadata": {},
   "outputs": [
    {
     "name": "stderr",
     "output_type": "stream",
     "text": [
      "C:\\ProgramData\\Anaconda3\\lib\\site-packages\\sklearn\\svm\\_base.py:1242: ConvergenceWarning: Liblinear failed to converge, increase the number of iterations.\n",
      "  warnings.warn(\n"
     ]
    },
    {
     "name": "stdout",
     "output_type": "stream",
     "text": [
      "Iteration 1, loss = 0.22373484\n",
      "Validation score: 0.931737\n",
      "Iteration 2, loss = 0.11046204\n",
      "Validation score: 0.928144\n",
      "Iteration 3, loss = 0.10734855\n",
      "Validation score: 0.934132\n",
      "Iteration 4, loss = 0.10099555\n",
      "Validation score: 0.947305\n",
      "Iteration 5, loss = 0.09351635\n",
      "Validation score: 0.938922\n",
      "Iteration 6, loss = 0.09168627\n",
      "Validation score: 0.941317\n",
      "Iteration 7, loss = 0.08583522\n",
      "Validation score: 0.936527\n",
      "Iteration 8, loss = 0.09358032\n",
      "Validation score: 0.936527\n",
      "Iteration 9, loss = 0.08738829\n",
      "Validation score: 0.934132\n",
      "Iteration 10, loss = 0.08801733\n",
      "Validation score: 0.936527\n",
      "Iteration 11, loss = 0.08385183\n",
      "Validation score: 0.947305\n",
      "Iteration 12, loss = 0.08381196\n",
      "Validation score: 0.942515\n",
      "Iteration 13, loss = 0.08286047\n",
      "Validation score: 0.946108\n",
      "Iteration 14, loss = 0.07892630\n",
      "Validation score: 0.944910\n",
      "Iteration 15, loss = 0.07558327\n",
      "Validation score: 0.943713\n",
      "Validation score did not improve more than tol=0.000001 for 10 consecutive epochs. Stopping.\n"
     ]
    },
    {
     "data": {
      "text/html": [
       "<style>#sk-container-id-9 {color: black;}#sk-container-id-9 pre{padding: 0;}#sk-container-id-9 div.sk-toggleable {background-color: white;}#sk-container-id-9 label.sk-toggleable__label {cursor: pointer;display: block;width: 100%;margin-bottom: 0;padding: 0.3em;box-sizing: border-box;text-align: center;}#sk-container-id-9 label.sk-toggleable__label-arrow:before {content: \"▸\";float: left;margin-right: 0.25em;color: #696969;}#sk-container-id-9 label.sk-toggleable__label-arrow:hover:before {color: black;}#sk-container-id-9 div.sk-estimator:hover label.sk-toggleable__label-arrow:before {color: black;}#sk-container-id-9 div.sk-toggleable__content {max-height: 0;max-width: 0;overflow: hidden;text-align: left;background-color: #f0f8ff;}#sk-container-id-9 div.sk-toggleable__content pre {margin: 0.2em;color: black;border-radius: 0.25em;background-color: #f0f8ff;}#sk-container-id-9 input.sk-toggleable__control:checked~div.sk-toggleable__content {max-height: 200px;max-width: 100%;overflow: auto;}#sk-container-id-9 input.sk-toggleable__control:checked~label.sk-toggleable__label-arrow:before {content: \"▾\";}#sk-container-id-9 div.sk-estimator input.sk-toggleable__control:checked~label.sk-toggleable__label {background-color: #d4ebff;}#sk-container-id-9 div.sk-label input.sk-toggleable__control:checked~label.sk-toggleable__label {background-color: #d4ebff;}#sk-container-id-9 input.sk-hidden--visually {border: 0;clip: rect(1px 1px 1px 1px);clip: rect(1px, 1px, 1px, 1px);height: 1px;margin: -1px;overflow: hidden;padding: 0;position: absolute;width: 1px;}#sk-container-id-9 div.sk-estimator {font-family: monospace;background-color: #f0f8ff;border: 1px dotted black;border-radius: 0.25em;box-sizing: border-box;margin-bottom: 0.5em;}#sk-container-id-9 div.sk-estimator:hover {background-color: #d4ebff;}#sk-container-id-9 div.sk-parallel-item::after {content: \"\";width: 100%;border-bottom: 1px solid gray;flex-grow: 1;}#sk-container-id-9 div.sk-label:hover label.sk-toggleable__label {background-color: #d4ebff;}#sk-container-id-9 div.sk-serial::before {content: \"\";position: absolute;border-left: 1px solid gray;box-sizing: border-box;top: 0;bottom: 0;left: 50%;z-index: 0;}#sk-container-id-9 div.sk-serial {display: flex;flex-direction: column;align-items: center;background-color: white;padding-right: 0.2em;padding-left: 0.2em;position: relative;}#sk-container-id-9 div.sk-item {position: relative;z-index: 1;}#sk-container-id-9 div.sk-parallel {display: flex;align-items: stretch;justify-content: center;background-color: white;position: relative;}#sk-container-id-9 div.sk-item::before, #sk-container-id-9 div.sk-parallel-item::before {content: \"\";position: absolute;border-left: 1px solid gray;box-sizing: border-box;top: 0;bottom: 0;left: 50%;z-index: -1;}#sk-container-id-9 div.sk-parallel-item {display: flex;flex-direction: column;z-index: 1;position: relative;background-color: white;}#sk-container-id-9 div.sk-parallel-item:first-child::after {align-self: flex-end;width: 50%;}#sk-container-id-9 div.sk-parallel-item:last-child::after {align-self: flex-start;width: 50%;}#sk-container-id-9 div.sk-parallel-item:only-child::after {width: 0;}#sk-container-id-9 div.sk-dashed-wrapped {border: 1px dashed gray;margin: 0 0.4em 0.5em 0.4em;box-sizing: border-box;padding-bottom: 0.4em;background-color: white;}#sk-container-id-9 div.sk-label label {font-family: monospace;font-weight: bold;display: inline-block;line-height: 1.2em;}#sk-container-id-9 div.sk-label-container {text-align: center;}#sk-container-id-9 div.sk-container {/* jupyter's `normalize.less` sets `[hidden] { display: none; }` but bootstrap.min.css set `[hidden] { display: none !important; }` so we also need the `!important` here to be able to override the default hidden behavior on the sphinx rendered scikit-learn.org. See: https://github.com/scikit-learn/scikit-learn/issues/21755 */display: inline-block !important;position: relative;}#sk-container-id-9 div.sk-text-repr-fallback {display: none;}</style><div id=\"sk-container-id-9\" class=\"sk-top-container\"><div class=\"sk-text-repr-fallback\"><pre>Pipeline(steps=[(&#x27;feature_selection&#x27;,\n",
       "                 SelectFromModel(estimator=LinearSVC(C=2.0, dual=False,\n",
       "                                                     max_iter=5000,\n",
       "                                                     penalty=&#x27;l1&#x27;))),\n",
       "                (&#x27;classification&#x27;,\n",
       "                 MLPClassifier(batch_size=64, early_stopping=True,\n",
       "                               hidden_layer_sizes=(256, 128, 64, 32),\n",
       "                               max_iter=2000, random_state=1234, tol=1e-06,\n",
       "                               verbose=True))])</pre><b>In a Jupyter environment, please rerun this cell to show the HTML representation or trust the notebook. <br />On GitHub, the HTML representation is unable to render, please try loading this page with nbviewer.org.</b></div><div class=\"sk-container\" hidden><div class=\"sk-item sk-dashed-wrapped\"><div class=\"sk-label-container\"><div class=\"sk-label sk-toggleable\"><input class=\"sk-toggleable__control sk-hidden--visually\" id=\"sk-estimator-id-41\" type=\"checkbox\" ><label for=\"sk-estimator-id-41\" class=\"sk-toggleable__label sk-toggleable__label-arrow\">Pipeline</label><div class=\"sk-toggleable__content\"><pre>Pipeline(steps=[(&#x27;feature_selection&#x27;,\n",
       "                 SelectFromModel(estimator=LinearSVC(C=2.0, dual=False,\n",
       "                                                     max_iter=5000,\n",
       "                                                     penalty=&#x27;l1&#x27;))),\n",
       "                (&#x27;classification&#x27;,\n",
       "                 MLPClassifier(batch_size=64, early_stopping=True,\n",
       "                               hidden_layer_sizes=(256, 128, 64, 32),\n",
       "                               max_iter=2000, random_state=1234, tol=1e-06,\n",
       "                               verbose=True))])</pre></div></div></div><div class=\"sk-serial\"><div class=\"sk-item sk-dashed-wrapped\"><div class=\"sk-label-container\"><div class=\"sk-label sk-toggleable\"><input class=\"sk-toggleable__control sk-hidden--visually\" id=\"sk-estimator-id-42\" type=\"checkbox\" ><label for=\"sk-estimator-id-42\" class=\"sk-toggleable__label sk-toggleable__label-arrow\">feature_selection: SelectFromModel</label><div class=\"sk-toggleable__content\"><pre>SelectFromModel(estimator=LinearSVC(C=2.0, dual=False, max_iter=5000,\n",
       "                                    penalty=&#x27;l1&#x27;))</pre></div></div></div><div class=\"sk-parallel\"><div class=\"sk-parallel-item\"><div class=\"sk-item\"><div class=\"sk-label-container\"><div class=\"sk-label sk-toggleable\"><input class=\"sk-toggleable__control sk-hidden--visually\" id=\"sk-estimator-id-43\" type=\"checkbox\" ><label for=\"sk-estimator-id-43\" class=\"sk-toggleable__label sk-toggleable__label-arrow\">estimator: LinearSVC</label><div class=\"sk-toggleable__content\"><pre>LinearSVC(C=2.0, dual=False, max_iter=5000, penalty=&#x27;l1&#x27;)</pre></div></div></div><div class=\"sk-serial\"><div class=\"sk-item\"><div class=\"sk-estimator sk-toggleable\"><input class=\"sk-toggleable__control sk-hidden--visually\" id=\"sk-estimator-id-44\" type=\"checkbox\" ><label for=\"sk-estimator-id-44\" class=\"sk-toggleable__label sk-toggleable__label-arrow\">LinearSVC</label><div class=\"sk-toggleable__content\"><pre>LinearSVC(C=2.0, dual=False, max_iter=5000, penalty=&#x27;l1&#x27;)</pre></div></div></div></div></div></div></div></div><div class=\"sk-item\"><div class=\"sk-estimator sk-toggleable\"><input class=\"sk-toggleable__control sk-hidden--visually\" id=\"sk-estimator-id-45\" type=\"checkbox\" ><label for=\"sk-estimator-id-45\" class=\"sk-toggleable__label sk-toggleable__label-arrow\">MLPClassifier</label><div class=\"sk-toggleable__content\"><pre>MLPClassifier(batch_size=64, early_stopping=True,\n",
       "              hidden_layer_sizes=(256, 128, 64, 32), max_iter=2000,\n",
       "              random_state=1234, tol=1e-06, verbose=True)</pre></div></div></div></div></div></div></div>"
      ],
      "text/plain": [
       "Pipeline(steps=[('feature_selection',\n",
       "                 SelectFromModel(estimator=LinearSVC(C=2.0, dual=False,\n",
       "                                                     max_iter=5000,\n",
       "                                                     penalty='l1'))),\n",
       "                ('classification',\n",
       "                 MLPClassifier(batch_size=64, early_stopping=True,\n",
       "                               hidden_layer_sizes=(256, 128, 64, 32),\n",
       "                               max_iter=2000, random_state=1234, tol=1e-06,\n",
       "                               verbose=True))])"
      ]
     },
     "execution_count": 92,
     "metadata": {},
     "output_type": "execute_result"
    }
   ],
   "source": [
    "# train the model\n",
    "MLP_clf.fit(trainX, trainy) "
   ]
  },
  {
   "cell_type": "code",
   "execution_count": 93,
   "id": "25b3c1c3",
   "metadata": {},
   "outputs": [],
   "source": [
    "ypred = MLP_clf.predict(trainX)\n"
   ]
  },
  {
   "cell_type": "code",
   "execution_count": 94,
   "id": "ad35d8e8",
   "metadata": {},
   "outputs": [
    {
     "data": {
      "text/plain": [
       "0.9544473747302805"
      ]
     },
     "execution_count": 94,
     "metadata": {},
     "output_type": "execute_result"
    }
   ],
   "source": [
    "accuracy_score(trainy, MLP_clf.predict(trainX))"
   ]
  },
  {
   "cell_type": "code",
   "execution_count": 95,
   "id": "657bc6ad",
   "metadata": {},
   "outputs": [
    {
     "name": "stdout",
     "output_type": "stream",
     "text": [
      "Iteration 1, loss = 0.19123485\n",
      "Validation score: 0.969374\n",
      "Iteration 2, loss = 0.07617335\n",
      "Validation score: 0.966711\n",
      "Iteration 3, loss = 0.05915703\n",
      "Validation score: 0.972037\n",
      "Iteration 4, loss = 0.05398937\n",
      "Validation score: 0.970706\n",
      "Iteration 5, loss = 0.05298781\n",
      "Validation score: 0.966711\n",
      "Iteration 6, loss = 0.05090540\n",
      "Validation score: 0.966711\n",
      "Iteration 7, loss = 0.04844776\n",
      "Validation score: 0.968043\n",
      "Iteration 8, loss = 0.04865145\n",
      "Validation score: 0.965379\n",
      "Iteration 9, loss = 0.05010345\n",
      "Validation score: 0.974700\n",
      "Iteration 10, loss = 0.04531023\n",
      "Validation score: 0.973369\n",
      "Iteration 11, loss = 0.04833631\n",
      "Validation score: 0.974700\n",
      "Iteration 12, loss = 0.04429669\n",
      "Validation score: 0.974700\n",
      "Iteration 13, loss = 0.04370574\n",
      "Validation score: 0.973369\n",
      "Iteration 14, loss = 0.04125620\n",
      "Validation score: 0.974700\n",
      "Iteration 15, loss = 0.04348112\n",
      "Validation score: 0.970706\n",
      "Iteration 16, loss = 0.04182519\n",
      "Validation score: 0.976032\n",
      "Iteration 17, loss = 0.05128485\n",
      "Validation score: 0.972037\n",
      "Iteration 18, loss = 0.04058537\n",
      "Validation score: 0.969374\n",
      "Iteration 19, loss = 0.03883795\n",
      "Validation score: 0.977364\n",
      "Iteration 20, loss = 0.03755470\n",
      "Validation score: 0.980027\n",
      "Iteration 21, loss = 0.03770332\n",
      "Validation score: 0.978695\n",
      "Iteration 22, loss = 0.04404687\n",
      "Validation score: 0.972037\n",
      "Iteration 23, loss = 0.03972711\n",
      "Validation score: 0.973369\n",
      "Iteration 24, loss = 0.04088278\n",
      "Validation score: 0.970706\n",
      "Iteration 25, loss = 0.03564728\n",
      "Validation score: 0.977364\n",
      "Iteration 26, loss = 0.03438310\n",
      "Validation score: 0.966711\n",
      "Iteration 27, loss = 0.03478695\n",
      "Validation score: 0.982690\n",
      "Iteration 28, loss = 0.03161767\n",
      "Validation score: 0.973369\n",
      "Iteration 29, loss = 0.02991599\n",
      "Validation score: 0.972037\n",
      "Iteration 30, loss = 0.03023705\n",
      "Validation score: 0.976032\n",
      "Iteration 31, loss = 0.02939813\n",
      "Validation score: 0.973369\n",
      "Iteration 32, loss = 0.03026464\n",
      "Validation score: 0.976032\n",
      "Iteration 33, loss = 0.02740457\n",
      "Validation score: 0.970706\n",
      "Iteration 34, loss = 0.02974804\n",
      "Validation score: 0.981358\n",
      "Iteration 35, loss = 0.02880300\n",
      "Validation score: 0.974700\n",
      "Iteration 36, loss = 0.02970412\n",
      "Validation score: 0.978695\n",
      "Iteration 37, loss = 0.02925551\n",
      "Validation score: 0.977364\n",
      "Iteration 38, loss = 0.02724367\n",
      "Validation score: 0.974700\n",
      "Validation score did not improve more than tol=0.000001 for 10 consecutive epochs. Stopping.\n"
     ]
    },
    {
     "name": "stderr",
     "output_type": "stream",
     "text": [
      "C:\\ProgramData\\Anaconda3\\lib\\site-packages\\sklearn\\svm\\_base.py:1242: ConvergenceWarning: Liblinear failed to converge, increase the number of iterations.\n",
      "  warnings.warn(\n"
     ]
    },
    {
     "name": "stdout",
     "output_type": "stream",
     "text": [
      "Iteration 1, loss = 0.18901837\n",
      "Validation score: 0.932091\n",
      "Iteration 2, loss = 0.08303294\n",
      "Validation score: 0.953395\n",
      "Iteration 3, loss = 0.06818729\n",
      "Validation score: 0.961385\n",
      "Iteration 4, loss = 0.06377008\n",
      "Validation score: 0.948069\n",
      "Iteration 5, loss = 0.05705792\n",
      "Validation score: 0.960053\n",
      "Iteration 6, loss = 0.05405778\n",
      "Validation score: 0.966711\n",
      "Iteration 7, loss = 0.05456945\n",
      "Validation score: 0.950732\n",
      "Iteration 8, loss = 0.04765080\n",
      "Validation score: 0.962716\n",
      "Iteration 9, loss = 0.04922860\n",
      "Validation score: 0.953395\n",
      "Iteration 10, loss = 0.04543698\n",
      "Validation score: 0.957390\n",
      "Iteration 11, loss = 0.04109856\n",
      "Validation score: 0.962716\n",
      "Iteration 12, loss = 0.04453077\n",
      "Validation score: 0.960053\n",
      "Iteration 13, loss = 0.04873757\n",
      "Validation score: 0.956059\n",
      "Iteration 14, loss = 0.04299107\n",
      "Validation score: 0.956059\n",
      "Iteration 15, loss = 0.04113467\n",
      "Validation score: 0.965379\n",
      "Iteration 16, loss = 0.03898215\n",
      "Validation score: 0.957390\n",
      "Iteration 17, loss = 0.04164480\n",
      "Validation score: 0.949401\n",
      "Validation score did not improve more than tol=0.000001 for 10 consecutive epochs. Stopping.\n"
     ]
    },
    {
     "name": "stderr",
     "output_type": "stream",
     "text": [
      "C:\\ProgramData\\Anaconda3\\lib\\site-packages\\sklearn\\svm\\_base.py:1242: ConvergenceWarning: Liblinear failed to converge, increase the number of iterations.\n",
      "  warnings.warn(\n"
     ]
    },
    {
     "name": "stdout",
     "output_type": "stream",
     "text": [
      "Iteration 1, loss = 0.24056180\n",
      "Validation score: 0.918775\n",
      "Iteration 2, loss = 0.12654337\n",
      "Validation score: 0.938748\n",
      "Iteration 3, loss = 0.11042634\n",
      "Validation score: 0.926764\n",
      "Iteration 4, loss = 0.10805954\n",
      "Validation score: 0.940080\n",
      "Iteration 5, loss = 0.10166376\n",
      "Validation score: 0.936085\n",
      "Iteration 6, loss = 0.09819205\n",
      "Validation score: 0.924101\n",
      "Iteration 7, loss = 0.09488197\n",
      "Validation score: 0.926764\n",
      "Iteration 8, loss = 0.09928313\n",
      "Validation score: 0.937417\n",
      "Iteration 9, loss = 0.08946448\n",
      "Validation score: 0.936085\n",
      "Iteration 10, loss = 0.09038938\n",
      "Validation score: 0.938748\n",
      "Iteration 11, loss = 0.08719975\n",
      "Validation score: 0.924101\n",
      "Iteration 12, loss = 0.08919067\n",
      "Validation score: 0.925433\n",
      "Iteration 13, loss = 0.08367759\n",
      "Validation score: 0.924101\n",
      "Iteration 14, loss = 0.08381594\n",
      "Validation score: 0.925433\n",
      "Iteration 15, loss = 0.08067173\n",
      "Validation score: 0.941411\n",
      "Iteration 16, loss = 0.08231756\n",
      "Validation score: 0.934754\n",
      "Iteration 17, loss = 0.08238876\n",
      "Validation score: 0.932091\n",
      "Iteration 18, loss = 0.07750044\n",
      "Validation score: 0.937417\n",
      "Iteration 19, loss = 0.07946714\n",
      "Validation score: 0.933422\n",
      "Iteration 20, loss = 0.07901591\n",
      "Validation score: 0.928096\n",
      "Iteration 21, loss = 0.07678763\n",
      "Validation score: 0.930759\n",
      "Iteration 22, loss = 0.07299938\n",
      "Validation score: 0.932091\n",
      "Iteration 23, loss = 0.07596270\n",
      "Validation score: 0.926764\n",
      "Iteration 24, loss = 0.07621043\n",
      "Validation score: 0.937417\n",
      "Iteration 25, loss = 0.07053341\n",
      "Validation score: 0.926764\n",
      "Iteration 26, loss = 0.06939074\n",
      "Validation score: 0.928096\n",
      "Validation score did not improve more than tol=0.000001 for 10 consecutive epochs. Stopping.\n"
     ]
    },
    {
     "name": "stderr",
     "output_type": "stream",
     "text": [
      "C:\\ProgramData\\Anaconda3\\lib\\site-packages\\sklearn\\svm\\_base.py:1242: ConvergenceWarning: Liblinear failed to converge, increase the number of iterations.\n",
      "  warnings.warn(\n"
     ]
    },
    {
     "name": "stdout",
     "output_type": "stream",
     "text": [
      "Iteration 1, loss = 0.25850171\n",
      "Validation score: 0.909454\n",
      "Iteration 2, loss = 0.13649961\n",
      "Validation score: 0.909454\n",
      "Iteration 3, loss = 0.11880541\n",
      "Validation score: 0.928096\n",
      "Iteration 4, loss = 0.11030505\n",
      "Validation score: 0.928096\n",
      "Iteration 5, loss = 0.10434881\n",
      "Validation score: 0.926764\n",
      "Iteration 6, loss = 0.10118814\n",
      "Validation score: 0.918775\n",
      "Iteration 7, loss = 0.09380581\n",
      "Validation score: 0.932091\n",
      "Iteration 8, loss = 0.09258911\n",
      "Validation score: 0.936085\n",
      "Iteration 9, loss = 0.09393686\n",
      "Validation score: 0.921438\n",
      "Iteration 10, loss = 0.08822658\n",
      "Validation score: 0.929427\n",
      "Iteration 11, loss = 0.08917942\n",
      "Validation score: 0.933422\n",
      "Iteration 12, loss = 0.08514718\n",
      "Validation score: 0.936085\n",
      "Iteration 13, loss = 0.08329433\n",
      "Validation score: 0.933422\n",
      "Iteration 14, loss = 0.08568123\n",
      "Validation score: 0.930759\n",
      "Iteration 15, loss = 0.08476506\n",
      "Validation score: 0.929427\n",
      "Iteration 16, loss = 0.08889231\n",
      "Validation score: 0.929427\n",
      "Iteration 17, loss = 0.08337955\n",
      "Validation score: 0.941411\n",
      "Iteration 18, loss = 0.08114348\n",
      "Validation score: 0.942743\n",
      "Iteration 19, loss = 0.08068754\n",
      "Validation score: 0.926764\n",
      "Iteration 20, loss = 0.07920114\n",
      "Validation score: 0.928096\n",
      "Iteration 21, loss = 0.07691695\n",
      "Validation score: 0.936085\n",
      "Iteration 22, loss = 0.07748523\n",
      "Validation score: 0.926764\n",
      "Iteration 23, loss = 0.07816218\n",
      "Validation score: 0.940080\n",
      "Iteration 24, loss = 0.07602044\n",
      "Validation score: 0.933422\n",
      "Iteration 25, loss = 0.07280667\n",
      "Validation score: 0.928096\n",
      "Iteration 26, loss = 0.07320508\n",
      "Validation score: 0.937417\n",
      "Iteration 27, loss = 0.06974027\n",
      "Validation score: 0.945406\n",
      "Iteration 28, loss = 0.07020261\n",
      "Validation score: 0.926764\n",
      "Iteration 29, loss = 0.07031591\n",
      "Validation score: 0.938748\n",
      "Iteration 30, loss = 0.07062521\n",
      "Validation score: 0.932091\n",
      "Iteration 31, loss = 0.06521933\n",
      "Validation score: 0.928096\n",
      "Iteration 32, loss = 0.06683926\n",
      "Validation score: 0.928096\n",
      "Iteration 33, loss = 0.06462714\n",
      "Validation score: 0.944075\n",
      "Iteration 34, loss = 0.06728262\n",
      "Validation score: 0.937417\n",
      "Iteration 35, loss = 0.07267451\n",
      "Validation score: 0.937417\n",
      "Iteration 36, loss = 0.06844643\n",
      "Validation score: 0.941411\n",
      "Iteration 37, loss = 0.06311908\n",
      "Validation score: 0.932091\n",
      "Iteration 38, loss = 0.05868176\n",
      "Validation score: 0.933422\n",
      "Validation score did not improve more than tol=0.000001 for 10 consecutive epochs. Stopping.\n"
     ]
    },
    {
     "name": "stderr",
     "output_type": "stream",
     "text": [
      "C:\\ProgramData\\Anaconda3\\lib\\site-packages\\sklearn\\svm\\_base.py:1242: ConvergenceWarning: Liblinear failed to converge, increase the number of iterations.\n",
      "  warnings.warn(\n"
     ]
    },
    {
     "name": "stdout",
     "output_type": "stream",
     "text": [
      "Iteration 1, loss = 0.26426261\n",
      "Validation score: 0.922770\n",
      "Iteration 2, loss = 0.12856936\n",
      "Validation score: 0.936085\n",
      "Iteration 3, loss = 0.12019325\n",
      "Validation score: 0.934754\n",
      "Iteration 4, loss = 0.10913108\n",
      "Validation score: 0.937417\n",
      "Iteration 5, loss = 0.11167299\n",
      "Validation score: 0.929427\n",
      "Iteration 6, loss = 0.10587238\n",
      "Validation score: 0.933422\n",
      "Iteration 7, loss = 0.10125753\n",
      "Validation score: 0.937417\n",
      "Iteration 8, loss = 0.09914626\n",
      "Validation score: 0.937417\n",
      "Iteration 9, loss = 0.09766922\n",
      "Validation score: 0.933422\n",
      "Iteration 10, loss = 0.09375999\n",
      "Validation score: 0.932091\n",
      "Iteration 11, loss = 0.09132513\n",
      "Validation score: 0.937417\n",
      "Iteration 12, loss = 0.09428562\n",
      "Validation score: 0.941411\n",
      "Iteration 13, loss = 0.09098064\n",
      "Validation score: 0.934754\n",
      "Iteration 14, loss = 0.09265128\n",
      "Validation score: 0.934754\n",
      "Iteration 15, loss = 0.08998348\n",
      "Validation score: 0.940080\n",
      "Iteration 16, loss = 0.08592107\n",
      "Validation score: 0.945406\n",
      "Iteration 17, loss = 0.08464958\n",
      "Validation score: 0.937417\n",
      "Iteration 18, loss = 0.08435234\n",
      "Validation score: 0.949401\n",
      "Iteration 19, loss = 0.08147192\n",
      "Validation score: 0.937417\n",
      "Iteration 20, loss = 0.08445930\n",
      "Validation score: 0.944075\n",
      "Iteration 21, loss = 0.08344133\n",
      "Validation score: 0.945406\n",
      "Iteration 22, loss = 0.08073743\n",
      "Validation score: 0.944075\n",
      "Iteration 23, loss = 0.08087677\n",
      "Validation score: 0.932091\n",
      "Iteration 24, loss = 0.08137902\n",
      "Validation score: 0.937417\n",
      "Iteration 25, loss = 0.07827332\n",
      "Validation score: 0.944075\n",
      "Iteration 26, loss = 0.07753487\n",
      "Validation score: 0.937417\n",
      "Iteration 27, loss = 0.07554034\n",
      "Validation score: 0.937417\n",
      "Iteration 28, loss = 0.07695321\n",
      "Validation score: 0.934754\n",
      "Iteration 29, loss = 0.07824615\n",
      "Validation score: 0.938748\n",
      "Validation score did not improve more than tol=0.000001 for 10 consecutive epochs. Stopping.\n"
     ]
    },
    {
     "name": "stderr",
     "output_type": "stream",
     "text": [
      "C:\\ProgramData\\Anaconda3\\lib\\site-packages\\sklearn\\svm\\_base.py:1242: ConvergenceWarning: Liblinear failed to converge, increase the number of iterations.\n",
      "  warnings.warn(\n"
     ]
    },
    {
     "name": "stdout",
     "output_type": "stream",
     "text": [
      "Iteration 1, loss = 0.24788730\n",
      "Validation score: 0.934754\n",
      "Iteration 2, loss = 0.13226320\n",
      "Validation score: 0.937417\n",
      "Iteration 3, loss = 0.12236840\n",
      "Validation score: 0.928096\n",
      "Iteration 4, loss = 0.11284030\n",
      "Validation score: 0.946738\n",
      "Iteration 5, loss = 0.10733592\n",
      "Validation score: 0.936085\n",
      "Iteration 6, loss = 0.10317918\n",
      "Validation score: 0.937417\n",
      "Iteration 7, loss = 0.09853227\n",
      "Validation score: 0.949401\n",
      "Iteration 8, loss = 0.10256395\n",
      "Validation score: 0.938748\n",
      "Iteration 9, loss = 0.09824127\n",
      "Validation score: 0.948069\n",
      "Iteration 10, loss = 0.10589197\n",
      "Validation score: 0.948069\n",
      "Iteration 11, loss = 0.09272344\n",
      "Validation score: 0.946738\n",
      "Iteration 12, loss = 0.08819126\n",
      "Validation score: 0.941411\n",
      "Iteration 13, loss = 0.08876247\n",
      "Validation score: 0.941411\n",
      "Iteration 14, loss = 0.09040022\n",
      "Validation score: 0.945406\n",
      "Iteration 15, loss = 0.08659202\n",
      "Validation score: 0.949401\n",
      "Iteration 16, loss = 0.08217887\n",
      "Validation score: 0.956059\n",
      "Iteration 17, loss = 0.08220535\n",
      "Validation score: 0.944075\n",
      "Iteration 18, loss = 0.08339688\n",
      "Validation score: 0.937417\n",
      "Iteration 19, loss = 0.08613417\n",
      "Validation score: 0.954727\n",
      "Iteration 20, loss = 0.07947287\n",
      "Validation score: 0.945406\n",
      "Iteration 21, loss = 0.08229494\n",
      "Validation score: 0.946738\n",
      "Iteration 22, loss = 0.08305654\n",
      "Validation score: 0.948069\n",
      "Iteration 23, loss = 0.07879101\n",
      "Validation score: 0.950732\n",
      "Iteration 24, loss = 0.08474851\n",
      "Validation score: 0.948069\n",
      "Iteration 25, loss = 0.08043489\n",
      "Validation score: 0.956059\n",
      "Iteration 26, loss = 0.07782006\n",
      "Validation score: 0.953395\n",
      "Iteration 27, loss = 0.07289535\n",
      "Validation score: 0.949401\n",
      "Validation score did not improve more than tol=0.000001 for 10 consecutive epochs. Stopping.\n"
     ]
    },
    {
     "name": "stderr",
     "output_type": "stream",
     "text": [
      "C:\\ProgramData\\Anaconda3\\lib\\site-packages\\sklearn\\svm\\_base.py:1242: ConvergenceWarning: Liblinear failed to converge, increase the number of iterations.\n",
      "  warnings.warn(\n"
     ]
    },
    {
     "name": "stdout",
     "output_type": "stream",
     "text": [
      "Iteration 1, loss = 0.25055147\n",
      "Validation score: 0.912117\n",
      "Iteration 2, loss = 0.13133570\n",
      "Validation score: 0.930759\n",
      "Iteration 3, loss = 0.11593939\n",
      "Validation score: 0.918775\n",
      "Iteration 4, loss = 0.11070506\n",
      "Validation score: 0.926764\n",
      "Iteration 5, loss = 0.10565015\n",
      "Validation score: 0.916112\n",
      "Iteration 6, loss = 0.10081275\n",
      "Validation score: 0.921438\n",
      "Iteration 7, loss = 0.10059160\n",
      "Validation score: 0.926764\n",
      "Iteration 8, loss = 0.09760456\n",
      "Validation score: 0.930759\n",
      "Iteration 9, loss = 0.09683820\n",
      "Validation score: 0.932091\n",
      "Iteration 10, loss = 0.08920761\n",
      "Validation score: 0.930759\n",
      "Iteration 11, loss = 0.09168523\n",
      "Validation score: 0.921438\n",
      "Iteration 12, loss = 0.09257036\n",
      "Validation score: 0.917443\n",
      "Iteration 13, loss = 0.08698548\n",
      "Validation score: 0.932091\n",
      "Iteration 14, loss = 0.08652510\n",
      "Validation score: 0.934754\n",
      "Iteration 15, loss = 0.08428324\n",
      "Validation score: 0.932091\n",
      "Iteration 16, loss = 0.08416066\n",
      "Validation score: 0.933422\n",
      "Iteration 17, loss = 0.08050480\n",
      "Validation score: 0.933422\n",
      "Iteration 18, loss = 0.08743712\n",
      "Validation score: 0.922770\n",
      "Iteration 19, loss = 0.08620902\n",
      "Validation score: 0.934754\n",
      "Iteration 20, loss = 0.08105881\n",
      "Validation score: 0.944075\n",
      "Iteration 21, loss = 0.07884034\n",
      "Validation score: 0.941411\n",
      "Iteration 22, loss = 0.07784039\n",
      "Validation score: 0.933422\n",
      "Iteration 23, loss = 0.07501721\n",
      "Validation score: 0.936085\n",
      "Iteration 24, loss = 0.07911210\n",
      "Validation score: 0.941411\n",
      "Iteration 25, loss = 0.07566878\n",
      "Validation score: 0.940080\n",
      "Iteration 26, loss = 0.07453007\n",
      "Validation score: 0.936085\n",
      "Iteration 27, loss = 0.07589790\n",
      "Validation score: 0.930759\n",
      "Iteration 28, loss = 0.07332081\n",
      "Validation score: 0.934754\n",
      "Iteration 29, loss = 0.07055675\n",
      "Validation score: 0.926764\n",
      "Iteration 30, loss = 0.07166296\n",
      "Validation score: 0.924101\n",
      "Iteration 31, loss = 0.07041129\n",
      "Validation score: 0.938748\n",
      "Validation score did not improve more than tol=0.000001 for 10 consecutive epochs. Stopping.\n"
     ]
    },
    {
     "name": "stderr",
     "output_type": "stream",
     "text": [
      "C:\\ProgramData\\Anaconda3\\lib\\site-packages\\sklearn\\svm\\_base.py:1242: ConvergenceWarning: Liblinear failed to converge, increase the number of iterations.\n",
      "  warnings.warn(\n"
     ]
    },
    {
     "name": "stdout",
     "output_type": "stream",
     "text": [
      "Iteration 1, loss = 0.24553063\n",
      "Validation score: 0.917443\n",
      "Iteration 2, loss = 0.13526945\n",
      "Validation score: 0.916112\n",
      "Iteration 3, loss = 0.12074424\n",
      "Validation score: 0.922770\n",
      "Iteration 4, loss = 0.10813058\n",
      "Validation score: 0.933422\n",
      "Iteration 5, loss = 0.10649498\n",
      "Validation score: 0.921438\n",
      "Iteration 6, loss = 0.10285610\n",
      "Validation score: 0.938748\n",
      "Iteration 7, loss = 0.10131195\n",
      "Validation score: 0.936085\n",
      "Iteration 8, loss = 0.10204796\n",
      "Validation score: 0.937417\n",
      "Iteration 9, loss = 0.09748662\n",
      "Validation score: 0.938748\n",
      "Iteration 10, loss = 0.09515149\n",
      "Validation score: 0.944075\n",
      "Iteration 11, loss = 0.09156165\n",
      "Validation score: 0.937417\n",
      "Iteration 12, loss = 0.09029065\n",
      "Validation score: 0.925433\n",
      "Iteration 13, loss = 0.08797588\n",
      "Validation score: 0.926764\n",
      "Iteration 14, loss = 0.08618766\n",
      "Validation score: 0.930759\n",
      "Iteration 15, loss = 0.08669022\n",
      "Validation score: 0.946738\n",
      "Iteration 16, loss = 0.08624306\n",
      "Validation score: 0.936085\n",
      "Iteration 17, loss = 0.08578297\n",
      "Validation score: 0.933422\n",
      "Iteration 18, loss = 0.08457879\n",
      "Validation score: 0.940080\n",
      "Iteration 19, loss = 0.08838420\n",
      "Validation score: 0.933422\n",
      "Iteration 20, loss = 0.08165977\n",
      "Validation score: 0.946738\n",
      "Iteration 21, loss = 0.07916150\n",
      "Validation score: 0.954727\n",
      "Iteration 22, loss = 0.07896152\n",
      "Validation score: 0.940080\n",
      "Iteration 23, loss = 0.08088787\n",
      "Validation score: 0.948069\n",
      "Iteration 24, loss = 0.08205597\n",
      "Validation score: 0.945406\n",
      "Iteration 25, loss = 0.08061534\n",
      "Validation score: 0.933422\n",
      "Iteration 26, loss = 0.07753461\n",
      "Validation score: 0.941411\n",
      "Iteration 27, loss = 0.07266306\n",
      "Validation score: 0.950732\n",
      "Iteration 28, loss = 0.07158555\n",
      "Validation score: 0.945406\n",
      "Iteration 29, loss = 0.07052110\n",
      "Validation score: 0.941411\n",
      "Iteration 30, loss = 0.07284592\n",
      "Validation score: 0.926764\n",
      "Iteration 31, loss = 0.07253485\n",
      "Validation score: 0.941411\n",
      "Iteration 32, loss = 0.07028078\n",
      "Validation score: 0.938748\n",
      "Validation score did not improve more than tol=0.000001 for 10 consecutive epochs. Stopping.\n"
     ]
    },
    {
     "name": "stderr",
     "output_type": "stream",
     "text": [
      "C:\\ProgramData\\Anaconda3\\lib\\site-packages\\sklearn\\svm\\_base.py:1242: ConvergenceWarning: Liblinear failed to converge, increase the number of iterations.\n",
      "  warnings.warn(\n"
     ]
    },
    {
     "name": "stdout",
     "output_type": "stream",
     "text": [
      "Iteration 1, loss = 0.24884282\n",
      "Validation score: 0.930759\n",
      "Iteration 2, loss = 0.12607121\n",
      "Validation score: 0.922770\n",
      "Iteration 3, loss = 0.11581154\n",
      "Validation score: 0.921438\n",
      "Iteration 4, loss = 0.11359486\n",
      "Validation score: 0.924101\n",
      "Iteration 5, loss = 0.10647357\n",
      "Validation score: 0.928096\n",
      "Iteration 6, loss = 0.10407557\n",
      "Validation score: 0.920107\n",
      "Iteration 7, loss = 0.09961918\n",
      "Validation score: 0.920107\n",
      "Iteration 8, loss = 0.09499123\n",
      "Validation score: 0.932091\n",
      "Iteration 9, loss = 0.09364875\n",
      "Validation score: 0.926764\n",
      "Iteration 10, loss = 0.08930919\n",
      "Validation score: 0.928096\n",
      "Iteration 11, loss = 0.08986191\n",
      "Validation score: 0.928096\n",
      "Iteration 12, loss = 0.09189134\n",
      "Validation score: 0.937417\n",
      "Iteration 13, loss = 0.08937072\n",
      "Validation score: 0.932091\n",
      "Iteration 14, loss = 0.08692336\n",
      "Validation score: 0.928096\n",
      "Iteration 15, loss = 0.08617078\n",
      "Validation score: 0.936085\n",
      "Iteration 16, loss = 0.08594505\n",
      "Validation score: 0.932091\n",
      "Iteration 17, loss = 0.08486510\n",
      "Validation score: 0.929427\n",
      "Iteration 18, loss = 0.08424796\n",
      "Validation score: 0.930759\n",
      "Iteration 19, loss = 0.08208356\n",
      "Validation score: 0.933422\n",
      "Iteration 20, loss = 0.07778627\n",
      "Validation score: 0.936085\n",
      "Iteration 21, loss = 0.07368090\n",
      "Validation score: 0.932091\n",
      "Iteration 22, loss = 0.07401241\n",
      "Validation score: 0.929427\n",
      "Iteration 23, loss = 0.07604856\n",
      "Validation score: 0.922770\n",
      "Validation score did not improve more than tol=0.000001 for 10 consecutive epochs. Stopping.\n"
     ]
    },
    {
     "name": "stderr",
     "output_type": "stream",
     "text": [
      "C:\\ProgramData\\Anaconda3\\lib\\site-packages\\sklearn\\svm\\_base.py:1242: ConvergenceWarning: Liblinear failed to converge, increase the number of iterations.\n",
      "  warnings.warn(\n"
     ]
    },
    {
     "name": "stdout",
     "output_type": "stream",
     "text": [
      "Iteration 1, loss = 0.27666418\n",
      "Validation score: 0.929427\n",
      "Iteration 2, loss = 0.13677819\n",
      "Validation score: 0.937417\n",
      "Iteration 3, loss = 0.11725426\n",
      "Validation score: 0.922770\n",
      "Iteration 4, loss = 0.11595292\n",
      "Validation score: 0.934754\n",
      "Iteration 5, loss = 0.11103097\n",
      "Validation score: 0.930759\n",
      "Iteration 6, loss = 0.10766535\n",
      "Validation score: 0.937417\n",
      "Iteration 7, loss = 0.10350118\n",
      "Validation score: 0.942743\n",
      "Iteration 8, loss = 0.09705448\n",
      "Validation score: 0.942743\n",
      "Iteration 9, loss = 0.09601203\n",
      "Validation score: 0.932091\n",
      "Iteration 10, loss = 0.09576695\n",
      "Validation score: 0.936085\n",
      "Iteration 11, loss = 0.09631850\n",
      "Validation score: 0.934754\n",
      "Iteration 12, loss = 0.10158910\n",
      "Validation score: 0.944075\n",
      "Iteration 13, loss = 0.09058171\n",
      "Validation score: 0.938748\n",
      "Iteration 14, loss = 0.08798443\n",
      "Validation score: 0.953395\n",
      "Iteration 15, loss = 0.08781155\n",
      "Validation score: 0.944075\n",
      "Iteration 16, loss = 0.08637892\n",
      "Validation score: 0.938748\n",
      "Iteration 17, loss = 0.08586504\n",
      "Validation score: 0.941411\n",
      "Iteration 18, loss = 0.08137126\n",
      "Validation score: 0.946738\n",
      "Iteration 19, loss = 0.08035403\n",
      "Validation score: 0.932091\n",
      "Iteration 20, loss = 0.08461096\n",
      "Validation score: 0.944075\n",
      "Iteration 21, loss = 0.08093342\n",
      "Validation score: 0.942743\n",
      "Iteration 22, loss = 0.08218446\n",
      "Validation score: 0.942743\n",
      "Iteration 23, loss = 0.08181293\n",
      "Validation score: 0.929427\n",
      "Iteration 24, loss = 0.08151306\n",
      "Validation score: 0.928096\n",
      "Iteration 25, loss = 0.07907118\n",
      "Validation score: 0.940080\n",
      "Validation score did not improve more than tol=0.000001 for 10 consecutive epochs. Stopping.\n",
      "CV average score: 0.92\n"
     ]
    }
   ],
   "source": [
    "mlp_cv_scores = cross_val_score(MLP_clf, trainX, trainy, cv=10)\n",
    "print(\"CV average score: %.2f\" % mlp_cv_scores.mean())"
   ]
  },
  {
   "cell_type": "code",
   "execution_count": 96,
   "id": "5fb75574",
   "metadata": {},
   "outputs": [
    {
     "data": {
      "text/plain": [
       "array([[8.91226729e-01, 1.08773271e-01],\n",
       "       [9.99898827e-01, 1.01172646e-04]])"
      ]
     },
     "execution_count": 96,
     "metadata": {},
     "output_type": "execute_result"
    }
   ],
   "source": [
    "MLP_clf.predict_proba(testX[:2])"
   ]
  },
  {
   "cell_type": "code",
   "execution_count": 97,
   "id": "6900da6f",
   "metadata": {},
   "outputs": [],
   "source": [
    "yhat_mlp = MLP_clf.predict(testX)\n"
   ]
  },
  {
   "cell_type": "code",
   "execution_count": 98,
   "id": "5f3330cc",
   "metadata": {},
   "outputs": [
    {
     "name": "stdout",
     "output_type": "stream",
     "text": [
      "MLP test accuracy_score: 93.09462915601023\n"
     ]
    }
   ],
   "source": [
    "mlp_test_accuracy_score = accuracy_score(testY,MLP_clf.predict(testX))*100\n",
    "print(\"MLP test accuracy_score:\", mlp_test_accuracy_score)"
   ]
  },
  {
   "cell_type": "code",
   "execution_count": 99,
   "id": "5ace38f1",
   "metadata": {},
   "outputs": [
    {
     "data": {
      "text/plain": [
       "<sklearn.metrics._plot.roc_curve.RocCurveDisplay at 0x2253551d250>"
      ]
     },
     "execution_count": 99,
     "metadata": {},
     "output_type": "execute_result"
    },
    {
     "data": {
      "image/png": "[encoded data removed]",
      "text/plain": [
       "<Figure size 432x288 with 1 Axes>"
      ]
     },
     "metadata": {
      "needs_background": "light"
     },
     "output_type": "display_data"
    }
   ],
   "source": [
    "RocCurveDisplay.from_estimator(MLP_clf,testX,testY)"
   ]
  },
  {
   "cell_type": "code",
   "execution_count": 100,
   "id": "c581e13f",
   "metadata": {},
   "outputs": [
    {
     "data": {
      "image/png": "[encoded data removed]",
      "text/plain": [
       "<Figure size 432x288 with 2 Axes>"
      ]
     },
     "metadata": {
      "needs_background": "light"
     },
     "output_type": "display_data"
    }
   ],
   "source": [
    "#confusion_matrix(y_test,yhat_svm)\n",
    "\n",
    "ConfusionMatrixDisplay.from_estimator(MLP_clf, testX, testY)  \n",
    "plt.show() "
   ]
  },
  {
   "cell_type": "code",
   "execution_count": 101,
   "id": "15432a6d",
   "metadata": {},
   "outputs": [
    {
     "name": "stdout",
     "output_type": "stream",
     "text": [
      "confusion matrix\n",
      " [[1754  167]\n",
      " [  76 1522]]\n",
      "\n",
      "classification report\n",
      "               precision    recall  f1-score   support\n",
      "\n",
      "         0.0       0.96      0.91      0.94      1921\n",
      "         1.0       0.90      0.95      0.93      1598\n",
      "\n",
      "    accuracy                           0.93      3519\n",
      "   macro avg       0.93      0.93      0.93      3519\n",
      "weighted avg       0.93      0.93      0.93      3519\n",
      "\n",
      "Accuracy:  93.09462915601023\n"
     ]
    }
   ],
   "source": [
    "\n",
    "print(\"confusion matrix\\n\",confusion_matrix(testY,yhat_mlp))\n",
    "print(\"\\nclassification report\\n\",classification_report(testY,yhat_mlp))\n",
    "print(\"Accuracy: \",accuracy_score(testY,yhat_mlp)*100)"
   ]
  }
 ],
 "metadata": {
  "kernelspec": {
   "display_name": "Python 3 (ipykernel)",
   "language": "python",
   "name": "python3"
  },
  "language_info": {
   "codemirror_mode": {
    "name": "ipython",
    "version": 3
   },
   "file_extension": ".py",
   "mimetype": "text/x-python",
   "name": "python",
   "nbconvert_exporter": "python",
   "pygments_lexer": "ipython3",
   "version": "3.9.12"
  }
 },
 "nbformat": 4,
 "nbformat_minor": 5
}
