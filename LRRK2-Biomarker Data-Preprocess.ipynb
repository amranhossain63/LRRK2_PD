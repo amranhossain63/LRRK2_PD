{
 "cells": [
  {
   "cell_type": "code",
   "execution_count": 1,
   "id": "5daa82f5",
   "metadata": {},
   "outputs": [],
   "source": [
    "import pandas as pd \n",
    "import numpy as np\n",
    "\n",
    "from sklearn import preprocessing"
   ]
  },
  {
   "cell_type": "code",
   "execution_count": 2,
   "id": "5037839a",
   "metadata": {},
   "outputs": [],
   "source": [
    "biomarker_data = \"Data/\""
   ]
  },
  {
   "cell_type": "code",
   "execution_count": 3,
   "id": "97ea5cda",
   "metadata": {},
   "outputs": [
    {
     "data": {
      "text/html": [
       "<div>\n",
       "<style scoped>\n",
       "    .dataframe tbody tr th:only-of-type {\n",
       "        vertical-align: middle;\n",
       "    }\n",
       "\n",
       "    .dataframe tbody tr th {\n",
       "        vertical-align: top;\n",
       "    }\n",
       "\n",
       "    .dataframe thead th {\n",
       "        text-align: right;\n",
       "    }\n",
       "</style>\n",
       "<table border=\"1\" class=\"dataframe\">\n",
       "  <thead>\n",
       "    <tr style=\"text-align: right;\">\n",
       "      <th></th>\n",
       "      <th>Biomarker_project_type</th>\n",
       "      <th>PR_DATE</th>\n",
       "      <th>Biomarker_PI</th>\n",
       "      <th>Biomarker_institution</th>\n",
       "      <th>Biomarker_projectID</th>\n",
       "      <th>Biomarker_sampletype</th>\n",
       "      <th>TESTNAME</th>\n",
       "      <th>TESTVALUE</th>\n",
       "      <th>UNITS</th>\n",
       "      <th>RUNDATE</th>\n",
       "      <th>...</th>\n",
       "      <th>SCAU26CT</th>\n",
       "      <th>SCAU26DT</th>\n",
       "      <th>LDOPRTYP</th>\n",
       "      <th>LDOPRSPC</th>\n",
       "      <th>DCLPDO5Y</th>\n",
       "      <th>GBA_var</th>\n",
       "      <th>GBA_status</th>\n",
       "      <th>LRRK2_var</th>\n",
       "      <th>LRRK2_status</th>\n",
       "      <th>APOE</th>\n",
       "    </tr>\n",
       "  </thead>\n",
       "  <tbody>\n",
       "    <tr>\n",
       "      <th>0</th>\n",
       "      <td>AJ_longitudinal</td>\n",
       "      <td>09/04/2015</td>\n",
       "      <td>Schwarzschild</td>\n",
       "      <td>Harvard</td>\n",
       "      <td>108</td>\n",
       "      <td>plasma</td>\n",
       "      <td>(4-Hydroxy-3-methoxyphenyl)ethanol</td>\n",
       "      <td>18197.20741</td>\n",
       "      <td>area</td>\n",
       "      <td>11/29/2018</td>\n",
       "      <td>...</td>\n",
       "      <td>Z</td>\n",
       "      <td>NaN</td>\n",
       "      <td>Z</td>\n",
       "      <td>6.0</td>\n",
       "      <td>1.0</td>\n",
       "      <td>NC</td>\n",
       "      <td>0.0</td>\n",
       "      <td>G2019S</td>\n",
       "      <td>1.0</td>\n",
       "      <td>E3/E3</td>\n",
       "    </tr>\n",
       "    <tr>\n",
       "      <th>1</th>\n",
       "      <td>AJ_longitudinal</td>\n",
       "      <td>09/04/2015</td>\n",
       "      <td>Schwarzschild</td>\n",
       "      <td>Harvard</td>\n",
       "      <td>108</td>\n",
       "      <td>plasma</td>\n",
       "      <td>(4-Hydroxy-3-methoxyphenyl)ethanol</td>\n",
       "      <td>0.0008928989999999998</td>\n",
       "      <td>area ratio</td>\n",
       "      <td>11/29/2018</td>\n",
       "      <td>...</td>\n",
       "      <td>Z</td>\n",
       "      <td>NaN</td>\n",
       "      <td>Z</td>\n",
       "      <td>6.0</td>\n",
       "      <td>1.0</td>\n",
       "      <td>NC</td>\n",
       "      <td>0.0</td>\n",
       "      <td>G2019S</td>\n",
       "      <td>1.0</td>\n",
       "      <td>E3/E3</td>\n",
       "    </tr>\n",
       "    <tr>\n",
       "      <th>2</th>\n",
       "      <td>AJ_longitudinal</td>\n",
       "      <td>09/04/2015</td>\n",
       "      <td>Schwarzschild</td>\n",
       "      <td>Harvard</td>\n",
       "      <td>108</td>\n",
       "      <td>plasma</td>\n",
       "      <td>1-Methylhistamine</td>\n",
       "      <td>31317.10022</td>\n",
       "      <td>area</td>\n",
       "      <td>11/29/2018</td>\n",
       "      <td>...</td>\n",
       "      <td>Z</td>\n",
       "      <td>NaN</td>\n",
       "      <td>Z</td>\n",
       "      <td>6.0</td>\n",
       "      <td>1.0</td>\n",
       "      <td>NC</td>\n",
       "      <td>0.0</td>\n",
       "      <td>G2019S</td>\n",
       "      <td>1.0</td>\n",
       "      <td>E3/E3</td>\n",
       "    </tr>\n",
       "    <tr>\n",
       "      <th>3</th>\n",
       "      <td>AJ_longitudinal</td>\n",
       "      <td>09/04/2015</td>\n",
       "      <td>Schwarzschild</td>\n",
       "      <td>Harvard</td>\n",
       "      <td>108</td>\n",
       "      <td>plasma</td>\n",
       "      <td>1-Methylhistamine</td>\n",
       "      <td>0.001670085</td>\n",
       "      <td>area ratio</td>\n",
       "      <td>11/29/2018</td>\n",
       "      <td>...</td>\n",
       "      <td>Z</td>\n",
       "      <td>NaN</td>\n",
       "      <td>Z</td>\n",
       "      <td>6.0</td>\n",
       "      <td>1.0</td>\n",
       "      <td>NC</td>\n",
       "      <td>0.0</td>\n",
       "      <td>G2019S</td>\n",
       "      <td>1.0</td>\n",
       "      <td>E3/E3</td>\n",
       "    </tr>\n",
       "    <tr>\n",
       "      <th>4</th>\n",
       "      <td>AJ_longitudinal</td>\n",
       "      <td>09/04/2015</td>\n",
       "      <td>Schwarzschild</td>\n",
       "      <td>Harvard</td>\n",
       "      <td>108</td>\n",
       "      <td>plasma</td>\n",
       "      <td>1-Methylhistidine</td>\n",
       "      <td>3234660.7810000004</td>\n",
       "      <td>area</td>\n",
       "      <td>11/29/2018</td>\n",
       "      <td>...</td>\n",
       "      <td>Z</td>\n",
       "      <td>NaN</td>\n",
       "      <td>Z</td>\n",
       "      <td>6.0</td>\n",
       "      <td>1.0</td>\n",
       "      <td>NC</td>\n",
       "      <td>0.0</td>\n",
       "      <td>G2019S</td>\n",
       "      <td>1.0</td>\n",
       "      <td>E3/E3</td>\n",
       "    </tr>\n",
       "  </tbody>\n",
       "</table>\n",
       "<p>5 rows × 54 columns</p>\n",
       "</div>"
      ],
      "text/plain": [
       "  Biomarker_project_type     PR_DATE   Biomarker_PI Biomarker_institution  \\\n",
       "0        AJ_longitudinal  09/04/2015  Schwarzschild               Harvard   \n",
       "1        AJ_longitudinal  09/04/2015  Schwarzschild               Harvard   \n",
       "2        AJ_longitudinal  09/04/2015  Schwarzschild               Harvard   \n",
       "3        AJ_longitudinal  09/04/2015  Schwarzschild               Harvard   \n",
       "4        AJ_longitudinal  09/04/2015  Schwarzschild               Harvard   \n",
       "\n",
       "   Biomarker_projectID Biomarker_sampletype  \\\n",
       "0                  108               plasma   \n",
       "1                  108               plasma   \n",
       "2                  108               plasma   \n",
       "3                  108               plasma   \n",
       "4                  108               plasma   \n",
       "\n",
       "                             TESTNAME              TESTVALUE       UNITS  \\\n",
       "0  (4-Hydroxy-3-methoxyphenyl)ethanol            18197.20741        area   \n",
       "1  (4-Hydroxy-3-methoxyphenyl)ethanol  0.0008928989999999998  area ratio   \n",
       "2                   1-Methylhistamine            31317.10022        area   \n",
       "3                   1-Methylhistamine            0.001670085  area ratio   \n",
       "4                   1-Methylhistidine     3234660.7810000004        area   \n",
       "\n",
       "      RUNDATE  ... SCAU26CT SCAU26DT LDOPRTYP  LDOPRSPC  DCLPDO5Y  GBA_var  \\\n",
       "0  11/29/2018  ...        Z      NaN        Z       6.0       1.0       NC   \n",
       "1  11/29/2018  ...        Z      NaN        Z       6.0       1.0       NC   \n",
       "2  11/29/2018  ...        Z      NaN        Z       6.0       1.0       NC   \n",
       "3  11/29/2018  ...        Z      NaN        Z       6.0       1.0       NC   \n",
       "4  11/29/2018  ...        Z      NaN        Z       6.0       1.0       NC   \n",
       "\n",
       "  GBA_status LRRK2_var  LRRK2_status   APOE  \n",
       "0        0.0    G2019S           1.0  E3/E3  \n",
       "1        0.0    G2019S           1.0  E3/E3  \n",
       "2        0.0    G2019S           1.0  E3/E3  \n",
       "3        0.0    G2019S           1.0  E3/E3  \n",
       "4        0.0    G2019S           1.0  E3/E3  \n",
       "\n",
       "[5 rows x 54 columns]"
      ]
     },
     "execution_count": 3,
     "metadata": {},
     "output_type": "execute_result"
    }
   ],
   "source": [
    "longcross_df = pd.read_csv(biomarker_data +\"F_longcross.csv\",low_memory=False)\n",
    "longcross_df.head()"
   ]
  },
  {
   "cell_type": "code",
   "execution_count": 4,
   "id": "ed2a2e5a",
   "metadata": {},
   "outputs": [
    {
     "data": {
      "text/plain": [
       "Biomarker_project_type          0\n",
       "PR_DATE                         0\n",
       "Biomarker_PI                    0\n",
       "Biomarker_institution           0\n",
       "Biomarker_projectID             0\n",
       "Biomarker_sampletype         2606\n",
       "TESTNAME                      121\n",
       "TESTVALUE                  561012\n",
       "UNITS                         714\n",
       "RUNDATE                   1655646\n",
       "lrrkid                       2000\n",
       "EVENT                        4496\n",
       "LRRK2_MUTATION               4535\n",
       "datasrc                    173171\n",
       "gender                     173171\n",
       "educcat_calc               201397\n",
       "racetxt                    173171\n",
       "ethnctxt                   174921\n",
       "pdenrl                     173171\n",
       "agediag                   1333319\n",
       "ageonset                  1355893\n",
       "demopd_ageassess           179037\n",
       "pd_duration               1363621\n",
       "pdmedyn                    396215\n",
       "MCATOT                     254384\n",
       "moca_ageassess             231497\n",
       "updrs1                     173171\n",
       "updrs2                     173171\n",
       "updrs3                     173171\n",
       "nupdrs1p_ageassess        2210885\n",
       "nupdrs2p_ageassess        2210885\n",
       "nupdrs3_ageassess         2210885\n",
       "STROKE                     256742\n",
       "HETRA                      256742\n",
       "PARKISM                    256789\n",
       "RLS                        256810\n",
       "NARCLPSY                   256742\n",
       "DEPRS                      256742\n",
       "EPILEPSY                   256742\n",
       "BRNINFM                    256742\n",
       "CNSOTH                     261011\n",
       "CNSOTHCM                  2294964\n",
       "SCAU26AT                  2217177\n",
       "SCAU26BT                  2226707\n",
       "SCAU26CT                  2088939\n",
       "SCAU26DT                  2077663\n",
       "LDOPRTYP                   771120\n",
       "LDOPRSPC                  1047279\n",
       "DCLPDO5Y                  2290183\n",
       "GBA_var                   1436414\n",
       "GBA_status                1436414\n",
       "LRRK2_var                 2113718\n",
       "LRRK2_status              2113718\n",
       "APOE                      1436414\n",
       "dtype: int64"
      ]
     },
     "execution_count": 4,
     "metadata": {},
     "output_type": "execute_result"
    }
   ],
   "source": [
    "longcross_df.isnull().sum()"
   ]
  },
  {
   "cell_type": "code",
   "execution_count": 5,
   "id": "539e0ab9",
   "metadata": {},
   "outputs": [],
   "source": [
    "longcross_df = longcross_df.dropna(axis=1, how='all')"
   ]
  },
  {
   "cell_type": "code",
   "execution_count": 6,
   "id": "69ec54dd",
   "metadata": {},
   "outputs": [
    {
     "data": {
      "text/plain": [
       "65519"
      ]
     },
     "execution_count": 6,
     "metadata": {},
     "output_type": "execute_result"
    }
   ],
   "source": [
    "longcross_df['pdenrl'] = longcross_df.groupby(['lrrkid'])['pdenrl'].apply(lambda x: x.bfill().ffill())\n",
    "longcross_df['pdenrl'].isnull().sum()\n",
    "#173171"
   ]
  },
  {
   "cell_type": "code",
   "execution_count": 7,
   "id": "f357544b",
   "metadata": {},
   "outputs": [
    {
     "data": {
      "text/plain": [
       "116772"
      ]
     },
     "execution_count": 7,
     "metadata": {},
     "output_type": "execute_result"
    }
   ],
   "source": [
    "longcross_df['TESTVALUE'] = longcross_df.groupby(['lrrkid','TESTNAME'])['TESTVALUE'].apply(lambda x: x.bfill().ffill())\n",
    "longcross_df['TESTVALUE'].isnull().sum()\n",
    "##561012"
   ]
  },
  {
   "cell_type": "raw",
   "id": "26830de8",
   "metadata": {},
   "source": [
    "longcross_df['RUNDATE'] = longcross_df.groupby(['lrrkid','TESTNAME'])['RUNDATE'].apply(lambda x: x.bfill().ffill())\n",
    "longcross_df['RUNDATE'].isnull().sum()\n",
    "#1655646"
   ]
  },
  {
   "cell_type": "code",
   "execution_count": 8,
   "id": "4218a65d",
   "metadata": {},
   "outputs": [
    {
     "data": {
      "text/plain": [
       "65519"
      ]
     },
     "execution_count": 8,
     "metadata": {},
     "output_type": "execute_result"
    }
   ],
   "source": [
    "longcross_df['gender'] = longcross_df.groupby(['lrrkid'])['gender'].apply(lambda x: x.bfill().ffill())\n",
    "longcross_df['gender'].isnull().sum()\n",
    "#173171"
   ]
  },
  {
   "cell_type": "code",
   "execution_count": 9,
   "id": "f840ee73",
   "metadata": {},
   "outputs": [
    {
     "data": {
      "text/plain": [
       "131989"
      ]
     },
     "execution_count": 9,
     "metadata": {},
     "output_type": "execute_result"
    }
   ],
   "source": [
    "longcross_df['MCATOT'] = longcross_df.groupby(['lrrkid'])['MCATOT'].apply(lambda x: x.bfill().ffill())\n",
    "longcross_df['MCATOT'].isnull().sum()\n"
   ]
  },
  {
   "cell_type": "code",
   "execution_count": 10,
   "id": "07a31c9c",
   "metadata": {},
   "outputs": [
    {
     "data": {
      "text/plain": [
       "106826"
      ]
     },
     "execution_count": 10,
     "metadata": {},
     "output_type": "execute_result"
    }
   ],
   "source": [
    "longcross_df['moca_ageassess'] = longcross_df.groupby(['lrrkid'])['moca_ageassess'].apply(lambda x: x.bfill().ffill())\n",
    "longcross_df['moca_ageassess'].isnull().sum()"
   ]
  },
  {
   "cell_type": "code",
   "execution_count": null,
   "id": "b1750cd9",
   "metadata": {},
   "outputs": [],
   "source": []
  },
  {
   "cell_type": "code",
   "execution_count": null,
   "id": "c32f183d",
   "metadata": {},
   "outputs": [],
   "source": []
  },
  {
   "cell_type": "code",
   "execution_count": 11,
   "id": "a612d183",
   "metadata": {},
   "outputs": [
    {
     "data": {
      "text/plain": [
       "153460"
      ]
     },
     "execution_count": 11,
     "metadata": {},
     "output_type": "execute_result"
    }
   ],
   "source": [
    "longcross_df['STROKE'] = longcross_df.groupby(['lrrkid'])['STROKE'].apply(lambda x: x.bfill().ffill())\n",
    "longcross_df['STROKE'].isnull().sum()"
   ]
  },
  {
   "cell_type": "code",
   "execution_count": 12,
   "id": "9714e0a6",
   "metadata": {},
   "outputs": [
    {
     "data": {
      "text/plain": [
       "153460"
      ]
     },
     "execution_count": 12,
     "metadata": {},
     "output_type": "execute_result"
    }
   ],
   "source": [
    "longcross_df['HETRA'] = longcross_df.groupby(['lrrkid'])['HETRA'].apply(lambda x: x.bfill().ffill())\n",
    "longcross_df['HETRA'].isnull().sum()"
   ]
  },
  {
   "cell_type": "code",
   "execution_count": 13,
   "id": "619e0a64",
   "metadata": {},
   "outputs": [
    {
     "data": {
      "text/plain": [
       "154666"
      ]
     },
     "execution_count": 13,
     "metadata": {},
     "output_type": "execute_result"
    }
   ],
   "source": [
    "longcross_df['RLS'] = longcross_df.groupby(['lrrkid'])['RLS'].apply(lambda x: x.bfill().ffill())\n",
    "longcross_df['RLS'].isnull().sum()"
   ]
  },
  {
   "cell_type": "code",
   "execution_count": 14,
   "id": "1b2e2151",
   "metadata": {},
   "outputs": [
    {
     "data": {
      "text/plain": [
       "153460"
      ]
     },
     "execution_count": 14,
     "metadata": {},
     "output_type": "execute_result"
    }
   ],
   "source": [
    "longcross_df['NARCLPSY'] = longcross_df.groupby(['lrrkid'])['NARCLPSY'].apply(lambda x: x.bfill().ffill())\n",
    "longcross_df['NARCLPSY'].isnull().sum()"
   ]
  },
  {
   "cell_type": "code",
   "execution_count": 15,
   "id": "1a371692",
   "metadata": {},
   "outputs": [
    {
     "data": {
      "text/plain": [
       "153460"
      ]
     },
     "execution_count": 15,
     "metadata": {},
     "output_type": "execute_result"
    }
   ],
   "source": [
    "longcross_df['NARCLPSY'] = longcross_df.groupby(['lrrkid'])['NARCLPSY'].apply(lambda x: x.bfill().ffill())\n",
    "longcross_df['NARCLPSY'].isnull().sum()"
   ]
  },
  {
   "cell_type": "code",
   "execution_count": 16,
   "id": "cecc8b8c",
   "metadata": {},
   "outputs": [
    {
     "data": {
      "text/plain": [
       "153460"
      ]
     },
     "execution_count": 16,
     "metadata": {},
     "output_type": "execute_result"
    }
   ],
   "source": [
    "longcross_df['NARCLPSY'] = longcross_df.groupby(['lrrkid'])['NARCLPSY'].apply(lambda x: x.bfill().ffill())\n",
    "longcross_df['NARCLPSY'].isnull().sum()"
   ]
  },
  {
   "cell_type": "code",
   "execution_count": 17,
   "id": "d50f83fe",
   "metadata": {},
   "outputs": [
    {
     "data": {
      "text/plain": [
       "153460"
      ]
     },
     "execution_count": 17,
     "metadata": {},
     "output_type": "execute_result"
    }
   ],
   "source": [
    "longcross_df['NARCLPSY'] = longcross_df.groupby(['lrrkid'])['NARCLPSY'].apply(lambda x: x.bfill().ffill())\n",
    "longcross_df['NARCLPSY'].isnull().sum()"
   ]
  },
  {
   "cell_type": "code",
   "execution_count": 18,
   "id": "0891a3e3",
   "metadata": {},
   "outputs": [
    {
     "data": {
      "text/plain": [
       "153460"
      ]
     },
     "execution_count": 18,
     "metadata": {},
     "output_type": "execute_result"
    }
   ],
   "source": [
    "longcross_df['BRNINFM'] = longcross_df.groupby(['lrrkid'])['BRNINFM'].apply(lambda x: x.bfill().ffill())\n",
    "longcross_df['BRNINFM'].isnull().sum()"
   ]
  },
  {
   "cell_type": "code",
   "execution_count": 19,
   "id": "ee52cb21",
   "metadata": {},
   "outputs": [
    {
     "data": {
      "text/plain": [
       "160005"
      ]
     },
     "execution_count": 19,
     "metadata": {},
     "output_type": "execute_result"
    }
   ],
   "source": [
    "longcross_df['CNSOTH'] = longcross_df.groupby(['lrrkid'])['CNSOTH'].apply(lambda x: x.bfill().ffill())\n",
    "longcross_df['CNSOTH'].isnull().sum()\n"
   ]
  },
  {
   "cell_type": "code",
   "execution_count": 20,
   "id": "30f712ac",
   "metadata": {},
   "outputs": [
    {
     "data": {
      "text/plain": [
       "Biomarker_project_type          0\n",
       "PR_DATE                         0\n",
       "Biomarker_PI                    0\n",
       "Biomarker_institution           0\n",
       "Biomarker_projectID             0\n",
       "Biomarker_sampletype         2606\n",
       "TESTNAME                      121\n",
       "TESTVALUE                  116772\n",
       "UNITS                         714\n",
       "RUNDATE                   1655646\n",
       "lrrkid                       2000\n",
       "EVENT                        4496\n",
       "LRRK2_MUTATION               4535\n",
       "datasrc                    173171\n",
       "gender                      65519\n",
       "educcat_calc               201397\n",
       "racetxt                    173171\n",
       "ethnctxt                   174921\n",
       "pdenrl                      65519\n",
       "agediag                   1333319\n",
       "ageonset                  1355893\n",
       "demopd_ageassess           179037\n",
       "pd_duration               1363621\n",
       "pdmedyn                    396215\n",
       "MCATOT                     131989\n",
       "moca_ageassess             106826\n",
       "updrs1                     173171\n",
       "updrs2                     173171\n",
       "updrs3                     173171\n",
       "nupdrs1p_ageassess        2210885\n",
       "nupdrs2p_ageassess        2210885\n",
       "nupdrs3_ageassess         2210885\n",
       "STROKE                     153460\n",
       "HETRA                      153460\n",
       "PARKISM                    256789\n",
       "RLS                        154666\n",
       "NARCLPSY                   153460\n",
       "DEPRS                      256742\n",
       "EPILEPSY                   256742\n",
       "BRNINFM                    153460\n",
       "CNSOTH                     160005\n",
       "CNSOTHCM                  2294964\n",
       "SCAU26AT                  2217177\n",
       "SCAU26BT                  2226707\n",
       "SCAU26CT                  2088939\n",
       "SCAU26DT                  2077663\n",
       "LDOPRTYP                   771120\n",
       "LDOPRSPC                  1047279\n",
       "DCLPDO5Y                  2290183\n",
       "GBA_var                   1436414\n",
       "GBA_status                1436414\n",
       "LRRK2_var                 2113718\n",
       "LRRK2_status              2113718\n",
       "APOE                      1436414\n",
       "dtype: int64"
      ]
     },
     "execution_count": 20,
     "metadata": {},
     "output_type": "execute_result"
    }
   ],
   "source": [
    "longcross_df.isnull().sum()"
   ]
  },
  {
   "cell_type": "code",
   "execution_count": 21,
   "id": "d0dfccf1",
   "metadata": {},
   "outputs": [
    {
     "data": {
      "text/plain": [
       "1195"
      ]
     },
     "execution_count": 21,
     "metadata": {},
     "output_type": "execute_result"
    }
   ],
   "source": [
    "longcross_df['lrrkid'].nunique()"
   ]
  },
  {
   "cell_type": "code",
   "execution_count": 22,
   "id": "0a3e97dd",
   "metadata": {},
   "outputs": [
    {
     "data": {
      "text/plain": [
       "2.0    1349813\n",
       "1.0    1179840\n",
       "Name: gender, dtype: int64"
      ]
     },
     "execution_count": 22,
     "metadata": {},
     "output_type": "execute_result"
    }
   ],
   "source": [
    "longcross_df['gender'].value_counts()"
   ]
  },
  {
   "cell_type": "code",
   "execution_count": 23,
   "id": "550d510b",
   "metadata": {},
   "outputs": [
    {
     "data": {
      "text/plain": [
       "1.0    1339985\n",
       "0.0    1189668\n",
       "Name: pdenrl, dtype: int64"
      ]
     },
     "execution_count": 23,
     "metadata": {},
     "output_type": "execute_result"
    }
   ],
   "source": [
    "longcross_df['pdenrl'].value_counts()"
   ]
  },
  {
   "cell_type": "code",
   "execution_count": 24,
   "id": "daf4a0fd",
   "metadata": {},
   "outputs": [
    {
     "data": {
      "text/plain": [
       "pdenrl\n",
       "0.0    524\n",
       "1.0    441\n",
       "Name: lrrkid, dtype: int64"
      ]
     },
     "execution_count": 24,
     "metadata": {},
     "output_type": "execute_result"
    }
   ],
   "source": [
    "longcross_df.groupby([\"pdenrl\"])[\"lrrkid\"].nunique()"
   ]
  },
  {
   "cell_type": "code",
   "execution_count": 25,
   "id": "35cfecf9",
   "metadata": {},
   "outputs": [
    {
     "data": {
      "text/plain": [
       "gender\n",
       "1.0    517\n",
       "2.0    447\n",
       "Name: lrrkid, dtype: int64"
      ]
     },
     "execution_count": 25,
     "metadata": {},
     "output_type": "execute_result"
    }
   ],
   "source": [
    "longcross_df.groupby([\"gender\"])[\"lrrkid\"].nunique()"
   ]
  },
  {
   "cell_type": "code",
   "execution_count": 26,
   "id": "4082584d",
   "metadata": {},
   "outputs": [
    {
     "data": {
      "text/html": [
       "<div>\n",
       "<style scoped>\n",
       "    .dataframe tbody tr th:only-of-type {\n",
       "        vertical-align: middle;\n",
       "    }\n",
       "\n",
       "    .dataframe tbody tr th {\n",
       "        vertical-align: top;\n",
       "    }\n",
       "\n",
       "    .dataframe thead th {\n",
       "        text-align: right;\n",
       "    }\n",
       "</style>\n",
       "<table border=\"1\" class=\"dataframe\">\n",
       "  <thead>\n",
       "    <tr style=\"text-align: right;\">\n",
       "      <th></th>\n",
       "      <th></th>\n",
       "      <th>lrrkid</th>\n",
       "    </tr>\n",
       "    <tr>\n",
       "      <th>gender</th>\n",
       "      <th>pdenrl</th>\n",
       "      <th></th>\n",
       "    </tr>\n",
       "  </thead>\n",
       "  <tbody>\n",
       "    <tr>\n",
       "      <th rowspan=\"2\" valign=\"top\">1.0</th>\n",
       "      <th>0.0</th>\n",
       "      <td>314</td>\n",
       "    </tr>\n",
       "    <tr>\n",
       "      <th>1.0</th>\n",
       "      <td>204</td>\n",
       "    </tr>\n",
       "    <tr>\n",
       "      <th rowspan=\"2\" valign=\"top\">2.0</th>\n",
       "      <th>0.0</th>\n",
       "      <td>210</td>\n",
       "    </tr>\n",
       "    <tr>\n",
       "      <th>1.0</th>\n",
       "      <td>237</td>\n",
       "    </tr>\n",
       "  </tbody>\n",
       "</table>\n",
       "</div>"
      ],
      "text/plain": [
       "               lrrkid\n",
       "gender pdenrl        \n",
       "1.0    0.0        314\n",
       "       1.0        204\n",
       "2.0    0.0        210\n",
       "       1.0        237"
      ]
     },
     "execution_count": 26,
     "metadata": {},
     "output_type": "execute_result"
    }
   ],
   "source": [
    "df_gender = longcross_df.groupby(['gender','pdenrl'])\n",
    "\n",
    "df_gender = df_gender.agg({'lrrkid':'nunique'})\n",
    "\n",
    "df_gender.head()"
   ]
  },
  {
   "cell_type": "code",
   "execution_count": 27,
   "id": "dd0fcce0",
   "metadata": {},
   "outputs": [],
   "source": [
    "longcross_df =longcross_df.dropna(subset = [\"TESTNAME\",\"TESTVALUE\",\"lrrkid\",\"pdenrl\"])"
   ]
  },
  {
   "cell_type": "code",
   "execution_count": 28,
   "id": "44439803",
   "metadata": {},
   "outputs": [],
   "source": [
    "# Group by \"ID\" and \"Date\" and aggregate \"TestName\" and \"TestValue\" as lists\n",
    "grouped = longcross_df.groupby(['lrrkid', 'RUNDATE']).agg({'TESTNAME': list, 'TESTVALUE': list}).reset_index()"
   ]
  },
  {
   "cell_type": "code",
   "execution_count": 29,
   "id": "8a8a8cc2",
   "metadata": {},
   "outputs": [],
   "source": [
    "# Create a new DataFrame to hold the pivoted data\n",
    "pivot_df = grouped[['lrrkid', 'RUNDATE']]"
   ]
  },
  {
   "cell_type": "code",
   "execution_count": 30,
   "id": "3bf99f2c",
   "metadata": {},
   "outputs": [],
   "source": [
    "# Iterate over the unique \"TestName\" values and create a temporary DataFrame\n",
    "# with the \"TestValue\" for each \"TestName\" in a separate column\n",
    "temp_dfs = []\n",
    "for test_name in longcross_df['TESTNAME'].unique():\n",
    "    temp_df = grouped.apply(lambda row: row['TESTVALUE'][row['TESTNAME'].index(test_name)] if test_name in row['TESTNAME'] else None, axis=1)\n",
    "    temp_dfs.append(temp_df.rename(test_name))"
   ]
  },
  {
   "cell_type": "code",
   "execution_count": 31,
   "id": "68d64875",
   "metadata": {},
   "outputs": [],
   "source": [
    "# Concatenate all temporary DataFrames into the final pivot DataFrame\n",
    "pivot_df = pd.concat([pivot_df] + temp_dfs, axis=1)"
   ]
  },
  {
   "cell_type": "code",
   "execution_count": 32,
   "id": "23e451e5",
   "metadata": {},
   "outputs": [],
   "source": [
    "# Merge with the original DataFrame to keep the other 50 columns\n",
    "pd_df = longcross_df.merge(pivot_df, on=['lrrkid', 'RUNDATE']).drop_duplicates(subset=['lrrkid', 'RUNDATE'])"
   ]
  },
  {
   "cell_type": "code",
   "execution_count": 33,
   "id": "e0a583a3",
   "metadata": {},
   "outputs": [
    {
     "data": {
      "text/html": [
       "<div>\n",
       "<style scoped>\n",
       "    .dataframe tbody tr th:only-of-type {\n",
       "        vertical-align: middle;\n",
       "    }\n",
       "\n",
       "    .dataframe tbody tr th {\n",
       "        vertical-align: top;\n",
       "    }\n",
       "\n",
       "    .dataframe thead th {\n",
       "        text-align: right;\n",
       "    }\n",
       "</style>\n",
       "<table border=\"1\" class=\"dataframe\">\n",
       "  <thead>\n",
       "    <tr style=\"text-align: right;\">\n",
       "      <th></th>\n",
       "      <th>Biomarker_project_type</th>\n",
       "      <th>PR_DATE</th>\n",
       "      <th>Biomarker_PI</th>\n",
       "      <th>Biomarker_institution</th>\n",
       "      <th>Biomarker_projectID</th>\n",
       "      <th>Biomarker_sampletype</th>\n",
       "      <th>TESTNAME</th>\n",
       "      <th>TESTVALUE</th>\n",
       "      <th>UNITS</th>\n",
       "      <th>RUNDATE</th>\n",
       "      <th>...</th>\n",
       "      <th>3,3' di-22:6-BMP</th>\n",
       "      <th>2,2' di-18:1-BMP</th>\n",
       "      <th>2,3' di-18:1-BMP</th>\n",
       "      <th>3,3' di-18:1-BMP</th>\n",
       "      <th>Glucosylcholesterol</th>\n",
       "      <th>Glucosylcholesterol</th>\n",
       "      <th>pS65 Ubiquitin</th>\n",
       "      <th>SM (d18:1/18:0)</th>\n",
       "      <th>GluSph (d18:1)</th>\n",
       "      <th>GalSph (d18:1)</th>\n",
       "    </tr>\n",
       "  </thead>\n",
       "  <tbody>\n",
       "    <tr>\n",
       "      <th>0</th>\n",
       "      <td>AJ_longitudinal</td>\n",
       "      <td>09/04/2015</td>\n",
       "      <td>Schwarzschild</td>\n",
       "      <td>Harvard</td>\n",
       "      <td>108</td>\n",
       "      <td>plasma</td>\n",
       "      <td>(4-Hydroxy-3-methoxyphenyl)ethanol</td>\n",
       "      <td>18197.20741</td>\n",
       "      <td>area</td>\n",
       "      <td>11/29/2018</td>\n",
       "      <td>...</td>\n",
       "      <td>None</td>\n",
       "      <td>None</td>\n",
       "      <td>None</td>\n",
       "      <td>None</td>\n",
       "      <td>None</td>\n",
       "      <td>None</td>\n",
       "      <td>None</td>\n",
       "      <td>None</td>\n",
       "      <td>None</td>\n",
       "      <td>None</td>\n",
       "    </tr>\n",
       "    <tr>\n",
       "      <th>250</th>\n",
       "      <td>AJ_longitudinal</td>\n",
       "      <td>09/04/2015</td>\n",
       "      <td>Schwarzschild</td>\n",
       "      <td>Harvard</td>\n",
       "      <td>108</td>\n",
       "      <td>plasma</td>\n",
       "      <td>BMP di18:1</td>\n",
       "      <td>120278.3244</td>\n",
       "      <td>area</td>\n",
       "      <td>12/08/2018</td>\n",
       "      <td>...</td>\n",
       "      <td>None</td>\n",
       "      <td>None</td>\n",
       "      <td>None</td>\n",
       "      <td>None</td>\n",
       "      <td>None</td>\n",
       "      <td>None</td>\n",
       "      <td>None</td>\n",
       "      <td>None</td>\n",
       "      <td>None</td>\n",
       "      <td>None</td>\n",
       "    </tr>\n",
       "    <tr>\n",
       "      <th>254</th>\n",
       "      <td>AJ_longitudinal</td>\n",
       "      <td>09/04/2015</td>\n",
       "      <td>Schwarzschild</td>\n",
       "      <td>Harvard</td>\n",
       "      <td>108</td>\n",
       "      <td>plasma</td>\n",
       "      <td>CE HODE</td>\n",
       "      <td>129141.2761</td>\n",
       "      <td>area</td>\n",
       "      <td>12/06/2018</td>\n",
       "      <td>...</td>\n",
       "      <td>None</td>\n",
       "      <td>None</td>\n",
       "      <td>None</td>\n",
       "      <td>None</td>\n",
       "      <td>None</td>\n",
       "      <td>None</td>\n",
       "      <td>None</td>\n",
       "      <td>None</td>\n",
       "      <td>None</td>\n",
       "      <td>None</td>\n",
       "    </tr>\n",
       "    <tr>\n",
       "      <th>420</th>\n",
       "      <td>AJ_longitudinal</td>\n",
       "      <td>09/04/2015</td>\n",
       "      <td>Schwarzschild</td>\n",
       "      <td>Harvard</td>\n",
       "      <td>108</td>\n",
       "      <td>plasma</td>\n",
       "      <td>Cholesterol Sulfate</td>\n",
       "      <td>1021448.7409999999</td>\n",
       "      <td>area</td>\n",
       "      <td>12/02/2018</td>\n",
       "      <td>...</td>\n",
       "      <td>None</td>\n",
       "      <td>None</td>\n",
       "      <td>None</td>\n",
       "      <td>None</td>\n",
       "      <td>None</td>\n",
       "      <td>None</td>\n",
       "      <td>None</td>\n",
       "      <td>None</td>\n",
       "      <td>None</td>\n",
       "      <td>None</td>\n",
       "    </tr>\n",
       "    <tr>\n",
       "      <th>498</th>\n",
       "      <td>AJ_longitudinal</td>\n",
       "      <td>09/04/2015</td>\n",
       "      <td>Schwarzschild</td>\n",
       "      <td>Harvard</td>\n",
       "      <td>108</td>\n",
       "      <td>plasma</td>\n",
       "      <td>CL (72:7/18:2)</td>\n",
       "      <td>1676.911014</td>\n",
       "      <td>area</td>\n",
       "      <td>12/17/2018</td>\n",
       "      <td>...</td>\n",
       "      <td>None</td>\n",
       "      <td>None</td>\n",
       "      <td>None</td>\n",
       "      <td>None</td>\n",
       "      <td>None</td>\n",
       "      <td>None</td>\n",
       "      <td>None</td>\n",
       "      <td>None</td>\n",
       "      <td>None</td>\n",
       "      <td>None</td>\n",
       "    </tr>\n",
       "  </tbody>\n",
       "</table>\n",
       "<p>5 rows × 4373 columns</p>\n",
       "</div>"
      ],
      "text/plain": [
       "    Biomarker_project_type     PR_DATE   Biomarker_PI Biomarker_institution  \\\n",
       "0          AJ_longitudinal  09/04/2015  Schwarzschild               Harvard   \n",
       "250        AJ_longitudinal  09/04/2015  Schwarzschild               Harvard   \n",
       "254        AJ_longitudinal  09/04/2015  Schwarzschild               Harvard   \n",
       "420        AJ_longitudinal  09/04/2015  Schwarzschild               Harvard   \n",
       "498        AJ_longitudinal  09/04/2015  Schwarzschild               Harvard   \n",
       "\n",
       "     Biomarker_projectID Biomarker_sampletype  \\\n",
       "0                    108               plasma   \n",
       "250                  108               plasma   \n",
       "254                  108               plasma   \n",
       "420                  108               plasma   \n",
       "498                  108               plasma   \n",
       "\n",
       "                               TESTNAME           TESTVALUE UNITS     RUNDATE  \\\n",
       "0    (4-Hydroxy-3-methoxyphenyl)ethanol         18197.20741  area  11/29/2018   \n",
       "250                          BMP di18:1         120278.3244  area  12/08/2018   \n",
       "254                             CE HODE         129141.2761  area  12/06/2018   \n",
       "420                 Cholesterol Sulfate  1021448.7409999999  area  12/02/2018   \n",
       "498                      CL (72:7/18:2)         1676.911014  area  12/17/2018   \n",
       "\n",
       "     ... 3,3' di-22:6-BMP 2,2' di-18:1-BMP 2,3' di-18:1-BMP  3,3' di-18:1-BMP  \\\n",
       "0    ...             None             None             None              None   \n",
       "250  ...             None             None             None              None   \n",
       "254  ...             None             None             None              None   \n",
       "420  ...             None             None             None              None   \n",
       "498  ...             None             None             None              None   \n",
       "\n",
       "     Glucosylcholesterol   Glucosylcholesterol pS65 Ubiquitin SM (d18:1/18:0)  \\\n",
       "0                    None                 None           None            None   \n",
       "250                  None                 None           None            None   \n",
       "254                  None                 None           None            None   \n",
       "420                  None                 None           None            None   \n",
       "498                  None                 None           None            None   \n",
       "\n",
       "     GluSph (d18:1) GalSph (d18:1)  \n",
       "0              None           None  \n",
       "250            None           None  \n",
       "254            None           None  \n",
       "420            None           None  \n",
       "498            None           None  \n",
       "\n",
       "[5 rows x 4373 columns]"
      ]
     },
     "execution_count": 33,
     "metadata": {},
     "output_type": "execute_result"
    }
   ],
   "source": [
    "pd_df.head()"
   ]
  },
  {
   "cell_type": "code",
   "execution_count": 34,
   "id": "c84e440b",
   "metadata": {},
   "outputs": [],
   "source": [
    "pd_df.to_csv(\"Data/PDDF.csv\",index=False)"
   ]
  },
  {
   "cell_type": "code",
   "execution_count": 35,
   "id": "26d71df0",
   "metadata": {},
   "outputs": [
    {
     "data": {
      "text/plain": [
       "Z                                                                                                             2722\n",
       "anxiety                                                                                                         30\n",
       "Hypertension                                                                                                    19\n",
       "migraine                                                                                                        14\n",
       "BRAIN TUMOR                                                                                                     11\n",
       "Peripheral neuropathy                                                                                           10\n",
       "cerebral tumour (glioblastoma grade IV), secondary focal epilepsy                                               10\n",
       "lyme disease                                                                                                     9\n",
       "Multiple sclerosis                                                                                               9\n",
       "multiple sclerosis                                                                                               9\n",
       "ANXIETY ATTACKS                                                                                                  9\n",
       "MIGRAINE                                                                                                         9\n",
       "Apnea syndrome treated with CPAP                                                                                 7\n",
       "RLS secondary to renal failure, reactive depression when undergoing dyalisis                                     6\n",
       "meningitis in childhood                                                                                          6\n",
       "carpal tunnel syndrome                                                                                           5\n",
       "common migraine                                                                                                  5\n",
       "Acoustic Neuroma                                                                                                 5\n",
       "meningitis                                                                                                       5\n",
       "Polyneuropathy, trigeminus neuralgia left, cerebral microangiopathy                                              4\n",
       "meningioma                                                                                                       3\n",
       "PD                                                                                                               3\n",
       "optic neuritis                                                                                                   3\n",
       "they deny having RLS but suitable symptoms, not diagnosed of depression but scales suggest he is depressed       2\n",
       "MIGRAINE WITHOUT AURA                                                                                            2\n",
       "Parkinson disease                                                                                                2\n",
       "nonREM parasonmnia (sleep walking)                                                                               2\n",
       "possible Sleep apnea-hypopnea?                                                                                   2\n",
       "Name: CNSOTHCM, dtype: int64"
      ]
     },
     "execution_count": 35,
     "metadata": {},
     "output_type": "execute_result"
    }
   ],
   "source": [
    "pd_df['CNSOTHCM'].value_counts()"
   ]
  },
  {
   "cell_type": "code",
   "execution_count": 36,
   "id": "ee08422c",
   "metadata": {},
   "outputs": [],
   "source": [
    "# generate binary values using get_dummies\n",
    "dum_df = pd.get_dummies(pd_df, columns=[\"CNSOTHCM\"] )\n",
    "\n",
    "# merge with main df bridge_df on key values\n",
    "pd_df = pd_df.merge(dum_df, how='left')"
   ]
  },
  {
   "cell_type": "code",
   "execution_count": 37,
   "id": "bd152a0e",
   "metadata": {},
   "outputs": [
    {
     "data": {
      "text/html": [
       "<div>\n",
       "<style scoped>\n",
       "    .dataframe tbody tr th:only-of-type {\n",
       "        vertical-align: middle;\n",
       "    }\n",
       "\n",
       "    .dataframe tbody tr th {\n",
       "        vertical-align: top;\n",
       "    }\n",
       "\n",
       "    .dataframe thead th {\n",
       "        text-align: right;\n",
       "    }\n",
       "</style>\n",
       "<table border=\"1\" class=\"dataframe\">\n",
       "  <thead>\n",
       "    <tr style=\"text-align: right;\">\n",
       "      <th></th>\n",
       "      <th>Biomarker_project_type</th>\n",
       "      <th>PR_DATE</th>\n",
       "      <th>Biomarker_PI</th>\n",
       "      <th>Biomarker_institution</th>\n",
       "      <th>Biomarker_projectID</th>\n",
       "      <th>Biomarker_sampletype</th>\n",
       "      <th>TESTNAME</th>\n",
       "      <th>TESTVALUE</th>\n",
       "      <th>UNITS</th>\n",
       "      <th>RUNDATE</th>\n",
       "      <th>...</th>\n",
       "      <th>CNSOTHCM_lyme disease</th>\n",
       "      <th>CNSOTHCM_meningioma</th>\n",
       "      <th>CNSOTHCM_meningitis</th>\n",
       "      <th>CNSOTHCM_meningitis in childhood</th>\n",
       "      <th>CNSOTHCM_migraine</th>\n",
       "      <th>CNSOTHCM_multiple sclerosis</th>\n",
       "      <th>CNSOTHCM_nonREM parasonmnia (sleep walking)</th>\n",
       "      <th>CNSOTHCM_optic neuritis</th>\n",
       "      <th>CNSOTHCM_possible Sleep apnea-hypopnea?</th>\n",
       "      <th>CNSOTHCM_they deny having RLS but suitable symptoms, not diagnosed of depression but scales suggest he is depressed</th>\n",
       "    </tr>\n",
       "  </thead>\n",
       "  <tbody>\n",
       "    <tr>\n",
       "      <th>0</th>\n",
       "      <td>AJ_longitudinal</td>\n",
       "      <td>09/04/2015</td>\n",
       "      <td>Schwarzschild</td>\n",
       "      <td>Harvard</td>\n",
       "      <td>108</td>\n",
       "      <td>plasma</td>\n",
       "      <td>(4-Hydroxy-3-methoxyphenyl)ethanol</td>\n",
       "      <td>18197.20741</td>\n",
       "      <td>area</td>\n",
       "      <td>11/29/2018</td>\n",
       "      <td>...</td>\n",
       "      <td>0</td>\n",
       "      <td>0</td>\n",
       "      <td>0</td>\n",
       "      <td>0</td>\n",
       "      <td>0</td>\n",
       "      <td>0</td>\n",
       "      <td>0</td>\n",
       "      <td>0</td>\n",
       "      <td>0</td>\n",
       "      <td>0</td>\n",
       "    </tr>\n",
       "    <tr>\n",
       "      <th>1</th>\n",
       "      <td>AJ_longitudinal</td>\n",
       "      <td>09/04/2015</td>\n",
       "      <td>Schwarzschild</td>\n",
       "      <td>Harvard</td>\n",
       "      <td>108</td>\n",
       "      <td>plasma</td>\n",
       "      <td>BMP di18:1</td>\n",
       "      <td>120278.3244</td>\n",
       "      <td>area</td>\n",
       "      <td>12/08/2018</td>\n",
       "      <td>...</td>\n",
       "      <td>0</td>\n",
       "      <td>0</td>\n",
       "      <td>0</td>\n",
       "      <td>0</td>\n",
       "      <td>0</td>\n",
       "      <td>0</td>\n",
       "      <td>0</td>\n",
       "      <td>0</td>\n",
       "      <td>0</td>\n",
       "      <td>0</td>\n",
       "    </tr>\n",
       "    <tr>\n",
       "      <th>2</th>\n",
       "      <td>AJ_longitudinal</td>\n",
       "      <td>09/04/2015</td>\n",
       "      <td>Schwarzschild</td>\n",
       "      <td>Harvard</td>\n",
       "      <td>108</td>\n",
       "      <td>plasma</td>\n",
       "      <td>CE HODE</td>\n",
       "      <td>129141.2761</td>\n",
       "      <td>area</td>\n",
       "      <td>12/06/2018</td>\n",
       "      <td>...</td>\n",
       "      <td>0</td>\n",
       "      <td>0</td>\n",
       "      <td>0</td>\n",
       "      <td>0</td>\n",
       "      <td>0</td>\n",
       "      <td>0</td>\n",
       "      <td>0</td>\n",
       "      <td>0</td>\n",
       "      <td>0</td>\n",
       "      <td>0</td>\n",
       "    </tr>\n",
       "    <tr>\n",
       "      <th>3</th>\n",
       "      <td>AJ_longitudinal</td>\n",
       "      <td>09/04/2015</td>\n",
       "      <td>Schwarzschild</td>\n",
       "      <td>Harvard</td>\n",
       "      <td>108</td>\n",
       "      <td>plasma</td>\n",
       "      <td>Cholesterol Sulfate</td>\n",
       "      <td>1021448.7409999999</td>\n",
       "      <td>area</td>\n",
       "      <td>12/02/2018</td>\n",
       "      <td>...</td>\n",
       "      <td>0</td>\n",
       "      <td>0</td>\n",
       "      <td>0</td>\n",
       "      <td>0</td>\n",
       "      <td>0</td>\n",
       "      <td>0</td>\n",
       "      <td>0</td>\n",
       "      <td>0</td>\n",
       "      <td>0</td>\n",
       "      <td>0</td>\n",
       "    </tr>\n",
       "    <tr>\n",
       "      <th>4</th>\n",
       "      <td>AJ_longitudinal</td>\n",
       "      <td>09/04/2015</td>\n",
       "      <td>Schwarzschild</td>\n",
       "      <td>Harvard</td>\n",
       "      <td>108</td>\n",
       "      <td>plasma</td>\n",
       "      <td>CL (72:7/18:2)</td>\n",
       "      <td>1676.911014</td>\n",
       "      <td>area</td>\n",
       "      <td>12/17/2018</td>\n",
       "      <td>...</td>\n",
       "      <td>0</td>\n",
       "      <td>0</td>\n",
       "      <td>0</td>\n",
       "      <td>0</td>\n",
       "      <td>0</td>\n",
       "      <td>0</td>\n",
       "      <td>0</td>\n",
       "      <td>0</td>\n",
       "      <td>0</td>\n",
       "      <td>0</td>\n",
       "    </tr>\n",
       "  </tbody>\n",
       "</table>\n",
       "<p>5 rows × 4401 columns</p>\n",
       "</div>"
      ],
      "text/plain": [
       "  Biomarker_project_type     PR_DATE   Biomarker_PI Biomarker_institution  \\\n",
       "0        AJ_longitudinal  09/04/2015  Schwarzschild               Harvard   \n",
       "1        AJ_longitudinal  09/04/2015  Schwarzschild               Harvard   \n",
       "2        AJ_longitudinal  09/04/2015  Schwarzschild               Harvard   \n",
       "3        AJ_longitudinal  09/04/2015  Schwarzschild               Harvard   \n",
       "4        AJ_longitudinal  09/04/2015  Schwarzschild               Harvard   \n",
       "\n",
       "   Biomarker_projectID Biomarker_sampletype  \\\n",
       "0                  108               plasma   \n",
       "1                  108               plasma   \n",
       "2                  108               plasma   \n",
       "3                  108               plasma   \n",
       "4                  108               plasma   \n",
       "\n",
       "                             TESTNAME           TESTVALUE UNITS     RUNDATE  \\\n",
       "0  (4-Hydroxy-3-methoxyphenyl)ethanol         18197.20741  area  11/29/2018   \n",
       "1                          BMP di18:1         120278.3244  area  12/08/2018   \n",
       "2                             CE HODE         129141.2761  area  12/06/2018   \n",
       "3                 Cholesterol Sulfate  1021448.7409999999  area  12/02/2018   \n",
       "4                      CL (72:7/18:2)         1676.911014  area  12/17/2018   \n",
       "\n",
       "   ... CNSOTHCM_lyme disease CNSOTHCM_meningioma CNSOTHCM_meningitis  \\\n",
       "0  ...                     0                   0                   0   \n",
       "1  ...                     0                   0                   0   \n",
       "2  ...                     0                   0                   0   \n",
       "3  ...                     0                   0                   0   \n",
       "4  ...                     0                   0                   0   \n",
       "\n",
       "   CNSOTHCM_meningitis in childhood  CNSOTHCM_migraine  \\\n",
       "0                                 0                  0   \n",
       "1                                 0                  0   \n",
       "2                                 0                  0   \n",
       "3                                 0                  0   \n",
       "4                                 0                  0   \n",
       "\n",
       "   CNSOTHCM_multiple sclerosis CNSOTHCM_nonREM parasonmnia (sleep walking)  \\\n",
       "0                            0                                           0   \n",
       "1                            0                                           0   \n",
       "2                            0                                           0   \n",
       "3                            0                                           0   \n",
       "4                            0                                           0   \n",
       "\n",
       "  CNSOTHCM_optic neuritis  CNSOTHCM_possible Sleep apnea-hypopnea?  \\\n",
       "0                       0                                        0   \n",
       "1                       0                                        0   \n",
       "2                       0                                        0   \n",
       "3                       0                                        0   \n",
       "4                       0                                        0   \n",
       "\n",
       "  CNSOTHCM_they deny having RLS but suitable symptoms, not diagnosed of depression but scales suggest he is depressed  \n",
       "0                                                  0                                                                   \n",
       "1                                                  0                                                                   \n",
       "2                                                  0                                                                   \n",
       "3                                                  0                                                                   \n",
       "4                                                  0                                                                   \n",
       "\n",
       "[5 rows x 4401 columns]"
      ]
     },
     "execution_count": 37,
     "metadata": {},
     "output_type": "execute_result"
    }
   ],
   "source": [
    "pd_df.head()"
   ]
  },
  {
   "cell_type": "code",
   "execution_count": 38,
   "id": "f8f2131f",
   "metadata": {},
   "outputs": [
    {
     "data": {
      "text/plain": [
       "11861"
      ]
     },
     "execution_count": 38,
     "metadata": {},
     "output_type": "execute_result"
    }
   ],
   "source": [
    "len(pd_df)"
   ]
  },
  {
   "cell_type": "code",
   "execution_count": 39,
   "id": "e2f49b4a",
   "metadata": {},
   "outputs": [
    {
     "data": {
      "text/html": [
       "<div>\n",
       "<style scoped>\n",
       "    .dataframe tbody tr th:only-of-type {\n",
       "        vertical-align: middle;\n",
       "    }\n",
       "\n",
       "    .dataframe tbody tr th {\n",
       "        vertical-align: top;\n",
       "    }\n",
       "\n",
       "    .dataframe thead th {\n",
       "        text-align: right;\n",
       "    }\n",
       "</style>\n",
       "<table border=\"1\" class=\"dataframe\">\n",
       "  <thead>\n",
       "    <tr style=\"text-align: right;\">\n",
       "      <th></th>\n",
       "      <th></th>\n",
       "      <th>lrrkid</th>\n",
       "    </tr>\n",
       "    <tr>\n",
       "      <th>gender</th>\n",
       "      <th>pdenrl</th>\n",
       "      <th></th>\n",
       "    </tr>\n",
       "  </thead>\n",
       "  <tbody>\n",
       "    <tr>\n",
       "      <th rowspan=\"2\" valign=\"top\">1.0</th>\n",
       "      <th>0.0</th>\n",
       "      <td>314</td>\n",
       "    </tr>\n",
       "    <tr>\n",
       "      <th>1.0</th>\n",
       "      <td>204</td>\n",
       "    </tr>\n",
       "    <tr>\n",
       "      <th rowspan=\"2\" valign=\"top\">2.0</th>\n",
       "      <th>0.0</th>\n",
       "      <td>210</td>\n",
       "    </tr>\n",
       "    <tr>\n",
       "      <th>1.0</th>\n",
       "      <td>237</td>\n",
       "    </tr>\n",
       "  </tbody>\n",
       "</table>\n",
       "</div>"
      ],
      "text/plain": [
       "               lrrkid\n",
       "gender pdenrl        \n",
       "1.0    0.0        314\n",
       "       1.0        204\n",
       "2.0    0.0        210\n",
       "       1.0        237"
      ]
     },
     "execution_count": 39,
     "metadata": {},
     "output_type": "execute_result"
    }
   ],
   "source": [
    "df_gender = pd_df.groupby(['gender','pdenrl'])\n",
    "\n",
    "df_gender = df_gender.agg({'lrrkid':'nunique'})\n",
    "\n",
    "df_gender.head()"
   ]
  },
  {
   "cell_type": "code",
   "execution_count": 40,
   "id": "81e9a687",
   "metadata": {},
   "outputs": [
    {
     "data": {
      "text/plain": [
       "0"
      ]
     },
     "execution_count": 40,
     "metadata": {},
     "output_type": "execute_result"
    }
   ],
   "source": [
    "pd_df['gender'].isnull().sum()"
   ]
  },
  {
   "cell_type": "code",
   "execution_count": 41,
   "id": "46c4a306",
   "metadata": {},
   "outputs": [
    {
     "data": {
      "text/plain": [
       "258"
      ]
     },
     "execution_count": 41,
     "metadata": {},
     "output_type": "execute_result"
    }
   ],
   "source": [
    "pd_df['STROKE'].isnull().sum()"
   ]
  },
  {
   "cell_type": "code",
   "execution_count": 42,
   "id": "2eaea734",
   "metadata": {},
   "outputs": [
    {
     "data": {
      "text/plain": [
       "263"
      ]
     },
     "execution_count": 42,
     "metadata": {},
     "output_type": "execute_result"
    }
   ],
   "source": [
    "pd_df['MCATOT'].isnull().sum()\n",
    " "
   ]
  },
  {
   "cell_type": "code",
   "execution_count": 43,
   "id": "c964093d",
   "metadata": {},
   "outputs": [
    {
     "data": {
      "text/plain": [
       "8391"
      ]
     },
     "execution_count": 43,
     "metadata": {},
     "output_type": "execute_result"
    }
   ],
   "source": [
    "pd_df['nupdrs1p_ageassess'].isnull().sum()\n"
   ]
  },
  {
   "cell_type": "code",
   "execution_count": 44,
   "id": "b0712150",
   "metadata": {},
   "outputs": [
    {
     "data": {
      "text/plain": [
       "3643"
      ]
     },
     "execution_count": 44,
     "metadata": {},
     "output_type": "execute_result"
    }
   ],
   "source": [
    "pd_df['pdmedyn'].isnull().sum()\n"
   ]
  },
  {
   "cell_type": "code",
   "execution_count": 45,
   "id": "2c13befc",
   "metadata": {},
   "outputs": [
    {
     "data": {
      "text/plain": [
       "156"
      ]
     },
     "execution_count": 45,
     "metadata": {},
     "output_type": "execute_result"
    }
   ],
   "source": [
    "pd_df['moca_ageassess'].isnull().sum()\n",
    " "
   ]
  },
  {
   "cell_type": "code",
   "execution_count": 46,
   "id": "545dfc4f",
   "metadata": {},
   "outputs": [
    {
     "data": {
      "text/plain": [
       "8391"
      ]
     },
     "execution_count": 46,
     "metadata": {},
     "output_type": "execute_result"
    }
   ],
   "source": [
    "pd_df['nupdrs1p_ageassess'].isnull().sum()\n",
    " "
   ]
  },
  {
   "cell_type": "code",
   "execution_count": 47,
   "id": "954fef1b",
   "metadata": {},
   "outputs": [
    {
     "data": {
      "text/plain": [
       "8391"
      ]
     },
     "execution_count": 47,
     "metadata": {},
     "output_type": "execute_result"
    }
   ],
   "source": [
    "pd_df['nupdrs2p_ageassess'].isnull().sum()"
   ]
  },
  {
   "cell_type": "code",
   "execution_count": 48,
   "id": "3965c2d6",
   "metadata": {},
   "outputs": [
    {
     "data": {
      "text/plain": [
       "8391"
      ]
     },
     "execution_count": 48,
     "metadata": {},
     "output_type": "execute_result"
    }
   ],
   "source": [
    "pd_df['nupdrs3_ageassess'].isnull().sum()"
   ]
  },
  {
   "cell_type": "code",
   "execution_count": 49,
   "id": "421db287",
   "metadata": {},
   "outputs": [
    {
     "data": {
      "text/plain": [
       "<AxesSubplot:ylabel='MCATOT'>"
      ]
     },
     "execution_count": 49,
     "metadata": {},
     "output_type": "execute_result"
    },
    {
     "data": {
      "image/png": "[encoded data removed]",
      "text/plain": [
       "<Figure size 432x288 with 1 Axes>"
      ]
     },
     "metadata": {
      "needs_background": "light"
     },
     "output_type": "display_data"
    }
   ],
   "source": [
    "import seaborn as sns\n",
    "import matplotlib.pyplot as plt\n",
    "\n",
    "sns.boxplot(y = pd_df['MCATOT'])"
   ]
  },
  {
   "cell_type": "code",
   "execution_count": 50,
   "id": "2b025209",
   "metadata": {},
   "outputs": [
    {
     "data": {
      "text/plain": [
       "<AxesSubplot:>"
      ]
     },
     "execution_count": 50,
     "metadata": {},
     "output_type": "execute_result"
    },
    {
     "data": {
      "image/png": "[encoded data removed]",
      "text/plain": [
       "<Figure size 432x288 with 1 Axes>"
      ]
     },
     "metadata": {
      "needs_background": "light"
     },
     "output_type": "display_data"
    }
   ],
   "source": [
    "pd_df['MCATOT'].hist()"
   ]
  },
  {
   "cell_type": "code",
   "execution_count": 51,
   "id": "06035b83",
   "metadata": {},
   "outputs": [
    {
     "data": {
      "text/plain": [
       "count    11598.000000\n",
       "mean        25.960338\n",
       "std          3.601037\n",
       "min          3.000000\n",
       "25%         24.000000\n",
       "50%         27.000000\n",
       "75%         28.000000\n",
       "max         30.000000\n",
       "Name: MCATOT, dtype: float64"
      ]
     },
     "execution_count": 51,
     "metadata": {},
     "output_type": "execute_result"
    }
   ],
   "source": [
    "pd_df['MCATOT'].describe()"
   ]
  },
  {
   "cell_type": "code",
   "execution_count": 52,
   "id": "036fd95d",
   "metadata": {},
   "outputs": [
    {
     "data": {
      "text/plain": [
       "1586"
      ]
     },
     "execution_count": 52,
     "metadata": {},
     "output_type": "execute_result"
    }
   ],
   "source": [
    "pd_df['updrs1'].isnull().sum()"
   ]
  },
  {
   "cell_type": "code",
   "execution_count": 53,
   "id": "0d2f16d2",
   "metadata": {},
   "outputs": [
    {
     "data": {
      "text/plain": [
       "<AxesSubplot:>"
      ]
     },
     "execution_count": 53,
     "metadata": {},
     "output_type": "execute_result"
    },
    {
     "data": {
      "image/png": "[encoded data removed]",
      "text/plain": [
       "<Figure size 432x288 with 1 Axes>"
      ]
     },
     "metadata": {
      "needs_background": "light"
     },
     "output_type": "display_data"
    }
   ],
   "source": [
    "pd_df['updrs1'].hist()"
   ]
  },
  {
   "cell_type": "code",
   "execution_count": 54,
   "id": "d9bac2dd",
   "metadata": {},
   "outputs": [
    {
     "data": {
      "text/plain": [
       "156"
      ]
     },
     "execution_count": 54,
     "metadata": {},
     "output_type": "execute_result"
    }
   ],
   "source": [
    "pd_df['moca_ageassess'].isnull().sum()"
   ]
  },
  {
   "cell_type": "code",
   "execution_count": 55,
   "id": "333efd29",
   "metadata": {},
   "outputs": [
    {
     "name": "stdout",
     "output_type": "stream",
     "text": [
      "float64\n"
     ]
    }
   ],
   "source": [
    "print(pd_df['moca_ageassess'].dtype)"
   ]
  },
  {
   "cell_type": "code",
   "execution_count": 56,
   "id": "41cbd694",
   "metadata": {},
   "outputs": [
    {
     "name": "stdout",
     "output_type": "stream",
     "text": [
      "Min Age : 18.0\n",
      "Max Age : 90.0\n",
      "Age range: 72.0\n"
     ]
    }
   ],
   "source": [
    "age_range = pd_df['moca_ageassess'].max() - pd_df['moca_ageassess'].min()\n",
    "\n",
    "max_age = pd_df['moca_ageassess'].max()\n",
    "\n",
    "min_age = pd_df['moca_ageassess'].min()\n",
    "\n",
    "print(f\"Min Age : {min_age}\")\n",
    "\n",
    "print(f\"Max Age : {max_age}\")\n",
    "\n",
    "print(f\"Age range: {age_range}\")"
   ]
  },
  {
   "cell_type": "code",
   "execution_count": 57,
   "id": "6be13355",
   "metadata": {},
   "outputs": [
    {
     "data": {
      "text/plain": [
       "2243"
      ]
     },
     "execution_count": 57,
     "metadata": {},
     "output_type": "execute_result"
    }
   ],
   "source": [
    "pd_df['demopd_ageassess'].isnull().sum()"
   ]
  },
  {
   "cell_type": "code",
   "execution_count": 58,
   "id": "34cf271b",
   "metadata": {},
   "outputs": [
    {
     "name": "stdout",
     "output_type": "stream",
     "text": [
      "float64\n"
     ]
    }
   ],
   "source": [
    "print(pd_df['demopd_ageassess'].dtype)"
   ]
  },
  {
   "cell_type": "code",
   "execution_count": 59,
   "id": "3e91faf0",
   "metadata": {},
   "outputs": [
    {
     "name": "stdout",
     "output_type": "stream",
     "text": [
      "Min Age : 20.0\n",
      "Max Age : 90.0\n",
      "Age range: 70.0\n"
     ]
    }
   ],
   "source": [
    "age_range = pd_df['demopd_ageassess'].max() - pd_df['demopd_ageassess'].min()\n",
    "\n",
    "max_age = pd_df['demopd_ageassess'].max()\n",
    "\n",
    "min_age = pd_df['demopd_ageassess'].min()\n",
    "\n",
    "print(f\"Min Age : {min_age}\")\n",
    "\n",
    "print(f\"Max Age : {max_age}\")\n",
    "\n",
    "print(f\"Age range: {age_range}\")"
   ]
  },
  {
   "cell_type": "code",
   "execution_count": 60,
   "id": "96c9cf00",
   "metadata": {},
   "outputs": [
    {
     "name": "stdout",
     "output_type": "stream",
     "text": [
      "Mean age: 59.35\n",
      "Standard deviation of age: 13.74\n"
     ]
    }
   ],
   "source": [
    "age_mean = pd_df['demopd_ageassess'].mean()\n",
    "age_std = pd_df['demopd_ageassess'].std()\n",
    "\n",
    "\n",
    "# Print the calculated statistics\n",
    "print(f\"Mean age: {age_mean:.2f}\")\n",
    "print(f\"Standard deviation of age: {age_std:.2f}\")\n"
   ]
  },
  {
   "cell_type": "code",
   "execution_count": 61,
   "id": "89cbf3c3",
   "metadata": {},
   "outputs": [
    {
     "data": {
      "text/plain": [
       "count    9618.000000\n",
       "mean       59.352152\n",
       "std        13.740439\n",
       "min        20.000000\n",
       "25%        50.000000\n",
       "50%        61.000000\n",
       "75%        69.000000\n",
       "max        90.000000\n",
       "Name: demopd_ageassess, dtype: float64"
      ]
     },
     "execution_count": 61,
     "metadata": {},
     "output_type": "execute_result"
    }
   ],
   "source": [
    "pd_df['demopd_ageassess'].describe()"
   ]
  },
  {
   "cell_type": "code",
   "execution_count": 62,
   "id": "caeadcb6",
   "metadata": {},
   "outputs": [
    {
     "data": {
      "text/plain": [
       "<AxesSubplot:ylabel='demopd_ageassess'>"
      ]
     },
     "execution_count": 62,
     "metadata": {},
     "output_type": "execute_result"
    },
    {
     "data": {
      "image/png": "[encoded data removed]",
      "text/plain": [
       "<Figure size 432x288 with 1 Axes>"
      ]
     },
     "metadata": {
      "needs_background": "light"
     },
     "output_type": "display_data"
    }
   ],
   "source": [
    "sns.boxplot(y = pd_df['demopd_ageassess'])"
   ]
  },
  {
   "cell_type": "code",
   "execution_count": 63,
   "id": "c93f1475",
   "metadata": {},
   "outputs": [
    {
     "data": {
      "image/png": "[encoded data removed]",
      "text/plain": [
       "<Figure size 432x288 with 1 Axes>"
      ]
     },
     "metadata": {
      "needs_background": "light"
     },
     "output_type": "display_data"
    }
   ],
   "source": [
    "\n",
    "plt.hist(pd_df['demopd_ageassess'], edgecolor='black')\n",
    "\n",
    "\n",
    "mean = np.mean(pd_df['demopd_ageassess'])\n",
    "\n",
    "\n",
    "plt.axvline(mean, color='red', linestyle='dashed', linewidth=1.25)\n",
    "\n",
    "\n",
    "plt.xlabel('Moca Age')\n",
    "plt.ylabel('Frequency')\n",
    "\n",
    "\n",
    "plt.show()"
   ]
  },
  {
   "cell_type": "code",
   "execution_count": 64,
   "id": "72b0cacb",
   "metadata": {},
   "outputs": [
    {
     "data": {
      "text/plain": [
       "<AxesSubplot:>"
      ]
     },
     "execution_count": 64,
     "metadata": {},
     "output_type": "execute_result"
    },
    {
     "data": {
      "image/png": "[encoded data removed]",
      "text/plain": [
       "<Figure size 432x288 with 1 Axes>"
      ]
     },
     "metadata": {
      "needs_background": "light"
     },
     "output_type": "display_data"
    }
   ],
   "source": [
    "pd_df['demopd_ageassess'].hist()"
   ]
  },
  {
   "cell_type": "code",
   "execution_count": 65,
   "id": "b152ddf2",
   "metadata": {},
   "outputs": [
    {
     "data": {
      "text/plain": [
       "count    11705.000000\n",
       "mean        59.706279\n",
       "std         13.188730\n",
       "min         18.000000\n",
       "25%         51.000000\n",
       "50%         61.000000\n",
       "75%         69.000000\n",
       "max         90.000000\n",
       "Name: moca_ageassess, dtype: float64"
      ]
     },
     "execution_count": 65,
     "metadata": {},
     "output_type": "execute_result"
    }
   ],
   "source": [
    "pd_df['moca_ageassess'].describe()"
   ]
  },
  {
   "cell_type": "code",
   "execution_count": 66,
   "id": "42cf8c49",
   "metadata": {},
   "outputs": [
    {
     "data": {
      "text/plain": [
       "<AxesSubplot:ylabel='moca_ageassess'>"
      ]
     },
     "execution_count": 66,
     "metadata": {},
     "output_type": "execute_result"
    },
    {
     "data": {
      "image/png": "[encoded data removed]",
      "text/plain": [
       "<Figure size 432x288 with 1 Axes>"
      ]
     },
     "metadata": {
      "needs_background": "light"
     },
     "output_type": "display_data"
    }
   ],
   "source": [
    "sns.boxplot(y = pd_df['moca_ageassess'])"
   ]
  },
  {
   "cell_type": "code",
   "execution_count": 67,
   "id": "ed34897d",
   "metadata": {},
   "outputs": [
    {
     "data": {
      "text/plain": [
       "<AxesSubplot:>"
      ]
     },
     "execution_count": 67,
     "metadata": {},
     "output_type": "execute_result"
    },
    {
     "data": {
      "image/png": "[encoded data removed]",
      "text/plain": [
       "<Figure size 432x288 with 1 Axes>"
      ]
     },
     "metadata": {
      "needs_background": "light"
     },
     "output_type": "display_data"
    }
   ],
   "source": [
    "pd_df['moca_ageassess'].hist()"
   ]
  },
  {
   "cell_type": "code",
   "execution_count": 68,
   "id": "cc6286b1",
   "metadata": {},
   "outputs": [
    {
     "data": {
      "image/png": "[encoded data removed]",
      "text/plain": [
       "<Figure size 432x288 with 1 Axes>"
      ]
     },
     "metadata": {
      "needs_background": "light"
     },
     "output_type": "display_data"
    }
   ],
   "source": [
    "\n",
    "plt.hist(pd_df['moca_ageassess'],alpha=.6, color='blue', edgecolor='black')\n",
    "\n",
    "mean = np.mean(pd_df['moca_ageassess'])\n",
    "\n",
    "plt.axvline(mean, color='red', linestyle='dashed', linewidth=1.2)\n",
    "\n",
    "\n",
    "plt.xlabel('Moca Age')\n",
    "plt.ylabel('Frequency')\n",
    "\n",
    "plt.show()"
   ]
  },
  {
   "cell_type": "code",
   "execution_count": 69,
   "id": "3e1da10c",
   "metadata": {},
   "outputs": [
    {
     "name": "stdout",
     "output_type": "stream",
     "text": [
      "PR_DATE            0\n",
      "RUNDATE            0\n",
      "STROKE           258\n",
      "HETRA            258\n",
      "PARKISM         1759\n",
      "RLS              286\n",
      "NARCLPSY         258\n",
      "DEPRS           1757\n",
      "EPILEPSY        1757\n",
      "BRNINFM          258\n",
      "CNSOTH           372\n",
      "CNSOTHCM        8938\n",
      "SCAU26AT        8956\n",
      "SCAU26BT        8862\n",
      "SCAU26CT        8346\n",
      "SCAU26DT        9149\n",
      "LDOPRTYP        4060\n",
      "LDOPRSPC        5800\n",
      "DCLPDO5Y        8513\n",
      "GBA_var         5322\n",
      "GBA_status      5322\n",
      "LRRK2_var       5322\n",
      "LRRK2_status    5322\n",
      "APOE            5322\n",
      "dtype: int64\n"
     ]
    }
   ],
   "source": [
    "columns_to_check = ['PR_DATE','RUNDATE','STROKE','HETRA','PARKISM','RLS','NARCLPSY','DEPRS','EPILEPSY','BRNINFM','CNSOTH','CNSOTHCM',\n",
    "                    'SCAU26AT', 'SCAU26BT', 'SCAU26CT','SCAU26DT','LDOPRTYP','LDOPRSPC','DCLPDO5Y','GBA_var',\n",
    "                    'GBA_status','LRRK2_var','LRRK2_status','APOE']\n",
    "\n",
    "# Check for null values in the specified columns\n",
    "null_check = pd_df[columns_to_check].isnull().sum()\n",
    "\n",
    "\n",
    "print(null_check)"
   ]
  },
  {
   "cell_type": "code",
   "execution_count": 70,
   "id": "89359837",
   "metadata": {},
   "outputs": [
    {
     "data": {
      "text/plain": [
       "1    2721\n",
       "Z    2593\n",
       "2    2317\n",
       "4     126\n",
       "3      44\n",
       "Name: LDOPRTYP, dtype: int64"
      ]
     },
     "execution_count": 70,
     "metadata": {},
     "output_type": "execute_result"
    }
   ],
   "source": [
    "pd_df['LDOPRTYP'].value_counts()"
   ]
  },
  {
   "cell_type": "code",
   "execution_count": 71,
   "id": "8a3d6b16",
   "metadata": {},
   "outputs": [
    {
     "data": {
      "text/plain": [
       "5.0    2746\n",
       "1.0    1880\n",
       "6.0    1032\n",
       "2.0     282\n",
       "3.0     102\n",
       "4.0      19\n",
       "Name: LDOPRSPC, dtype: int64"
      ]
     },
     "execution_count": 71,
     "metadata": {},
     "output_type": "execute_result"
    }
   ],
   "source": [
    "pd_df['LDOPRSPC'].value_counts()"
   ]
  },
  {
   "cell_type": "code",
   "execution_count": 72,
   "id": "c4caa4dd",
   "metadata": {},
   "outputs": [
    {
     "data": {
      "text/plain": [
       "0.0    2088\n",
       "1.0     957\n",
       "2.0     303\n",
       "Name: DCLPDO5Y, dtype: int64"
      ]
     },
     "execution_count": 72,
     "metadata": {},
     "output_type": "execute_result"
    }
   ],
   "source": [
    "pd_df['DCLPDO5Y'].value_counts()"
   ]
  },
  {
   "cell_type": "code",
   "execution_count": 73,
   "id": "629339cd",
   "metadata": {},
   "outputs": [
    {
     "data": {
      "text/plain": [
       "09/04/2015    2830\n",
       "12/07/2016    2375\n",
       "05/08/2019    1440\n",
       "05/19/2020     835\n",
       "07/10/2017     632\n",
       "08/29/2016     566\n",
       "03/13/2018     364\n",
       "01/26/2022     347\n",
       "11/03/2020     342\n",
       "04/08/2021     271\n",
       "09/17/2018     227\n",
       "03/01/2021     222\n",
       "11/29/2021     220\n",
       "03/20/2019     178\n",
       "04/09/2021     165\n",
       "11/19/2018     140\n",
       "05/11/2022     128\n",
       "06/11/2019     121\n",
       "02/19/2019     118\n",
       "10/21/2020     107\n",
       "09/23/2019     106\n",
       "09/26/2017      57\n",
       "10/19/2018      36\n",
       "06/28/2018      34\n",
       "Name: PR_DATE, dtype: int64"
      ]
     },
     "execution_count": 73,
     "metadata": {},
     "output_type": "execute_result"
    }
   ],
   "source": [
    "pd_df['PR_DATE'].value_counts()"
   ]
  },
  {
   "cell_type": "code",
   "execution_count": 74,
   "id": "4d684723",
   "metadata": {},
   "outputs": [
    {
     "name": "stdout",
     "output_type": "stream",
     "text": [
      "Minimum date: 2015-09-04 00:00:00\n",
      "Maximum date: 2022-05-11 00:00:00\n"
     ]
    }
   ],
   "source": [
    "pd_df['PR_DATE']= pd.to_datetime(pd_df['PR_DATE'])\n",
    "\n",
    "# Find the date range\n",
    "min_date = pd_df['PR_DATE'].min()\n",
    "max_date = pd_df['PR_DATE'].max()\n",
    "\n",
    "print(\"Minimum date:\", min_date)\n",
    "print(\"Maximum date:\", max_date)\n"
   ]
  },
  {
   "cell_type": "code",
   "execution_count": 75,
   "id": "6abfad1c",
   "metadata": {},
   "outputs": [
    {
     "data": {
      "text/plain": [
       "01/06/2020    835\n",
       "05/01/2016    566\n",
       "10/11/2014    400\n",
       "10/17/2018    288\n",
       "12/10/2018    274\n",
       "             ... \n",
       "04/22/2015      1\n",
       "04/21/2015      1\n",
       "04/20/2015      1\n",
       "04/19/2015      1\n",
       "04/08/2015      1\n",
       "Name: RUNDATE, Length: 250, dtype: int64"
      ]
     },
     "execution_count": 75,
     "metadata": {},
     "output_type": "execute_result"
    }
   ],
   "source": [
    "pd_df['RUNDATE'].value_counts()"
   ]
  },
  {
   "cell_type": "code",
   "execution_count": 76,
   "id": "fc943de4",
   "metadata": {},
   "outputs": [
    {
     "name": "stdout",
     "output_type": "stream",
     "text": [
      "object\n"
     ]
    }
   ],
   "source": [
    "print(pd_df['RUNDATE'].dtype)"
   ]
  },
  {
   "cell_type": "code",
   "execution_count": 77,
   "id": "c8a78c2b",
   "metadata": {},
   "outputs": [],
   "source": [
    "from datetime import datetime\n",
    "\n",
    "def convert_to_desired_format(dt):\n",
    "    try:\n",
    "        parsed_dt = pd.to_datetime(dt)\n",
    "        formatted_dt = parsed_dt.strftime('%Y-%m-%d %H:%M:%S')\n",
    "        return formatted_dt\n",
    "    except:\n",
    "        return None  # Return None for invalid datetime values\n",
    "    \n",
    "\n",
    "    \n",
    "pd_df['RUNDATE'] = pd_df['RUNDATE'].apply(convert_to_desired_format)"
   ]
  },
  {
   "cell_type": "code",
   "execution_count": 78,
   "id": "ce979313",
   "metadata": {},
   "outputs": [
    {
     "name": "stdout",
     "output_type": "stream",
     "text": [
      "Minimum date: 2014-10-01 00:00:00\n",
      "Maximum date: 2021-11-05 00:00:00\n"
     ]
    }
   ],
   "source": [
    "pd_df['RUNDATE'] = pd.to_datetime(pd_df['RUNDATE'])\n",
    "\n",
    "# Find the date range\n",
    "min_date = pd_df['RUNDATE'].min()\n",
    "max_date = pd_df['RUNDATE'].max()\n",
    "\n",
    "print(\"Minimum date:\", min_date)\n",
    "print(\"Maximum date:\", max_date)"
   ]
  },
  {
   "cell_type": "code",
   "execution_count": 79,
   "id": "8c2f4b5f",
   "metadata": {},
   "outputs": [
    {
     "data": {
      "text/plain": [
       "2020-01-06    835\n",
       "2016-05-01    566\n",
       "2014-10-11    400\n",
       "2018-10-17    288\n",
       "2018-12-10    274\n",
       "             ... \n",
       "2015-03-11      1\n",
       "2015-03-04      1\n",
       "2015-03-09      1\n",
       "2015-03-07      1\n",
       "2015-04-26      1\n",
       "Name: RUNDATE, Length: 247, dtype: int64"
      ]
     },
     "execution_count": 79,
     "metadata": {},
     "output_type": "execute_result"
    }
   ],
   "source": [
    "pd_df['RUNDATE'].value_counts()"
   ]
  },
  {
   "cell_type": "code",
   "execution_count": 80,
   "id": "5fb2bbc2",
   "metadata": {},
   "outputs": [],
   "source": [
    "columns_to_drop = ['Biomarker_project_type', 'PR_DATE','Biomarker_PI','Biomarker_institution','Biomarker_projectID',\n",
    "                   'Biomarker_sampletype','TESTNAME','TESTVALUE','UNITS','RUNDATE','EVENT','LRRK2_MUTATION','datasrc',\n",
    "                  'racetxt','ethnctxt','CNSOTHCM','CNSOTHCM_Z','GBA_var','GBA_status','LRRK2_var','LRRK2_status','APOE'] "
   ]
  },
  {
   "cell_type": "code",
   "execution_count": 81,
   "id": "e5913642",
   "metadata": {},
   "outputs": [],
   "source": [
    "Final_df = pd_df.drop(columns=columns_to_drop)"
   ]
  },
  {
   "cell_type": "code",
   "execution_count": 82,
   "id": "469ff02a",
   "metadata": {},
   "outputs": [
    {
     "name": "stdout",
     "output_type": "stream",
     "text": [
      "<class 'pandas.core.frame.DataFrame'>\n",
      "Int64Index: 11861 entries, 0 to 11860\n",
      "Columns: 4379 entries, lrrkid to CNSOTHCM_they deny having RLS but suitable symptoms, not diagnosed of depression but scales suggest he is depressed\n",
      "dtypes: float64(9), object(4343), uint8(27)\n",
      "memory usage: 394.2+ MB\n"
     ]
    }
   ],
   "source": [
    "Final_df.info()"
   ]
  },
  {
   "cell_type": "code",
   "execution_count": 83,
   "id": "37533ad3",
   "metadata": {},
   "outputs": [
    {
     "data": {
      "text/html": [
       "<div>\n",
       "<style scoped>\n",
       "    .dataframe tbody tr th:only-of-type {\n",
       "        vertical-align: middle;\n",
       "    }\n",
       "\n",
       "    .dataframe tbody tr th {\n",
       "        vertical-align: top;\n",
       "    }\n",
       "\n",
       "    .dataframe thead th {\n",
       "        text-align: right;\n",
       "    }\n",
       "</style>\n",
       "<table border=\"1\" class=\"dataframe\">\n",
       "  <thead>\n",
       "    <tr style=\"text-align: right;\">\n",
       "      <th></th>\n",
       "      <th>lrrkid</th>\n",
       "      <th>gender</th>\n",
       "      <th>educcat_calc</th>\n",
       "      <th>pdenrl</th>\n",
       "      <th>agediag</th>\n",
       "      <th>ageonset</th>\n",
       "      <th>demopd_ageassess</th>\n",
       "      <th>pd_duration</th>\n",
       "      <th>pdmedyn</th>\n",
       "      <th>MCATOT</th>\n",
       "      <th>...</th>\n",
       "      <th>CNSOTHCM_lyme disease</th>\n",
       "      <th>CNSOTHCM_meningioma</th>\n",
       "      <th>CNSOTHCM_meningitis</th>\n",
       "      <th>CNSOTHCM_meningitis in childhood</th>\n",
       "      <th>CNSOTHCM_migraine</th>\n",
       "      <th>CNSOTHCM_multiple sclerosis</th>\n",
       "      <th>CNSOTHCM_nonREM parasonmnia (sleep walking)</th>\n",
       "      <th>CNSOTHCM_optic neuritis</th>\n",
       "      <th>CNSOTHCM_possible Sleep apnea-hypopnea?</th>\n",
       "      <th>CNSOTHCM_they deny having RLS but suitable symptoms, not diagnosed of depression but scales suggest he is depressed</th>\n",
       "    </tr>\n",
       "  </thead>\n",
       "  <tbody>\n",
       "    <tr>\n",
       "      <th>0</th>\n",
       "      <td>1420001</td>\n",
       "      <td>2.0</td>\n",
       "      <td>6.0</td>\n",
       "      <td>1.0</td>\n",
       "      <td>42</td>\n",
       "      <td>40</td>\n",
       "      <td>72.0</td>\n",
       "      <td>30.0</td>\n",
       "      <td>Z</td>\n",
       "      <td>25.0</td>\n",
       "      <td>...</td>\n",
       "      <td>0</td>\n",
       "      <td>0</td>\n",
       "      <td>0</td>\n",
       "      <td>0</td>\n",
       "      <td>0</td>\n",
       "      <td>0</td>\n",
       "      <td>0</td>\n",
       "      <td>0</td>\n",
       "      <td>0</td>\n",
       "      <td>0</td>\n",
       "    </tr>\n",
       "    <tr>\n",
       "      <th>1</th>\n",
       "      <td>1420001</td>\n",
       "      <td>2.0</td>\n",
       "      <td>6.0</td>\n",
       "      <td>1.0</td>\n",
       "      <td>42</td>\n",
       "      <td>40</td>\n",
       "      <td>72.0</td>\n",
       "      <td>30.0</td>\n",
       "      <td>Z</td>\n",
       "      <td>25.0</td>\n",
       "      <td>...</td>\n",
       "      <td>0</td>\n",
       "      <td>0</td>\n",
       "      <td>0</td>\n",
       "      <td>0</td>\n",
       "      <td>0</td>\n",
       "      <td>0</td>\n",
       "      <td>0</td>\n",
       "      <td>0</td>\n",
       "      <td>0</td>\n",
       "      <td>0</td>\n",
       "    </tr>\n",
       "    <tr>\n",
       "      <th>2</th>\n",
       "      <td>1420001</td>\n",
       "      <td>2.0</td>\n",
       "      <td>6.0</td>\n",
       "      <td>1.0</td>\n",
       "      <td>42</td>\n",
       "      <td>40</td>\n",
       "      <td>72.0</td>\n",
       "      <td>30.0</td>\n",
       "      <td>Z</td>\n",
       "      <td>25.0</td>\n",
       "      <td>...</td>\n",
       "      <td>0</td>\n",
       "      <td>0</td>\n",
       "      <td>0</td>\n",
       "      <td>0</td>\n",
       "      <td>0</td>\n",
       "      <td>0</td>\n",
       "      <td>0</td>\n",
       "      <td>0</td>\n",
       "      <td>0</td>\n",
       "      <td>0</td>\n",
       "    </tr>\n",
       "    <tr>\n",
       "      <th>3</th>\n",
       "      <td>1420001</td>\n",
       "      <td>2.0</td>\n",
       "      <td>6.0</td>\n",
       "      <td>1.0</td>\n",
       "      <td>42</td>\n",
       "      <td>40</td>\n",
       "      <td>72.0</td>\n",
       "      <td>30.0</td>\n",
       "      <td>Z</td>\n",
       "      <td>25.0</td>\n",
       "      <td>...</td>\n",
       "      <td>0</td>\n",
       "      <td>0</td>\n",
       "      <td>0</td>\n",
       "      <td>0</td>\n",
       "      <td>0</td>\n",
       "      <td>0</td>\n",
       "      <td>0</td>\n",
       "      <td>0</td>\n",
       "      <td>0</td>\n",
       "      <td>0</td>\n",
       "    </tr>\n",
       "    <tr>\n",
       "      <th>4</th>\n",
       "      <td>1420001</td>\n",
       "      <td>2.0</td>\n",
       "      <td>6.0</td>\n",
       "      <td>1.0</td>\n",
       "      <td>42</td>\n",
       "      <td>40</td>\n",
       "      <td>72.0</td>\n",
       "      <td>30.0</td>\n",
       "      <td>Z</td>\n",
       "      <td>25.0</td>\n",
       "      <td>...</td>\n",
       "      <td>0</td>\n",
       "      <td>0</td>\n",
       "      <td>0</td>\n",
       "      <td>0</td>\n",
       "      <td>0</td>\n",
       "      <td>0</td>\n",
       "      <td>0</td>\n",
       "      <td>0</td>\n",
       "      <td>0</td>\n",
       "      <td>0</td>\n",
       "    </tr>\n",
       "  </tbody>\n",
       "</table>\n",
       "<p>5 rows × 4379 columns</p>\n",
       "</div>"
      ],
      "text/plain": [
       "    lrrkid  gender  educcat_calc  pdenrl agediag ageonset  demopd_ageassess  \\\n",
       "0  1420001     2.0           6.0     1.0      42       40              72.0   \n",
       "1  1420001     2.0           6.0     1.0      42       40              72.0   \n",
       "2  1420001     2.0           6.0     1.0      42       40              72.0   \n",
       "3  1420001     2.0           6.0     1.0      42       40              72.0   \n",
       "4  1420001     2.0           6.0     1.0      42       40              72.0   \n",
       "\n",
       "   pd_duration pdmedyn  MCATOT  ...  CNSOTHCM_lyme disease  \\\n",
       "0         30.0       Z    25.0  ...                      0   \n",
       "1         30.0       Z    25.0  ...                      0   \n",
       "2         30.0       Z    25.0  ...                      0   \n",
       "3         30.0       Z    25.0  ...                      0   \n",
       "4         30.0       Z    25.0  ...                      0   \n",
       "\n",
       "  CNSOTHCM_meningioma CNSOTHCM_meningitis CNSOTHCM_meningitis in childhood  \\\n",
       "0                   0                   0                                0   \n",
       "1                   0                   0                                0   \n",
       "2                   0                   0                                0   \n",
       "3                   0                   0                                0   \n",
       "4                   0                   0                                0   \n",
       "\n",
       "  CNSOTHCM_migraine CNSOTHCM_multiple sclerosis  \\\n",
       "0                 0                           0   \n",
       "1                 0                           0   \n",
       "2                 0                           0   \n",
       "3                 0                           0   \n",
       "4                 0                           0   \n",
       "\n",
       "  CNSOTHCM_nonREM parasonmnia (sleep walking) CNSOTHCM_optic neuritis  \\\n",
       "0                                           0                       0   \n",
       "1                                           0                       0   \n",
       "2                                           0                       0   \n",
       "3                                           0                       0   \n",
       "4                                           0                       0   \n",
       "\n",
       "  CNSOTHCM_possible Sleep apnea-hypopnea?  \\\n",
       "0                                       0   \n",
       "1                                       0   \n",
       "2                                       0   \n",
       "3                                       0   \n",
       "4                                       0   \n",
       "\n",
       "  CNSOTHCM_they deny having RLS but suitable symptoms, not diagnosed of depression but scales suggest he is depressed  \n",
       "0                                                  0                                                                   \n",
       "1                                                  0                                                                   \n",
       "2                                                  0                                                                   \n",
       "3                                                  0                                                                   \n",
       "4                                                  0                                                                   \n",
       "\n",
       "[5 rows x 4379 columns]"
      ]
     },
     "execution_count": 83,
     "metadata": {},
     "output_type": "execute_result"
    }
   ],
   "source": [
    "Final_df.head()"
   ]
  },
  {
   "cell_type": "code",
   "execution_count": 84,
   "id": "66b91de0",
   "metadata": {},
   "outputs": [],
   "source": [
    "Final_df = Final_df.replace('Z', 0)"
   ]
  },
  {
   "cell_type": "code",
   "execution_count": 85,
   "id": "2069c8a5",
   "metadata": {},
   "outputs": [
    {
     "data": {
      "text/html": [
       "<div>\n",
       "<style scoped>\n",
       "    .dataframe tbody tr th:only-of-type {\n",
       "        vertical-align: middle;\n",
       "    }\n",
       "\n",
       "    .dataframe tbody tr th {\n",
       "        vertical-align: top;\n",
       "    }\n",
       "\n",
       "    .dataframe thead th {\n",
       "        text-align: right;\n",
       "    }\n",
       "</style>\n",
       "<table border=\"1\" class=\"dataframe\">\n",
       "  <thead>\n",
       "    <tr style=\"text-align: right;\">\n",
       "      <th></th>\n",
       "      <th>lrrkid</th>\n",
       "      <th>gender</th>\n",
       "      <th>educcat_calc</th>\n",
       "      <th>pdenrl</th>\n",
       "      <th>agediag</th>\n",
       "      <th>ageonset</th>\n",
       "      <th>demopd_ageassess</th>\n",
       "      <th>pd_duration</th>\n",
       "      <th>pdmedyn</th>\n",
       "      <th>MCATOT</th>\n",
       "      <th>...</th>\n",
       "      <th>CNSOTHCM_lyme disease</th>\n",
       "      <th>CNSOTHCM_meningioma</th>\n",
       "      <th>CNSOTHCM_meningitis</th>\n",
       "      <th>CNSOTHCM_meningitis in childhood</th>\n",
       "      <th>CNSOTHCM_migraine</th>\n",
       "      <th>CNSOTHCM_multiple sclerosis</th>\n",
       "      <th>CNSOTHCM_nonREM parasonmnia (sleep walking)</th>\n",
       "      <th>CNSOTHCM_optic neuritis</th>\n",
       "      <th>CNSOTHCM_possible Sleep apnea-hypopnea?</th>\n",
       "      <th>CNSOTHCM_they deny having RLS but suitable symptoms, not diagnosed of depression but scales suggest he is depressed</th>\n",
       "    </tr>\n",
       "  </thead>\n",
       "  <tbody>\n",
       "    <tr>\n",
       "      <th>0</th>\n",
       "      <td>1420001</td>\n",
       "      <td>2.0</td>\n",
       "      <td>6.0</td>\n",
       "      <td>1.0</td>\n",
       "      <td>42</td>\n",
       "      <td>40</td>\n",
       "      <td>72.0</td>\n",
       "      <td>30.0</td>\n",
       "      <td>0.0</td>\n",
       "      <td>25.0</td>\n",
       "      <td>...</td>\n",
       "      <td>0</td>\n",
       "      <td>0</td>\n",
       "      <td>0</td>\n",
       "      <td>0</td>\n",
       "      <td>0</td>\n",
       "      <td>0</td>\n",
       "      <td>0</td>\n",
       "      <td>0</td>\n",
       "      <td>0</td>\n",
       "      <td>0</td>\n",
       "    </tr>\n",
       "    <tr>\n",
       "      <th>1</th>\n",
       "      <td>1420001</td>\n",
       "      <td>2.0</td>\n",
       "      <td>6.0</td>\n",
       "      <td>1.0</td>\n",
       "      <td>42</td>\n",
       "      <td>40</td>\n",
       "      <td>72.0</td>\n",
       "      <td>30.0</td>\n",
       "      <td>0.0</td>\n",
       "      <td>25.0</td>\n",
       "      <td>...</td>\n",
       "      <td>0</td>\n",
       "      <td>0</td>\n",
       "      <td>0</td>\n",
       "      <td>0</td>\n",
       "      <td>0</td>\n",
       "      <td>0</td>\n",
       "      <td>0</td>\n",
       "      <td>0</td>\n",
       "      <td>0</td>\n",
       "      <td>0</td>\n",
       "    </tr>\n",
       "    <tr>\n",
       "      <th>2</th>\n",
       "      <td>1420001</td>\n",
       "      <td>2.0</td>\n",
       "      <td>6.0</td>\n",
       "      <td>1.0</td>\n",
       "      <td>42</td>\n",
       "      <td>40</td>\n",
       "      <td>72.0</td>\n",
       "      <td>30.0</td>\n",
       "      <td>0.0</td>\n",
       "      <td>25.0</td>\n",
       "      <td>...</td>\n",
       "      <td>0</td>\n",
       "      <td>0</td>\n",
       "      <td>0</td>\n",
       "      <td>0</td>\n",
       "      <td>0</td>\n",
       "      <td>0</td>\n",
       "      <td>0</td>\n",
       "      <td>0</td>\n",
       "      <td>0</td>\n",
       "      <td>0</td>\n",
       "    </tr>\n",
       "    <tr>\n",
       "      <th>3</th>\n",
       "      <td>1420001</td>\n",
       "      <td>2.0</td>\n",
       "      <td>6.0</td>\n",
       "      <td>1.0</td>\n",
       "      <td>42</td>\n",
       "      <td>40</td>\n",
       "      <td>72.0</td>\n",
       "      <td>30.0</td>\n",
       "      <td>0.0</td>\n",
       "      <td>25.0</td>\n",
       "      <td>...</td>\n",
       "      <td>0</td>\n",
       "      <td>0</td>\n",
       "      <td>0</td>\n",
       "      <td>0</td>\n",
       "      <td>0</td>\n",
       "      <td>0</td>\n",
       "      <td>0</td>\n",
       "      <td>0</td>\n",
       "      <td>0</td>\n",
       "      <td>0</td>\n",
       "    </tr>\n",
       "    <tr>\n",
       "      <th>4</th>\n",
       "      <td>1420001</td>\n",
       "      <td>2.0</td>\n",
       "      <td>6.0</td>\n",
       "      <td>1.0</td>\n",
       "      <td>42</td>\n",
       "      <td>40</td>\n",
       "      <td>72.0</td>\n",
       "      <td>30.0</td>\n",
       "      <td>0.0</td>\n",
       "      <td>25.0</td>\n",
       "      <td>...</td>\n",
       "      <td>0</td>\n",
       "      <td>0</td>\n",
       "      <td>0</td>\n",
       "      <td>0</td>\n",
       "      <td>0</td>\n",
       "      <td>0</td>\n",
       "      <td>0</td>\n",
       "      <td>0</td>\n",
       "      <td>0</td>\n",
       "      <td>0</td>\n",
       "    </tr>\n",
       "  </tbody>\n",
       "</table>\n",
       "<p>5 rows × 4379 columns</p>\n",
       "</div>"
      ],
      "text/plain": [
       "    lrrkid  gender  educcat_calc  pdenrl agediag ageonset  demopd_ageassess  \\\n",
       "0  1420001     2.0           6.0     1.0      42       40              72.0   \n",
       "1  1420001     2.0           6.0     1.0      42       40              72.0   \n",
       "2  1420001     2.0           6.0     1.0      42       40              72.0   \n",
       "3  1420001     2.0           6.0     1.0      42       40              72.0   \n",
       "4  1420001     2.0           6.0     1.0      42       40              72.0   \n",
       "\n",
       "   pd_duration  pdmedyn  MCATOT  ...  CNSOTHCM_lyme disease  \\\n",
       "0         30.0      0.0    25.0  ...                      0   \n",
       "1         30.0      0.0    25.0  ...                      0   \n",
       "2         30.0      0.0    25.0  ...                      0   \n",
       "3         30.0      0.0    25.0  ...                      0   \n",
       "4         30.0      0.0    25.0  ...                      0   \n",
       "\n",
       "  CNSOTHCM_meningioma CNSOTHCM_meningitis CNSOTHCM_meningitis in childhood  \\\n",
       "0                   0                   0                                0   \n",
       "1                   0                   0                                0   \n",
       "2                   0                   0                                0   \n",
       "3                   0                   0                                0   \n",
       "4                   0                   0                                0   \n",
       "\n",
       "  CNSOTHCM_migraine CNSOTHCM_multiple sclerosis  \\\n",
       "0                 0                           0   \n",
       "1                 0                           0   \n",
       "2                 0                           0   \n",
       "3                 0                           0   \n",
       "4                 0                           0   \n",
       "\n",
       "  CNSOTHCM_nonREM parasonmnia (sleep walking) CNSOTHCM_optic neuritis  \\\n",
       "0                                           0                       0   \n",
       "1                                           0                       0   \n",
       "2                                           0                       0   \n",
       "3                                           0                       0   \n",
       "4                                           0                       0   \n",
       "\n",
       "  CNSOTHCM_possible Sleep apnea-hypopnea?  \\\n",
       "0                                       0   \n",
       "1                                       0   \n",
       "2                                       0   \n",
       "3                                       0   \n",
       "4                                       0   \n",
       "\n",
       "  CNSOTHCM_they deny having RLS but suitable symptoms, not diagnosed of depression but scales suggest he is depressed  \n",
       "0                                                  0                                                                   \n",
       "1                                                  0                                                                   \n",
       "2                                                  0                                                                   \n",
       "3                                                  0                                                                   \n",
       "4                                                  0                                                                   \n",
       "\n",
       "[5 rows x 4379 columns]"
      ]
     },
     "execution_count": 85,
     "metadata": {},
     "output_type": "execute_result"
    }
   ],
   "source": [
    "Final_df.head()"
   ]
  },
  {
   "cell_type": "code",
   "execution_count": 86,
   "id": "e317aa92",
   "metadata": {},
   "outputs": [],
   "source": [
    "Final_df.to_csv(\"Data/FPDDF.csv\",index=False)"
   ]
  },
  {
   "cell_type": "code",
   "execution_count": 87,
   "id": "ab63657b",
   "metadata": {},
   "outputs": [],
   "source": [
    "mean_value = Final_df['MCATOT'].mean()\n",
    "\n",
    "rounded_mean = round(mean_value)\n",
    "\n",
    "Final_df['MCATOT'].fillna(rounded_mean, inplace=True)"
   ]
  },
  {
   "cell_type": "code",
   "execution_count": 88,
   "id": "c03a4f52",
   "metadata": {},
   "outputs": [
    {
     "data": {
      "text/plain": [
       "0"
      ]
     },
     "execution_count": 88,
     "metadata": {},
     "output_type": "execute_result"
    }
   ],
   "source": [
    "Final_df['MCATOT'].isnull().sum()"
   ]
  },
  {
   "cell_type": "code",
   "execution_count": 89,
   "id": "0ca81f4d",
   "metadata": {},
   "outputs": [
    {
     "data": {
      "text/plain": [
       "count    11861.000000\n",
       "mean        25.961217\n",
       "std          3.560891\n",
       "min          3.000000\n",
       "25%         24.000000\n",
       "50%         27.000000\n",
       "75%         28.000000\n",
       "max         30.000000\n",
       "Name: MCATOT, dtype: float64"
      ]
     },
     "execution_count": 89,
     "metadata": {},
     "output_type": "execute_result"
    }
   ],
   "source": [
    "Final_df['MCATOT'].describe()"
   ]
  },
  {
   "cell_type": "code",
   "execution_count": 90,
   "id": "1cd20318",
   "metadata": {},
   "outputs": [
    {
     "data": {
      "text/plain": [
       "0                                  2593\n",
       "Movicol                              91\n",
       "Domperidone                          40\n",
       "miralax                              20\n",
       "metamucil                            17\n",
       "SMOOTH MOVE TEA                      11\n",
       "0                                    11\n",
       "NONE                                 10\n",
       "suppository                           9\n",
       "supps                                 9\n",
       "fiber supplement tablet               8\n",
       "ESTROGEN ACNE MED                     7\n",
       "DOMPERIDONE                           7\n",
       "ducolax, senecot                      6\n",
       "Duspatal                              6\n",
       "STOOL SOFTENER                        6\n",
       "colace, miralax                       6\n",
       "phyllips tablets                      5\n",
       "lactulose                             5\n",
       "linum seeds                           5\n",
       "COLACE                                5\n",
       "Movicol, if necessary                 5\n",
       "laxative daily                        3\n",
       "DUCALAX                               3\n",
       "laxaday                               3\n",
       "bicarbonate de sodium (movicol)       2\n",
       "midol                                 2\n",
       "ciruelax, dulcolax                    2\n",
       "seno kot, siruelax                    2\n",
       "1                                     2\n",
       "LACTITOL                              2\n",
       "ciruelax                              1\n",
       "antihistamine for wasp sting          1\n",
       "Name: SCAU26AT, dtype: int64"
      ]
     },
     "execution_count": 90,
     "metadata": {},
     "output_type": "execute_result"
    }
   ],
   "source": [
    "Final_df['SCAU26AT'].value_counts()"
   ]
  },
  {
   "cell_type": "code",
   "execution_count": 91,
   "id": "80b76a34",
   "metadata": {},
   "outputs": [
    {
     "data": {
      "text/plain": [
       "0                                                      2593\n",
       "duodart (5-alphareductase inhibitor & alpha inhib.)      45\n",
       "fesoterodine                                             41\n",
       "antibiotics: urinary tract infection                     38\n",
       "furosemide                                               32\n",
       "FINASTERIDE                                              31\n",
       "flomax                                                   28\n",
       "Tamsulosin                                               20\n",
       "tamsulosine                                              17\n",
       "0                                                        14\n",
       "flomax, avadart                                          11\n",
       "TOVIAZ                                                   10\n",
       "SOLIFENACINE, SERENOA                                    10\n",
       "detrol                                                    9\n",
       "stress incon                                              9\n",
       "tolterodine tartrate                                      9\n",
       "amoxicillin noroxin                                       9\n",
       "tamsulosin                                                8\n",
       "terazosin                                                 8\n",
       "Hemmung Prostatawachstum                                  7\n",
       "DOXAZOSINE                                                6\n",
       "tamulosin                                                 6\n",
       "Spasmex                                                   6\n",
       "catheter, vesicare, hiprex                                6\n",
       "solifenacine                                              5\n",
       "Detrusitol                                                5\n",
       "silodosine                                                5\n",
       "oxibutinine                                               3\n",
       "keflex                                                    3\n",
       "antibiotics                                               3\n",
       "tamsulosine, dutasteride                                  2\n",
       "Name: SCAU26BT, dtype: int64"
      ]
     },
     "execution_count": 91,
     "metadata": {},
     "output_type": "execute_result"
    }
   ],
   "source": [
    "Final_df['SCAU26BT'].value_counts()"
   ]
  },
  {
   "cell_type": "code",
   "execution_count": 92,
   "id": "894eb2d9",
   "metadata": {},
   "outputs": [
    {
     "data": {
      "text/plain": [
       "0                    2593\n",
       "Selo-Zok               66\n",
       "enalapril              50\n",
       "atenolol               50\n",
       "Hydrochlorthiazid      48\n",
       "                     ... \n",
       "amloipine               2\n",
       "atcaolol                2\n",
       "Hidrosauretil           2\n",
       "Captocomp               2\n",
       "ramipril                2\n",
       "Name: SCAU26CT, Length: 74, dtype: int64"
      ]
     },
     "execution_count": 92,
     "metadata": {},
     "output_type": "execute_result"
    }
   ],
   "source": [
    "Final_df['SCAU26CT'].value_counts()"
   ]
  },
  {
   "cell_type": "code",
   "execution_count": 93,
   "id": "58693e69",
   "metadata": {},
   "outputs": [
    {
     "data": {
      "text/plain": [
       "PD                                        55\n",
       "omeprazol                                 51\n",
       "lorazepam                                 51\n",
       "alprazolam, paroxetine                    41\n",
       "Tamsulosine, metformine                   41\n",
       "                                          ..\n",
       "fluoxetine during ovulation/pre-menst.     1\n",
       "PD  & Thyroid                              1\n",
       "statin (lipitor)                           1\n",
       "Parkinson\"s symptoms                       1\n",
       "hypothyroid                                1\n",
       "Name: SCAU26DT, Length: 352, dtype: int64"
      ]
     },
     "execution_count": 93,
     "metadata": {},
     "output_type": "execute_result"
    }
   ],
   "source": [
    "Final_df['SCAU26DT'].value_counts()"
   ]
  },
  {
   "cell_type": "code",
   "execution_count": 94,
   "id": "3f190524",
   "metadata": {},
   "outputs": [
    {
     "data": {
      "text/plain": [
       "1    2721\n",
       "0    2593\n",
       "2    2317\n",
       "4     126\n",
       "3      44\n",
       "Name: LDOPRTYP, dtype: int64"
      ]
     },
     "execution_count": 94,
     "metadata": {},
     "output_type": "execute_result"
    }
   ],
   "source": [
    "Final_df['LDOPRTYP'].value_counts()"
   ]
  },
  {
   "cell_type": "code",
   "execution_count": 95,
   "id": "79f60049",
   "metadata": {},
   "outputs": [
    {
     "data": {
      "text/plain": [
       "5.0    2746\n",
       "1.0    1880\n",
       "6.0    1032\n",
       "2.0     282\n",
       "3.0     102\n",
       "4.0      19\n",
       "Name: LDOPRSPC, dtype: int64"
      ]
     },
     "execution_count": 95,
     "metadata": {},
     "output_type": "execute_result"
    }
   ],
   "source": [
    "Final_df['LDOPRSPC'].value_counts()"
   ]
  },
  {
   "cell_type": "code",
   "execution_count": 96,
   "id": "90fb1470",
   "metadata": {},
   "outputs": [
    {
     "data": {
      "text/plain": [
       "0.0    2088\n",
       "1.0     957\n",
       "2.0     303\n",
       "Name: DCLPDO5Y, dtype: int64"
      ]
     },
     "execution_count": 96,
     "metadata": {},
     "output_type": "execute_result"
    }
   ],
   "source": [
    "Final_df['DCLPDO5Y'].value_counts()"
   ]
  },
  {
   "cell_type": "code",
   "execution_count": 97,
   "id": "4f09cec2",
   "metadata": {},
   "outputs": [],
   "source": [
    "categorical_columns = ['SCAU26AT', 'SCAU26BT', 'SCAU26CT','SCAU26DT']\n",
    "\n",
    "# Replace categorical values with 1, excluding 0 and null\n",
    "for col in categorical_columns:\n",
    "    Final_df[col] = Final_df[col].apply(lambda x: 1 if x not in [0, np.nan] else x)"
   ]
  },
  {
   "cell_type": "code",
   "execution_count": 99,
   "id": "9c7538cf",
   "metadata": {},
   "outputs": [],
   "source": [
    "Final_df = Final_df.fillna(0)"
   ]
  },
  {
   "cell_type": "code",
   "execution_count": 100,
   "id": "c235ebac",
   "metadata": {},
   "outputs": [
    {
     "data": {
      "text/html": [
       "<div>\n",
       "<style scoped>\n",
       "    .dataframe tbody tr th:only-of-type {\n",
       "        vertical-align: middle;\n",
       "    }\n",
       "\n",
       "    .dataframe tbody tr th {\n",
       "        vertical-align: top;\n",
       "    }\n",
       "\n",
       "    .dataframe thead th {\n",
       "        text-align: right;\n",
       "    }\n",
       "</style>\n",
       "<table border=\"1\" class=\"dataframe\">\n",
       "  <thead>\n",
       "    <tr style=\"text-align: right;\">\n",
       "      <th></th>\n",
       "      <th>lrrkid</th>\n",
       "      <th>gender</th>\n",
       "      <th>educcat_calc</th>\n",
       "      <th>pdenrl</th>\n",
       "      <th>agediag</th>\n",
       "      <th>ageonset</th>\n",
       "      <th>demopd_ageassess</th>\n",
       "      <th>pd_duration</th>\n",
       "      <th>pdmedyn</th>\n",
       "      <th>MCATOT</th>\n",
       "      <th>...</th>\n",
       "      <th>CNSOTHCM_lyme disease</th>\n",
       "      <th>CNSOTHCM_meningioma</th>\n",
       "      <th>CNSOTHCM_meningitis</th>\n",
       "      <th>CNSOTHCM_meningitis in childhood</th>\n",
       "      <th>CNSOTHCM_migraine</th>\n",
       "      <th>CNSOTHCM_multiple sclerosis</th>\n",
       "      <th>CNSOTHCM_nonREM parasonmnia (sleep walking)</th>\n",
       "      <th>CNSOTHCM_optic neuritis</th>\n",
       "      <th>CNSOTHCM_possible Sleep apnea-hypopnea?</th>\n",
       "      <th>CNSOTHCM_they deny having RLS but suitable symptoms, not diagnosed of depression but scales suggest he is depressed</th>\n",
       "    </tr>\n",
       "  </thead>\n",
       "  <tbody>\n",
       "    <tr>\n",
       "      <th>0</th>\n",
       "      <td>1420001</td>\n",
       "      <td>2.0</td>\n",
       "      <td>6.0</td>\n",
       "      <td>1.0</td>\n",
       "      <td>42</td>\n",
       "      <td>40</td>\n",
       "      <td>72.0</td>\n",
       "      <td>30.0</td>\n",
       "      <td>0.0</td>\n",
       "      <td>25.0</td>\n",
       "      <td>...</td>\n",
       "      <td>0</td>\n",
       "      <td>0</td>\n",
       "      <td>0</td>\n",
       "      <td>0</td>\n",
       "      <td>0</td>\n",
       "      <td>0</td>\n",
       "      <td>0</td>\n",
       "      <td>0</td>\n",
       "      <td>0</td>\n",
       "      <td>0</td>\n",
       "    </tr>\n",
       "    <tr>\n",
       "      <th>1</th>\n",
       "      <td>1420001</td>\n",
       "      <td>2.0</td>\n",
       "      <td>6.0</td>\n",
       "      <td>1.0</td>\n",
       "      <td>42</td>\n",
       "      <td>40</td>\n",
       "      <td>72.0</td>\n",
       "      <td>30.0</td>\n",
       "      <td>0.0</td>\n",
       "      <td>25.0</td>\n",
       "      <td>...</td>\n",
       "      <td>0</td>\n",
       "      <td>0</td>\n",
       "      <td>0</td>\n",
       "      <td>0</td>\n",
       "      <td>0</td>\n",
       "      <td>0</td>\n",
       "      <td>0</td>\n",
       "      <td>0</td>\n",
       "      <td>0</td>\n",
       "      <td>0</td>\n",
       "    </tr>\n",
       "    <tr>\n",
       "      <th>2</th>\n",
       "      <td>1420001</td>\n",
       "      <td>2.0</td>\n",
       "      <td>6.0</td>\n",
       "      <td>1.0</td>\n",
       "      <td>42</td>\n",
       "      <td>40</td>\n",
       "      <td>72.0</td>\n",
       "      <td>30.0</td>\n",
       "      <td>0.0</td>\n",
       "      <td>25.0</td>\n",
       "      <td>...</td>\n",
       "      <td>0</td>\n",
       "      <td>0</td>\n",
       "      <td>0</td>\n",
       "      <td>0</td>\n",
       "      <td>0</td>\n",
       "      <td>0</td>\n",
       "      <td>0</td>\n",
       "      <td>0</td>\n",
       "      <td>0</td>\n",
       "      <td>0</td>\n",
       "    </tr>\n",
       "    <tr>\n",
       "      <th>3</th>\n",
       "      <td>1420001</td>\n",
       "      <td>2.0</td>\n",
       "      <td>6.0</td>\n",
       "      <td>1.0</td>\n",
       "      <td>42</td>\n",
       "      <td>40</td>\n",
       "      <td>72.0</td>\n",
       "      <td>30.0</td>\n",
       "      <td>0.0</td>\n",
       "      <td>25.0</td>\n",
       "      <td>...</td>\n",
       "      <td>0</td>\n",
       "      <td>0</td>\n",
       "      <td>0</td>\n",
       "      <td>0</td>\n",
       "      <td>0</td>\n",
       "      <td>0</td>\n",
       "      <td>0</td>\n",
       "      <td>0</td>\n",
       "      <td>0</td>\n",
       "      <td>0</td>\n",
       "    </tr>\n",
       "    <tr>\n",
       "      <th>4</th>\n",
       "      <td>1420001</td>\n",
       "      <td>2.0</td>\n",
       "      <td>6.0</td>\n",
       "      <td>1.0</td>\n",
       "      <td>42</td>\n",
       "      <td>40</td>\n",
       "      <td>72.0</td>\n",
       "      <td>30.0</td>\n",
       "      <td>0.0</td>\n",
       "      <td>25.0</td>\n",
       "      <td>...</td>\n",
       "      <td>0</td>\n",
       "      <td>0</td>\n",
       "      <td>0</td>\n",
       "      <td>0</td>\n",
       "      <td>0</td>\n",
       "      <td>0</td>\n",
       "      <td>0</td>\n",
       "      <td>0</td>\n",
       "      <td>0</td>\n",
       "      <td>0</td>\n",
       "    </tr>\n",
       "  </tbody>\n",
       "</table>\n",
       "<p>5 rows × 4379 columns</p>\n",
       "</div>"
      ],
      "text/plain": [
       "    lrrkid  gender  educcat_calc  pdenrl agediag ageonset  demopd_ageassess  \\\n",
       "0  1420001     2.0           6.0     1.0      42       40              72.0   \n",
       "1  1420001     2.0           6.0     1.0      42       40              72.0   \n",
       "2  1420001     2.0           6.0     1.0      42       40              72.0   \n",
       "3  1420001     2.0           6.0     1.0      42       40              72.0   \n",
       "4  1420001     2.0           6.0     1.0      42       40              72.0   \n",
       "\n",
       "   pd_duration  pdmedyn  MCATOT  ...  CNSOTHCM_lyme disease  \\\n",
       "0         30.0      0.0    25.0  ...                      0   \n",
       "1         30.0      0.0    25.0  ...                      0   \n",
       "2         30.0      0.0    25.0  ...                      0   \n",
       "3         30.0      0.0    25.0  ...                      0   \n",
       "4         30.0      0.0    25.0  ...                      0   \n",
       "\n",
       "  CNSOTHCM_meningioma CNSOTHCM_meningitis CNSOTHCM_meningitis in childhood  \\\n",
       "0                   0                   0                                0   \n",
       "1                   0                   0                                0   \n",
       "2                   0                   0                                0   \n",
       "3                   0                   0                                0   \n",
       "4                   0                   0                                0   \n",
       "\n",
       "  CNSOTHCM_migraine CNSOTHCM_multiple sclerosis  \\\n",
       "0                 0                           0   \n",
       "1                 0                           0   \n",
       "2                 0                           0   \n",
       "3                 0                           0   \n",
       "4                 0                           0   \n",
       "\n",
       "  CNSOTHCM_nonREM parasonmnia (sleep walking) CNSOTHCM_optic neuritis  \\\n",
       "0                                           0                       0   \n",
       "1                                           0                       0   \n",
       "2                                           0                       0   \n",
       "3                                           0                       0   \n",
       "4                                           0                       0   \n",
       "\n",
       "  CNSOTHCM_possible Sleep apnea-hypopnea?  \\\n",
       "0                                       0   \n",
       "1                                       0   \n",
       "2                                       0   \n",
       "3                                       0   \n",
       "4                                       0   \n",
       "\n",
       "  CNSOTHCM_they deny having RLS but suitable symptoms, not diagnosed of depression but scales suggest he is depressed  \n",
       "0                                                  0                                                                   \n",
       "1                                                  0                                                                   \n",
       "2                                                  0                                                                   \n",
       "3                                                  0                                                                   \n",
       "4                                                  0                                                                   \n",
       "\n",
       "[5 rows x 4379 columns]"
      ]
     },
     "execution_count": 100,
     "metadata": {},
     "output_type": "execute_result"
    }
   ],
   "source": [
    "Final_df.head()"
   ]
  },
  {
   "cell_type": "code",
   "execution_count": 101,
   "id": "3a0bcb0c",
   "metadata": {},
   "outputs": [
    {
     "data": {
      "text/plain": [
       "11861"
      ]
     },
     "execution_count": 101,
     "metadata": {},
     "output_type": "execute_result"
    }
   ],
   "source": [
    "len(Final_df)"
   ]
  },
  {
   "cell_type": "code",
   "execution_count": 102,
   "id": "a2dd22e9",
   "metadata": {},
   "outputs": [],
   "source": [
    "def replace_non_numeric_with_zero(value):\n",
    "    try:\n",
    "        numeric_value = float(value)\n",
    "        return numeric_value\n",
    "    except (ValueError, TypeError):\n",
    "        return 0\n",
    "\n",
    "# Apply the function to the entire DataFrame\n",
    "Final_df = Final_df.applymap(replace_non_numeric_with_zero)"
   ]
  },
  {
   "cell_type": "code",
   "execution_count": 103,
   "id": "d00a2c78",
   "metadata": {},
   "outputs": [],
   "source": [
    "Final_df = Final_df.astype(float)"
   ]
  },
  {
   "cell_type": "code",
   "execution_count": 104,
   "id": "04ddda3a",
   "metadata": {},
   "outputs": [
    {
     "data": {
      "text/html": [
       "<div>\n",
       "<style scoped>\n",
       "    .dataframe tbody tr th:only-of-type {\n",
       "        vertical-align: middle;\n",
       "    }\n",
       "\n",
       "    .dataframe tbody tr th {\n",
       "        vertical-align: top;\n",
       "    }\n",
       "\n",
       "    .dataframe thead th {\n",
       "        text-align: right;\n",
       "    }\n",
       "</style>\n",
       "<table border=\"1\" class=\"dataframe\">\n",
       "  <thead>\n",
       "    <tr style=\"text-align: right;\">\n",
       "      <th></th>\n",
       "      <th>lrrkid</th>\n",
       "      <th>gender</th>\n",
       "      <th>educcat_calc</th>\n",
       "      <th>pdenrl</th>\n",
       "      <th>agediag</th>\n",
       "      <th>ageonset</th>\n",
       "      <th>demopd_ageassess</th>\n",
       "      <th>pd_duration</th>\n",
       "      <th>pdmedyn</th>\n",
       "      <th>MCATOT</th>\n",
       "      <th>...</th>\n",
       "      <th>CNSOTHCM_lyme disease</th>\n",
       "      <th>CNSOTHCM_meningioma</th>\n",
       "      <th>CNSOTHCM_meningitis</th>\n",
       "      <th>CNSOTHCM_meningitis in childhood</th>\n",
       "      <th>CNSOTHCM_migraine</th>\n",
       "      <th>CNSOTHCM_multiple sclerosis</th>\n",
       "      <th>CNSOTHCM_nonREM parasonmnia (sleep walking)</th>\n",
       "      <th>CNSOTHCM_optic neuritis</th>\n",
       "      <th>CNSOTHCM_possible Sleep apnea-hypopnea?</th>\n",
       "      <th>CNSOTHCM_they deny having RLS but suitable symptoms, not diagnosed of depression but scales suggest he is depressed</th>\n",
       "    </tr>\n",
       "  </thead>\n",
       "  <tbody>\n",
       "    <tr>\n",
       "      <th>0</th>\n",
       "      <td>1420001.0</td>\n",
       "      <td>2.0</td>\n",
       "      <td>6.0</td>\n",
       "      <td>1.0</td>\n",
       "      <td>42.0</td>\n",
       "      <td>40.0</td>\n",
       "      <td>72.0</td>\n",
       "      <td>30.0</td>\n",
       "      <td>0.0</td>\n",
       "      <td>25.0</td>\n",
       "      <td>...</td>\n",
       "      <td>0.0</td>\n",
       "      <td>0.0</td>\n",
       "      <td>0.0</td>\n",
       "      <td>0.0</td>\n",
       "      <td>0.0</td>\n",
       "      <td>0.0</td>\n",
       "      <td>0.0</td>\n",
       "      <td>0.0</td>\n",
       "      <td>0.0</td>\n",
       "      <td>0.0</td>\n",
       "    </tr>\n",
       "    <tr>\n",
       "      <th>1</th>\n",
       "      <td>1420001.0</td>\n",
       "      <td>2.0</td>\n",
       "      <td>6.0</td>\n",
       "      <td>1.0</td>\n",
       "      <td>42.0</td>\n",
       "      <td>40.0</td>\n",
       "      <td>72.0</td>\n",
       "      <td>30.0</td>\n",
       "      <td>0.0</td>\n",
       "      <td>25.0</td>\n",
       "      <td>...</td>\n",
       "      <td>0.0</td>\n",
       "      <td>0.0</td>\n",
       "      <td>0.0</td>\n",
       "      <td>0.0</td>\n",
       "      <td>0.0</td>\n",
       "      <td>0.0</td>\n",
       "      <td>0.0</td>\n",
       "      <td>0.0</td>\n",
       "      <td>0.0</td>\n",
       "      <td>0.0</td>\n",
       "    </tr>\n",
       "    <tr>\n",
       "      <th>2</th>\n",
       "      <td>1420001.0</td>\n",
       "      <td>2.0</td>\n",
       "      <td>6.0</td>\n",
       "      <td>1.0</td>\n",
       "      <td>42.0</td>\n",
       "      <td>40.0</td>\n",
       "      <td>72.0</td>\n",
       "      <td>30.0</td>\n",
       "      <td>0.0</td>\n",
       "      <td>25.0</td>\n",
       "      <td>...</td>\n",
       "      <td>0.0</td>\n",
       "      <td>0.0</td>\n",
       "      <td>0.0</td>\n",
       "      <td>0.0</td>\n",
       "      <td>0.0</td>\n",
       "      <td>0.0</td>\n",
       "      <td>0.0</td>\n",
       "      <td>0.0</td>\n",
       "      <td>0.0</td>\n",
       "      <td>0.0</td>\n",
       "    </tr>\n",
       "    <tr>\n",
       "      <th>3</th>\n",
       "      <td>1420001.0</td>\n",
       "      <td>2.0</td>\n",
       "      <td>6.0</td>\n",
       "      <td>1.0</td>\n",
       "      <td>42.0</td>\n",
       "      <td>40.0</td>\n",
       "      <td>72.0</td>\n",
       "      <td>30.0</td>\n",
       "      <td>0.0</td>\n",
       "      <td>25.0</td>\n",
       "      <td>...</td>\n",
       "      <td>0.0</td>\n",
       "      <td>0.0</td>\n",
       "      <td>0.0</td>\n",
       "      <td>0.0</td>\n",
       "      <td>0.0</td>\n",
       "      <td>0.0</td>\n",
       "      <td>0.0</td>\n",
       "      <td>0.0</td>\n",
       "      <td>0.0</td>\n",
       "      <td>0.0</td>\n",
       "    </tr>\n",
       "    <tr>\n",
       "      <th>4</th>\n",
       "      <td>1420001.0</td>\n",
       "      <td>2.0</td>\n",
       "      <td>6.0</td>\n",
       "      <td>1.0</td>\n",
       "      <td>42.0</td>\n",
       "      <td>40.0</td>\n",
       "      <td>72.0</td>\n",
       "      <td>30.0</td>\n",
       "      <td>0.0</td>\n",
       "      <td>25.0</td>\n",
       "      <td>...</td>\n",
       "      <td>0.0</td>\n",
       "      <td>0.0</td>\n",
       "      <td>0.0</td>\n",
       "      <td>0.0</td>\n",
       "      <td>0.0</td>\n",
       "      <td>0.0</td>\n",
       "      <td>0.0</td>\n",
       "      <td>0.0</td>\n",
       "      <td>0.0</td>\n",
       "      <td>0.0</td>\n",
       "    </tr>\n",
       "  </tbody>\n",
       "</table>\n",
       "<p>5 rows × 4379 columns</p>\n",
       "</div>"
      ],
      "text/plain": [
       "      lrrkid  gender  educcat_calc  pdenrl  agediag  ageonset  \\\n",
       "0  1420001.0     2.0           6.0     1.0     42.0      40.0   \n",
       "1  1420001.0     2.0           6.0     1.0     42.0      40.0   \n",
       "2  1420001.0     2.0           6.0     1.0     42.0      40.0   \n",
       "3  1420001.0     2.0           6.0     1.0     42.0      40.0   \n",
       "4  1420001.0     2.0           6.0     1.0     42.0      40.0   \n",
       "\n",
       "   demopd_ageassess  pd_duration  pdmedyn  MCATOT  ...  CNSOTHCM_lyme disease  \\\n",
       "0              72.0         30.0      0.0    25.0  ...                    0.0   \n",
       "1              72.0         30.0      0.0    25.0  ...                    0.0   \n",
       "2              72.0         30.0      0.0    25.0  ...                    0.0   \n",
       "3              72.0         30.0      0.0    25.0  ...                    0.0   \n",
       "4              72.0         30.0      0.0    25.0  ...                    0.0   \n",
       "\n",
       "   CNSOTHCM_meningioma  CNSOTHCM_meningitis  CNSOTHCM_meningitis in childhood  \\\n",
       "0                  0.0                  0.0                               0.0   \n",
       "1                  0.0                  0.0                               0.0   \n",
       "2                  0.0                  0.0                               0.0   \n",
       "3                  0.0                  0.0                               0.0   \n",
       "4                  0.0                  0.0                               0.0   \n",
       "\n",
       "   CNSOTHCM_migraine  CNSOTHCM_multiple sclerosis  \\\n",
       "0                0.0                          0.0   \n",
       "1                0.0                          0.0   \n",
       "2                0.0                          0.0   \n",
       "3                0.0                          0.0   \n",
       "4                0.0                          0.0   \n",
       "\n",
       "   CNSOTHCM_nonREM parasonmnia (sleep walking)  CNSOTHCM_optic neuritis  \\\n",
       "0                                          0.0                      0.0   \n",
       "1                                          0.0                      0.0   \n",
       "2                                          0.0                      0.0   \n",
       "3                                          0.0                      0.0   \n",
       "4                                          0.0                      0.0   \n",
       "\n",
       "   CNSOTHCM_possible Sleep apnea-hypopnea?  \\\n",
       "0                                      0.0   \n",
       "1                                      0.0   \n",
       "2                                      0.0   \n",
       "3                                      0.0   \n",
       "4                                      0.0   \n",
       "\n",
       "   CNSOTHCM_they deny having RLS but suitable symptoms, not diagnosed of depression but scales suggest he is depressed  \n",
       "0                                                0.0                                                                    \n",
       "1                                                0.0                                                                    \n",
       "2                                                0.0                                                                    \n",
       "3                                                0.0                                                                    \n",
       "4                                                0.0                                                                    \n",
       "\n",
       "[5 rows x 4379 columns]"
      ]
     },
     "execution_count": 104,
     "metadata": {},
     "output_type": "execute_result"
    }
   ],
   "source": [
    "Final_df.head()"
   ]
  },
  {
   "cell_type": "code",
   "execution_count": 127,
   "id": "e66f0f6d",
   "metadata": {},
   "outputs": [],
   "source": [
    "Final_df.to_csv(\"Data/F_PDDF.csv\",index=False)"
   ]
  },
  {
   "cell_type": "code",
   "execution_count": 105,
   "id": "7a5ae65c",
   "metadata": {},
   "outputs": [
    {
     "data": {
      "text/plain": [
       "array([ 850006.,  520005., 9530001., 1810001.,  670001.])"
      ]
     },
     "execution_count": 105,
     "metadata": {},
     "output_type": "execute_result"
    }
   ],
   "source": [
    "# Unique patients id\n",
    "\n",
    "patient_id = Final_df[\"lrrkid\"].unique()\n",
    "\n",
    "#randomly shuffle patient. \n",
    "\n",
    "np.random.shuffle(patient_id)\n",
    "\n",
    "patient_id[:5]"
   ]
  },
  {
   "cell_type": "code",
   "execution_count": 106,
   "id": "d0b8b2a8",
   "metadata": {},
   "outputs": [],
   "source": [
    "total_data = Final_df[\"lrrkid\"].isin(patient_id[:round(0.7 * len(patient_id))])\n",
    "\n",
    "train_data = Final_df.loc[total_data, :]\n",
    "test_data = Final_df.loc[~total_data, :]"
   ]
  },
  {
   "cell_type": "code",
   "execution_count": 107,
   "id": "0d82abb6",
   "metadata": {},
   "outputs": [
    {
     "data": {
      "text/plain": [
       "False    8342\n",
       "Name: lrrkid, dtype: int64"
      ]
     },
     "execution_count": 107,
     "metadata": {},
     "output_type": "execute_result"
    }
   ],
   "source": [
    "train_data['lrrkid'].isin(test_data['lrrkid']).value_counts()"
   ]
  },
  {
   "cell_type": "code",
   "execution_count": 108,
   "id": "19062157",
   "metadata": {},
   "outputs": [
    {
     "name": "stdout",
     "output_type": "stream",
     "text": [
      "<class 'pandas.core.frame.DataFrame'>\n",
      "Int64Index: 3519 entries, 8 to 11848\n",
      "Columns: 4379 entries, lrrkid to CNSOTHCM_they deny having RLS but suitable symptoms, not diagnosed of depression but scales suggest he is depressed\n",
      "dtypes: float64(4379)\n",
      "memory usage: 117.6 MB\n"
     ]
    }
   ],
   "source": [
    "test_data.info()"
   ]
  },
  {
   "cell_type": "code",
   "execution_count": 109,
   "id": "d955c755",
   "metadata": {},
   "outputs": [
    {
     "name": "stdout",
     "output_type": "stream",
     "text": [
      "<class 'pandas.core.frame.DataFrame'>\n",
      "Int64Index: 8342 entries, 0 to 11860\n",
      "Columns: 4379 entries, lrrkid to CNSOTHCM_they deny having RLS but suitable symptoms, not diagnosed of depression but scales suggest he is depressed\n",
      "dtypes: float64(4379)\n",
      "memory usage: 278.8 MB\n"
     ]
    }
   ],
   "source": [
    "train_data.info()"
   ]
  },
  {
   "cell_type": "code",
   "execution_count": 110,
   "id": "9f516b74",
   "metadata": {},
   "outputs": [
    {
     "data": {
      "text/html": [
       "<div>\n",
       "<style scoped>\n",
       "    .dataframe tbody tr th:only-of-type {\n",
       "        vertical-align: middle;\n",
       "    }\n",
       "\n",
       "    .dataframe tbody tr th {\n",
       "        vertical-align: top;\n",
       "    }\n",
       "\n",
       "    .dataframe thead th {\n",
       "        text-align: right;\n",
       "    }\n",
       "</style>\n",
       "<table border=\"1\" class=\"dataframe\">\n",
       "  <thead>\n",
       "    <tr style=\"text-align: right;\">\n",
       "      <th></th>\n",
       "      <th>lrrkid</th>\n",
       "      <th>gender</th>\n",
       "      <th>educcat_calc</th>\n",
       "      <th>pdenrl</th>\n",
       "      <th>agediag</th>\n",
       "      <th>ageonset</th>\n",
       "      <th>demopd_ageassess</th>\n",
       "      <th>pd_duration</th>\n",
       "      <th>pdmedyn</th>\n",
       "      <th>MCATOT</th>\n",
       "      <th>...</th>\n",
       "      <th>CNSOTHCM_lyme disease</th>\n",
       "      <th>CNSOTHCM_meningioma</th>\n",
       "      <th>CNSOTHCM_meningitis</th>\n",
       "      <th>CNSOTHCM_meningitis in childhood</th>\n",
       "      <th>CNSOTHCM_migraine</th>\n",
       "      <th>CNSOTHCM_multiple sclerosis</th>\n",
       "      <th>CNSOTHCM_nonREM parasonmnia (sleep walking)</th>\n",
       "      <th>CNSOTHCM_optic neuritis</th>\n",
       "      <th>CNSOTHCM_possible Sleep apnea-hypopnea?</th>\n",
       "      <th>CNSOTHCM_they deny having RLS but suitable symptoms, not diagnosed of depression but scales suggest he is depressed</th>\n",
       "    </tr>\n",
       "  </thead>\n",
       "  <tbody>\n",
       "    <tr>\n",
       "      <th>0</th>\n",
       "      <td>1420001.0</td>\n",
       "      <td>2.0</td>\n",
       "      <td>6.0</td>\n",
       "      <td>1.0</td>\n",
       "      <td>42.0</td>\n",
       "      <td>40.0</td>\n",
       "      <td>72.0</td>\n",
       "      <td>30.0</td>\n",
       "      <td>0.0</td>\n",
       "      <td>25.0</td>\n",
       "      <td>...</td>\n",
       "      <td>0.0</td>\n",
       "      <td>0.0</td>\n",
       "      <td>0.0</td>\n",
       "      <td>0.0</td>\n",
       "      <td>0.0</td>\n",
       "      <td>0.0</td>\n",
       "      <td>0.0</td>\n",
       "      <td>0.0</td>\n",
       "      <td>0.0</td>\n",
       "      <td>0.0</td>\n",
       "    </tr>\n",
       "    <tr>\n",
       "      <th>1</th>\n",
       "      <td>1420001.0</td>\n",
       "      <td>2.0</td>\n",
       "      <td>6.0</td>\n",
       "      <td>1.0</td>\n",
       "      <td>42.0</td>\n",
       "      <td>40.0</td>\n",
       "      <td>72.0</td>\n",
       "      <td>30.0</td>\n",
       "      <td>0.0</td>\n",
       "      <td>25.0</td>\n",
       "      <td>...</td>\n",
       "      <td>0.0</td>\n",
       "      <td>0.0</td>\n",
       "      <td>0.0</td>\n",
       "      <td>0.0</td>\n",
       "      <td>0.0</td>\n",
       "      <td>0.0</td>\n",
       "      <td>0.0</td>\n",
       "      <td>0.0</td>\n",
       "      <td>0.0</td>\n",
       "      <td>0.0</td>\n",
       "    </tr>\n",
       "    <tr>\n",
       "      <th>2</th>\n",
       "      <td>1420001.0</td>\n",
       "      <td>2.0</td>\n",
       "      <td>6.0</td>\n",
       "      <td>1.0</td>\n",
       "      <td>42.0</td>\n",
       "      <td>40.0</td>\n",
       "      <td>72.0</td>\n",
       "      <td>30.0</td>\n",
       "      <td>0.0</td>\n",
       "      <td>25.0</td>\n",
       "      <td>...</td>\n",
       "      <td>0.0</td>\n",
       "      <td>0.0</td>\n",
       "      <td>0.0</td>\n",
       "      <td>0.0</td>\n",
       "      <td>0.0</td>\n",
       "      <td>0.0</td>\n",
       "      <td>0.0</td>\n",
       "      <td>0.0</td>\n",
       "      <td>0.0</td>\n",
       "      <td>0.0</td>\n",
       "    </tr>\n",
       "    <tr>\n",
       "      <th>3</th>\n",
       "      <td>1420001.0</td>\n",
       "      <td>2.0</td>\n",
       "      <td>6.0</td>\n",
       "      <td>1.0</td>\n",
       "      <td>42.0</td>\n",
       "      <td>40.0</td>\n",
       "      <td>72.0</td>\n",
       "      <td>30.0</td>\n",
       "      <td>0.0</td>\n",
       "      <td>25.0</td>\n",
       "      <td>...</td>\n",
       "      <td>0.0</td>\n",
       "      <td>0.0</td>\n",
       "      <td>0.0</td>\n",
       "      <td>0.0</td>\n",
       "      <td>0.0</td>\n",
       "      <td>0.0</td>\n",
       "      <td>0.0</td>\n",
       "      <td>0.0</td>\n",
       "      <td>0.0</td>\n",
       "      <td>0.0</td>\n",
       "    </tr>\n",
       "    <tr>\n",
       "      <th>4</th>\n",
       "      <td>1420001.0</td>\n",
       "      <td>2.0</td>\n",
       "      <td>6.0</td>\n",
       "      <td>1.0</td>\n",
       "      <td>42.0</td>\n",
       "      <td>40.0</td>\n",
       "      <td>72.0</td>\n",
       "      <td>30.0</td>\n",
       "      <td>0.0</td>\n",
       "      <td>25.0</td>\n",
       "      <td>...</td>\n",
       "      <td>0.0</td>\n",
       "      <td>0.0</td>\n",
       "      <td>0.0</td>\n",
       "      <td>0.0</td>\n",
       "      <td>0.0</td>\n",
       "      <td>0.0</td>\n",
       "      <td>0.0</td>\n",
       "      <td>0.0</td>\n",
       "      <td>0.0</td>\n",
       "      <td>0.0</td>\n",
       "    </tr>\n",
       "    <tr>\n",
       "      <th>5</th>\n",
       "      <td>1420001.0</td>\n",
       "      <td>2.0</td>\n",
       "      <td>6.0</td>\n",
       "      <td>1.0</td>\n",
       "      <td>42.0</td>\n",
       "      <td>40.0</td>\n",
       "      <td>72.0</td>\n",
       "      <td>30.0</td>\n",
       "      <td>0.0</td>\n",
       "      <td>25.0</td>\n",
       "      <td>...</td>\n",
       "      <td>0.0</td>\n",
       "      <td>0.0</td>\n",
       "      <td>0.0</td>\n",
       "      <td>0.0</td>\n",
       "      <td>0.0</td>\n",
       "      <td>0.0</td>\n",
       "      <td>0.0</td>\n",
       "      <td>0.0</td>\n",
       "      <td>0.0</td>\n",
       "      <td>0.0</td>\n",
       "    </tr>\n",
       "    <tr>\n",
       "      <th>6</th>\n",
       "      <td>1420001.0</td>\n",
       "      <td>2.0</td>\n",
       "      <td>6.0</td>\n",
       "      <td>1.0</td>\n",
       "      <td>42.0</td>\n",
       "      <td>40.0</td>\n",
       "      <td>72.0</td>\n",
       "      <td>30.0</td>\n",
       "      <td>0.0</td>\n",
       "      <td>25.0</td>\n",
       "      <td>...</td>\n",
       "      <td>0.0</td>\n",
       "      <td>0.0</td>\n",
       "      <td>0.0</td>\n",
       "      <td>0.0</td>\n",
       "      <td>0.0</td>\n",
       "      <td>0.0</td>\n",
       "      <td>0.0</td>\n",
       "      <td>0.0</td>\n",
       "      <td>0.0</td>\n",
       "      <td>0.0</td>\n",
       "    </tr>\n",
       "    <tr>\n",
       "      <th>7</th>\n",
       "      <td>1420001.0</td>\n",
       "      <td>2.0</td>\n",
       "      <td>6.0</td>\n",
       "      <td>1.0</td>\n",
       "      <td>42.0</td>\n",
       "      <td>40.0</td>\n",
       "      <td>72.0</td>\n",
       "      <td>30.0</td>\n",
       "      <td>0.0</td>\n",
       "      <td>25.0</td>\n",
       "      <td>...</td>\n",
       "      <td>0.0</td>\n",
       "      <td>0.0</td>\n",
       "      <td>0.0</td>\n",
       "      <td>0.0</td>\n",
       "      <td>0.0</td>\n",
       "      <td>0.0</td>\n",
       "      <td>0.0</td>\n",
       "      <td>0.0</td>\n",
       "      <td>0.0</td>\n",
       "      <td>0.0</td>\n",
       "    </tr>\n",
       "    <tr>\n",
       "      <th>16</th>\n",
       "      <td>660003.0</td>\n",
       "      <td>2.0</td>\n",
       "      <td>0.0</td>\n",
       "      <td>0.0</td>\n",
       "      <td>0.0</td>\n",
       "      <td>0.0</td>\n",
       "      <td>0.0</td>\n",
       "      <td>0.0</td>\n",
       "      <td>0.0</td>\n",
       "      <td>25.0</td>\n",
       "      <td>...</td>\n",
       "      <td>0.0</td>\n",
       "      <td>0.0</td>\n",
       "      <td>0.0</td>\n",
       "      <td>0.0</td>\n",
       "      <td>0.0</td>\n",
       "      <td>0.0</td>\n",
       "      <td>0.0</td>\n",
       "      <td>0.0</td>\n",
       "      <td>0.0</td>\n",
       "      <td>0.0</td>\n",
       "    </tr>\n",
       "    <tr>\n",
       "      <th>17</th>\n",
       "      <td>660003.0</td>\n",
       "      <td>2.0</td>\n",
       "      <td>0.0</td>\n",
       "      <td>0.0</td>\n",
       "      <td>0.0</td>\n",
       "      <td>0.0</td>\n",
       "      <td>0.0</td>\n",
       "      <td>0.0</td>\n",
       "      <td>0.0</td>\n",
       "      <td>25.0</td>\n",
       "      <td>...</td>\n",
       "      <td>0.0</td>\n",
       "      <td>0.0</td>\n",
       "      <td>0.0</td>\n",
       "      <td>0.0</td>\n",
       "      <td>0.0</td>\n",
       "      <td>0.0</td>\n",
       "      <td>0.0</td>\n",
       "      <td>0.0</td>\n",
       "      <td>0.0</td>\n",
       "      <td>0.0</td>\n",
       "    </tr>\n",
       "    <tr>\n",
       "      <th>18</th>\n",
       "      <td>660003.0</td>\n",
       "      <td>2.0</td>\n",
       "      <td>0.0</td>\n",
       "      <td>0.0</td>\n",
       "      <td>0.0</td>\n",
       "      <td>0.0</td>\n",
       "      <td>0.0</td>\n",
       "      <td>0.0</td>\n",
       "      <td>0.0</td>\n",
       "      <td>25.0</td>\n",
       "      <td>...</td>\n",
       "      <td>0.0</td>\n",
       "      <td>0.0</td>\n",
       "      <td>0.0</td>\n",
       "      <td>0.0</td>\n",
       "      <td>0.0</td>\n",
       "      <td>0.0</td>\n",
       "      <td>0.0</td>\n",
       "      <td>0.0</td>\n",
       "      <td>0.0</td>\n",
       "      <td>0.0</td>\n",
       "    </tr>\n",
       "    <tr>\n",
       "      <th>19</th>\n",
       "      <td>660003.0</td>\n",
       "      <td>2.0</td>\n",
       "      <td>0.0</td>\n",
       "      <td>0.0</td>\n",
       "      <td>0.0</td>\n",
       "      <td>0.0</td>\n",
       "      <td>0.0</td>\n",
       "      <td>0.0</td>\n",
       "      <td>0.0</td>\n",
       "      <td>25.0</td>\n",
       "      <td>...</td>\n",
       "      <td>0.0</td>\n",
       "      <td>0.0</td>\n",
       "      <td>0.0</td>\n",
       "      <td>0.0</td>\n",
       "      <td>0.0</td>\n",
       "      <td>0.0</td>\n",
       "      <td>0.0</td>\n",
       "      <td>0.0</td>\n",
       "      <td>0.0</td>\n",
       "      <td>0.0</td>\n",
       "    </tr>\n",
       "    <tr>\n",
       "      <th>20</th>\n",
       "      <td>660003.0</td>\n",
       "      <td>2.0</td>\n",
       "      <td>0.0</td>\n",
       "      <td>0.0</td>\n",
       "      <td>0.0</td>\n",
       "      <td>0.0</td>\n",
       "      <td>0.0</td>\n",
       "      <td>0.0</td>\n",
       "      <td>0.0</td>\n",
       "      <td>25.0</td>\n",
       "      <td>...</td>\n",
       "      <td>0.0</td>\n",
       "      <td>0.0</td>\n",
       "      <td>0.0</td>\n",
       "      <td>0.0</td>\n",
       "      <td>0.0</td>\n",
       "      <td>0.0</td>\n",
       "      <td>0.0</td>\n",
       "      <td>0.0</td>\n",
       "      <td>0.0</td>\n",
       "      <td>0.0</td>\n",
       "    </tr>\n",
       "    <tr>\n",
       "      <th>21</th>\n",
       "      <td>660003.0</td>\n",
       "      <td>2.0</td>\n",
       "      <td>0.0</td>\n",
       "      <td>0.0</td>\n",
       "      <td>0.0</td>\n",
       "      <td>0.0</td>\n",
       "      <td>0.0</td>\n",
       "      <td>0.0</td>\n",
       "      <td>0.0</td>\n",
       "      <td>25.0</td>\n",
       "      <td>...</td>\n",
       "      <td>0.0</td>\n",
       "      <td>0.0</td>\n",
       "      <td>0.0</td>\n",
       "      <td>0.0</td>\n",
       "      <td>0.0</td>\n",
       "      <td>0.0</td>\n",
       "      <td>0.0</td>\n",
       "      <td>0.0</td>\n",
       "      <td>0.0</td>\n",
       "      <td>0.0</td>\n",
       "    </tr>\n",
       "    <tr>\n",
       "      <th>22</th>\n",
       "      <td>660003.0</td>\n",
       "      <td>2.0</td>\n",
       "      <td>0.0</td>\n",
       "      <td>0.0</td>\n",
       "      <td>0.0</td>\n",
       "      <td>0.0</td>\n",
       "      <td>0.0</td>\n",
       "      <td>0.0</td>\n",
       "      <td>0.0</td>\n",
       "      <td>25.0</td>\n",
       "      <td>...</td>\n",
       "      <td>0.0</td>\n",
       "      <td>0.0</td>\n",
       "      <td>0.0</td>\n",
       "      <td>0.0</td>\n",
       "      <td>0.0</td>\n",
       "      <td>0.0</td>\n",
       "      <td>0.0</td>\n",
       "      <td>0.0</td>\n",
       "      <td>0.0</td>\n",
       "      <td>0.0</td>\n",
       "    </tr>\n",
       "  </tbody>\n",
       "</table>\n",
       "<p>15 rows × 4379 columns</p>\n",
       "</div>"
      ],
      "text/plain": [
       "       lrrkid  gender  educcat_calc  pdenrl  agediag  ageonset  \\\n",
       "0   1420001.0     2.0           6.0     1.0     42.0      40.0   \n",
       "1   1420001.0     2.0           6.0     1.0     42.0      40.0   \n",
       "2   1420001.0     2.0           6.0     1.0     42.0      40.0   \n",
       "3   1420001.0     2.0           6.0     1.0     42.0      40.0   \n",
       "4   1420001.0     2.0           6.0     1.0     42.0      40.0   \n",
       "5   1420001.0     2.0           6.0     1.0     42.0      40.0   \n",
       "6   1420001.0     2.0           6.0     1.0     42.0      40.0   \n",
       "7   1420001.0     2.0           6.0     1.0     42.0      40.0   \n",
       "16   660003.0     2.0           0.0     0.0      0.0       0.0   \n",
       "17   660003.0     2.0           0.0     0.0      0.0       0.0   \n",
       "18   660003.0     2.0           0.0     0.0      0.0       0.0   \n",
       "19   660003.0     2.0           0.0     0.0      0.0       0.0   \n",
       "20   660003.0     2.0           0.0     0.0      0.0       0.0   \n",
       "21   660003.0     2.0           0.0     0.0      0.0       0.0   \n",
       "22   660003.0     2.0           0.0     0.0      0.0       0.0   \n",
       "\n",
       "    demopd_ageassess  pd_duration  pdmedyn  MCATOT  ...  \\\n",
       "0               72.0         30.0      0.0    25.0  ...   \n",
       "1               72.0         30.0      0.0    25.0  ...   \n",
       "2               72.0         30.0      0.0    25.0  ...   \n",
       "3               72.0         30.0      0.0    25.0  ...   \n",
       "4               72.0         30.0      0.0    25.0  ...   \n",
       "5               72.0         30.0      0.0    25.0  ...   \n",
       "6               72.0         30.0      0.0    25.0  ...   \n",
       "7               72.0         30.0      0.0    25.0  ...   \n",
       "16               0.0          0.0      0.0    25.0  ...   \n",
       "17               0.0          0.0      0.0    25.0  ...   \n",
       "18               0.0          0.0      0.0    25.0  ...   \n",
       "19               0.0          0.0      0.0    25.0  ...   \n",
       "20               0.0          0.0      0.0    25.0  ...   \n",
       "21               0.0          0.0      0.0    25.0  ...   \n",
       "22               0.0          0.0      0.0    25.0  ...   \n",
       "\n",
       "    CNSOTHCM_lyme disease  CNSOTHCM_meningioma  CNSOTHCM_meningitis  \\\n",
       "0                     0.0                  0.0                  0.0   \n",
       "1                     0.0                  0.0                  0.0   \n",
       "2                     0.0                  0.0                  0.0   \n",
       "3                     0.0                  0.0                  0.0   \n",
       "4                     0.0                  0.0                  0.0   \n",
       "5                     0.0                  0.0                  0.0   \n",
       "6                     0.0                  0.0                  0.0   \n",
       "7                     0.0                  0.0                  0.0   \n",
       "16                    0.0                  0.0                  0.0   \n",
       "17                    0.0                  0.0                  0.0   \n",
       "18                    0.0                  0.0                  0.0   \n",
       "19                    0.0                  0.0                  0.0   \n",
       "20                    0.0                  0.0                  0.0   \n",
       "21                    0.0                  0.0                  0.0   \n",
       "22                    0.0                  0.0                  0.0   \n",
       "\n",
       "    CNSOTHCM_meningitis in childhood  CNSOTHCM_migraine  \\\n",
       "0                                0.0                0.0   \n",
       "1                                0.0                0.0   \n",
       "2                                0.0                0.0   \n",
       "3                                0.0                0.0   \n",
       "4                                0.0                0.0   \n",
       "5                                0.0                0.0   \n",
       "6                                0.0                0.0   \n",
       "7                                0.0                0.0   \n",
       "16                               0.0                0.0   \n",
       "17                               0.0                0.0   \n",
       "18                               0.0                0.0   \n",
       "19                               0.0                0.0   \n",
       "20                               0.0                0.0   \n",
       "21                               0.0                0.0   \n",
       "22                               0.0                0.0   \n",
       "\n",
       "    CNSOTHCM_multiple sclerosis  CNSOTHCM_nonREM parasonmnia (sleep walking)  \\\n",
       "0                           0.0                                          0.0   \n",
       "1                           0.0                                          0.0   \n",
       "2                           0.0                                          0.0   \n",
       "3                           0.0                                          0.0   \n",
       "4                           0.0                                          0.0   \n",
       "5                           0.0                                          0.0   \n",
       "6                           0.0                                          0.0   \n",
       "7                           0.0                                          0.0   \n",
       "16                          0.0                                          0.0   \n",
       "17                          0.0                                          0.0   \n",
       "18                          0.0                                          0.0   \n",
       "19                          0.0                                          0.0   \n",
       "20                          0.0                                          0.0   \n",
       "21                          0.0                                          0.0   \n",
       "22                          0.0                                          0.0   \n",
       "\n",
       "    CNSOTHCM_optic neuritis  CNSOTHCM_possible Sleep apnea-hypopnea?  \\\n",
       "0                       0.0                                      0.0   \n",
       "1                       0.0                                      0.0   \n",
       "2                       0.0                                      0.0   \n",
       "3                       0.0                                      0.0   \n",
       "4                       0.0                                      0.0   \n",
       "5                       0.0                                      0.0   \n",
       "6                       0.0                                      0.0   \n",
       "7                       0.0                                      0.0   \n",
       "16                      0.0                                      0.0   \n",
       "17                      0.0                                      0.0   \n",
       "18                      0.0                                      0.0   \n",
       "19                      0.0                                      0.0   \n",
       "20                      0.0                                      0.0   \n",
       "21                      0.0                                      0.0   \n",
       "22                      0.0                                      0.0   \n",
       "\n",
       "    CNSOTHCM_they deny having RLS but suitable symptoms, not diagnosed of depression but scales suggest he is depressed  \n",
       "0                                                 0.0                                                                    \n",
       "1                                                 0.0                                                                    \n",
       "2                                                 0.0                                                                    \n",
       "3                                                 0.0                                                                    \n",
       "4                                                 0.0                                                                    \n",
       "5                                                 0.0                                                                    \n",
       "6                                                 0.0                                                                    \n",
       "7                                                 0.0                                                                    \n",
       "16                                                0.0                                                                    \n",
       "17                                                0.0                                                                    \n",
       "18                                                0.0                                                                    \n",
       "19                                                0.0                                                                    \n",
       "20                                                0.0                                                                    \n",
       "21                                                0.0                                                                    \n",
       "22                                                0.0                                                                    \n",
       "\n",
       "[15 rows x 4379 columns]"
      ]
     },
     "execution_count": 110,
     "metadata": {},
     "output_type": "execute_result"
    }
   ],
   "source": [
    "train_data.head(15)"
   ]
  },
  {
   "cell_type": "code",
   "execution_count": 111,
   "id": "95256c97",
   "metadata": {},
   "outputs": [
    {
     "data": {
      "text/plain": [
       "289"
      ]
     },
     "execution_count": 111,
     "metadata": {},
     "output_type": "execute_result"
    }
   ],
   "source": [
    "test_data['lrrkid'].nunique()"
   ]
  },
  {
   "cell_type": "code",
   "execution_count": 112,
   "id": "6f10e73c",
   "metadata": {},
   "outputs": [
    {
     "data": {
      "text/plain": [
       "675"
      ]
     },
     "execution_count": 112,
     "metadata": {},
     "output_type": "execute_result"
    }
   ],
   "source": [
    "train_data['lrrkid'].nunique()"
   ]
  },
  {
   "cell_type": "code",
   "execution_count": 113,
   "id": "52ff4a33",
   "metadata": {},
   "outputs": [
    {
     "data": {
      "text/plain": [
       "1.0    4294\n",
       "0.0    4048\n",
       "Name: pdenrl, dtype: int64"
      ]
     },
     "execution_count": 113,
     "metadata": {},
     "output_type": "execute_result"
    }
   ],
   "source": [
    "train_data[\"pdenrl\"].value_counts()"
   ]
  },
  {
   "cell_type": "code",
   "execution_count": 114,
   "id": "6f3c4487",
   "metadata": {},
   "outputs": [
    {
     "data": {
      "text/plain": [
       "0.0    1921\n",
       "1.0    1598\n",
       "Name: pdenrl, dtype: int64"
      ]
     },
     "execution_count": 114,
     "metadata": {},
     "output_type": "execute_result"
    }
   ],
   "source": [
    "test_data[\"pdenrl\"].value_counts()"
   ]
  },
  {
   "cell_type": "code",
   "execution_count": 115,
   "id": "e77db274",
   "metadata": {},
   "outputs": [],
   "source": [
    "train_data.to_csv(\"Data/pd_trainData.csv\",index=False)"
   ]
  },
  {
   "cell_type": "code",
   "execution_count": 116,
   "id": "a1951d0c",
   "metadata": {},
   "outputs": [],
   "source": [
    "test_data.to_csv(\"Data/pd_testData.csv\",index=False)"
   ]
  }
 ],
 "metadata": {
  "kernelspec": {
   "display_name": "Python 3 (ipykernel)",
   "language": "python",
   "name": "python3"
  },
  "language_info": {
   "codemirror_mode": {
    "name": "ipython",
    "version": 3
   },
   "file_extension": ".py",
   "mimetype": "text/x-python",
   "name": "python",
   "nbconvert_exporter": "python",
   "pygments_lexer": "ipython3",
   "version": "3.9.12"
  }
 },
 "nbformat": 4,
 "nbformat_minor": 5
}
