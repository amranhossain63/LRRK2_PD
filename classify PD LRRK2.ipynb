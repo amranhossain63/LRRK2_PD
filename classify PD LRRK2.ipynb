{
 "cells": [
  {
   "cell_type": "markdown",
   "id": "aa023b26",
   "metadata": {},
   "source": [
    "# Analyze speech features to classify PD"
   ]
  },
  {
   "cell_type": "markdown",
   "id": "1256cf2b",
   "metadata": {},
   "source": [
    "## Import Package "
   ]
  },
  {
   "cell_type": "code",
   "execution_count": 1,
   "id": "8600e917",
   "metadata": {},
   "outputs": [],
   "source": [
    "import numpy as np\n",
    "import pandas as pd\n",
    "import matplotlib.pyplot as plt\n",
    "\n",
    "\n",
    "from sklearn import preprocessing\n",
    "from sklearn import metrics\n",
    "\n",
    "from sklearn.metrics import log_loss\n",
    "from sklearn.metrics import confusion_matrix\n",
    "import sklearn.metrics as metrics\n",
    "from sklearn.metrics import ConfusionMatrixDisplay\n",
    "from sklearn.metrics import classification_report\n",
    "from sklearn.metrics import accuracy_score\n",
    "\n",
    "from sklearn.metrics import roc_curve, auc,roc_auc_score\n",
    "from sklearn.metrics import RocCurveDisplay\n",
    "from sklearn.model_selection import GridSearchCV, cross_val_score, KFold\n",
    "from sklearn.metrics import mean_squared_error\n",
    "\n",
    "\n",
    "from sklearn.neural_network import MLPClassifier\n",
    "\n",
    "\n",
    "%matplotlib inline"
   ]
  },
  {
   "cell_type": "markdown",
   "id": "8653db2d",
   "metadata": {},
   "source": [
    "## Load and Anayze Data "
   ]
  },
  {
   "cell_type": "markdown",
   "id": "db3675eb",
   "metadata": {},
   "source": [
    "### Load Data"
   ]
  },
  {
   "cell_type": "code",
   "execution_count": 2,
   "id": "86c3362c",
   "metadata": {},
   "outputs": [],
   "source": [
    "biomarker_data = \"Data/\""
   ]
  },
  {
   "cell_type": "code",
   "execution_count": 3,
   "id": "03ffa3c1",
   "metadata": {
    "scrolled": false
   },
   "outputs": [],
   "source": [
    "train_data = pd.read_csv(biomarker_data +\"pd_trainData.csv\",low_memory=False)\n",
    "\n",
    "test_data = pd.read_csv(biomarker_data +\"pd_testData.csv\",low_memory=False)"
   ]
  },
  {
   "cell_type": "code",
   "execution_count": 4,
   "id": "6fa6bc0d",
   "metadata": {},
   "outputs": [
    {
     "data": {
      "text/html": [
       "<div>\n",
       "<style scoped>\n",
       "    .dataframe tbody tr th:only-of-type {\n",
       "        vertical-align: middle;\n",
       "    }\n",
       "\n",
       "    .dataframe tbody tr th {\n",
       "        vertical-align: top;\n",
       "    }\n",
       "\n",
       "    .dataframe thead th {\n",
       "        text-align: right;\n",
       "    }\n",
       "</style>\n",
       "<table border=\"1\" class=\"dataframe\">\n",
       "  <thead>\n",
       "    <tr style=\"text-align: right;\">\n",
       "      <th></th>\n",
       "      <th>lrrkid</th>\n",
       "      <th>gender</th>\n",
       "      <th>educcat_calc</th>\n",
       "      <th>pdenrl</th>\n",
       "      <th>agediag</th>\n",
       "      <th>ageonset</th>\n",
       "      <th>demopd_ageassess</th>\n",
       "      <th>pd_duration</th>\n",
       "      <th>pdmedyn</th>\n",
       "      <th>MCATOT</th>\n",
       "      <th>...</th>\n",
       "      <th>CNSOTHCM_lyme disease</th>\n",
       "      <th>CNSOTHCM_meningioma</th>\n",
       "      <th>CNSOTHCM_meningitis</th>\n",
       "      <th>CNSOTHCM_meningitis in childhood</th>\n",
       "      <th>CNSOTHCM_migraine</th>\n",
       "      <th>CNSOTHCM_multiple sclerosis</th>\n",
       "      <th>CNSOTHCM_nonREM parasonmnia (sleep walking)</th>\n",
       "      <th>CNSOTHCM_optic neuritis</th>\n",
       "      <th>CNSOTHCM_possible Sleep apnea-hypopnea?</th>\n",
       "      <th>CNSOTHCM_they deny having RLS but suitable symptoms, not diagnosed of depression but scales suggest he is depressed</th>\n",
       "    </tr>\n",
       "  </thead>\n",
       "  <tbody>\n",
       "    <tr>\n",
       "      <th>0</th>\n",
       "      <td>1420001.0</td>\n",
       "      <td>2.0</td>\n",
       "      <td>6.0</td>\n",
       "      <td>1.0</td>\n",
       "      <td>42.0</td>\n",
       "      <td>40.0</td>\n",
       "      <td>72.0</td>\n",
       "      <td>30.0</td>\n",
       "      <td>0.0</td>\n",
       "      <td>25.0</td>\n",
       "      <td>...</td>\n",
       "      <td>0.0</td>\n",
       "      <td>0.0</td>\n",
       "      <td>0.0</td>\n",
       "      <td>0.0</td>\n",
       "      <td>0.0</td>\n",
       "      <td>0.0</td>\n",
       "      <td>0.0</td>\n",
       "      <td>0.0</td>\n",
       "      <td>0.0</td>\n",
       "      <td>0.0</td>\n",
       "    </tr>\n",
       "    <tr>\n",
       "      <th>1</th>\n",
       "      <td>1420001.0</td>\n",
       "      <td>2.0</td>\n",
       "      <td>6.0</td>\n",
       "      <td>1.0</td>\n",
       "      <td>42.0</td>\n",
       "      <td>40.0</td>\n",
       "      <td>72.0</td>\n",
       "      <td>30.0</td>\n",
       "      <td>0.0</td>\n",
       "      <td>25.0</td>\n",
       "      <td>...</td>\n",
       "      <td>0.0</td>\n",
       "      <td>0.0</td>\n",
       "      <td>0.0</td>\n",
       "      <td>0.0</td>\n",
       "      <td>0.0</td>\n",
       "      <td>0.0</td>\n",
       "      <td>0.0</td>\n",
       "      <td>0.0</td>\n",
       "      <td>0.0</td>\n",
       "      <td>0.0</td>\n",
       "    </tr>\n",
       "    <tr>\n",
       "      <th>2</th>\n",
       "      <td>1420001.0</td>\n",
       "      <td>2.0</td>\n",
       "      <td>6.0</td>\n",
       "      <td>1.0</td>\n",
       "      <td>42.0</td>\n",
       "      <td>40.0</td>\n",
       "      <td>72.0</td>\n",
       "      <td>30.0</td>\n",
       "      <td>0.0</td>\n",
       "      <td>25.0</td>\n",
       "      <td>...</td>\n",
       "      <td>0.0</td>\n",
       "      <td>0.0</td>\n",
       "      <td>0.0</td>\n",
       "      <td>0.0</td>\n",
       "      <td>0.0</td>\n",
       "      <td>0.0</td>\n",
       "      <td>0.0</td>\n",
       "      <td>0.0</td>\n",
       "      <td>0.0</td>\n",
       "      <td>0.0</td>\n",
       "    </tr>\n",
       "    <tr>\n",
       "      <th>3</th>\n",
       "      <td>1420001.0</td>\n",
       "      <td>2.0</td>\n",
       "      <td>6.0</td>\n",
       "      <td>1.0</td>\n",
       "      <td>42.0</td>\n",
       "      <td>40.0</td>\n",
       "      <td>72.0</td>\n",
       "      <td>30.0</td>\n",
       "      <td>0.0</td>\n",
       "      <td>25.0</td>\n",
       "      <td>...</td>\n",
       "      <td>0.0</td>\n",
       "      <td>0.0</td>\n",
       "      <td>0.0</td>\n",
       "      <td>0.0</td>\n",
       "      <td>0.0</td>\n",
       "      <td>0.0</td>\n",
       "      <td>0.0</td>\n",
       "      <td>0.0</td>\n",
       "      <td>0.0</td>\n",
       "      <td>0.0</td>\n",
       "    </tr>\n",
       "    <tr>\n",
       "      <th>4</th>\n",
       "      <td>1420001.0</td>\n",
       "      <td>2.0</td>\n",
       "      <td>6.0</td>\n",
       "      <td>1.0</td>\n",
       "      <td>42.0</td>\n",
       "      <td>40.0</td>\n",
       "      <td>72.0</td>\n",
       "      <td>30.0</td>\n",
       "      <td>0.0</td>\n",
       "      <td>25.0</td>\n",
       "      <td>...</td>\n",
       "      <td>0.0</td>\n",
       "      <td>0.0</td>\n",
       "      <td>0.0</td>\n",
       "      <td>0.0</td>\n",
       "      <td>0.0</td>\n",
       "      <td>0.0</td>\n",
       "      <td>0.0</td>\n",
       "      <td>0.0</td>\n",
       "      <td>0.0</td>\n",
       "      <td>0.0</td>\n",
       "    </tr>\n",
       "  </tbody>\n",
       "</table>\n",
       "<p>5 rows × 4379 columns</p>\n",
       "</div>"
      ],
      "text/plain": [
       "      lrrkid  gender  educcat_calc  pdenrl  agediag  ageonset  \\\n",
       "0  1420001.0     2.0           6.0     1.0     42.0      40.0   \n",
       "1  1420001.0     2.0           6.0     1.0     42.0      40.0   \n",
       "2  1420001.0     2.0           6.0     1.0     42.0      40.0   \n",
       "3  1420001.0     2.0           6.0     1.0     42.0      40.0   \n",
       "4  1420001.0     2.0           6.0     1.0     42.0      40.0   \n",
       "\n",
       "   demopd_ageassess  pd_duration  pdmedyn  MCATOT  ...  CNSOTHCM_lyme disease  \\\n",
       "0              72.0         30.0      0.0    25.0  ...                    0.0   \n",
       "1              72.0         30.0      0.0    25.0  ...                    0.0   \n",
       "2              72.0         30.0      0.0    25.0  ...                    0.0   \n",
       "3              72.0         30.0      0.0    25.0  ...                    0.0   \n",
       "4              72.0         30.0      0.0    25.0  ...                    0.0   \n",
       "\n",
       "   CNSOTHCM_meningioma  CNSOTHCM_meningitis  CNSOTHCM_meningitis in childhood  \\\n",
       "0                  0.0                  0.0                               0.0   \n",
       "1                  0.0                  0.0                               0.0   \n",
       "2                  0.0                  0.0                               0.0   \n",
       "3                  0.0                  0.0                               0.0   \n",
       "4                  0.0                  0.0                               0.0   \n",
       "\n",
       "   CNSOTHCM_migraine  CNSOTHCM_multiple sclerosis  \\\n",
       "0                0.0                          0.0   \n",
       "1                0.0                          0.0   \n",
       "2                0.0                          0.0   \n",
       "3                0.0                          0.0   \n",
       "4                0.0                          0.0   \n",
       "\n",
       "   CNSOTHCM_nonREM parasonmnia (sleep walking)  CNSOTHCM_optic neuritis  \\\n",
       "0                                          0.0                      0.0   \n",
       "1                                          0.0                      0.0   \n",
       "2                                          0.0                      0.0   \n",
       "3                                          0.0                      0.0   \n",
       "4                                          0.0                      0.0   \n",
       "\n",
       "   CNSOTHCM_possible Sleep apnea-hypopnea?  \\\n",
       "0                                      0.0   \n",
       "1                                      0.0   \n",
       "2                                      0.0   \n",
       "3                                      0.0   \n",
       "4                                      0.0   \n",
       "\n",
       "   CNSOTHCM_they deny having RLS but suitable symptoms, not diagnosed of depression but scales suggest he is depressed  \n",
       "0                                                0.0                                                                    \n",
       "1                                                0.0                                                                    \n",
       "2                                                0.0                                                                    \n",
       "3                                                0.0                                                                    \n",
       "4                                                0.0                                                                    \n",
       "\n",
       "[5 rows x 4379 columns]"
      ]
     },
     "execution_count": 4,
     "metadata": {},
     "output_type": "execute_result"
    }
   ],
   "source": [
    "train_data.head()"
   ]
  },
  {
   "cell_type": "code",
   "execution_count": 5,
   "id": "76e7c869",
   "metadata": {},
   "outputs": [
    {
     "data": {
      "text/html": [
       "<div>\n",
       "<style scoped>\n",
       "    .dataframe tbody tr th:only-of-type {\n",
       "        vertical-align: middle;\n",
       "    }\n",
       "\n",
       "    .dataframe tbody tr th {\n",
       "        vertical-align: top;\n",
       "    }\n",
       "\n",
       "    .dataframe thead th {\n",
       "        text-align: right;\n",
       "    }\n",
       "</style>\n",
       "<table border=\"1\" class=\"dataframe\">\n",
       "  <thead>\n",
       "    <tr style=\"text-align: right;\">\n",
       "      <th></th>\n",
       "      <th>lrrkid</th>\n",
       "      <th>gender</th>\n",
       "      <th>educcat_calc</th>\n",
       "      <th>pdenrl</th>\n",
       "      <th>agediag</th>\n",
       "      <th>ageonset</th>\n",
       "      <th>demopd_ageassess</th>\n",
       "      <th>pd_duration</th>\n",
       "      <th>pdmedyn</th>\n",
       "      <th>MCATOT</th>\n",
       "      <th>...</th>\n",
       "      <th>CNSOTHCM_lyme disease</th>\n",
       "      <th>CNSOTHCM_meningioma</th>\n",
       "      <th>CNSOTHCM_meningitis</th>\n",
       "      <th>CNSOTHCM_meningitis in childhood</th>\n",
       "      <th>CNSOTHCM_migraine</th>\n",
       "      <th>CNSOTHCM_multiple sclerosis</th>\n",
       "      <th>CNSOTHCM_nonREM parasonmnia (sleep walking)</th>\n",
       "      <th>CNSOTHCM_optic neuritis</th>\n",
       "      <th>CNSOTHCM_possible Sleep apnea-hypopnea?</th>\n",
       "      <th>CNSOTHCM_they deny having RLS but suitable symptoms, not diagnosed of depression but scales suggest he is depressed</th>\n",
       "    </tr>\n",
       "  </thead>\n",
       "  <tbody>\n",
       "    <tr>\n",
       "      <th>0</th>\n",
       "      <td>6950001.0</td>\n",
       "      <td>1.0</td>\n",
       "      <td>3.0</td>\n",
       "      <td>0.0</td>\n",
       "      <td>0.0</td>\n",
       "      <td>0.0</td>\n",
       "      <td>61.0</td>\n",
       "      <td>0.0</td>\n",
       "      <td>0.0</td>\n",
       "      <td>29.0</td>\n",
       "      <td>...</td>\n",
       "      <td>0.0</td>\n",
       "      <td>0.0</td>\n",
       "      <td>0.0</td>\n",
       "      <td>0.0</td>\n",
       "      <td>0.0</td>\n",
       "      <td>0.0</td>\n",
       "      <td>0.0</td>\n",
       "      <td>0.0</td>\n",
       "      <td>0.0</td>\n",
       "      <td>0.0</td>\n",
       "    </tr>\n",
       "    <tr>\n",
       "      <th>1</th>\n",
       "      <td>6950001.0</td>\n",
       "      <td>1.0</td>\n",
       "      <td>3.0</td>\n",
       "      <td>0.0</td>\n",
       "      <td>0.0</td>\n",
       "      <td>0.0</td>\n",
       "      <td>61.0</td>\n",
       "      <td>0.0</td>\n",
       "      <td>0.0</td>\n",
       "      <td>29.0</td>\n",
       "      <td>...</td>\n",
       "      <td>0.0</td>\n",
       "      <td>0.0</td>\n",
       "      <td>0.0</td>\n",
       "      <td>0.0</td>\n",
       "      <td>0.0</td>\n",
       "      <td>0.0</td>\n",
       "      <td>0.0</td>\n",
       "      <td>0.0</td>\n",
       "      <td>0.0</td>\n",
       "      <td>0.0</td>\n",
       "    </tr>\n",
       "    <tr>\n",
       "      <th>2</th>\n",
       "      <td>6950001.0</td>\n",
       "      <td>1.0</td>\n",
       "      <td>3.0</td>\n",
       "      <td>0.0</td>\n",
       "      <td>0.0</td>\n",
       "      <td>0.0</td>\n",
       "      <td>61.0</td>\n",
       "      <td>0.0</td>\n",
       "      <td>0.0</td>\n",
       "      <td>29.0</td>\n",
       "      <td>...</td>\n",
       "      <td>0.0</td>\n",
       "      <td>0.0</td>\n",
       "      <td>0.0</td>\n",
       "      <td>0.0</td>\n",
       "      <td>0.0</td>\n",
       "      <td>0.0</td>\n",
       "      <td>0.0</td>\n",
       "      <td>0.0</td>\n",
       "      <td>0.0</td>\n",
       "      <td>0.0</td>\n",
       "    </tr>\n",
       "    <tr>\n",
       "      <th>3</th>\n",
       "      <td>6950001.0</td>\n",
       "      <td>1.0</td>\n",
       "      <td>3.0</td>\n",
       "      <td>0.0</td>\n",
       "      <td>0.0</td>\n",
       "      <td>0.0</td>\n",
       "      <td>61.0</td>\n",
       "      <td>0.0</td>\n",
       "      <td>0.0</td>\n",
       "      <td>29.0</td>\n",
       "      <td>...</td>\n",
       "      <td>0.0</td>\n",
       "      <td>0.0</td>\n",
       "      <td>0.0</td>\n",
       "      <td>0.0</td>\n",
       "      <td>0.0</td>\n",
       "      <td>0.0</td>\n",
       "      <td>0.0</td>\n",
       "      <td>0.0</td>\n",
       "      <td>0.0</td>\n",
       "      <td>0.0</td>\n",
       "    </tr>\n",
       "    <tr>\n",
       "      <th>4</th>\n",
       "      <td>6950001.0</td>\n",
       "      <td>1.0</td>\n",
       "      <td>3.0</td>\n",
       "      <td>0.0</td>\n",
       "      <td>0.0</td>\n",
       "      <td>0.0</td>\n",
       "      <td>61.0</td>\n",
       "      <td>0.0</td>\n",
       "      <td>0.0</td>\n",
       "      <td>29.0</td>\n",
       "      <td>...</td>\n",
       "      <td>0.0</td>\n",
       "      <td>0.0</td>\n",
       "      <td>0.0</td>\n",
       "      <td>0.0</td>\n",
       "      <td>0.0</td>\n",
       "      <td>0.0</td>\n",
       "      <td>0.0</td>\n",
       "      <td>0.0</td>\n",
       "      <td>0.0</td>\n",
       "      <td>0.0</td>\n",
       "    </tr>\n",
       "  </tbody>\n",
       "</table>\n",
       "<p>5 rows × 4379 columns</p>\n",
       "</div>"
      ],
      "text/plain": [
       "      lrrkid  gender  educcat_calc  pdenrl  agediag  ageonset  \\\n",
       "0  6950001.0     1.0           3.0     0.0      0.0       0.0   \n",
       "1  6950001.0     1.0           3.0     0.0      0.0       0.0   \n",
       "2  6950001.0     1.0           3.0     0.0      0.0       0.0   \n",
       "3  6950001.0     1.0           3.0     0.0      0.0       0.0   \n",
       "4  6950001.0     1.0           3.0     0.0      0.0       0.0   \n",
       "\n",
       "   demopd_ageassess  pd_duration  pdmedyn  MCATOT  ...  CNSOTHCM_lyme disease  \\\n",
       "0              61.0          0.0      0.0    29.0  ...                    0.0   \n",
       "1              61.0          0.0      0.0    29.0  ...                    0.0   \n",
       "2              61.0          0.0      0.0    29.0  ...                    0.0   \n",
       "3              61.0          0.0      0.0    29.0  ...                    0.0   \n",
       "4              61.0          0.0      0.0    29.0  ...                    0.0   \n",
       "\n",
       "   CNSOTHCM_meningioma  CNSOTHCM_meningitis  CNSOTHCM_meningitis in childhood  \\\n",
       "0                  0.0                  0.0                               0.0   \n",
       "1                  0.0                  0.0                               0.0   \n",
       "2                  0.0                  0.0                               0.0   \n",
       "3                  0.0                  0.0                               0.0   \n",
       "4                  0.0                  0.0                               0.0   \n",
       "\n",
       "   CNSOTHCM_migraine  CNSOTHCM_multiple sclerosis  \\\n",
       "0                0.0                          0.0   \n",
       "1                0.0                          0.0   \n",
       "2                0.0                          0.0   \n",
       "3                0.0                          0.0   \n",
       "4                0.0                          0.0   \n",
       "\n",
       "   CNSOTHCM_nonREM parasonmnia (sleep walking)  CNSOTHCM_optic neuritis  \\\n",
       "0                                          0.0                      0.0   \n",
       "1                                          0.0                      0.0   \n",
       "2                                          0.0                      0.0   \n",
       "3                                          0.0                      0.0   \n",
       "4                                          0.0                      0.0   \n",
       "\n",
       "   CNSOTHCM_possible Sleep apnea-hypopnea?  \\\n",
       "0                                      0.0   \n",
       "1                                      0.0   \n",
       "2                                      0.0   \n",
       "3                                      0.0   \n",
       "4                                      0.0   \n",
       "\n",
       "   CNSOTHCM_they deny having RLS but suitable symptoms, not diagnosed of depression but scales suggest he is depressed  \n",
       "0                                                0.0                                                                    \n",
       "1                                                0.0                                                                    \n",
       "2                                                0.0                                                                    \n",
       "3                                                0.0                                                                    \n",
       "4                                                0.0                                                                    \n",
       "\n",
       "[5 rows x 4379 columns]"
      ]
     },
     "execution_count": 5,
     "metadata": {},
     "output_type": "execute_result"
    }
   ],
   "source": [
    "test_data.head()"
   ]
  },
  {
   "cell_type": "code",
   "execution_count": 6,
   "id": "63da6849",
   "metadata": {},
   "outputs": [
    {
     "data": {
      "text/plain": [
       "False    8342\n",
       "Name: lrrkid, dtype: int64"
      ]
     },
     "execution_count": 6,
     "metadata": {},
     "output_type": "execute_result"
    }
   ],
   "source": [
    "#check duplicate patient on train and test\n",
    "train_data['lrrkid'].isin(test_data['lrrkid']).value_counts()"
   ]
  },
  {
   "cell_type": "code",
   "execution_count": 7,
   "id": "0e864132",
   "metadata": {},
   "outputs": [
    {
     "name": "stdout",
     "output_type": "stream",
     "text": [
      "<class 'pandas.core.frame.DataFrame'>\n",
      "RangeIndex: 3519 entries, 0 to 3518\n",
      "Columns: 4379 entries, lrrkid to CNSOTHCM_they deny having RLS but suitable symptoms, not diagnosed of depression but scales suggest he is depressed\n",
      "dtypes: float64(4379)\n",
      "memory usage: 117.6 MB\n"
     ]
    }
   ],
   "source": [
    "test_data.info()"
   ]
  },
  {
   "cell_type": "code",
   "execution_count": 8,
   "id": "ed6436cf",
   "metadata": {},
   "outputs": [
    {
     "name": "stdout",
     "output_type": "stream",
     "text": [
      "<class 'pandas.core.frame.DataFrame'>\n",
      "RangeIndex: 8342 entries, 0 to 8341\n",
      "Columns: 4379 entries, lrrkid to CNSOTHCM_they deny having RLS but suitable symptoms, not diagnosed of depression but scales suggest he is depressed\n",
      "dtypes: float64(4379)\n",
      "memory usage: 278.7 MB\n"
     ]
    }
   ],
   "source": [
    "train_data.info()"
   ]
  },
  {
   "cell_type": "code",
   "execution_count": 9,
   "id": "3501b368",
   "metadata": {},
   "outputs": [
    {
     "data": {
      "text/html": [
       "<div>\n",
       "<style scoped>\n",
       "    .dataframe tbody tr th:only-of-type {\n",
       "        vertical-align: middle;\n",
       "    }\n",
       "\n",
       "    .dataframe tbody tr th {\n",
       "        vertical-align: top;\n",
       "    }\n",
       "\n",
       "    .dataframe thead th {\n",
       "        text-align: right;\n",
       "    }\n",
       "</style>\n",
       "<table border=\"1\" class=\"dataframe\">\n",
       "  <thead>\n",
       "    <tr style=\"text-align: right;\">\n",
       "      <th></th>\n",
       "      <th>lrrkid</th>\n",
       "      <th>gender</th>\n",
       "      <th>educcat_calc</th>\n",
       "      <th>pdenrl</th>\n",
       "      <th>agediag</th>\n",
       "      <th>ageonset</th>\n",
       "      <th>demopd_ageassess</th>\n",
       "      <th>pd_duration</th>\n",
       "      <th>pdmedyn</th>\n",
       "      <th>MCATOT</th>\n",
       "      <th>...</th>\n",
       "      <th>CNSOTHCM_lyme disease</th>\n",
       "      <th>CNSOTHCM_meningioma</th>\n",
       "      <th>CNSOTHCM_meningitis</th>\n",
       "      <th>CNSOTHCM_meningitis in childhood</th>\n",
       "      <th>CNSOTHCM_migraine</th>\n",
       "      <th>CNSOTHCM_multiple sclerosis</th>\n",
       "      <th>CNSOTHCM_nonREM parasonmnia (sleep walking)</th>\n",
       "      <th>CNSOTHCM_optic neuritis</th>\n",
       "      <th>CNSOTHCM_possible Sleep apnea-hypopnea?</th>\n",
       "      <th>CNSOTHCM_they deny having RLS but suitable symptoms, not diagnosed of depression but scales suggest he is depressed</th>\n",
       "    </tr>\n",
       "  </thead>\n",
       "  <tbody>\n",
       "    <tr>\n",
       "      <th>0</th>\n",
       "      <td>1420001.0</td>\n",
       "      <td>2.0</td>\n",
       "      <td>6.0</td>\n",
       "      <td>1.0</td>\n",
       "      <td>42.0</td>\n",
       "      <td>40.0</td>\n",
       "      <td>72.0</td>\n",
       "      <td>30.0</td>\n",
       "      <td>0.0</td>\n",
       "      <td>25.0</td>\n",
       "      <td>...</td>\n",
       "      <td>0.0</td>\n",
       "      <td>0.0</td>\n",
       "      <td>0.0</td>\n",
       "      <td>0.0</td>\n",
       "      <td>0.0</td>\n",
       "      <td>0.0</td>\n",
       "      <td>0.0</td>\n",
       "      <td>0.0</td>\n",
       "      <td>0.0</td>\n",
       "      <td>0.0</td>\n",
       "    </tr>\n",
       "    <tr>\n",
       "      <th>1</th>\n",
       "      <td>1420001.0</td>\n",
       "      <td>2.0</td>\n",
       "      <td>6.0</td>\n",
       "      <td>1.0</td>\n",
       "      <td>42.0</td>\n",
       "      <td>40.0</td>\n",
       "      <td>72.0</td>\n",
       "      <td>30.0</td>\n",
       "      <td>0.0</td>\n",
       "      <td>25.0</td>\n",
       "      <td>...</td>\n",
       "      <td>0.0</td>\n",
       "      <td>0.0</td>\n",
       "      <td>0.0</td>\n",
       "      <td>0.0</td>\n",
       "      <td>0.0</td>\n",
       "      <td>0.0</td>\n",
       "      <td>0.0</td>\n",
       "      <td>0.0</td>\n",
       "      <td>0.0</td>\n",
       "      <td>0.0</td>\n",
       "    </tr>\n",
       "    <tr>\n",
       "      <th>2</th>\n",
       "      <td>1420001.0</td>\n",
       "      <td>2.0</td>\n",
       "      <td>6.0</td>\n",
       "      <td>1.0</td>\n",
       "      <td>42.0</td>\n",
       "      <td>40.0</td>\n",
       "      <td>72.0</td>\n",
       "      <td>30.0</td>\n",
       "      <td>0.0</td>\n",
       "      <td>25.0</td>\n",
       "      <td>...</td>\n",
       "      <td>0.0</td>\n",
       "      <td>0.0</td>\n",
       "      <td>0.0</td>\n",
       "      <td>0.0</td>\n",
       "      <td>0.0</td>\n",
       "      <td>0.0</td>\n",
       "      <td>0.0</td>\n",
       "      <td>0.0</td>\n",
       "      <td>0.0</td>\n",
       "      <td>0.0</td>\n",
       "    </tr>\n",
       "    <tr>\n",
       "      <th>3</th>\n",
       "      <td>1420001.0</td>\n",
       "      <td>2.0</td>\n",
       "      <td>6.0</td>\n",
       "      <td>1.0</td>\n",
       "      <td>42.0</td>\n",
       "      <td>40.0</td>\n",
       "      <td>72.0</td>\n",
       "      <td>30.0</td>\n",
       "      <td>0.0</td>\n",
       "      <td>25.0</td>\n",
       "      <td>...</td>\n",
       "      <td>0.0</td>\n",
       "      <td>0.0</td>\n",
       "      <td>0.0</td>\n",
       "      <td>0.0</td>\n",
       "      <td>0.0</td>\n",
       "      <td>0.0</td>\n",
       "      <td>0.0</td>\n",
       "      <td>0.0</td>\n",
       "      <td>0.0</td>\n",
       "      <td>0.0</td>\n",
       "    </tr>\n",
       "    <tr>\n",
       "      <th>4</th>\n",
       "      <td>1420001.0</td>\n",
       "      <td>2.0</td>\n",
       "      <td>6.0</td>\n",
       "      <td>1.0</td>\n",
       "      <td>42.0</td>\n",
       "      <td>40.0</td>\n",
       "      <td>72.0</td>\n",
       "      <td>30.0</td>\n",
       "      <td>0.0</td>\n",
       "      <td>25.0</td>\n",
       "      <td>...</td>\n",
       "      <td>0.0</td>\n",
       "      <td>0.0</td>\n",
       "      <td>0.0</td>\n",
       "      <td>0.0</td>\n",
       "      <td>0.0</td>\n",
       "      <td>0.0</td>\n",
       "      <td>0.0</td>\n",
       "      <td>0.0</td>\n",
       "      <td>0.0</td>\n",
       "      <td>0.0</td>\n",
       "    </tr>\n",
       "    <tr>\n",
       "      <th>5</th>\n",
       "      <td>1420001.0</td>\n",
       "      <td>2.0</td>\n",
       "      <td>6.0</td>\n",
       "      <td>1.0</td>\n",
       "      <td>42.0</td>\n",
       "      <td>40.0</td>\n",
       "      <td>72.0</td>\n",
       "      <td>30.0</td>\n",
       "      <td>0.0</td>\n",
       "      <td>25.0</td>\n",
       "      <td>...</td>\n",
       "      <td>0.0</td>\n",
       "      <td>0.0</td>\n",
       "      <td>0.0</td>\n",
       "      <td>0.0</td>\n",
       "      <td>0.0</td>\n",
       "      <td>0.0</td>\n",
       "      <td>0.0</td>\n",
       "      <td>0.0</td>\n",
       "      <td>0.0</td>\n",
       "      <td>0.0</td>\n",
       "    </tr>\n",
       "    <tr>\n",
       "      <th>6</th>\n",
       "      <td>1420001.0</td>\n",
       "      <td>2.0</td>\n",
       "      <td>6.0</td>\n",
       "      <td>1.0</td>\n",
       "      <td>42.0</td>\n",
       "      <td>40.0</td>\n",
       "      <td>72.0</td>\n",
       "      <td>30.0</td>\n",
       "      <td>0.0</td>\n",
       "      <td>25.0</td>\n",
       "      <td>...</td>\n",
       "      <td>0.0</td>\n",
       "      <td>0.0</td>\n",
       "      <td>0.0</td>\n",
       "      <td>0.0</td>\n",
       "      <td>0.0</td>\n",
       "      <td>0.0</td>\n",
       "      <td>0.0</td>\n",
       "      <td>0.0</td>\n",
       "      <td>0.0</td>\n",
       "      <td>0.0</td>\n",
       "    </tr>\n",
       "    <tr>\n",
       "      <th>7</th>\n",
       "      <td>1420001.0</td>\n",
       "      <td>2.0</td>\n",
       "      <td>6.0</td>\n",
       "      <td>1.0</td>\n",
       "      <td>42.0</td>\n",
       "      <td>40.0</td>\n",
       "      <td>72.0</td>\n",
       "      <td>30.0</td>\n",
       "      <td>0.0</td>\n",
       "      <td>25.0</td>\n",
       "      <td>...</td>\n",
       "      <td>0.0</td>\n",
       "      <td>0.0</td>\n",
       "      <td>0.0</td>\n",
       "      <td>0.0</td>\n",
       "      <td>0.0</td>\n",
       "      <td>0.0</td>\n",
       "      <td>0.0</td>\n",
       "      <td>0.0</td>\n",
       "      <td>0.0</td>\n",
       "      <td>0.0</td>\n",
       "    </tr>\n",
       "    <tr>\n",
       "      <th>8</th>\n",
       "      <td>660003.0</td>\n",
       "      <td>2.0</td>\n",
       "      <td>0.0</td>\n",
       "      <td>0.0</td>\n",
       "      <td>0.0</td>\n",
       "      <td>0.0</td>\n",
       "      <td>0.0</td>\n",
       "      <td>0.0</td>\n",
       "      <td>0.0</td>\n",
       "      <td>25.0</td>\n",
       "      <td>...</td>\n",
       "      <td>0.0</td>\n",
       "      <td>0.0</td>\n",
       "      <td>0.0</td>\n",
       "      <td>0.0</td>\n",
       "      <td>0.0</td>\n",
       "      <td>0.0</td>\n",
       "      <td>0.0</td>\n",
       "      <td>0.0</td>\n",
       "      <td>0.0</td>\n",
       "      <td>0.0</td>\n",
       "    </tr>\n",
       "    <tr>\n",
       "      <th>9</th>\n",
       "      <td>660003.0</td>\n",
       "      <td>2.0</td>\n",
       "      <td>0.0</td>\n",
       "      <td>0.0</td>\n",
       "      <td>0.0</td>\n",
       "      <td>0.0</td>\n",
       "      <td>0.0</td>\n",
       "      <td>0.0</td>\n",
       "      <td>0.0</td>\n",
       "      <td>25.0</td>\n",
       "      <td>...</td>\n",
       "      <td>0.0</td>\n",
       "      <td>0.0</td>\n",
       "      <td>0.0</td>\n",
       "      <td>0.0</td>\n",
       "      <td>0.0</td>\n",
       "      <td>0.0</td>\n",
       "      <td>0.0</td>\n",
       "      <td>0.0</td>\n",
       "      <td>0.0</td>\n",
       "      <td>0.0</td>\n",
       "    </tr>\n",
       "  </tbody>\n",
       "</table>\n",
       "<p>10 rows × 4379 columns</p>\n",
       "</div>"
      ],
      "text/plain": [
       "      lrrkid  gender  educcat_calc  pdenrl  agediag  ageonset  \\\n",
       "0  1420001.0     2.0           6.0     1.0     42.0      40.0   \n",
       "1  1420001.0     2.0           6.0     1.0     42.0      40.0   \n",
       "2  1420001.0     2.0           6.0     1.0     42.0      40.0   \n",
       "3  1420001.0     2.0           6.0     1.0     42.0      40.0   \n",
       "4  1420001.0     2.0           6.0     1.0     42.0      40.0   \n",
       "5  1420001.0     2.0           6.0     1.0     42.0      40.0   \n",
       "6  1420001.0     2.0           6.0     1.0     42.0      40.0   \n",
       "7  1420001.0     2.0           6.0     1.0     42.0      40.0   \n",
       "8   660003.0     2.0           0.0     0.0      0.0       0.0   \n",
       "9   660003.0     2.0           0.0     0.0      0.0       0.0   \n",
       "\n",
       "   demopd_ageassess  pd_duration  pdmedyn  MCATOT  ...  CNSOTHCM_lyme disease  \\\n",
       "0              72.0         30.0      0.0    25.0  ...                    0.0   \n",
       "1              72.0         30.0      0.0    25.0  ...                    0.0   \n",
       "2              72.0         30.0      0.0    25.0  ...                    0.0   \n",
       "3              72.0         30.0      0.0    25.0  ...                    0.0   \n",
       "4              72.0         30.0      0.0    25.0  ...                    0.0   \n",
       "5              72.0         30.0      0.0    25.0  ...                    0.0   \n",
       "6              72.0         30.0      0.0    25.0  ...                    0.0   \n",
       "7              72.0         30.0      0.0    25.0  ...                    0.0   \n",
       "8               0.0          0.0      0.0    25.0  ...                    0.0   \n",
       "9               0.0          0.0      0.0    25.0  ...                    0.0   \n",
       "\n",
       "   CNSOTHCM_meningioma  CNSOTHCM_meningitis  CNSOTHCM_meningitis in childhood  \\\n",
       "0                  0.0                  0.0                               0.0   \n",
       "1                  0.0                  0.0                               0.0   \n",
       "2                  0.0                  0.0                               0.0   \n",
       "3                  0.0                  0.0                               0.0   \n",
       "4                  0.0                  0.0                               0.0   \n",
       "5                  0.0                  0.0                               0.0   \n",
       "6                  0.0                  0.0                               0.0   \n",
       "7                  0.0                  0.0                               0.0   \n",
       "8                  0.0                  0.0                               0.0   \n",
       "9                  0.0                  0.0                               0.0   \n",
       "\n",
       "   CNSOTHCM_migraine  CNSOTHCM_multiple sclerosis  \\\n",
       "0                0.0                          0.0   \n",
       "1                0.0                          0.0   \n",
       "2                0.0                          0.0   \n",
       "3                0.0                          0.0   \n",
       "4                0.0                          0.0   \n",
       "5                0.0                          0.0   \n",
       "6                0.0                          0.0   \n",
       "7                0.0                          0.0   \n",
       "8                0.0                          0.0   \n",
       "9                0.0                          0.0   \n",
       "\n",
       "   CNSOTHCM_nonREM parasonmnia (sleep walking)  CNSOTHCM_optic neuritis  \\\n",
       "0                                          0.0                      0.0   \n",
       "1                                          0.0                      0.0   \n",
       "2                                          0.0                      0.0   \n",
       "3                                          0.0                      0.0   \n",
       "4                                          0.0                      0.0   \n",
       "5                                          0.0                      0.0   \n",
       "6                                          0.0                      0.0   \n",
       "7                                          0.0                      0.0   \n",
       "8                                          0.0                      0.0   \n",
       "9                                          0.0                      0.0   \n",
       "\n",
       "   CNSOTHCM_possible Sleep apnea-hypopnea?  \\\n",
       "0                                      0.0   \n",
       "1                                      0.0   \n",
       "2                                      0.0   \n",
       "3                                      0.0   \n",
       "4                                      0.0   \n",
       "5                                      0.0   \n",
       "6                                      0.0   \n",
       "7                                      0.0   \n",
       "8                                      0.0   \n",
       "9                                      0.0   \n",
       "\n",
       "   CNSOTHCM_they deny having RLS but suitable symptoms, not diagnosed of depression but scales suggest he is depressed  \n",
       "0                                                0.0                                                                    \n",
       "1                                                0.0                                                                    \n",
       "2                                                0.0                                                                    \n",
       "3                                                0.0                                                                    \n",
       "4                                                0.0                                                                    \n",
       "5                                                0.0                                                                    \n",
       "6                                                0.0                                                                    \n",
       "7                                                0.0                                                                    \n",
       "8                                                0.0                                                                    \n",
       "9                                                0.0                                                                    \n",
       "\n",
       "[10 rows x 4379 columns]"
      ]
     },
     "execution_count": 9,
     "metadata": {},
     "output_type": "execute_result"
    }
   ],
   "source": [
    "train_data.head(10)"
   ]
  },
  {
   "cell_type": "code",
   "execution_count": 10,
   "id": "17205a58",
   "metadata": {},
   "outputs": [
    {
     "data": {
      "text/plain": [
       "289"
      ]
     },
     "execution_count": 10,
     "metadata": {},
     "output_type": "execute_result"
    }
   ],
   "source": [
    "test_data['lrrkid'].nunique()"
   ]
  },
  {
   "cell_type": "code",
   "execution_count": 11,
   "id": "6ab1a891",
   "metadata": {},
   "outputs": [
    {
     "data": {
      "text/plain": [
       "675"
      ]
     },
     "execution_count": 11,
     "metadata": {},
     "output_type": "execute_result"
    }
   ],
   "source": [
    "train_data['lrrkid'].nunique()"
   ]
  },
  {
   "cell_type": "code",
   "execution_count": 12,
   "id": "cf04b74f",
   "metadata": {},
   "outputs": [
    {
     "data": {
      "text/plain": [
       "1.0    4294\n",
       "0.0    4048\n",
       "Name: pdenrl, dtype: int64"
      ]
     },
     "execution_count": 12,
     "metadata": {},
     "output_type": "execute_result"
    }
   ],
   "source": [
    "train_data[\"pdenrl\"].value_counts()"
   ]
  },
  {
   "cell_type": "code",
   "execution_count": 13,
   "id": "5768c9ef",
   "metadata": {},
   "outputs": [
    {
     "data": {
      "text/plain": [
       "0.0    1921\n",
       "1.0    1598\n",
       "Name: pdenrl, dtype: int64"
      ]
     },
     "execution_count": 13,
     "metadata": {},
     "output_type": "execute_result"
    }
   ],
   "source": [
    "test_data[\"pdenrl\"].value_counts()"
   ]
  },
  {
   "cell_type": "markdown",
   "id": "072cbaaf",
   "metadata": {},
   "source": [
    "# Target variable y and independent variables x"
   ]
  },
  {
   "cell_type": "code",
   "execution_count": 14,
   "id": "36f146eb",
   "metadata": {},
   "outputs": [
    {
     "data": {
      "text/plain": [
       "0    1.0\n",
       "1    1.0\n",
       "2    1.0\n",
       "3    1.0\n",
       "4    1.0\n",
       "Name: pdenrl, dtype: float64"
      ]
     },
     "execution_count": 14,
     "metadata": {},
     "output_type": "execute_result"
    }
   ],
   "source": [
    "\n",
    "trainX = train_data.drop(['lrrkid','pdenrl'], axis=1)\n",
    "\n",
    "trainy = train_data['pdenrl']\n",
    "\n",
    "trainy[0:5]"
   ]
  },
  {
   "cell_type": "code",
   "execution_count": 15,
   "id": "7b641f2a",
   "metadata": {},
   "outputs": [
    {
     "data": {
      "text/html": [
       "<div>\n",
       "<style scoped>\n",
       "    .dataframe tbody tr th:only-of-type {\n",
       "        vertical-align: middle;\n",
       "    }\n",
       "\n",
       "    .dataframe tbody tr th {\n",
       "        vertical-align: top;\n",
       "    }\n",
       "\n",
       "    .dataframe thead th {\n",
       "        text-align: right;\n",
       "    }\n",
       "</style>\n",
       "<table border=\"1\" class=\"dataframe\">\n",
       "  <thead>\n",
       "    <tr style=\"text-align: right;\">\n",
       "      <th></th>\n",
       "      <th>gender</th>\n",
       "      <th>educcat_calc</th>\n",
       "      <th>agediag</th>\n",
       "      <th>ageonset</th>\n",
       "      <th>demopd_ageassess</th>\n",
       "      <th>pd_duration</th>\n",
       "      <th>pdmedyn</th>\n",
       "      <th>MCATOT</th>\n",
       "      <th>moca_ageassess</th>\n",
       "      <th>updrs1</th>\n",
       "      <th>...</th>\n",
       "      <th>CNSOTHCM_lyme disease</th>\n",
       "      <th>CNSOTHCM_meningioma</th>\n",
       "      <th>CNSOTHCM_meningitis</th>\n",
       "      <th>CNSOTHCM_meningitis in childhood</th>\n",
       "      <th>CNSOTHCM_migraine</th>\n",
       "      <th>CNSOTHCM_multiple sclerosis</th>\n",
       "      <th>CNSOTHCM_nonREM parasonmnia (sleep walking)</th>\n",
       "      <th>CNSOTHCM_optic neuritis</th>\n",
       "      <th>CNSOTHCM_possible Sleep apnea-hypopnea?</th>\n",
       "      <th>CNSOTHCM_they deny having RLS but suitable symptoms, not diagnosed of depression but scales suggest he is depressed</th>\n",
       "    </tr>\n",
       "  </thead>\n",
       "  <tbody>\n",
       "    <tr>\n",
       "      <th>0</th>\n",
       "      <td>2.0</td>\n",
       "      <td>6.0</td>\n",
       "      <td>42.0</td>\n",
       "      <td>40.0</td>\n",
       "      <td>72.0</td>\n",
       "      <td>30.0</td>\n",
       "      <td>0.0</td>\n",
       "      <td>25.0</td>\n",
       "      <td>72.0</td>\n",
       "      <td>0.0</td>\n",
       "      <td>...</td>\n",
       "      <td>0.0</td>\n",
       "      <td>0.0</td>\n",
       "      <td>0.0</td>\n",
       "      <td>0.0</td>\n",
       "      <td>0.0</td>\n",
       "      <td>0.0</td>\n",
       "      <td>0.0</td>\n",
       "      <td>0.0</td>\n",
       "      <td>0.0</td>\n",
       "      <td>0.0</td>\n",
       "    </tr>\n",
       "    <tr>\n",
       "      <th>1</th>\n",
       "      <td>2.0</td>\n",
       "      <td>6.0</td>\n",
       "      <td>42.0</td>\n",
       "      <td>40.0</td>\n",
       "      <td>72.0</td>\n",
       "      <td>30.0</td>\n",
       "      <td>0.0</td>\n",
       "      <td>25.0</td>\n",
       "      <td>72.0</td>\n",
       "      <td>0.0</td>\n",
       "      <td>...</td>\n",
       "      <td>0.0</td>\n",
       "      <td>0.0</td>\n",
       "      <td>0.0</td>\n",
       "      <td>0.0</td>\n",
       "      <td>0.0</td>\n",
       "      <td>0.0</td>\n",
       "      <td>0.0</td>\n",
       "      <td>0.0</td>\n",
       "      <td>0.0</td>\n",
       "      <td>0.0</td>\n",
       "    </tr>\n",
       "    <tr>\n",
       "      <th>2</th>\n",
       "      <td>2.0</td>\n",
       "      <td>6.0</td>\n",
       "      <td>42.0</td>\n",
       "      <td>40.0</td>\n",
       "      <td>72.0</td>\n",
       "      <td>30.0</td>\n",
       "      <td>0.0</td>\n",
       "      <td>25.0</td>\n",
       "      <td>72.0</td>\n",
       "      <td>0.0</td>\n",
       "      <td>...</td>\n",
       "      <td>0.0</td>\n",
       "      <td>0.0</td>\n",
       "      <td>0.0</td>\n",
       "      <td>0.0</td>\n",
       "      <td>0.0</td>\n",
       "      <td>0.0</td>\n",
       "      <td>0.0</td>\n",
       "      <td>0.0</td>\n",
       "      <td>0.0</td>\n",
       "      <td>0.0</td>\n",
       "    </tr>\n",
       "    <tr>\n",
       "      <th>3</th>\n",
       "      <td>2.0</td>\n",
       "      <td>6.0</td>\n",
       "      <td>42.0</td>\n",
       "      <td>40.0</td>\n",
       "      <td>72.0</td>\n",
       "      <td>30.0</td>\n",
       "      <td>0.0</td>\n",
       "      <td>25.0</td>\n",
       "      <td>72.0</td>\n",
       "      <td>0.0</td>\n",
       "      <td>...</td>\n",
       "      <td>0.0</td>\n",
       "      <td>0.0</td>\n",
       "      <td>0.0</td>\n",
       "      <td>0.0</td>\n",
       "      <td>0.0</td>\n",
       "      <td>0.0</td>\n",
       "      <td>0.0</td>\n",
       "      <td>0.0</td>\n",
       "      <td>0.0</td>\n",
       "      <td>0.0</td>\n",
       "    </tr>\n",
       "    <tr>\n",
       "      <th>4</th>\n",
       "      <td>2.0</td>\n",
       "      <td>6.0</td>\n",
       "      <td>42.0</td>\n",
       "      <td>40.0</td>\n",
       "      <td>72.0</td>\n",
       "      <td>30.0</td>\n",
       "      <td>0.0</td>\n",
       "      <td>25.0</td>\n",
       "      <td>72.0</td>\n",
       "      <td>0.0</td>\n",
       "      <td>...</td>\n",
       "      <td>0.0</td>\n",
       "      <td>0.0</td>\n",
       "      <td>0.0</td>\n",
       "      <td>0.0</td>\n",
       "      <td>0.0</td>\n",
       "      <td>0.0</td>\n",
       "      <td>0.0</td>\n",
       "      <td>0.0</td>\n",
       "      <td>0.0</td>\n",
       "      <td>0.0</td>\n",
       "    </tr>\n",
       "  </tbody>\n",
       "</table>\n",
       "<p>5 rows × 4377 columns</p>\n",
       "</div>"
      ],
      "text/plain": [
       "   gender  educcat_calc  agediag  ageonset  demopd_ageassess  pd_duration  \\\n",
       "0     2.0           6.0     42.0      40.0              72.0         30.0   \n",
       "1     2.0           6.0     42.0      40.0              72.0         30.0   \n",
       "2     2.0           6.0     42.0      40.0              72.0         30.0   \n",
       "3     2.0           6.0     42.0      40.0              72.0         30.0   \n",
       "4     2.0           6.0     42.0      40.0              72.0         30.0   \n",
       "\n",
       "   pdmedyn  MCATOT  moca_ageassess  updrs1  ...  CNSOTHCM_lyme disease  \\\n",
       "0      0.0    25.0            72.0     0.0  ...                    0.0   \n",
       "1      0.0    25.0            72.0     0.0  ...                    0.0   \n",
       "2      0.0    25.0            72.0     0.0  ...                    0.0   \n",
       "3      0.0    25.0            72.0     0.0  ...                    0.0   \n",
       "4      0.0    25.0            72.0     0.0  ...                    0.0   \n",
       "\n",
       "   CNSOTHCM_meningioma  CNSOTHCM_meningitis  CNSOTHCM_meningitis in childhood  \\\n",
       "0                  0.0                  0.0                               0.0   \n",
       "1                  0.0                  0.0                               0.0   \n",
       "2                  0.0                  0.0                               0.0   \n",
       "3                  0.0                  0.0                               0.0   \n",
       "4                  0.0                  0.0                               0.0   \n",
       "\n",
       "   CNSOTHCM_migraine  CNSOTHCM_multiple sclerosis  \\\n",
       "0                0.0                          0.0   \n",
       "1                0.0                          0.0   \n",
       "2                0.0                          0.0   \n",
       "3                0.0                          0.0   \n",
       "4                0.0                          0.0   \n",
       "\n",
       "   CNSOTHCM_nonREM parasonmnia (sleep walking)  CNSOTHCM_optic neuritis  \\\n",
       "0                                          0.0                      0.0   \n",
       "1                                          0.0                      0.0   \n",
       "2                                          0.0                      0.0   \n",
       "3                                          0.0                      0.0   \n",
       "4                                          0.0                      0.0   \n",
       "\n",
       "   CNSOTHCM_possible Sleep apnea-hypopnea?  \\\n",
       "0                                      0.0   \n",
       "1                                      0.0   \n",
       "2                                      0.0   \n",
       "3                                      0.0   \n",
       "4                                      0.0   \n",
       "\n",
       "   CNSOTHCM_they deny having RLS but suitable symptoms, not diagnosed of depression but scales suggest he is depressed  \n",
       "0                                                0.0                                                                    \n",
       "1                                                0.0                                                                    \n",
       "2                                                0.0                                                                    \n",
       "3                                                0.0                                                                    \n",
       "4                                                0.0                                                                    \n",
       "\n",
       "[5 rows x 4377 columns]"
      ]
     },
     "execution_count": 15,
     "metadata": {},
     "output_type": "execute_result"
    }
   ],
   "source": [
    "trainX.head()"
   ]
  },
  {
   "cell_type": "code",
   "execution_count": 16,
   "id": "7510ef08",
   "metadata": {},
   "outputs": [
    {
     "data": {
      "text/plain": [
       "0    0.0\n",
       "1    0.0\n",
       "2    0.0\n",
       "3    0.0\n",
       "4    0.0\n",
       "Name: pdenrl, dtype: float64"
      ]
     },
     "execution_count": 16,
     "metadata": {},
     "output_type": "execute_result"
    }
   ],
   "source": [
    "testX = test_data.drop(['lrrkid','pdenrl'], axis=1)\n",
    "\n",
    "testY = test_data['pdenrl']\n",
    "\n",
    "testY[0:5]"
   ]
  },
  {
   "cell_type": "code",
   "execution_count": 17,
   "id": "9e7f9021",
   "metadata": {},
   "outputs": [
    {
     "data": {
      "text/html": [
       "<div>\n",
       "<style scoped>\n",
       "    .dataframe tbody tr th:only-of-type {\n",
       "        vertical-align: middle;\n",
       "    }\n",
       "\n",
       "    .dataframe tbody tr th {\n",
       "        vertical-align: top;\n",
       "    }\n",
       "\n",
       "    .dataframe thead th {\n",
       "        text-align: right;\n",
       "    }\n",
       "</style>\n",
       "<table border=\"1\" class=\"dataframe\">\n",
       "  <thead>\n",
       "    <tr style=\"text-align: right;\">\n",
       "      <th></th>\n",
       "      <th>gender</th>\n",
       "      <th>educcat_calc</th>\n",
       "      <th>agediag</th>\n",
       "      <th>ageonset</th>\n",
       "      <th>demopd_ageassess</th>\n",
       "      <th>pd_duration</th>\n",
       "      <th>pdmedyn</th>\n",
       "      <th>MCATOT</th>\n",
       "      <th>moca_ageassess</th>\n",
       "      <th>updrs1</th>\n",
       "      <th>...</th>\n",
       "      <th>CNSOTHCM_lyme disease</th>\n",
       "      <th>CNSOTHCM_meningioma</th>\n",
       "      <th>CNSOTHCM_meningitis</th>\n",
       "      <th>CNSOTHCM_meningitis in childhood</th>\n",
       "      <th>CNSOTHCM_migraine</th>\n",
       "      <th>CNSOTHCM_multiple sclerosis</th>\n",
       "      <th>CNSOTHCM_nonREM parasonmnia (sleep walking)</th>\n",
       "      <th>CNSOTHCM_optic neuritis</th>\n",
       "      <th>CNSOTHCM_possible Sleep apnea-hypopnea?</th>\n",
       "      <th>CNSOTHCM_they deny having RLS but suitable symptoms, not diagnosed of depression but scales suggest he is depressed</th>\n",
       "    </tr>\n",
       "  </thead>\n",
       "  <tbody>\n",
       "    <tr>\n",
       "      <th>0</th>\n",
       "      <td>1.0</td>\n",
       "      <td>3.0</td>\n",
       "      <td>0.0</td>\n",
       "      <td>0.0</td>\n",
       "      <td>61.0</td>\n",
       "      <td>0.0</td>\n",
       "      <td>0.0</td>\n",
       "      <td>29.0</td>\n",
       "      <td>61.0</td>\n",
       "      <td>0.0</td>\n",
       "      <td>...</td>\n",
       "      <td>0.0</td>\n",
       "      <td>0.0</td>\n",
       "      <td>0.0</td>\n",
       "      <td>0.0</td>\n",
       "      <td>0.0</td>\n",
       "      <td>0.0</td>\n",
       "      <td>0.0</td>\n",
       "      <td>0.0</td>\n",
       "      <td>0.0</td>\n",
       "      <td>0.0</td>\n",
       "    </tr>\n",
       "    <tr>\n",
       "      <th>1</th>\n",
       "      <td>1.0</td>\n",
       "      <td>3.0</td>\n",
       "      <td>0.0</td>\n",
       "      <td>0.0</td>\n",
       "      <td>61.0</td>\n",
       "      <td>0.0</td>\n",
       "      <td>0.0</td>\n",
       "      <td>29.0</td>\n",
       "      <td>61.0</td>\n",
       "      <td>0.0</td>\n",
       "      <td>...</td>\n",
       "      <td>0.0</td>\n",
       "      <td>0.0</td>\n",
       "      <td>0.0</td>\n",
       "      <td>0.0</td>\n",
       "      <td>0.0</td>\n",
       "      <td>0.0</td>\n",
       "      <td>0.0</td>\n",
       "      <td>0.0</td>\n",
       "      <td>0.0</td>\n",
       "      <td>0.0</td>\n",
       "    </tr>\n",
       "    <tr>\n",
       "      <th>2</th>\n",
       "      <td>1.0</td>\n",
       "      <td>3.0</td>\n",
       "      <td>0.0</td>\n",
       "      <td>0.0</td>\n",
       "      <td>61.0</td>\n",
       "      <td>0.0</td>\n",
       "      <td>0.0</td>\n",
       "      <td>29.0</td>\n",
       "      <td>61.0</td>\n",
       "      <td>0.0</td>\n",
       "      <td>...</td>\n",
       "      <td>0.0</td>\n",
       "      <td>0.0</td>\n",
       "      <td>0.0</td>\n",
       "      <td>0.0</td>\n",
       "      <td>0.0</td>\n",
       "      <td>0.0</td>\n",
       "      <td>0.0</td>\n",
       "      <td>0.0</td>\n",
       "      <td>0.0</td>\n",
       "      <td>0.0</td>\n",
       "    </tr>\n",
       "    <tr>\n",
       "      <th>3</th>\n",
       "      <td>1.0</td>\n",
       "      <td>3.0</td>\n",
       "      <td>0.0</td>\n",
       "      <td>0.0</td>\n",
       "      <td>61.0</td>\n",
       "      <td>0.0</td>\n",
       "      <td>0.0</td>\n",
       "      <td>29.0</td>\n",
       "      <td>61.0</td>\n",
       "      <td>0.0</td>\n",
       "      <td>...</td>\n",
       "      <td>0.0</td>\n",
       "      <td>0.0</td>\n",
       "      <td>0.0</td>\n",
       "      <td>0.0</td>\n",
       "      <td>0.0</td>\n",
       "      <td>0.0</td>\n",
       "      <td>0.0</td>\n",
       "      <td>0.0</td>\n",
       "      <td>0.0</td>\n",
       "      <td>0.0</td>\n",
       "    </tr>\n",
       "    <tr>\n",
       "      <th>4</th>\n",
       "      <td>1.0</td>\n",
       "      <td>3.0</td>\n",
       "      <td>0.0</td>\n",
       "      <td>0.0</td>\n",
       "      <td>61.0</td>\n",
       "      <td>0.0</td>\n",
       "      <td>0.0</td>\n",
       "      <td>29.0</td>\n",
       "      <td>61.0</td>\n",
       "      <td>0.0</td>\n",
       "      <td>...</td>\n",
       "      <td>0.0</td>\n",
       "      <td>0.0</td>\n",
       "      <td>0.0</td>\n",
       "      <td>0.0</td>\n",
       "      <td>0.0</td>\n",
       "      <td>0.0</td>\n",
       "      <td>0.0</td>\n",
       "      <td>0.0</td>\n",
       "      <td>0.0</td>\n",
       "      <td>0.0</td>\n",
       "    </tr>\n",
       "  </tbody>\n",
       "</table>\n",
       "<p>5 rows × 4377 columns</p>\n",
       "</div>"
      ],
      "text/plain": [
       "   gender  educcat_calc  agediag  ageonset  demopd_ageassess  pd_duration  \\\n",
       "0     1.0           3.0      0.0       0.0              61.0          0.0   \n",
       "1     1.0           3.0      0.0       0.0              61.0          0.0   \n",
       "2     1.0           3.0      0.0       0.0              61.0          0.0   \n",
       "3     1.0           3.0      0.0       0.0              61.0          0.0   \n",
       "4     1.0           3.0      0.0       0.0              61.0          0.0   \n",
       "\n",
       "   pdmedyn  MCATOT  moca_ageassess  updrs1  ...  CNSOTHCM_lyme disease  \\\n",
       "0      0.0    29.0            61.0     0.0  ...                    0.0   \n",
       "1      0.0    29.0            61.0     0.0  ...                    0.0   \n",
       "2      0.0    29.0            61.0     0.0  ...                    0.0   \n",
       "3      0.0    29.0            61.0     0.0  ...                    0.0   \n",
       "4      0.0    29.0            61.0     0.0  ...                    0.0   \n",
       "\n",
       "   CNSOTHCM_meningioma  CNSOTHCM_meningitis  CNSOTHCM_meningitis in childhood  \\\n",
       "0                  0.0                  0.0                               0.0   \n",
       "1                  0.0                  0.0                               0.0   \n",
       "2                  0.0                  0.0                               0.0   \n",
       "3                  0.0                  0.0                               0.0   \n",
       "4                  0.0                  0.0                               0.0   \n",
       "\n",
       "   CNSOTHCM_migraine  CNSOTHCM_multiple sclerosis  \\\n",
       "0                0.0                          0.0   \n",
       "1                0.0                          0.0   \n",
       "2                0.0                          0.0   \n",
       "3                0.0                          0.0   \n",
       "4                0.0                          0.0   \n",
       "\n",
       "   CNSOTHCM_nonREM parasonmnia (sleep walking)  CNSOTHCM_optic neuritis  \\\n",
       "0                                          0.0                      0.0   \n",
       "1                                          0.0                      0.0   \n",
       "2                                          0.0                      0.0   \n",
       "3                                          0.0                      0.0   \n",
       "4                                          0.0                      0.0   \n",
       "\n",
       "   CNSOTHCM_possible Sleep apnea-hypopnea?  \\\n",
       "0                                      0.0   \n",
       "1                                      0.0   \n",
       "2                                      0.0   \n",
       "3                                      0.0   \n",
       "4                                      0.0   \n",
       "\n",
       "   CNSOTHCM_they deny having RLS but suitable symptoms, not diagnosed of depression but scales suggest he is depressed  \n",
       "0                                                0.0                                                                    \n",
       "1                                                0.0                                                                    \n",
       "2                                                0.0                                                                    \n",
       "3                                                0.0                                                                    \n",
       "4                                                0.0                                                                    \n",
       "\n",
       "[5 rows x 4377 columns]"
      ]
     },
     "execution_count": 17,
     "metadata": {},
     "output_type": "execute_result"
    }
   ],
   "source": [
    "testX.head()"
   ]
  },
  {
   "cell_type": "code",
   "execution_count": 18,
   "id": "630cd65a",
   "metadata": {},
   "outputs": [
    {
     "name": "stdout",
     "output_type": "stream",
     "text": [
      "Shape of Xtest: 3519   4377\n",
      "Shape of yest:  3519\n",
      "Shape of trainx: 8342   4377\n",
      "Shape of trainY:  8342\n"
     ]
    }
   ],
   "source": [
    "print(\"Shape of Xtest: %d   %d\" % (testX.shape))\n",
    "print(\"Shape of yest:  %d\" % (testY.shape))\n",
    "\n",
    "print(\"Shape of trainx: %d   %d\" % (trainX.shape))\n",
    "print(\"Shape of trainY:  %d\" % (trainy.shape))"
   ]
  },
  {
   "cell_type": "markdown",
   "id": "8813426b",
   "metadata": {},
   "source": [
    "#Performing over-sampling of the data, since the classes are imbalanced\n",
    "\n",
    "from imblearn.over_sampling import SMOTE\n",
    "sm = SMOTE(random_state=42)\n",
    "trainX, trainy = sm.fit_resample(trainX, trainy)\n",
    "\n",
    "print(\"Shape of trainx: %d   %d\" % (trainX.shape))\n",
    "print(\"Shape of trainY:  %d\" % (trainy.shape))"
   ]
  },
  {
   "cell_type": "code",
   "execution_count": 19,
   "id": "dbe0923b",
   "metadata": {},
   "outputs": [],
   "source": [
    "from sklearn.preprocessing import MaxAbsScaler\n",
    "#mc = MaxAbsScaler()\n",
    "#trainX = mc.fit_transform(trainX)\n",
    "#testX = mc.transform(testX)\n",
    "\n",
    "\n",
    "\n",
    "from sklearn.preprocessing import StandardScaler\n",
    "import time\n",
    "\n",
    "sc = StandardScaler()\n",
    "trainX = sc.fit_transform(trainX)\n",
    "testX = sc.transform(testX)"
   ]
  },
  {
   "cell_type": "markdown",
   "id": "28aa2fbd",
   "metadata": {},
   "source": [
    "## Support Vector Machine"
   ]
  },
  {
   "cell_type": "code",
   "execution_count": 20,
   "id": "2995f04a",
   "metadata": {},
   "outputs": [
    {
     "data": {
      "text/html": [
       "<style>#sk-container-id-1 {color: black;}#sk-container-id-1 pre{padding: 0;}#sk-container-id-1 div.sk-toggleable {background-color: white;}#sk-container-id-1 label.sk-toggleable__label {cursor: pointer;display: block;width: 100%;margin-bottom: 0;padding: 0.3em;box-sizing: border-box;text-align: center;}#sk-container-id-1 label.sk-toggleable__label-arrow:before {content: \"▸\";float: left;margin-right: 0.25em;color: #696969;}#sk-container-id-1 label.sk-toggleable__label-arrow:hover:before {color: black;}#sk-container-id-1 div.sk-estimator:hover label.sk-toggleable__label-arrow:before {color: black;}#sk-container-id-1 div.sk-toggleable__content {max-height: 0;max-width: 0;overflow: hidden;text-align: left;background-color: #f0f8ff;}#sk-container-id-1 div.sk-toggleable__content pre {margin: 0.2em;color: black;border-radius: 0.25em;background-color: #f0f8ff;}#sk-container-id-1 input.sk-toggleable__control:checked~div.sk-toggleable__content {max-height: 200px;max-width: 100%;overflow: auto;}#sk-container-id-1 input.sk-toggleable__control:checked~label.sk-toggleable__label-arrow:before {content: \"▾\";}#sk-container-id-1 div.sk-estimator input.sk-toggleable__control:checked~label.sk-toggleable__label {background-color: #d4ebff;}#sk-container-id-1 div.sk-label input.sk-toggleable__control:checked~label.sk-toggleable__label {background-color: #d4ebff;}#sk-container-id-1 input.sk-hidden--visually {border: 0;clip: rect(1px 1px 1px 1px);clip: rect(1px, 1px, 1px, 1px);height: 1px;margin: -1px;overflow: hidden;padding: 0;position: absolute;width: 1px;}#sk-container-id-1 div.sk-estimator {font-family: monospace;background-color: #f0f8ff;border: 1px dotted black;border-radius: 0.25em;box-sizing: border-box;margin-bottom: 0.5em;}#sk-container-id-1 div.sk-estimator:hover {background-color: #d4ebff;}#sk-container-id-1 div.sk-parallel-item::after {content: \"\";width: 100%;border-bottom: 1px solid gray;flex-grow: 1;}#sk-container-id-1 div.sk-label:hover label.sk-toggleable__label {background-color: #d4ebff;}#sk-container-id-1 div.sk-serial::before {content: \"\";position: absolute;border-left: 1px solid gray;box-sizing: border-box;top: 0;bottom: 0;left: 50%;z-index: 0;}#sk-container-id-1 div.sk-serial {display: flex;flex-direction: column;align-items: center;background-color: white;padding-right: 0.2em;padding-left: 0.2em;position: relative;}#sk-container-id-1 div.sk-item {position: relative;z-index: 1;}#sk-container-id-1 div.sk-parallel {display: flex;align-items: stretch;justify-content: center;background-color: white;position: relative;}#sk-container-id-1 div.sk-item::before, #sk-container-id-1 div.sk-parallel-item::before {content: \"\";position: absolute;border-left: 1px solid gray;box-sizing: border-box;top: 0;bottom: 0;left: 50%;z-index: -1;}#sk-container-id-1 div.sk-parallel-item {display: flex;flex-direction: column;z-index: 1;position: relative;background-color: white;}#sk-container-id-1 div.sk-parallel-item:first-child::after {align-self: flex-end;width: 50%;}#sk-container-id-1 div.sk-parallel-item:last-child::after {align-self: flex-start;width: 50%;}#sk-container-id-1 div.sk-parallel-item:only-child::after {width: 0;}#sk-container-id-1 div.sk-dashed-wrapped {border: 1px dashed gray;margin: 0 0.4em 0.5em 0.4em;box-sizing: border-box;padding-bottom: 0.4em;background-color: white;}#sk-container-id-1 div.sk-label label {font-family: monospace;font-weight: bold;display: inline-block;line-height: 1.2em;}#sk-container-id-1 div.sk-label-container {text-align: center;}#sk-container-id-1 div.sk-container {/* jupyter's `normalize.less` sets `[hidden] { display: none; }` but bootstrap.min.css set `[hidden] { display: none !important; }` so we also need the `!important` here to be able to override the default hidden behavior on the sphinx rendered scikit-learn.org. See: https://github.com/scikit-learn/scikit-learn/issues/21755 */display: inline-block !important;position: relative;}#sk-container-id-1 div.sk-text-repr-fallback {display: none;}</style><div id=\"sk-container-id-1\" class=\"sk-top-container\"><div class=\"sk-text-repr-fallback\"><pre>SVC(kernel=&#x27;linear&#x27;)</pre><b>In a Jupyter environment, please rerun this cell to show the HTML representation or trust the notebook. <br />On GitHub, the HTML representation is unable to render, please try loading this page with nbviewer.org.</b></div><div class=\"sk-container\" hidden><div class=\"sk-item\"><div class=\"sk-estimator sk-toggleable\"><input class=\"sk-toggleable__control sk-hidden--visually\" id=\"sk-estimator-id-1\" type=\"checkbox\" checked><label for=\"sk-estimator-id-1\" class=\"sk-toggleable__label sk-toggleable__label-arrow\">SVC</label><div class=\"sk-toggleable__content\"><pre>SVC(kernel=&#x27;linear&#x27;)</pre></div></div></div></div></div>"
      ],
      "text/plain": [
       "SVC(kernel='linear')"
      ]
     },
     "execution_count": 20,
     "metadata": {},
     "output_type": "execute_result"
    }
   ],
   "source": [
    "#Support Vector Classifier \n",
    "from sklearn.svm import SVC \n",
    "import time\n",
    "\n",
    "\n",
    "#svm_clf = LinearSVC(penalty=\"l1\", dual=False)\n",
    "\n",
    "svm_clf = SVC(kernel='linear')\n",
    "\n",
    "#start = time.time() \n",
    "# fitting x samples and y classes \n",
    "svm_clf.fit(trainX,trainy)\n",
    "\n",
    "#stop = time.time()\n",
    "#print(f\"Training time: {stop - start}s\") "
   ]
  },
  {
   "cell_type": "code",
   "execution_count": 21,
   "id": "4deaba9d",
   "metadata": {},
   "outputs": [
    {
     "name": "stdout",
     "output_type": "stream",
     "text": [
      "Train Score:  0.9696715415967394\n"
     ]
    }
   ],
   "source": [
    "svm_score = svm_clf.score(trainX, trainy)\n",
    "print(\"Train Score: \", svm_score)"
   ]
  },
  {
   "cell_type": "code",
   "execution_count": 22,
   "id": "3e9c2f11",
   "metadata": {},
   "outputs": [
    {
     "name": "stdout",
     "output_type": "stream",
     "text": [
      "CV average score: 0.94\n"
     ]
    }
   ],
   "source": [
    "cv_scores = cross_val_score(svm_clf, trainX, trainy, cv=10)\n",
    "print(\"CV average score: %.2f\" % cv_scores.mean())"
   ]
  },
  {
   "cell_type": "code",
   "execution_count": 23,
   "id": "7d8d8348",
   "metadata": {},
   "outputs": [
    {
     "name": "stdout",
     "output_type": "stream",
     "text": [
      "[[1767  154]\n",
      " [  77 1521]]\n"
     ]
    }
   ],
   "source": [
    "ypred = svm_clf.predict(testX)\n",
    "\n",
    "cm = confusion_matrix(testY, ypred)\n",
    "print(cm)"
   ]
  },
  {
   "cell_type": "code",
   "execution_count": 24,
   "id": "2a977d4e",
   "metadata": {},
   "outputs": [
    {
     "name": "stdout",
     "output_type": "stream",
     "text": [
      "SVM test accuracy_score: 93.43563512361467\n"
     ]
    }
   ],
   "source": [
    "SVM_accuracy_score = accuracy_score(testY,svm_clf.predict(testX))*100\n",
    "print(\"SVM test accuracy_score:\", SVM_accuracy_score)"
   ]
  },
  {
   "cell_type": "code",
   "execution_count": 25,
   "id": "ef3e040b",
   "metadata": {},
   "outputs": [
    {
     "data": {
      "text/plain": [
       "<sklearn.metrics._plot.roc_curve.RocCurveDisplay at 0x1f783ad0ac0>"
      ]
     },
     "execution_count": 25,
     "metadata": {},
     "output_type": "execute_result"
    },
    {
     "data": {
      "image/png": "[encoded data removed]",
      "text/plain": [
       "<Figure size 432x288 with 1 Axes>"
      ]
     },
     "metadata": {
      "needs_background": "light"
     },
     "output_type": "display_data"
    }
   ],
   "source": [
    "RocCurveDisplay.from_estimator(svm_clf,testX,testY)"
   ]
  },
  {
   "cell_type": "raw",
   "id": "ba2bc81a",
   "metadata": {},
   "source": [
    "from sklearn.model_selection import validation_curve\n",
    "\n",
    "param_range = [0.001, 0.05, 0.1, 0.5, 1.0, 10.0]\n",
    "train_scores, test_scores = validation_curve(estimator=svm_clf,\n",
    "                                             X=trainX, y=trainy,\n",
    "                                             cv=10, \n",
    "                                             param_name='gamma', \n",
    "                                             param_range=param_range)\n",
    "\n",
    "\n",
    "train_mean = np.mean(train_scores, axis=1)\n",
    "test_mean = np.mean(test_scores, axis=1)\n",
    "\n",
    "\n",
    "plt.plot(param_range, train_mean,\n",
    "         marker='o', markersize=5,\n",
    "         color='blue', label='Training Accuracy')\n",
    "plt.plot(param_range, test_mean,\n",
    "         marker='o', markersize=5,\n",
    "         color='green', label='Validation Accuracy')\n",
    "\n",
    "\n",
    "\n",
    "plt.title(\"Validation Curve with SVM Classifier\")\n",
    "plt.xlabel(\"Parameter\")\n",
    "plt.ylabel(\"Accuracy\")\n",
    "plt.tight_layout()\n",
    "plt.legend(loc = 'best')\n",
    "plt.show()"
   ]
  },
  {
   "cell_type": "code",
   "execution_count": null,
   "id": "fabaca29",
   "metadata": {},
   "outputs": [],
   "source": []
  },
  {
   "cell_type": "code",
   "execution_count": 26,
   "id": "6350650b",
   "metadata": {},
   "outputs": [
    {
     "data": {
      "image/png": "[encoded data removed]",
      "text/plain": [
       "<Figure size 432x288 with 2 Axes>"
      ]
     },
     "metadata": {
      "needs_background": "light"
     },
     "output_type": "display_data"
    }
   ],
   "source": [
    "#confusion_matrix(y_test,yhat_svm)\n",
    "\n",
    "ConfusionMatrixDisplay.from_estimator(svm_clf, testX, testY)  \n",
    "plt.show() "
   ]
  },
  {
   "cell_type": "code",
   "execution_count": 27,
   "id": "3c5dc33e",
   "metadata": {},
   "outputs": [
    {
     "name": "stdout",
     "output_type": "stream",
     "text": [
      "confusion matrix\n",
      " [[1767  154]\n",
      " [  77 1521]]\n",
      "\n",
      "classification report\n",
      "               precision    recall  f1-score   support\n",
      "\n",
      "         0.0       0.96      0.92      0.94      1921\n",
      "         1.0       0.91      0.95      0.93      1598\n",
      "\n",
      "    accuracy                           0.93      3519\n",
      "   macro avg       0.93      0.94      0.93      3519\n",
      "weighted avg       0.94      0.93      0.93      3519\n",
      "\n",
      "Accuracy:  93.43563512361467\n"
     ]
    }
   ],
   "source": [
    "print(\"confusion matrix\\n\",confusion_matrix(testY,ypred))\n",
    "print(\"\\nclassification report\\n\",classification_report(testY,ypred))\n",
    "print(\"Accuracy: \",accuracy_score(testY,ypred)*100)"
   ]
  },
  {
   "cell_type": "code",
   "execution_count": 28,
   "id": "ac3375ec",
   "metadata": {},
   "outputs": [
    {
     "name": "stdout",
     "output_type": "stream",
     "text": [
      "\n",
      "\n",
      "Coefficient of determination of test data:\n",
      "0.7351944355222979\n"
     ]
    }
   ],
   "source": [
    "#CALCULATE THE COEFFICIENT OF DETERMINATION ON TEST DATA\n",
    "y_pred_test=svm_clf.predict(testX)\n",
    "msqe_test=mean_squared_error(testY, y_pred_test)  \n",
    "var_test=np.var(testY) \n",
    "score_test=1-msqe_test/var_test\n",
    "\n",
    "print('\\n')\n",
    "print('Coefficient of determination of test data:')\n",
    "print(score_test)\n"
   ]
  },
  {
   "cell_type": "code",
   "execution_count": 29,
   "id": "0a3f422f",
   "metadata": {},
   "outputs": [
    {
     "name": "stdout",
     "output_type": "stream",
     "text": [
      "\n",
      "\n",
      "Coefficient of determination of train data:\n",
      "0.8785805775500829\n"
     ]
    }
   ],
   "source": [
    "#CALCULATE THE COEFFICIENT OF DETERMINATION ON TRAIN DATA\n",
    "y_pred_train=svm_clf.predict(trainX)\n",
    "msqe_train=mean_squared_error(trainy, y_pred_train) \n",
    "var_train=np.var(trainy)\n",
    "score_train=1-msqe_train/var_train\n",
    "\n",
    "print('\\n')\n",
    "print('Coefficient of determination of train data:')\n",
    "print(score_train)"
   ]
  },
  {
   "cell_type": "code",
   "execution_count": null,
   "id": "2e281e85",
   "metadata": {},
   "outputs": [],
   "source": []
  },
  {
   "cell_type": "markdown",
   "id": "82de9afd",
   "metadata": {},
   "source": [
    "## LogisticRegression"
   ]
  },
  {
   "cell_type": "code",
   "execution_count": 30,
   "id": "7a054daa",
   "metadata": {},
   "outputs": [],
   "source": [
    "from sklearn.linear_model import LogisticRegression\n",
    "\n",
    "lr_clf = LogisticRegression(penalty='l1', solver='liblinear', random_state=0)"
   ]
  },
  {
   "cell_type": "code",
   "execution_count": 31,
   "id": "81afd539",
   "metadata": {},
   "outputs": [
    {
     "name": "stdout",
     "output_type": "stream",
     "text": [
      "Training time: 6.539121150970459s\n"
     ]
    }
   ],
   "source": [
    "start = time.time() \n",
    "# fitting x samples and y classes \n",
    "lr_clf.fit(trainX,trainy)\n",
    "stop = time.time()\n",
    "print(f\"Training time: {stop - start}s\") "
   ]
  },
  {
   "cell_type": "code",
   "execution_count": 32,
   "id": "b4949039",
   "metadata": {},
   "outputs": [
    {
     "name": "stdout",
     "output_type": "stream",
     "text": [
      "Train Score:  0.9677535363222249\n"
     ]
    }
   ],
   "source": [
    "lr_score = lr_clf.score(trainX, trainy)\n",
    "print(\"Train Score: \", lr_score)"
   ]
  },
  {
   "cell_type": "code",
   "execution_count": 33,
   "id": "b2b409d0",
   "metadata": {},
   "outputs": [
    {
     "name": "stdout",
     "output_type": "stream",
     "text": [
      "CV average score: 0.94\n"
     ]
    }
   ],
   "source": [
    "lr_cv_scores = cross_val_score(lr_clf, trainX, trainy, cv=10)\n",
    "print(\"CV average score: %.2f\" % lr_cv_scores.mean())"
   ]
  },
  {
   "cell_type": "code",
   "execution_count": 34,
   "id": "2bb9ce9f",
   "metadata": {},
   "outputs": [
    {
     "name": "stdout",
     "output_type": "stream",
     "text": [
      "[[1813  108]\n",
      " [  72 1526]]\n"
     ]
    }
   ],
   "source": [
    "lr_ypred = lr_clf.predict(testX)\n",
    "\n",
    "cm = confusion_matrix(testY, lr_ypred)\n",
    "print(cm)"
   ]
  },
  {
   "cell_type": "code",
   "execution_count": 35,
   "id": "08487a13",
   "metadata": {},
   "outputs": [
    {
     "name": "stdout",
     "output_type": "stream",
     "text": [
      "LR test accuracy_score: 94.8849104859335\n"
     ]
    }
   ],
   "source": [
    "lr_accuracy_score = accuracy_score(testY,lr_clf.predict(testX))*100\n",
    "print(\"LR test accuracy_score:\", lr_accuracy_score)"
   ]
  },
  {
   "cell_type": "code",
   "execution_count": 36,
   "id": "a88f30da",
   "metadata": {},
   "outputs": [
    {
     "data": {
      "text/plain": [
       "<sklearn.metrics._plot.roc_curve.RocCurveDisplay at 0x1f7a1deb7f0>"
      ]
     },
     "execution_count": 36,
     "metadata": {},
     "output_type": "execute_result"
    },
    {
     "data": {
      "image/png": "[encoded data removed]",
      "text/plain": [
       "<Figure size 432x288 with 1 Axes>"
      ]
     },
     "metadata": {
      "needs_background": "light"
     },
     "output_type": "display_data"
    }
   ],
   "source": [
    "RocCurveDisplay.from_estimator(lr_clf,testX,testY)"
   ]
  },
  {
   "cell_type": "code",
   "execution_count": 37,
   "id": "5dfc546c",
   "metadata": {},
   "outputs": [
    {
     "name": "stdout",
     "output_type": "stream",
     "text": [
      "dict_keys(['C', 'class_weight', 'dual', 'fit_intercept', 'intercept_scaling', 'l1_ratio', 'max_iter', 'multi_class', 'n_jobs', 'penalty', 'random_state', 'solver', 'tol', 'verbose', 'warm_start'])\n"
     ]
    }
   ],
   "source": [
    "print(lr_clf.get_params().keys())"
   ]
  },
  {
   "cell_type": "code",
   "execution_count": 38,
   "id": "49b37372",
   "metadata": {},
   "outputs": [
    {
     "data": {
      "image/png": "[encoded data removed]",
      "text/plain": [
       "<Figure size 432x288 with 2 Axes>"
      ]
     },
     "metadata": {
      "needs_background": "light"
     },
     "output_type": "display_data"
    }
   ],
   "source": [
    "#confusion_matrix(y_test,yhat_svm)\n",
    "\n",
    "ConfusionMatrixDisplay.from_estimator(lr_clf, testX, testY)  \n",
    "plt.show() "
   ]
  },
  {
   "cell_type": "code",
   "execution_count": 39,
   "id": "3271d048",
   "metadata": {},
   "outputs": [
    {
     "name": "stdout",
     "output_type": "stream",
     "text": [
      "confusion matrix\n",
      " [[1813  108]\n",
      " [  72 1526]]\n",
      "\n",
      "classification report\n",
      "               precision    recall  f1-score   support\n",
      "\n",
      "         0.0       0.96      0.94      0.95      1921\n",
      "         1.0       0.93      0.95      0.94      1598\n",
      "\n",
      "    accuracy                           0.95      3519\n",
      "   macro avg       0.95      0.95      0.95      3519\n",
      "weighted avg       0.95      0.95      0.95      3519\n",
      "\n",
      "Accuracy:  94.8849104859335\n"
     ]
    }
   ],
   "source": [
    "print(\"confusion matrix\\n\",confusion_matrix(testY,lr_ypred))\n",
    "print(\"\\nclassification report\\n\",classification_report(testY,lr_ypred))\n",
    "print(\"Accuracy: \",accuracy_score(testY,lr_ypred)*100)"
   ]
  },
  {
   "cell_type": "code",
   "execution_count": 40,
   "id": "ace58b6f",
   "metadata": {},
   "outputs": [
    {
     "name": "stdout",
     "output_type": "stream",
     "text": [
      "\n",
      "\n",
      "Coefficient of determination of test data:\n",
      "0.7936580017056867\n"
     ]
    }
   ],
   "source": [
    "#CALCULATE THE COEFFICIENT OF DETERMINATION ON TEST DATA\n",
    "y_pred_test=lr_clf.predict(testX)\n",
    "msqe_test=mean_squared_error(testY, y_pred_test)  \n",
    "var_test=np.var(testY) \n",
    "score_test=1-msqe_test/var_test\n",
    "\n",
    "print('\\n')\n",
    "print('Coefficient of determination of test data:')\n",
    "print(score_test)\n"
   ]
  },
  {
   "cell_type": "code",
   "execution_count": 41,
   "id": "7df3dc76",
   "metadata": {},
   "outputs": [
    {
     "name": "stdout",
     "output_type": "stream",
     "text": [
      "\n",
      "\n",
      "Coefficient of determination of train data:\n",
      "0.8709018788971237\n"
     ]
    }
   ],
   "source": [
    "#CALCULATE THE COEFFICIENT OF DETERMINATION ON TRAIN DATA\n",
    "y_pred_train=lr_clf.predict(trainX)\n",
    "msqe_train=mean_squared_error(trainy, y_pred_train) \n",
    "var_train=np.var(trainy)\n",
    "score_train=1-msqe_train/var_train\n",
    "\n",
    "print('\\n')\n",
    "print('Coefficient of determination of train data:')\n",
    "print(score_train)"
   ]
  },
  {
   "cell_type": "markdown",
   "id": "4105085e",
   "metadata": {},
   "source": [
    "## KNeighborsClassifier (KNN)"
   ]
  },
  {
   "cell_type": "code",
   "execution_count": 42,
   "id": "55d0c163",
   "metadata": {},
   "outputs": [],
   "source": [
    "from sklearn.neighbors import KNeighborsClassifier\n",
    "\n",
    "Knn_clf = KNeighborsClassifier()\n"
   ]
  },
  {
   "cell_type": "code",
   "execution_count": 43,
   "id": "37d3bf20",
   "metadata": {},
   "outputs": [
    {
     "name": "stdout",
     "output_type": "stream",
     "text": [
      "Training time: 0.3448460102081299s\n"
     ]
    }
   ],
   "source": [
    "start = time.time() \n",
    "# fitting x samples and y classes \n",
    "Knn_clf.fit(trainX,trainy)\n",
    "stop = time.time()\n",
    "print(f\"Training time: {stop - start}s\")"
   ]
  },
  {
   "cell_type": "code",
   "execution_count": 44,
   "id": "2211f81c",
   "metadata": {},
   "outputs": [
    {
     "name": "stdout",
     "output_type": "stream",
     "text": [
      "Train Score:  0.8816830496283865\n"
     ]
    }
   ],
   "source": [
    "Knn_score = Knn_clf.score(trainX, trainy)\n",
    "print(\"Train Score: \", Knn_score)"
   ]
  },
  {
   "cell_type": "code",
   "execution_count": 45,
   "id": "0a75752d",
   "metadata": {},
   "outputs": [
    {
     "name": "stdout",
     "output_type": "stream",
     "text": [
      "CV average score: 0.66\n"
     ]
    }
   ],
   "source": [
    "knn_cv_scores = cross_val_score(Knn_clf, trainX, trainy, cv=10)\n",
    "print(\"CV average score: %.2f\" % knn_cv_scores.mean())\n"
   ]
  },
  {
   "cell_type": "code",
   "execution_count": 46,
   "id": "e86cb153",
   "metadata": {},
   "outputs": [
    {
     "name": "stdout",
     "output_type": "stream",
     "text": [
      "[[1546  375]\n",
      " [ 337 1261]]\n"
     ]
    }
   ],
   "source": [
    "knn_ypred = Knn_clf.predict(testX)\n",
    "\n",
    "cm = confusion_matrix(testY, knn_ypred)\n",
    "print(cm)"
   ]
  },
  {
   "cell_type": "code",
   "execution_count": 47,
   "id": "9bf6b4c8",
   "metadata": {},
   "outputs": [
    {
     "name": "stdout",
     "output_type": "stream",
     "text": [
      "KNN test accuracy_score: 79.7669792554703\n"
     ]
    }
   ],
   "source": [
    "knn_accuracy_score = accuracy_score(testY,Knn_clf.predict(testX))*100\n",
    "print(\"KNN test accuracy_score:\", knn_accuracy_score)"
   ]
  },
  {
   "cell_type": "code",
   "execution_count": 48,
   "id": "22e657af",
   "metadata": {},
   "outputs": [
    {
     "data": {
      "text/plain": [
       "<sklearn.metrics._plot.roc_curve.RocCurveDisplay at 0x1f7a1f94fd0>"
      ]
     },
     "execution_count": 48,
     "metadata": {},
     "output_type": "execute_result"
    },
    {
     "data": {
      "image/png": "[encoded data removed]",
      "text/plain": [
       "<Figure size 432x288 with 1 Axes>"
      ]
     },
     "metadata": {
      "needs_background": "light"
     },
     "output_type": "display_data"
    }
   ],
   "source": [
    "RocCurveDisplay.from_estimator(Knn_clf,testX,testY)"
   ]
  },
  {
   "cell_type": "code",
   "execution_count": 49,
   "id": "1bbe1e54",
   "metadata": {},
   "outputs": [
    {
     "data": {
      "image/png": "[encoded data removed]",
      "text/plain": [
       "<Figure size 432x288 with 2 Axes>"
      ]
     },
     "metadata": {
      "needs_background": "light"
     },
     "output_type": "display_data"
    }
   ],
   "source": [
    "\n",
    "#confusion_matrix(y_test,yhat_svm)\n",
    "\n",
    "\n",
    "ConfusionMatrixDisplay.from_estimator(Knn_clf, testX, testY)  \n",
    "plt.show() "
   ]
  },
  {
   "cell_type": "code",
   "execution_count": 50,
   "id": "e9a6bdee",
   "metadata": {},
   "outputs": [
    {
     "name": "stdout",
     "output_type": "stream",
     "text": [
      "confusion matrix\n",
      " [[1546  375]\n",
      " [ 337 1261]]\n",
      "\n",
      "classification report\n",
      "               precision    recall  f1-score   support\n",
      "\n",
      "         0.0       0.82      0.80      0.81      1921\n",
      "         1.0       0.77      0.79      0.78      1598\n",
      "\n",
      "    accuracy                           0.80      3519\n",
      "   macro avg       0.80      0.80      0.80      3519\n",
      "weighted avg       0.80      0.80      0.80      3519\n",
      "\n",
      "Accuracy:  79.7669792554703\n"
     ]
    }
   ],
   "source": [
    "print(\"confusion matrix\\n\",confusion_matrix(testY,knn_ypred))\n",
    "print(\"\\nclassification report\\n\",classification_report(testY,knn_ypred))\n",
    "print(\"Accuracy: \",accuracy_score(testY,knn_ypred)*100)"
   ]
  },
  {
   "cell_type": "markdown",
   "id": "e984995e",
   "metadata": {},
   "source": [
    "## Decision Trees"
   ]
  },
  {
   "cell_type": "markdown",
   "id": "d77296d2",
   "metadata": {},
   "source": [
    "Decision Trees (DTs) are a non-parametric supervised learning method used for classification and regression. The goal is to create a model that predicts the value of a target variable by learning simple decision rules inferred from the data features. A tree can be seen as a piecewise constant approximation"
   ]
  },
  {
   "cell_type": "code",
   "execution_count": 51,
   "id": "a63ffd58",
   "metadata": {},
   "outputs": [],
   "source": [
    "from sklearn import tree\n",
    "\n",
    "dt_clf = tree.DecisionTreeClassifier()\n",
    "\n",
    "#dt_clf = dt_clf.fit(trainX,trainy)"
   ]
  },
  {
   "cell_type": "code",
   "execution_count": 52,
   "id": "bf85512a",
   "metadata": {},
   "outputs": [
    {
     "name": "stdout",
     "output_type": "stream",
     "text": [
      "Training time: 0.6405103206634521s\n"
     ]
    }
   ],
   "source": [
    "start = time.time() \n",
    "\n",
    "dt_clf = dt_clf.fit(trainX,trainy)\n",
    "\n",
    "stop = time.time()\n",
    "print(f\"Training time: {stop - start}s\") "
   ]
  },
  {
   "cell_type": "code",
   "execution_count": 53,
   "id": "1c8a9a3f",
   "metadata": {},
   "outputs": [
    {
     "name": "stdout",
     "output_type": "stream",
     "text": [
      "Train Score:  1.0\n"
     ]
    }
   ],
   "source": [
    "dt_score = dt_clf.score(trainX, trainy)\n",
    "print(\"Train Score: \", dt_score)"
   ]
  },
  {
   "cell_type": "code",
   "execution_count": 54,
   "id": "13d09544",
   "metadata": {},
   "outputs": [
    {
     "name": "stdout",
     "output_type": "stream",
     "text": [
      "CV average score: 0.94\n"
     ]
    }
   ],
   "source": [
    "dt_cv_scores = cross_val_score(dt_clf, trainX, trainy, cv=10)\n",
    "print(\"CV average score: %.2f\" % dt_cv_scores.mean())"
   ]
  },
  {
   "cell_type": "code",
   "execution_count": 55,
   "id": "3252c6dc",
   "metadata": {},
   "outputs": [
    {
     "name": "stdout",
     "output_type": "stream",
     "text": [
      "[[1792  129]\n",
      " [  89 1509]]\n"
     ]
    }
   ],
   "source": [
    "dt_ypred = dt_clf.predict(testX)\n",
    "\n",
    "dtcm = confusion_matrix(testY, dt_ypred)\n",
    "print(dtcm)"
   ]
  },
  {
   "cell_type": "code",
   "execution_count": 56,
   "id": "1dc9c08b",
   "metadata": {},
   "outputs": [
    {
     "name": "stdout",
     "output_type": "stream",
     "text": [
      "DT test accuracy_score: 93.80505825518614\n"
     ]
    }
   ],
   "source": [
    "dt_accuracy_score = accuracy_score(testY,dt_clf.predict(testX))*100\n",
    "print(\"DT test accuracy_score:\", dt_accuracy_score)"
   ]
  },
  {
   "cell_type": "code",
   "execution_count": 57,
   "id": "52339208",
   "metadata": {},
   "outputs": [
    {
     "data": {
      "text/plain": [
       "<sklearn.metrics._plot.roc_curve.RocCurveDisplay at 0x1f7e27b7cd0>"
      ]
     },
     "execution_count": 57,
     "metadata": {},
     "output_type": "execute_result"
    },
    {
     "data": {
      "image/png": "[encoded data removed]",
      "text/plain": [
       "<Figure size 432x288 with 1 Axes>"
      ]
     },
     "metadata": {
      "needs_background": "light"
     },
     "output_type": "display_data"
    }
   ],
   "source": [
    "RocCurveDisplay.from_estimator(dt_clf,testX,testY)"
   ]
  },
  {
   "cell_type": "code",
   "execution_count": 58,
   "id": "18c981c8",
   "metadata": {},
   "outputs": [
    {
     "data": {
      "image/png": "[encoded data removed]",
      "text/plain": [
       "<Figure size 432x288 with 2 Axes>"
      ]
     },
     "metadata": {
      "needs_background": "light"
     },
     "output_type": "display_data"
    }
   ],
   "source": [
    "ConfusionMatrixDisplay.from_estimator(dt_clf, testX, testY)  \n",
    "plt.show() "
   ]
  },
  {
   "cell_type": "code",
   "execution_count": 59,
   "id": "65550d7c",
   "metadata": {},
   "outputs": [
    {
     "name": "stdout",
     "output_type": "stream",
     "text": [
      "confusion matrix\n",
      " [[1792  129]\n",
      " [  89 1509]]\n",
      "\n",
      "classification report\n",
      "               precision    recall  f1-score   support\n",
      "\n",
      "         0.0       0.95      0.93      0.94      1921\n",
      "         1.0       0.92      0.94      0.93      1598\n",
      "\n",
      "    accuracy                           0.94      3519\n",
      "   macro avg       0.94      0.94      0.94      3519\n",
      "weighted avg       0.94      0.94      0.94      3519\n",
      "\n",
      "Accuracy:  93.80505825518614\n"
     ]
    }
   ],
   "source": [
    "print(\"confusion matrix\\n\",confusion_matrix(testY,dt_ypred))\n",
    "print(\"\\nclassification report\\n\",classification_report(testY,dt_ypred))\n",
    "print(\"Accuracy: \",accuracy_score(testY,dt_ypred)*100)"
   ]
  },
  {
   "cell_type": "code",
   "execution_count": 60,
   "id": "4be35877",
   "metadata": {},
   "outputs": [
    {
     "data": {
      "text/plain": [
       "[Text(0.5641296012269938, 0.9833333333333333, 'x[2] <= -0.386\\ngini = 0.5\\nsamples = 8342\\nvalue = [4048, 4294]'),\n",
       " Text(0.5518596625766872, 0.95, 'x[4] <= -1.443\\ngini = 0.28\\nsamples = 4867\\nvalue = [4048, 819]'),\n",
       " Text(0.5273197852760736, 0.9166666666666666, 'x[29] <= 0.437\\ngini = 0.5\\nsamples = 1563\\nvalue = [777, 786]'),\n",
       " Text(0.5150498466257669, 0.8833333333333333, 'x[3] <= -0.128\\ngini = 0.487\\nsamples = 1353\\nvalue = [567, 786]'),\n",
       " Text(0.5027799079754601, 0.85, 'x[7] <= -0.406\\ngini = 0.498\\nsamples = 1214\\nvalue = [567, 647]'),\n",
       " Text(0.21625766871165644, 0.8166666666666667, 'x[7] <= -2.33\\ngini = 0.406\\nsamples = 339\\nvalue = [96, 243]'),\n",
       " Text(0.20398773006134968, 0.7833333333333333, 'gini = 0.0\\nsamples = 56\\nvalue = [0, 56]'),\n",
       " Text(0.2285276073619632, 0.7833333333333333, 'x[7] <= -1.78\\ngini = 0.448\\nsamples = 283\\nvalue = [96, 187]'),\n",
       " Text(0.17177914110429449, 0.75, 'x[0] <= -0.103\\ngini = 0.278\\nsamples = 48\\nvalue = [40, 8]'),\n",
       " Text(0.15950920245398773, 0.7166666666666667, 'gini = 0.0\\nsamples = 32\\nvalue = [32, 0]'),\n",
       " Text(0.18404907975460122, 0.7166666666666667, 'x[8] <= 0.182\\ngini = 0.5\\nsamples = 16\\nvalue = [8, 8]'),\n",
       " Text(0.17177914110429449, 0.6833333333333333, 'gini = 0.0\\nsamples = 8\\nvalue = [8, 0]'),\n",
       " Text(0.19631901840490798, 0.6833333333333333, 'gini = 0.0\\nsamples = 8\\nvalue = [0, 8]'),\n",
       " Text(0.2852760736196319, 0.75, 'x[15] <= 5.783\\ngini = 0.363\\nsamples = 235\\nvalue = [56, 179]'),\n",
       " Text(0.25153374233128833, 0.7166666666666667, 'x[8] <= -0.447\\ngini = 0.337\\nsamples = 224\\nvalue = [48, 176]'),\n",
       " Text(0.22085889570552147, 0.6833333333333333, 'x[8] <= -0.727\\ngini = 0.499\\nsamples = 31\\nvalue = [16, 15]'),\n",
       " Text(0.2085889570552147, 0.65, 'gini = 0.0\\nsamples = 15\\nvalue = [0, 15]'),\n",
       " Text(0.2331288343558282, 0.65, 'gini = 0.0\\nsamples = 16\\nvalue = [16, 0]'),\n",
       " Text(0.2822085889570552, 0.6833333333333333, 'x[8] <= 1.162\\ngini = 0.277\\nsamples = 193\\nvalue = [32, 161]'),\n",
       " Text(0.25766871165644173, 0.65, 'x[304] <= 2.287\\ngini = 0.179\\nsamples = 161\\nvalue = [16, 145]'),\n",
       " Text(0.24539877300613497, 0.6166666666666667, 'x[115] <= 7.836\\ngini = 0.161\\nsamples = 159\\nvalue = [14, 145]'),\n",
       " Text(0.2331288343558282, 0.5833333333333334, 'x[307] <= 6.98\\ngini = 0.141\\nsamples = 157\\nvalue = [12, 145]'),\n",
       " Text(0.22085889570552147, 0.55, 'x[132] <= 8.736\\ngini = 0.121\\nsamples = 155\\nvalue = [10, 145]'),\n",
       " Text(0.2085889570552147, 0.5166666666666667, 'x[297] <= 7.516\\ngini = 0.099\\nsamples = 153\\nvalue = [8, 145]'),\n",
       " Text(0.17177914110429449, 0.48333333333333334, 'x[251] <= 11.512\\ngini = 0.077\\nsamples = 150\\nvalue = [6, 144]'),\n",
       " Text(0.13496932515337423, 0.45, 'x[57] <= 9.203\\ngini = 0.065\\nsamples = 148\\nvalue = [5, 143]'),\n",
       " Text(0.09815950920245399, 0.4166666666666667, 'x[226] <= 7.453\\ngini = 0.053\\nsamples = 146\\nvalue = [4, 142]'),\n",
       " Text(0.06134969325153374, 0.38333333333333336, 'x[80] <= 1.284\\ngini = 0.041\\nsamples = 143\\nvalue = [3, 140]'),\n",
       " Text(0.024539877300613498, 0.35, 'x[56] <= 4.921\\ngini = 0.015\\nsamples = 129\\nvalue = [1, 128]'),\n",
       " Text(0.012269938650306749, 0.31666666666666665, 'gini = 0.0\\nsamples = 120\\nvalue = [0, 120]'),\n",
       " Text(0.03680981595092025, 0.31666666666666665, 'x[56] <= 5.11\\ngini = 0.198\\nsamples = 9\\nvalue = [1, 8]'),\n",
       " Text(0.024539877300613498, 0.2833333333333333, 'gini = 0.0\\nsamples = 1\\nvalue = [1, 0]'),\n",
       " Text(0.049079754601226995, 0.2833333333333333, 'gini = 0.0\\nsamples = 8\\nvalue = [0, 8]'),\n",
       " Text(0.09815950920245399, 0.35, 'x[83] <= 1.348\\ngini = 0.245\\nsamples = 14\\nvalue = [2, 12]'),\n",
       " Text(0.08588957055214724, 0.31666666666666665, 'x[80] <= 2.694\\ngini = 0.444\\nsamples = 3\\nvalue = [2, 1]'),\n",
       " Text(0.0736196319018405, 0.2833333333333333, 'gini = 0.0\\nsamples = 2\\nvalue = [2, 0]'),\n",
       " Text(0.09815950920245399, 0.2833333333333333, 'gini = 0.0\\nsamples = 1\\nvalue = [0, 1]'),\n",
       " Text(0.11042944785276074, 0.31666666666666665, 'gini = 0.0\\nsamples = 11\\nvalue = [0, 11]'),\n",
       " Text(0.13496932515337423, 0.38333333333333336, 'x[256] <= 4.352\\ngini = 0.444\\nsamples = 3\\nvalue = [1, 2]'),\n",
       " Text(0.12269938650306748, 0.35, 'gini = 0.0\\nsamples = 1\\nvalue = [1, 0]'),\n",
       " Text(0.147239263803681, 0.35, 'gini = 0.0\\nsamples = 2\\nvalue = [0, 2]'),\n",
       " Text(0.17177914110429449, 0.4166666666666667, 'x[7] <= -0.956\\ngini = 0.5\\nsamples = 2\\nvalue = [1, 1]'),\n",
       " Text(0.15950920245398773, 0.38333333333333336, 'gini = 0.0\\nsamples = 1\\nvalue = [1, 0]'),\n",
       " Text(0.18404907975460122, 0.38333333333333336, 'gini = 0.0\\nsamples = 1\\nvalue = [0, 1]'),\n",
       " Text(0.2085889570552147, 0.45, 'x[247] <= 13.81\\ngini = 0.5\\nsamples = 2\\nvalue = [1, 1]'),\n",
       " Text(0.19631901840490798, 0.4166666666666667, 'gini = 0.0\\nsamples = 1\\nvalue = [1, 0]'),\n",
       " Text(0.22085889570552147, 0.4166666666666667, 'gini = 0.0\\nsamples = 1\\nvalue = [0, 1]'),\n",
       " Text(0.24539877300613497, 0.48333333333333334, 'x[131] <= 2.893\\ngini = 0.444\\nsamples = 3\\nvalue = [2, 1]'),\n",
       " Text(0.2331288343558282, 0.45, 'gini = 0.0\\nsamples = 1\\nvalue = [0, 1]'),\n",
       " Text(0.25766871165644173, 0.45, 'gini = 0.0\\nsamples = 2\\nvalue = [2, 0]'),\n",
       " Text(0.2331288343558282, 0.5166666666666667, 'gini = 0.0\\nsamples = 2\\nvalue = [2, 0]'),\n",
       " Text(0.24539877300613497, 0.55, 'gini = 0.0\\nsamples = 2\\nvalue = [2, 0]'),\n",
       " Text(0.25766871165644173, 0.5833333333333334, 'gini = 0.0\\nsamples = 2\\nvalue = [2, 0]'),\n",
       " Text(0.26993865030674846, 0.6166666666666667, 'gini = 0.0\\nsamples = 2\\nvalue = [2, 0]'),\n",
       " Text(0.3067484662576687, 0.65, 'x[0] <= -0.103\\ngini = 0.5\\nsamples = 32\\nvalue = [16, 16]'),\n",
       " Text(0.294478527607362, 0.6166666666666667, 'x[7] <= -1.505\\ngini = 0.444\\nsamples = 24\\nvalue = [16, 8]'),\n",
       " Text(0.2822085889570552, 0.5833333333333334, 'gini = 0.0\\nsamples = 8\\nvalue = [0, 8]'),\n",
       " Text(0.3067484662576687, 0.5833333333333334, 'gini = 0.0\\nsamples = 16\\nvalue = [16, 0]'),\n",
       " Text(0.31901840490797545, 0.6166666666666667, 'gini = 0.0\\nsamples = 8\\nvalue = [0, 8]'),\n",
       " Text(0.31901840490797545, 0.7166666666666667, 'x[7] <= -0.818\\ngini = 0.397\\nsamples = 11\\nvalue = [8, 3]'),\n",
       " Text(0.3067484662576687, 0.6833333333333333, 'gini = 0.0\\nsamples = 3\\nvalue = [0, 3]'),\n",
       " Text(0.3312883435582822, 0.6833333333333333, 'gini = 0.0\\nsamples = 8\\nvalue = [8, 0]'),\n",
       " Text(0.7893021472392638, 0.8166666666666667, 'x[18] <= 2.488\\ngini = 0.497\\nsamples = 875\\nvalue = [471, 404]'),\n",
       " Text(0.6154141104294478, 0.7833333333333333, 'x[0] <= -0.103\\ngini = 0.489\\nsamples = 792\\nvalue = [455, 337]'),\n",
       " Text(0.4401840490797546, 0.75, 'x[40] <= 0.245\\ngini = 0.444\\nsamples = 462\\nvalue = [308, 154]'),\n",
       " Text(0.4279141104294479, 0.7166666666666667, 'x[1] <= -1.005\\ngini = 0.433\\nsamples = 451\\nvalue = [308, 143]'),\n",
       " Text(0.4156441717791411, 0.6833333333333333, 'x[8] <= -0.867\\ngini = 0.444\\nsamples = 429\\nvalue = [286, 143]'),\n",
       " Text(0.40337423312883436, 0.65, 'gini = 0.0\\nsamples = 15\\nvalue = [0, 15]'),\n",
       " Text(0.4279141104294479, 0.65, 'x[8] <= -0.377\\ngini = 0.427\\nsamples = 414\\nvalue = [286, 128]'),\n",
       " Text(0.34355828220858897, 0.6166666666666667, 'x[7] <= 0.693\\ngini = 0.266\\nsamples = 95\\nvalue = [80, 15]'),\n",
       " Text(0.3312883435582822, 0.5833333333333334, 'x[8] <= -0.622\\ngini = 0.397\\nsamples = 55\\nvalue = [40, 15]'),\n",
       " Text(0.31901840490797545, 0.55, 'x[23] <= 3.353\\ngini = 0.473\\nsamples = 39\\nvalue = [24, 15]'),\n",
       " Text(0.3067484662576687, 0.5166666666666667, 'x[8] <= -0.797\\ngini = 0.499\\nsamples = 31\\nvalue = [16, 15]'),\n",
       " Text(0.294478527607362, 0.48333333333333334, 'gini = 0.0\\nsamples = 8\\nvalue = [8, 0]'),\n",
       " Text(0.31901840490797545, 0.48333333333333334, 'x[7] <= 0.281\\ngini = 0.454\\nsamples = 23\\nvalue = [8, 15]'),\n",
       " Text(0.3067484662576687, 0.45, 'gini = 0.0\\nsamples = 8\\nvalue = [0, 8]'),\n",
       " Text(0.3312883435582822, 0.45, 'x[8] <= -0.727\\ngini = 0.498\\nsamples = 15\\nvalue = [8, 7]'),\n",
       " Text(0.31901840490797545, 0.4166666666666667, 'gini = 0.0\\nsamples = 7\\nvalue = [0, 7]'),\n",
       " Text(0.34355828220858897, 0.4166666666666667, 'gini = 0.0\\nsamples = 8\\nvalue = [8, 0]'),\n",
       " Text(0.3312883435582822, 0.5166666666666667, 'gini = 0.0\\nsamples = 8\\nvalue = [8, 0]'),\n",
       " Text(0.34355828220858897, 0.55, 'gini = 0.0\\nsamples = 16\\nvalue = [16, 0]'),\n",
       " Text(0.3558282208588957, 0.5833333333333334, 'gini = 0.0\\nsamples = 40\\nvalue = [40, 0]'),\n",
       " Text(0.5122699386503068, 0.6166666666666667, 'x[41] <= -0.055\\ngini = 0.458\\nsamples = 319\\nvalue = [206, 113]'),\n",
       " Text(0.5, 0.5833333333333334, 'x[7] <= 0.418\\ngini = 0.47\\nsamples = 299\\nvalue = [186, 113]'),\n",
       " Text(0.4294478527607362, 0.55, 'x[16] <= 2.53\\ngini = 0.498\\nsamples = 138\\nvalue = [73, 65]'),\n",
       " Text(0.4171779141104294, 0.5166666666666667, 'x[8] <= -0.097\\ngini = 0.499\\nsamples = 124\\nvalue = [59, 65]'),\n",
       " Text(0.39263803680981596, 0.48333333333333334, 'x[7] <= 0.143\\ngini = 0.375\\nsamples = 28\\nvalue = [7, 21]'),\n",
       " Text(0.3803680981595092, 0.45, 'x[7] <= -0.131\\ngini = 0.5\\nsamples = 14\\nvalue = [7, 7]'),\n",
       " Text(0.36809815950920244, 0.4166666666666667, 'gini = 0.0\\nsamples = 7\\nvalue = [0, 7]'),\n",
       " Text(0.39263803680981596, 0.4166666666666667, 'gini = 0.0\\nsamples = 7\\nvalue = [7, 0]'),\n",
       " Text(0.4049079754601227, 0.45, 'gini = 0.0\\nsamples = 14\\nvalue = [0, 14]'),\n",
       " Text(0.44171779141104295, 0.48333333333333334, 'x[8] <= 1.371\\ngini = 0.497\\nsamples = 96\\nvalue = [52, 44]'),\n",
       " Text(0.4294478527607362, 0.45, 'x[8] <= 1.301\\ngini = 0.486\\nsamples = 89\\nvalue = [52, 37]'),\n",
       " Text(0.4171779141104294, 0.4166666666666667, 'x[8] <= 0.602\\ngini = 0.5\\nsamples = 74\\nvalue = [37, 37]'),\n",
       " Text(0.39263803680981596, 0.38333333333333336, 'x[8] <= 0.217\\ngini = 0.434\\nsamples = 44\\nvalue = [30, 14]'),\n",
       " Text(0.3803680981595092, 0.35, 'x[8] <= 0.042\\ngini = 0.499\\nsamples = 29\\nvalue = [15, 14]'),\n",
       " Text(0.36809815950920244, 0.31666666666666665, 'gini = 0.0\\nsamples = 8\\nvalue = [8, 0]'),\n",
       " Text(0.39263803680981596, 0.31666666666666665, 'x[7] <= 0.006\\ngini = 0.444\\nsamples = 21\\nvalue = [7, 14]'),\n",
       " Text(0.3803680981595092, 0.2833333333333333, 'x[8] <= 0.112\\ngini = 0.5\\nsamples = 14\\nvalue = [7, 7]'),\n",
       " Text(0.36809815950920244, 0.25, 'gini = 0.0\\nsamples = 7\\nvalue = [0, 7]'),\n",
       " Text(0.39263803680981596, 0.25, 'gini = 0.0\\nsamples = 7\\nvalue = [7, 0]'),\n",
       " Text(0.4049079754601227, 0.2833333333333333, 'gini = 0.0\\nsamples = 7\\nvalue = [0, 7]'),\n",
       " Text(0.4049079754601227, 0.35, 'gini = 0.0\\nsamples = 15\\nvalue = [15, 0]'),\n",
       " Text(0.44171779141104295, 0.38333333333333336, 'x[8] <= 1.092\\ngini = 0.358\\nsamples = 30\\nvalue = [7, 23]'),\n",
       " Text(0.4294478527607362, 0.35, 'gini = 0.0\\nsamples = 16\\nvalue = [0, 16]'),\n",
       " Text(0.4539877300613497, 0.35, 'x[8] <= 1.197\\ngini = 0.5\\nsamples = 14\\nvalue = [7, 7]'),\n",
       " Text(0.44171779141104295, 0.31666666666666665, 'gini = 0.0\\nsamples = 7\\nvalue = [7, 0]'),\n",
       " Text(0.4662576687116564, 0.31666666666666665, 'gini = 0.0\\nsamples = 7\\nvalue = [0, 7]'),\n",
       " Text(0.44171779141104295, 0.4166666666666667, 'gini = 0.0\\nsamples = 15\\nvalue = [15, 0]'),\n",
       " Text(0.4539877300613497, 0.45, 'gini = 0.0\\nsamples = 7\\nvalue = [0, 7]'),\n",
       " Text(0.44171779141104295, 0.5166666666666667, 'gini = 0.0\\nsamples = 14\\nvalue = [14, 0]'),\n",
       " Text(0.5705521472392638, 0.55, 'x[7] <= 0.968\\ngini = 0.419\\nsamples = 161\\nvalue = [113, 48]'),\n",
       " Text(0.5153374233128835, 0.5166666666666667, 'x[8] <= 0.112\\ngini = 0.271\\nsamples = 93\\nvalue = [78, 15]'),\n",
       " Text(0.5030674846625767, 0.48333333333333334, 'x[8] <= -0.237\\ngini = 0.42\\nsamples = 50\\nvalue = [35, 15]'),\n",
       " Text(0.49079754601226994, 0.45, 'gini = 0.0\\nsamples = 14\\nvalue = [14, 0]'),\n",
       " Text(0.5153374233128835, 0.45, 'x[7] <= 0.693\\ngini = 0.486\\nsamples = 36\\nvalue = [21, 15]'),\n",
       " Text(0.5030674846625767, 0.4166666666666667, 'x[8] <= -0.097\\ngini = 0.375\\nsamples = 28\\nvalue = [21, 7]'),\n",
       " Text(0.49079754601226994, 0.38333333333333336, 'gini = 0.0\\nsamples = 14\\nvalue = [14, 0]'),\n",
       " Text(0.5153374233128835, 0.38333333333333336, 'x[110] <= 4.051\\ngini = 0.5\\nsamples = 14\\nvalue = [7, 7]'),\n",
       " Text(0.5030674846625767, 0.35, 'x[299] <= 0.888\\ngini = 0.497\\nsamples = 13\\nvalue = [7, 6]'),\n",
       " Text(0.49079754601226994, 0.31666666666666665, 'x[248] <= 5.293\\ngini = 0.486\\nsamples = 12\\nvalue = [7, 5]'),\n",
       " Text(0.4785276073619632, 0.2833333333333333, 'x[137] <= 4.305\\ngini = 0.463\\nsamples = 11\\nvalue = [7, 4]'),\n",
       " Text(0.4662576687116564, 0.25, 'x[307] <= 4.956\\ngini = 0.42\\nsamples = 10\\nvalue = [7, 3]'),\n",
       " Text(0.4539877300613497, 0.21666666666666667, 'x[81] <= 6.753\\ngini = 0.346\\nsamples = 9\\nvalue = [7, 2]'),\n",
       " Text(0.44171779141104295, 0.18333333333333332, 'x[57] <= 0.364\\ngini = 0.219\\nsamples = 8\\nvalue = [7, 1]'),\n",
       " Text(0.4294478527607362, 0.15, 'gini = 0.0\\nsamples = 7\\nvalue = [7, 0]'),\n",
       " Text(0.4539877300613497, 0.15, 'gini = 0.0\\nsamples = 1\\nvalue = [0, 1]'),\n",
       " Text(0.4662576687116564, 0.18333333333333332, 'gini = 0.0\\nsamples = 1\\nvalue = [0, 1]'),\n",
       " Text(0.4785276073619632, 0.21666666666666667, 'gini = 0.0\\nsamples = 1\\nvalue = [0, 1]'),\n",
       " Text(0.49079754601226994, 0.25, 'gini = 0.0\\nsamples = 1\\nvalue = [0, 1]'),\n",
       " Text(0.5030674846625767, 0.2833333333333333, 'gini = 0.0\\nsamples = 1\\nvalue = [0, 1]'),\n",
       " Text(0.5153374233128835, 0.31666666666666665, 'gini = 0.0\\nsamples = 1\\nvalue = [0, 1]'),\n",
       " Text(0.5276073619631901, 0.35, 'gini = 0.0\\nsamples = 1\\nvalue = [0, 1]'),\n",
       " Text(0.5276073619631901, 0.4166666666666667, 'gini = 0.0\\nsamples = 8\\nvalue = [0, 8]'),\n",
       " Text(0.5276073619631901, 0.48333333333333334, 'gini = 0.0\\nsamples = 43\\nvalue = [43, 0]'),\n",
       " Text(0.6257668711656442, 0.5166666666666667, 'x[8] <= 0.182\\ngini = 0.5\\nsamples = 68\\nvalue = [35, 33]'),\n",
       " Text(0.588957055214724, 0.48333333333333334, 'x[8] <= 0.042\\ngini = 0.36\\nsamples = 34\\nvalue = [26, 8]'),\n",
       " Text(0.5766871165644172, 0.45, 'x[8] <= -0.202\\ngini = 0.454\\nsamples = 23\\nvalue = [15, 8]'),\n",
       " Text(0.5644171779141104, 0.4166666666666667, 'gini = 0.0\\nsamples = 8\\nvalue = [8, 0]'),\n",
       " Text(0.588957055214724, 0.4166666666666667, 'x[130] <= 5.014\\ngini = 0.498\\nsamples = 15\\nvalue = [7, 8]'),\n",
       " Text(0.5766871165644172, 0.38333333333333336, 'x[117] <= 3.161\\ngini = 0.49\\nsamples = 14\\nvalue = [6, 8]'),\n",
       " Text(0.5644171779141104, 0.35, 'x[257] <= 7.105\\ngini = 0.473\\nsamples = 13\\nvalue = [5, 8]'),\n",
       " Text(0.5521472392638037, 0.31666666666666665, 'x[124] <= 6.065\\ngini = 0.444\\nsamples = 12\\nvalue = [4, 8]'),\n",
       " Text(0.5398773006134969, 0.2833333333333333, 'x[57] <= 5.164\\ngini = 0.397\\nsamples = 11\\nvalue = [3, 8]'),\n",
       " Text(0.5276073619631901, 0.25, 'x[84] <= 1.587\\ngini = 0.32\\nsamples = 10\\nvalue = [2, 8]'),\n",
       " Text(0.5030674846625767, 0.21666666666666667, 'x[307] <= 1.833\\ngini = 0.219\\nsamples = 8\\nvalue = [1, 7]'),\n",
       " Text(0.49079754601226994, 0.18333333333333332, 'gini = 0.0\\nsamples = 6\\nvalue = [0, 6]'),\n",
       " Text(0.5153374233128835, 0.18333333333333332, 'x[307] <= 4.153\\ngini = 0.5\\nsamples = 2\\nvalue = [1, 1]'),\n",
       " Text(0.5030674846625767, 0.15, 'gini = 0.0\\nsamples = 1\\nvalue = [1, 0]'),\n",
       " Text(0.5276073619631901, 0.15, 'gini = 0.0\\nsamples = 1\\nvalue = [0, 1]'),\n",
       " Text(0.5521472392638037, 0.21666666666666667, 'x[83] <= 6.159\\ngini = 0.5\\nsamples = 2\\nvalue = [1, 1]'),\n",
       " Text(0.5398773006134969, 0.18333333333333332, 'gini = 0.0\\nsamples = 1\\nvalue = [1, 0]'),\n",
       " Text(0.5644171779141104, 0.18333333333333332, 'gini = 0.0\\nsamples = 1\\nvalue = [0, 1]'),\n",
       " Text(0.5521472392638037, 0.25, 'gini = 0.0\\nsamples = 1\\nvalue = [1, 0]'),\n",
       " Text(0.5644171779141104, 0.2833333333333333, 'gini = 0.0\\nsamples = 1\\nvalue = [1, 0]'),\n",
       " Text(0.5766871165644172, 0.31666666666666665, 'gini = 0.0\\nsamples = 1\\nvalue = [1, 0]'),\n",
       " Text(0.588957055214724, 0.35, 'gini = 0.0\\nsamples = 1\\nvalue = [1, 0]'),\n",
       " Text(0.6012269938650306, 0.38333333333333336, 'gini = 0.0\\nsamples = 1\\nvalue = [1, 0]'),\n",
       " Text(0.6012269938650306, 0.45, 'gini = 0.0\\nsamples = 11\\nvalue = [11, 0]'),\n",
       " Text(0.6625766871165644, 0.48333333333333334, 'x[8] <= 0.777\\ngini = 0.389\\nsamples = 34\\nvalue = [9, 25]'),\n",
       " Text(0.6503067484662577, 0.45, 'x[8] <= 0.427\\ngini = 0.469\\nsamples = 24\\nvalue = [9, 15]'),\n",
       " Text(0.6380368098159509, 0.4166666666666667, 'x[551] <= 1.436\\ngini = 0.208\\nsamples = 17\\nvalue = [2, 15]'),\n",
       " Text(0.6257668711656442, 0.38333333333333336, 'x[3609] <= 0.484\\ngini = 0.117\\nsamples = 16\\nvalue = [1, 15]'),\n",
       " Text(0.6134969325153374, 0.35, 'gini = 0.0\\nsamples = 15\\nvalue = [0, 15]'),\n",
       " Text(0.6380368098159509, 0.35, 'gini = 0.0\\nsamples = 1\\nvalue = [1, 0]'),\n",
       " Text(0.6503067484662577, 0.38333333333333336, 'gini = 0.0\\nsamples = 1\\nvalue = [1, 0]'),\n",
       " Text(0.6625766871165644, 0.4166666666666667, 'gini = 0.0\\nsamples = 7\\nvalue = [7, 0]'),\n",
       " Text(0.6748466257668712, 0.45, 'gini = 0.0\\nsamples = 10\\nvalue = [0, 10]'),\n",
       " Text(0.5245398773006135, 0.5833333333333334, 'gini = 0.0\\nsamples = 20\\nvalue = [20, 0]'),\n",
       " Text(0.4401840490797546, 0.6833333333333333, 'gini = 0.0\\nsamples = 22\\nvalue = [22, 0]'),\n",
       " Text(0.45245398773006135, 0.7166666666666667, 'gini = 0.0\\nsamples = 11\\nvalue = [0, 11]'),\n",
       " Text(0.7906441717791411, 0.75, 'x[7] <= 0.968\\ngini = 0.494\\nsamples = 330\\nvalue = [147, 183]'),\n",
       " Text(0.6426380368098159, 0.7166666666666667, 'x[1] <= -1.005\\ngini = 0.477\\nsamples = 288\\nvalue = [113, 175]'),\n",
       " Text(0.6303680981595092, 0.6833333333333333, 'x[7] <= -0.131\\ngini = 0.459\\nsamples = 272\\nvalue = [97, 175]'),\n",
       " Text(0.5828220858895705, 0.65, 'x[8] <= -0.202\\ngini = 0.48\\nsamples = 40\\nvalue = [24, 16]'),\n",
       " Text(0.5705521472392638, 0.6166666666666667, 'gini = 0.0\\nsamples = 16\\nvalue = [16, 0]'),\n",
       " Text(0.5950920245398773, 0.6166666666666667, 'x[8] <= 0.147\\ngini = 0.444\\nsamples = 24\\nvalue = [8, 16]'),\n",
       " Text(0.5828220858895705, 0.5833333333333334, 'gini = 0.0\\nsamples = 8\\nvalue = [0, 8]'),\n",
       " Text(0.6073619631901841, 0.5833333333333334, 'x[8] <= 0.497\\ngini = 0.5\\nsamples = 16\\nvalue = [8, 8]'),\n",
       " Text(0.5950920245398773, 0.55, 'gini = 0.0\\nsamples = 8\\nvalue = [8, 0]'),\n",
       " Text(0.6196319018404908, 0.55, 'gini = 0.0\\nsamples = 8\\nvalue = [0, 8]'),\n",
       " Text(0.6779141104294478, 0.65, 'x[7] <= 0.143\\ngini = 0.431\\nsamples = 232\\nvalue = [73, 159]'),\n",
       " Text(0.6441717791411042, 0.6166666666666667, 'x[8] <= 0.392\\ngini = 0.219\\nsamples = 64\\nvalue = [8, 56]'),\n",
       " Text(0.6319018404907976, 0.5833333333333334, 'gini = 0.0\\nsamples = 48\\nvalue = [0, 48]'),\n",
       " Text(0.656441717791411, 0.5833333333333334, 'x[8] <= 0.637\\ngini = 0.5\\nsamples = 16\\nvalue = [8, 8]'),\n",
       " Text(0.6441717791411042, 0.55, 'gini = 0.0\\nsamples = 8\\nvalue = [8, 0]'),\n",
       " Text(0.6687116564417178, 0.55, 'gini = 0.0\\nsamples = 8\\nvalue = [0, 8]'),\n",
       " Text(0.7116564417177914, 0.6166666666666667, 'x[8] <= -0.937\\ngini = 0.474\\nsamples = 168\\nvalue = [65, 103]'),\n",
       " Text(0.6993865030674846, 0.5833333333333334, 'gini = 0.0\\nsamples = 8\\nvalue = [8, 0]'),\n",
       " Text(0.7239263803680982, 0.5833333333333334, 'x[8] <= -0.342\\ngini = 0.459\\nsamples = 160\\nvalue = [57, 103]'),\n",
       " Text(0.6932515337423313, 0.55, 'x[438] <= 1.989\\ngini = 0.061\\nsamples = 32\\nvalue = [1, 31]'),\n",
       " Text(0.6809815950920245, 0.5166666666666667, 'gini = 0.0\\nsamples = 31\\nvalue = [0, 31]'),\n",
       " Text(0.7055214723926381, 0.5166666666666667, 'gini = 0.0\\nsamples = 1\\nvalue = [1, 0]'),\n",
       " Text(0.754601226993865, 0.55, 'x[8] <= 0.112\\ngini = 0.492\\nsamples = 128\\nvalue = [56, 72]'),\n",
       " Text(0.7300613496932515, 0.5166666666666667, 'x[7] <= 0.693\\ngini = 0.32\\nsamples = 40\\nvalue = [32, 8]'),\n",
       " Text(0.7177914110429447, 0.48333333333333334, 'gini = 0.0\\nsamples = 32\\nvalue = [32, 0]'),\n",
       " Text(0.7423312883435583, 0.48333333333333334, 'gini = 0.0\\nsamples = 8\\nvalue = [0, 8]'),\n",
       " Text(0.7791411042944786, 0.5166666666666667, 'x[8] <= 0.322\\ngini = 0.397\\nsamples = 88\\nvalue = [24, 64]'),\n",
       " Text(0.7668711656441718, 0.48333333333333334, 'gini = 0.0\\nsamples = 24\\nvalue = [0, 24]'),\n",
       " Text(0.7914110429447853, 0.48333333333333334, 'x[22] <= 12.636\\ngini = 0.469\\nsamples = 64\\nvalue = [24, 40]'),\n",
       " Text(0.7791411042944786, 0.45, 'x[8] <= 1.162\\ngini = 0.49\\nsamples = 56\\nvalue = [24, 32]'),\n",
       " Text(0.7668711656441718, 0.4166666666666667, 'x[8] <= 0.847\\ngini = 0.5\\nsamples = 48\\nvalue = [24, 24]'),\n",
       " Text(0.754601226993865, 0.38333333333333336, 'x[8] <= 0.532\\ngini = 0.48\\nsamples = 40\\nvalue = [16, 24]'),\n",
       " Text(0.7423312883435583, 0.35, 'x[7] <= 0.418\\ngini = 0.5\\nsamples = 32\\nvalue = [16, 16]'),\n",
       " Text(0.7300613496932515, 0.31666666666666665, 'gini = 0.0\\nsamples = 8\\nvalue = [0, 8]'),\n",
       " Text(0.754601226993865, 0.31666666666666665, 'x[8] <= 0.392\\ngini = 0.444\\nsamples = 24\\nvalue = [16, 8]'),\n",
       " Text(0.7423312883435583, 0.2833333333333333, 'gini = 0.0\\nsamples = 8\\nvalue = [8, 0]'),\n",
       " Text(0.7668711656441718, 0.2833333333333333, 'x[52] <= 3.762\\ngini = 0.5\\nsamples = 16\\nvalue = [8, 8]'),\n",
       " Text(0.754601226993865, 0.25, 'x[242] <= 2.067\\ngini = 0.498\\nsamples = 15\\nvalue = [7, 8]'),\n",
       " Text(0.7423312883435583, 0.21666666666666667, 'x[283] <= 2.538\\ngini = 0.49\\nsamples = 14\\nvalue = [6, 8]'),\n",
       " Text(0.7300613496932515, 0.18333333333333332, 'x[119] <= 2.062\\ngini = 0.473\\nsamples = 13\\nvalue = [5, 8]'),\n",
       " Text(0.7177914110429447, 0.15, 'x[138] <= 1.907\\ngini = 0.444\\nsamples = 12\\nvalue = [4, 8]'),\n",
       " Text(0.7055214723926381, 0.11666666666666667, 'x[83] <= 2.819\\ngini = 0.397\\nsamples = 11\\nvalue = [3, 8]'),\n",
       " Text(0.6932515337423313, 0.08333333333333333, 'x[57] <= 0.439\\ngini = 0.32\\nsamples = 10\\nvalue = [2, 8]'),\n",
       " Text(0.6809815950920245, 0.05, 'x[307] <= 5.145\\ngini = 0.198\\nsamples = 9\\nvalue = [1, 8]'),\n",
       " Text(0.6687116564417178, 0.016666666666666666, 'gini = 0.0\\nsamples = 8\\nvalue = [0, 8]'),\n",
       " Text(0.6932515337423313, 0.016666666666666666, 'gini = 0.0\\nsamples = 1\\nvalue = [1, 0]'),\n",
       " Text(0.7055214723926381, 0.05, 'gini = 0.0\\nsamples = 1\\nvalue = [1, 0]'),\n",
       " Text(0.7177914110429447, 0.08333333333333333, 'gini = 0.0\\nsamples = 1\\nvalue = [1, 0]'),\n",
       " Text(0.7300613496932515, 0.11666666666666667, 'gini = 0.0\\nsamples = 1\\nvalue = [1, 0]'),\n",
       " Text(0.7423312883435583, 0.15, 'gini = 0.0\\nsamples = 1\\nvalue = [1, 0]'),\n",
       " Text(0.754601226993865, 0.18333333333333332, 'gini = 0.0\\nsamples = 1\\nvalue = [1, 0]'),\n",
       " Text(0.7668711656441718, 0.21666666666666667, 'gini = 0.0\\nsamples = 1\\nvalue = [1, 0]'),\n",
       " Text(0.7791411042944786, 0.25, 'gini = 0.0\\nsamples = 1\\nvalue = [1, 0]'),\n",
       " Text(0.7668711656441718, 0.35, 'gini = 0.0\\nsamples = 8\\nvalue = [0, 8]'),\n",
       " Text(0.7791411042944786, 0.38333333333333336, 'gini = 0.0\\nsamples = 8\\nvalue = [8, 0]'),\n",
       " Text(0.7914110429447853, 0.4166666666666667, 'gini = 0.0\\nsamples = 8\\nvalue = [0, 8]'),\n",
       " Text(0.803680981595092, 0.45, 'gini = 0.0\\nsamples = 8\\nvalue = [0, 8]'),\n",
       " Text(0.6549079754601227, 0.6833333333333333, 'gini = 0.0\\nsamples = 16\\nvalue = [16, 0]'),\n",
       " Text(0.9386503067484663, 0.7166666666666667, 'x[8] <= -0.202\\ngini = 0.308\\nsamples = 42\\nvalue = [34, 8]'),\n",
       " Text(0.9263803680981595, 0.6833333333333333, 'x[275] <= 7.168\\ngini = 0.426\\nsamples = 26\\nvalue = [18, 8]'),\n",
       " Text(0.9141104294478528, 0.65, 'x[264] <= 2.325\\ngini = 0.403\\nsamples = 25\\nvalue = [18, 7]'),\n",
       " Text(0.901840490797546, 0.6166666666666667, 'x[307] <= 9.344\\ngini = 0.375\\nsamples = 24\\nvalue = [18, 6]'),\n",
       " Text(0.8895705521472392, 0.5833333333333334, 'x[167] <= 5.707\\ngini = 0.34\\nsamples = 23\\nvalue = [18, 5]'),\n",
       " Text(0.8773006134969326, 0.55, 'x[141] <= 5.316\\ngini = 0.298\\nsamples = 22\\nvalue = [18, 4]'),\n",
       " Text(0.8650306748466258, 0.5166666666666667, 'x[121] <= 5.914\\ngini = 0.245\\nsamples = 21\\nvalue = [18, 3]'),\n",
       " Text(0.852760736196319, 0.48333333333333334, 'x[84] <= 0.887\\ngini = 0.18\\nsamples = 20\\nvalue = [18, 2]'),\n",
       " Text(0.8282208588957055, 0.45, 'x[57] <= 1.236\\ngini = 0.105\\nsamples = 18\\nvalue = [17, 1]'),\n",
       " Text(0.8159509202453987, 0.4166666666666667, 'gini = 0.0\\nsamples = 16\\nvalue = [16, 0]'),\n",
       " Text(0.8404907975460123, 0.4166666666666667, 'x[56] <= 5.751\\ngini = 0.5\\nsamples = 2\\nvalue = [1, 1]'),\n",
       " Text(0.8282208588957055, 0.38333333333333336, 'gini = 0.0\\nsamples = 1\\nvalue = [0, 1]'),\n",
       " Text(0.852760736196319, 0.38333333333333336, 'gini = 0.0\\nsamples = 1\\nvalue = [1, 0]'),\n",
       " Text(0.8773006134969326, 0.45, 'x[84] <= 1.212\\ngini = 0.5\\nsamples = 2\\nvalue = [1, 1]'),\n",
       " Text(0.8650306748466258, 0.4166666666666667, 'gini = 0.0\\nsamples = 1\\nvalue = [0, 1]'),\n",
       " Text(0.8895705521472392, 0.4166666666666667, 'gini = 0.0\\nsamples = 1\\nvalue = [1, 0]'),\n",
       " Text(0.8773006134969326, 0.48333333333333334, 'gini = 0.0\\nsamples = 1\\nvalue = [0, 1]'),\n",
       " Text(0.8895705521472392, 0.5166666666666667, 'gini = 0.0\\nsamples = 1\\nvalue = [0, 1]'),\n",
       " Text(0.901840490797546, 0.55, 'gini = 0.0\\nsamples = 1\\nvalue = [0, 1]'),\n",
       " Text(0.9141104294478528, 0.5833333333333334, 'gini = 0.0\\nsamples = 1\\nvalue = [0, 1]'),\n",
       " Text(0.9263803680981595, 0.6166666666666667, 'gini = 0.0\\nsamples = 1\\nvalue = [0, 1]'),\n",
       " Text(0.9386503067484663, 0.65, 'gini = 0.0\\nsamples = 1\\nvalue = [0, 1]'),\n",
       " Text(0.950920245398773, 0.6833333333333333, 'gini = 0.0\\nsamples = 16\\nvalue = [16, 0]'),\n",
       " Text(0.9631901840490797, 0.7833333333333333, 'x[0] <= -0.103\\ngini = 0.311\\nsamples = 83\\nvalue = [16, 67]'),\n",
       " Text(0.950920245398773, 0.75, 'gini = 0.0\\nsamples = 56\\nvalue = [0, 56]'),\n",
       " Text(0.9754601226993865, 0.75, 'x[7] <= 0.418\\ngini = 0.483\\nsamples = 27\\nvalue = [16, 11]'),\n",
       " Text(0.9631901840490797, 0.7166666666666667, 'gini = 0.0\\nsamples = 16\\nvalue = [16, 0]'),\n",
       " Text(0.9877300613496932, 0.7166666666666667, 'gini = 0.0\\nsamples = 11\\nvalue = [0, 11]'),\n",
       " Text(0.5273197852760736, 0.85, 'gini = 0.0\\nsamples = 139\\nvalue = [0, 139]'),\n",
       " Text(0.5395897239263804, 0.8833333333333333, 'gini = 0.0\\nsamples = 210\\nvalue = [210, 0]'),\n",
       " Text(0.5763995398773006, 0.9166666666666666, 'x[3] <= 0.195\\ngini = 0.02\\nsamples = 3304\\nvalue = [3271, 33]'),\n",
       " Text(0.5641296012269938, 0.8833333333333333, 'gini = 0.0\\nsamples = 3271\\nvalue = [3271, 0]'),\n",
       " Text(0.5886694785276073, 0.8833333333333333, 'gini = 0.0\\nsamples = 33\\nvalue = [0, 33]'),\n",
       " Text(0.5763995398773006, 0.95, 'gini = 0.0\\nsamples = 3475\\nvalue = [0, 3475]')]"
      ]
     },
     "execution_count": 60,
     "metadata": {},
     "output_type": "execute_result"
    },
    {
     "data": {
      "image/png": "[encoded data removed]",
      "text/plain": [
       "<Figure size 432x288 with 1 Axes>"
      ]
     },
     "metadata": {
      "needs_background": "light"
     },
     "output_type": "display_data"
    }
   ],
   "source": [
    "tree.plot_tree(dt_clf)"
   ]
  },
  {
   "cell_type": "code",
   "execution_count": 61,
   "id": "8284ea2e",
   "metadata": {},
   "outputs": [
    {
     "name": "stdout",
     "output_type": "stream",
     "text": [
      "\n",
      "\n",
      "Coefficient of determination of test data:\n",
      "0.7500969131768871\n"
     ]
    }
   ],
   "source": [
    "#CALCULATE THE COEFFICIENT OF DETERMINATION ON TEST DATA\n",
    "y_pred_test=dt_clf.predict(testX)\n",
    "msqe_test=mean_squared_error(testY, y_pred_test)  \n",
    "var_test=np.var(testY) \n",
    "score_test=1-msqe_test/var_test\n",
    "\n",
    "print('\\n')\n",
    "print('Coefficient of determination of test data:')\n",
    "print(score_test)\n"
   ]
  },
  {
   "cell_type": "code",
   "execution_count": 62,
   "id": "d1211130",
   "metadata": {},
   "outputs": [
    {
     "name": "stdout",
     "output_type": "stream",
     "text": [
      "\n",
      "\n",
      "Coefficient of determination of train data:\n",
      "1.0\n"
     ]
    }
   ],
   "source": [
    "#CALCULATE THE COEFFICIENT OF DETERMINATION ON TRAIN DATA\n",
    "y_pred_train=dt_clf.predict(trainX)\n",
    "msqe_train=mean_squared_error(trainy, y_pred_train) \n",
    "var_train=np.var(trainy)\n",
    "score_train=1-msqe_train/var_train\n",
    "\n",
    "print('\\n')\n",
    "print('Coefficient of determination of train data:')\n",
    "print(score_train)"
   ]
  },
  {
   "cell_type": "markdown",
   "id": "24a37b49",
   "metadata": {},
   "source": [
    "## RandomForestClassifier"
   ]
  },
  {
   "cell_type": "code",
   "execution_count": 63,
   "id": "591d36f8",
   "metadata": {},
   "outputs": [],
   "source": [
    "from sklearn.ensemble import RandomForestClassifier\n",
    "\n",
    "rf_clf = RandomForestClassifier(n_estimators=100, random_state=0)"
   ]
  },
  {
   "cell_type": "code",
   "execution_count": 64,
   "id": "b837f336",
   "metadata": {},
   "outputs": [
    {
     "name": "stdout",
     "output_type": "stream",
     "text": [
      "Training time: 9.57614016532898s\n"
     ]
    }
   ],
   "source": [
    "start = time.time() \n",
    "\n",
    "rf_clf = rf_clf.fit(trainX,trainy)\n",
    "\n",
    "stop = time.time()\n",
    "print(f\"Training time: {stop - start}s\") "
   ]
  },
  {
   "cell_type": "code",
   "execution_count": 65,
   "id": "9a2fddee",
   "metadata": {},
   "outputs": [
    {
     "name": "stdout",
     "output_type": "stream",
     "text": [
      "Train Score:  1.0\n"
     ]
    }
   ],
   "source": [
    "rf_score = rf_clf.score(trainX, trainy)\n",
    "print(\"Train Score: \", rf_score)"
   ]
  },
  {
   "cell_type": "code",
   "execution_count": 66,
   "id": "ef85f9c1",
   "metadata": {},
   "outputs": [
    {
     "name": "stdout",
     "output_type": "stream",
     "text": [
      "CV average score: 0.87\n"
     ]
    }
   ],
   "source": [
    "rf_cv_scores = cross_val_score(rf_clf, trainX, trainy, cv=10)\n",
    "print(\"CV average score: %.2f\" % rf_cv_scores.mean())"
   ]
  },
  {
   "cell_type": "code",
   "execution_count": 67,
   "id": "d52a8ab0",
   "metadata": {},
   "outputs": [
    {
     "name": "stdout",
     "output_type": "stream",
     "text": [
      "[[1822   99]\n",
      " [  81 1517]]\n"
     ]
    }
   ],
   "source": [
    "rf_ypred = rf_clf.predict(testX)\n",
    "\n",
    "rfcm = confusion_matrix(testY, rf_ypred)\n",
    "print(rfcm)"
   ]
  },
  {
   "cell_type": "code",
   "execution_count": 68,
   "id": "8e565ffc",
   "metadata": {},
   "outputs": [
    {
     "name": "stdout",
     "output_type": "stream",
     "text": [
      "DT test accuracy_score: 94.8849104859335\n"
     ]
    }
   ],
   "source": [
    "rf_accuracy_score = accuracy_score(testY,rf_clf.predict(testX))*100\n",
    "print(\"DT test accuracy_score:\", rf_accuracy_score)"
   ]
  },
  {
   "cell_type": "code",
   "execution_count": 69,
   "id": "497a7456",
   "metadata": {},
   "outputs": [
    {
     "data": {
      "text/plain": [
       "<sklearn.metrics._plot.roc_curve.RocCurveDisplay at 0x1f7e293e6a0>"
      ]
     },
     "execution_count": 69,
     "metadata": {},
     "output_type": "execute_result"
    },
    {
     "data": {
      "image/png": "[encoded data removed]",
      "text/plain": [
       "<Figure size 432x288 with 1 Axes>"
      ]
     },
     "metadata": {
      "needs_background": "light"
     },
     "output_type": "display_data"
    }
   ],
   "source": [
    "RocCurveDisplay.from_estimator(rf_clf,testX,testY)"
   ]
  },
  {
   "cell_type": "code",
   "execution_count": 70,
   "id": "85a7d353",
   "metadata": {},
   "outputs": [
    {
     "data": {
      "image/png": "[encoded data removed]",
      "text/plain": [
       "<Figure size 432x288 with 2 Axes>"
      ]
     },
     "metadata": {
      "needs_background": "light"
     },
     "output_type": "display_data"
    }
   ],
   "source": [
    "ConfusionMatrixDisplay.from_estimator(rf_clf, testX, testY)  \n",
    "plt.show() "
   ]
  },
  {
   "cell_type": "code",
   "execution_count": 71,
   "id": "16749c0f",
   "metadata": {},
   "outputs": [
    {
     "name": "stdout",
     "output_type": "stream",
     "text": [
      "confusion matrix\n",
      " [[1822   99]\n",
      " [  81 1517]]\n",
      "\n",
      "classification report\n",
      "               precision    recall  f1-score   support\n",
      "\n",
      "         0.0       0.96      0.95      0.95      1921\n",
      "         1.0       0.94      0.95      0.94      1598\n",
      "\n",
      "    accuracy                           0.95      3519\n",
      "   macro avg       0.95      0.95      0.95      3519\n",
      "weighted avg       0.95      0.95      0.95      3519\n",
      "\n",
      "Accuracy:  94.8849104859335\n"
     ]
    }
   ],
   "source": [
    "print(\"confusion matrix\\n\",confusion_matrix(testY,rf_ypred))\n",
    "print(\"\\nclassification report\\n\",classification_report(testY,rf_ypred))\n",
    "print(\"Accuracy: \",accuracy_score(testY,rf_ypred)*100)"
   ]
  },
  {
   "cell_type": "markdown",
   "id": "9e85f5d7",
   "metadata": {},
   "source": [
    "## AdaBoostClassifier"
   ]
  },
  {
   "cell_type": "code",
   "execution_count": 72,
   "id": "697676c5",
   "metadata": {},
   "outputs": [],
   "source": [
    "from sklearn.ensemble import AdaBoostClassifier\n",
    "\n",
    "ada_clf = AdaBoostClassifier(n_estimators=100, random_state=0)\n"
   ]
  },
  {
   "cell_type": "code",
   "execution_count": 73,
   "id": "b791ce42",
   "metadata": {},
   "outputs": [
    {
     "data": {
      "text/html": [
       "<style>#sk-container-id-2 {color: black;}#sk-container-id-2 pre{padding: 0;}#sk-container-id-2 div.sk-toggleable {background-color: white;}#sk-container-id-2 label.sk-toggleable__label {cursor: pointer;display: block;width: 100%;margin-bottom: 0;padding: 0.3em;box-sizing: border-box;text-align: center;}#sk-container-id-2 label.sk-toggleable__label-arrow:before {content: \"▸\";float: left;margin-right: 0.25em;color: #696969;}#sk-container-id-2 label.sk-toggleable__label-arrow:hover:before {color: black;}#sk-container-id-2 div.sk-estimator:hover label.sk-toggleable__label-arrow:before {color: black;}#sk-container-id-2 div.sk-toggleable__content {max-height: 0;max-width: 0;overflow: hidden;text-align: left;background-color: #f0f8ff;}#sk-container-id-2 div.sk-toggleable__content pre {margin: 0.2em;color: black;border-radius: 0.25em;background-color: #f0f8ff;}#sk-container-id-2 input.sk-toggleable__control:checked~div.sk-toggleable__content {max-height: 200px;max-width: 100%;overflow: auto;}#sk-container-id-2 input.sk-toggleable__control:checked~label.sk-toggleable__label-arrow:before {content: \"▾\";}#sk-container-id-2 div.sk-estimator input.sk-toggleable__control:checked~label.sk-toggleable__label {background-color: #d4ebff;}#sk-container-id-2 div.sk-label input.sk-toggleable__control:checked~label.sk-toggleable__label {background-color: #d4ebff;}#sk-container-id-2 input.sk-hidden--visually {border: 0;clip: rect(1px 1px 1px 1px);clip: rect(1px, 1px, 1px, 1px);height: 1px;margin: -1px;overflow: hidden;padding: 0;position: absolute;width: 1px;}#sk-container-id-2 div.sk-estimator {font-family: monospace;background-color: #f0f8ff;border: 1px dotted black;border-radius: 0.25em;box-sizing: border-box;margin-bottom: 0.5em;}#sk-container-id-2 div.sk-estimator:hover {background-color: #d4ebff;}#sk-container-id-2 div.sk-parallel-item::after {content: \"\";width: 100%;border-bottom: 1px solid gray;flex-grow: 1;}#sk-container-id-2 div.sk-label:hover label.sk-toggleable__label {background-color: #d4ebff;}#sk-container-id-2 div.sk-serial::before {content: \"\";position: absolute;border-left: 1px solid gray;box-sizing: border-box;top: 0;bottom: 0;left: 50%;z-index: 0;}#sk-container-id-2 div.sk-serial {display: flex;flex-direction: column;align-items: center;background-color: white;padding-right: 0.2em;padding-left: 0.2em;position: relative;}#sk-container-id-2 div.sk-item {position: relative;z-index: 1;}#sk-container-id-2 div.sk-parallel {display: flex;align-items: stretch;justify-content: center;background-color: white;position: relative;}#sk-container-id-2 div.sk-item::before, #sk-container-id-2 div.sk-parallel-item::before {content: \"\";position: absolute;border-left: 1px solid gray;box-sizing: border-box;top: 0;bottom: 0;left: 50%;z-index: -1;}#sk-container-id-2 div.sk-parallel-item {display: flex;flex-direction: column;z-index: 1;position: relative;background-color: white;}#sk-container-id-2 div.sk-parallel-item:first-child::after {align-self: flex-end;width: 50%;}#sk-container-id-2 div.sk-parallel-item:last-child::after {align-self: flex-start;width: 50%;}#sk-container-id-2 div.sk-parallel-item:only-child::after {width: 0;}#sk-container-id-2 div.sk-dashed-wrapped {border: 1px dashed gray;margin: 0 0.4em 0.5em 0.4em;box-sizing: border-box;padding-bottom: 0.4em;background-color: white;}#sk-container-id-2 div.sk-label label {font-family: monospace;font-weight: bold;display: inline-block;line-height: 1.2em;}#sk-container-id-2 div.sk-label-container {text-align: center;}#sk-container-id-2 div.sk-container {/* jupyter's `normalize.less` sets `[hidden] { display: none; }` but bootstrap.min.css set `[hidden] { display: none !important; }` so we also need the `!important` here to be able to override the default hidden behavior on the sphinx rendered scikit-learn.org. See: https://github.com/scikit-learn/scikit-learn/issues/21755 */display: inline-block !important;position: relative;}#sk-container-id-2 div.sk-text-repr-fallback {display: none;}</style><div id=\"sk-container-id-2\" class=\"sk-top-container\"><div class=\"sk-text-repr-fallback\"><pre>AdaBoostClassifier(n_estimators=100, random_state=0)</pre><b>In a Jupyter environment, please rerun this cell to show the HTML representation or trust the notebook. <br />On GitHub, the HTML representation is unable to render, please try loading this page with nbviewer.org.</b></div><div class=\"sk-container\" hidden><div class=\"sk-item\"><div class=\"sk-estimator sk-toggleable\"><input class=\"sk-toggleable__control sk-hidden--visually\" id=\"sk-estimator-id-2\" type=\"checkbox\" checked><label for=\"sk-estimator-id-2\" class=\"sk-toggleable__label sk-toggleable__label-arrow\">AdaBoostClassifier</label><div class=\"sk-toggleable__content\"><pre>AdaBoostClassifier(n_estimators=100, random_state=0)</pre></div></div></div></div></div>"
      ],
      "text/plain": [
       "AdaBoostClassifier(n_estimators=100, random_state=0)"
      ]
     },
     "execution_count": 73,
     "metadata": {},
     "output_type": "execute_result"
    }
   ],
   "source": [
    "ada_clf.fit(trainX,trainy)"
   ]
  },
  {
   "cell_type": "code",
   "execution_count": 74,
   "id": "c1fc77e6",
   "metadata": {},
   "outputs": [
    {
     "name": "stdout",
     "output_type": "stream",
     "text": [
      "Train Score:  0.9780628146727404\n"
     ]
    }
   ],
   "source": [
    "ada_score = ada_clf.score(trainX, trainy)\n",
    "print(\"Train Score: \", ada_score)"
   ]
  },
  {
   "cell_type": "code",
   "execution_count": 75,
   "id": "169045c6",
   "metadata": {},
   "outputs": [
    {
     "name": "stdout",
     "output_type": "stream",
     "text": [
      "CV average score: 0.92\n"
     ]
    }
   ],
   "source": [
    "ada_cv_scores = cross_val_score(ada_clf, trainX, trainy, cv=10)\n",
    "print(\"CV average score: %.2f\" % ada_cv_scores.mean())"
   ]
  },
  {
   "cell_type": "code",
   "execution_count": 76,
   "id": "36793151",
   "metadata": {},
   "outputs": [
    {
     "name": "stdout",
     "output_type": "stream",
     "text": [
      "[[1767  154]\n",
      " [  90 1508]]\n"
     ]
    }
   ],
   "source": [
    "ada_ypred = ada_clf.predict(testX)\n",
    "\n",
    "adacm = confusion_matrix(testY, ada_ypred)\n",
    "print(adacm)"
   ]
  },
  {
   "cell_type": "code",
   "execution_count": 77,
   "id": "043497c8",
   "metadata": {},
   "outputs": [
    {
     "name": "stdout",
     "output_type": "stream",
     "text": [
      "ADABoosting test accuracy_score: 93.0662119920432\n"
     ]
    }
   ],
   "source": [
    "ada_accuracy_score = accuracy_score(testY,ada_clf.predict(testX))*100\n",
    "print(\"ADABoosting test accuracy_score:\", ada_accuracy_score)"
   ]
  },
  {
   "cell_type": "code",
   "execution_count": 78,
   "id": "ddcde92e",
   "metadata": {},
   "outputs": [
    {
     "data": {
      "text/plain": [
       "<sklearn.metrics._plot.roc_curve.RocCurveDisplay at 0x1f7e2a57550>"
      ]
     },
     "execution_count": 78,
     "metadata": {},
     "output_type": "execute_result"
    },
    {
     "data": {
      "image/png": "[encoded data removed]",
      "text/plain": [
       "<Figure size 432x288 with 1 Axes>"
      ]
     },
     "metadata": {
      "needs_background": "light"
     },
     "output_type": "display_data"
    }
   ],
   "source": [
    "RocCurveDisplay.from_estimator(ada_clf,testX,testY)"
   ]
  },
  {
   "cell_type": "code",
   "execution_count": 79,
   "id": "b9725153",
   "metadata": {},
   "outputs": [
    {
     "data": {
      "image/png": "[encoded data removed]",
      "text/plain": [
       "<Figure size 432x288 with 2 Axes>"
      ]
     },
     "metadata": {
      "needs_background": "light"
     },
     "output_type": "display_data"
    }
   ],
   "source": [
    "ConfusionMatrixDisplay.from_estimator(ada_clf, testX, testY)  \n",
    "plt.show() "
   ]
  },
  {
   "cell_type": "code",
   "execution_count": 80,
   "id": "29ce0fb4",
   "metadata": {},
   "outputs": [
    {
     "name": "stdout",
     "output_type": "stream",
     "text": [
      "confusion matrix\n",
      " [[1767  154]\n",
      " [  90 1508]]\n",
      "\n",
      "classification report\n",
      "               precision    recall  f1-score   support\n",
      "\n",
      "         0.0       0.95      0.92      0.94      1921\n",
      "         1.0       0.91      0.94      0.93      1598\n",
      "\n",
      "    accuracy                           0.93      3519\n",
      "   macro avg       0.93      0.93      0.93      3519\n",
      "weighted avg       0.93      0.93      0.93      3519\n",
      "\n",
      "Accuracy:  93.0662119920432\n"
     ]
    }
   ],
   "source": [
    "print(\"confusion matrix\\n\",confusion_matrix(testY,ada_ypred))\n",
    "print(\"\\nclassification report\\n\",classification_report(testY,ada_ypred))\n",
    "print(\"Accuracy: \",accuracy_score(testY,ada_ypred)*100)"
   ]
  },
  {
   "cell_type": "markdown",
   "id": "fb088786",
   "metadata": {},
   "source": [
    "## GradientBoostingClassifier"
   ]
  },
  {
   "cell_type": "code",
   "execution_count": 81,
   "id": "c3b502c8",
   "metadata": {},
   "outputs": [],
   "source": [
    "from sklearn.ensemble import GradientBoostingClassifier \n",
    "\n",
    "gb_clf = GradientBoostingClassifier(n_estimators=100, learning_rate=1.0,\n",
    "                                 max_depth=5, random_state=0)"
   ]
  },
  {
   "cell_type": "code",
   "execution_count": 82,
   "id": "d3fb032d",
   "metadata": {},
   "outputs": [
    {
     "data": {
      "text/html": [
       "<style>#sk-container-id-3 {color: black;}#sk-container-id-3 pre{padding: 0;}#sk-container-id-3 div.sk-toggleable {background-color: white;}#sk-container-id-3 label.sk-toggleable__label {cursor: pointer;display: block;width: 100%;margin-bottom: 0;padding: 0.3em;box-sizing: border-box;text-align: center;}#sk-container-id-3 label.sk-toggleable__label-arrow:before {content: \"▸\";float: left;margin-right: 0.25em;color: #696969;}#sk-container-id-3 label.sk-toggleable__label-arrow:hover:before {color: black;}#sk-container-id-3 div.sk-estimator:hover label.sk-toggleable__label-arrow:before {color: black;}#sk-container-id-3 div.sk-toggleable__content {max-height: 0;max-width: 0;overflow: hidden;text-align: left;background-color: #f0f8ff;}#sk-container-id-3 div.sk-toggleable__content pre {margin: 0.2em;color: black;border-radius: 0.25em;background-color: #f0f8ff;}#sk-container-id-3 input.sk-toggleable__control:checked~div.sk-toggleable__content {max-height: 200px;max-width: 100%;overflow: auto;}#sk-container-id-3 input.sk-toggleable__control:checked~label.sk-toggleable__label-arrow:before {content: \"▾\";}#sk-container-id-3 div.sk-estimator input.sk-toggleable__control:checked~label.sk-toggleable__label {background-color: #d4ebff;}#sk-container-id-3 div.sk-label input.sk-toggleable__control:checked~label.sk-toggleable__label {background-color: #d4ebff;}#sk-container-id-3 input.sk-hidden--visually {border: 0;clip: rect(1px 1px 1px 1px);clip: rect(1px, 1px, 1px, 1px);height: 1px;margin: -1px;overflow: hidden;padding: 0;position: absolute;width: 1px;}#sk-container-id-3 div.sk-estimator {font-family: monospace;background-color: #f0f8ff;border: 1px dotted black;border-radius: 0.25em;box-sizing: border-box;margin-bottom: 0.5em;}#sk-container-id-3 div.sk-estimator:hover {background-color: #d4ebff;}#sk-container-id-3 div.sk-parallel-item::after {content: \"\";width: 100%;border-bottom: 1px solid gray;flex-grow: 1;}#sk-container-id-3 div.sk-label:hover label.sk-toggleable__label {background-color: #d4ebff;}#sk-container-id-3 div.sk-serial::before {content: \"\";position: absolute;border-left: 1px solid gray;box-sizing: border-box;top: 0;bottom: 0;left: 50%;z-index: 0;}#sk-container-id-3 div.sk-serial {display: flex;flex-direction: column;align-items: center;background-color: white;padding-right: 0.2em;padding-left: 0.2em;position: relative;}#sk-container-id-3 div.sk-item {position: relative;z-index: 1;}#sk-container-id-3 div.sk-parallel {display: flex;align-items: stretch;justify-content: center;background-color: white;position: relative;}#sk-container-id-3 div.sk-item::before, #sk-container-id-3 div.sk-parallel-item::before {content: \"\";position: absolute;border-left: 1px solid gray;box-sizing: border-box;top: 0;bottom: 0;left: 50%;z-index: -1;}#sk-container-id-3 div.sk-parallel-item {display: flex;flex-direction: column;z-index: 1;position: relative;background-color: white;}#sk-container-id-3 div.sk-parallel-item:first-child::after {align-self: flex-end;width: 50%;}#sk-container-id-3 div.sk-parallel-item:last-child::after {align-self: flex-start;width: 50%;}#sk-container-id-3 div.sk-parallel-item:only-child::after {width: 0;}#sk-container-id-3 div.sk-dashed-wrapped {border: 1px dashed gray;margin: 0 0.4em 0.5em 0.4em;box-sizing: border-box;padding-bottom: 0.4em;background-color: white;}#sk-container-id-3 div.sk-label label {font-family: monospace;font-weight: bold;display: inline-block;line-height: 1.2em;}#sk-container-id-3 div.sk-label-container {text-align: center;}#sk-container-id-3 div.sk-container {/* jupyter's `normalize.less` sets `[hidden] { display: none; }` but bootstrap.min.css set `[hidden] { display: none !important; }` so we also need the `!important` here to be able to override the default hidden behavior on the sphinx rendered scikit-learn.org. See: https://github.com/scikit-learn/scikit-learn/issues/21755 */display: inline-block !important;position: relative;}#sk-container-id-3 div.sk-text-repr-fallback {display: none;}</style><div id=\"sk-container-id-3\" class=\"sk-top-container\"><div class=\"sk-text-repr-fallback\"><pre>GradientBoostingClassifier(learning_rate=1.0, max_depth=5, random_state=0)</pre><b>In a Jupyter environment, please rerun this cell to show the HTML representation or trust the notebook. <br />On GitHub, the HTML representation is unable to render, please try loading this page with nbviewer.org.</b></div><div class=\"sk-container\" hidden><div class=\"sk-item\"><div class=\"sk-estimator sk-toggleable\"><input class=\"sk-toggleable__control sk-hidden--visually\" id=\"sk-estimator-id-3\" type=\"checkbox\" checked><label for=\"sk-estimator-id-3\" class=\"sk-toggleable__label sk-toggleable__label-arrow\">GradientBoostingClassifier</label><div class=\"sk-toggleable__content\"><pre>GradientBoostingClassifier(learning_rate=1.0, max_depth=5, random_state=0)</pre></div></div></div></div></div>"
      ],
      "text/plain": [
       "GradientBoostingClassifier(learning_rate=1.0, max_depth=5, random_state=0)"
      ]
     },
     "execution_count": 82,
     "metadata": {},
     "output_type": "execute_result"
    }
   ],
   "source": [
    "gb_clf.fit(trainX, trainy)"
   ]
  },
  {
   "cell_type": "code",
   "execution_count": 83,
   "id": "c6d3d1ac",
   "metadata": {},
   "outputs": [
    {
     "name": "stdout",
     "output_type": "stream",
     "text": [
      "Train Score:  1.0\n"
     ]
    }
   ],
   "source": [
    "gb_score = gb_clf.score(trainX, trainy)\n",
    "print(\"Train Score: \", gb_score)"
   ]
  },
  {
   "cell_type": "code",
   "execution_count": 84,
   "id": "a1da615c",
   "metadata": {},
   "outputs": [
    {
     "name": "stdout",
     "output_type": "stream",
     "text": [
      "CV average score: 0.94\n"
     ]
    }
   ],
   "source": [
    "gb_cv_scores = cross_val_score(gb_clf, trainX, trainy, cv=10)\n",
    "print(\"CV average score: %.2f\" % gb_cv_scores.mean())"
   ]
  },
  {
   "cell_type": "code",
   "execution_count": 85,
   "id": "5950b4b0",
   "metadata": {},
   "outputs": [
    {
     "name": "stdout",
     "output_type": "stream",
     "text": [
      "[[1798  123]\n",
      " [  74 1524]]\n"
     ]
    }
   ],
   "source": [
    "gb_ypred = gb_clf.predict(testX)\n",
    "\n",
    "gbcm = confusion_matrix(testY, gb_ypred)\n",
    "print(gbcm)"
   ]
  },
  {
   "cell_type": "code",
   "execution_count": 86,
   "id": "9169e33a",
   "metadata": {},
   "outputs": [
    {
     "name": "stdout",
     "output_type": "stream",
     "text": [
      "GBBoosting test accuracy_score: 94.40181869849388\n"
     ]
    }
   ],
   "source": [
    "gb_accuracy_score = accuracy_score(testY,gb_clf.predict(testX))*100\n",
    "print(\"GBBoosting test accuracy_score:\", gb_accuracy_score)"
   ]
  },
  {
   "cell_type": "code",
   "execution_count": 87,
   "id": "fe41acbb",
   "metadata": {},
   "outputs": [
    {
     "data": {
      "text/plain": [
       "<sklearn.metrics._plot.roc_curve.RocCurveDisplay at 0x1f78343b550>"
      ]
     },
     "execution_count": 87,
     "metadata": {},
     "output_type": "execute_result"
    },
    {
     "data": {
      "image/png": "[encoded data removed]",
      "text/plain": [
       "<Figure size 432x288 with 1 Axes>"
      ]
     },
     "metadata": {
      "needs_background": "light"
     },
     "output_type": "display_data"
    }
   ],
   "source": [
    "RocCurveDisplay.from_estimator(gb_clf,testX,testY)"
   ]
  },
  {
   "cell_type": "code",
   "execution_count": 88,
   "id": "e4ce8276",
   "metadata": {},
   "outputs": [
    {
     "data": {
      "image/png": "[encoded data removed]",
      "text/plain": [
       "<Figure size 432x288 with 2 Axes>"
      ]
     },
     "metadata": {
      "needs_background": "light"
     },
     "output_type": "display_data"
    }
   ],
   "source": [
    "ConfusionMatrixDisplay.from_estimator(gb_clf, testX, testY)  \n",
    "plt.show() "
   ]
  },
  {
   "cell_type": "code",
   "execution_count": 89,
   "id": "8079e8da",
   "metadata": {},
   "outputs": [
    {
     "name": "stdout",
     "output_type": "stream",
     "text": [
      "confusion matrix\n",
      " [[1798  123]\n",
      " [  74 1524]]\n",
      "\n",
      "classification report\n",
      "               precision    recall  f1-score   support\n",
      "\n",
      "         0.0       0.96      0.94      0.95      1921\n",
      "         1.0       0.93      0.95      0.94      1598\n",
      "\n",
      "    accuracy                           0.94      3519\n",
      "   macro avg       0.94      0.94      0.94      3519\n",
      "weighted avg       0.94      0.94      0.94      3519\n",
      "\n",
      "Accuracy:  94.40181869849388\n"
     ]
    }
   ],
   "source": [
    "print(\"confusion matrix\\n\",confusion_matrix(testY,gb_ypred))\n",
    "print(\"\\nclassification report\\n\",classification_report(testY,gb_ypred))\n",
    "print(\"Accuracy: \",accuracy_score(testY,gb_ypred)*100)"
   ]
  },
  {
   "cell_type": "code",
   "execution_count": null,
   "id": "aae9fe24",
   "metadata": {},
   "outputs": [],
   "source": []
  },
  {
   "cell_type": "code",
   "execution_count": null,
   "id": "f8ada765",
   "metadata": {},
   "outputs": [],
   "source": []
  },
  {
   "cell_type": "markdown",
   "id": "c75f0632",
   "metadata": {},
   "source": [
    "# TRAINING AND TESTING THE NEURAL NETWORK"
   ]
  },
  {
   "cell_type": "markdown",
   "id": "1f439083",
   "metadata": {},
   "source": [
    "## Multi-layer Perceptron classifier (MLP classifier)"
   ]
  },
  {
   "cell_type": "code",
   "execution_count": 90,
   "id": "d3a9e972",
   "metadata": {},
   "outputs": [],
   "source": [
    "\n",
    "#tuple representing number of neurons in intermediate layers\n",
    "nhiddentple=(256,128,64,32)\n",
    "\n",
    "#   XX is the regularization parameter\n",
    "XX = 1.e-4\n",
    "\n",
    "# seed for random number generator\n",
    "iseed = 1234\n",
    "\n",
    "#the number of layers is set with hidden_layer_sizes\n",
    "#create the multilayer perceptron object\n",
    "MLP_clf = MLPClassifier(hidden_layer_sizes=nhiddentple,activation='relu', solver='adam', early_stopping=True,\n",
    "random_state=iseed, batch_size=64, max_iter=2000, validation_fraction=0.1, tol=1.e-6, verbose=True)\n",
    "\n"
   ]
  },
  {
   "cell_type": "code",
   "execution_count": 91,
   "id": "c68e05ac",
   "metadata": {},
   "outputs": [
    {
     "name": "stdout",
     "output_type": "stream",
     "text": [
      "Iteration 1, loss = 0.43965792\n",
      "Validation score: 0.894611\n",
      "Iteration 2, loss = 0.23696982\n",
      "Validation score: 0.892216\n",
      "Iteration 3, loss = 0.18273758\n",
      "Validation score: 0.893413\n",
      "Iteration 4, loss = 0.16378974\n",
      "Validation score: 0.904192\n",
      "Iteration 5, loss = 0.14781180\n",
      "Validation score: 0.918563\n",
      "Iteration 6, loss = 0.13990238\n",
      "Validation score: 0.917365\n",
      "Iteration 7, loss = 0.13229145\n",
      "Validation score: 0.900599\n",
      "Iteration 8, loss = 0.14362790\n",
      "Validation score: 0.907784\n",
      "Iteration 9, loss = 0.13691687\n",
      "Validation score: 0.919760\n",
      "Iteration 10, loss = 0.12748601\n",
      "Validation score: 0.917365\n",
      "Iteration 11, loss = 0.11297789\n",
      "Validation score: 0.916168\n",
      "Iteration 12, loss = 0.11615020\n",
      "Validation score: 0.924551\n",
      "Iteration 13, loss = 0.10672305\n",
      "Validation score: 0.922156\n",
      "Iteration 14, loss = 0.11151035\n",
      "Validation score: 0.928144\n",
      "Iteration 15, loss = 0.10219538\n",
      "Validation score: 0.919760\n",
      "Iteration 16, loss = 0.10756302\n",
      "Validation score: 0.922156\n",
      "Iteration 17, loss = 0.09888936\n",
      "Validation score: 0.926946\n",
      "Iteration 18, loss = 0.09053134\n",
      "Validation score: 0.930539\n",
      "Iteration 19, loss = 0.09586250\n",
      "Validation score: 0.918563\n",
      "Iteration 20, loss = 0.10101003\n",
      "Validation score: 0.925749\n",
      "Iteration 21, loss = 0.09908098\n",
      "Validation score: 0.918563\n",
      "Iteration 22, loss = 0.10098978\n",
      "Validation score: 0.924551\n",
      "Iteration 23, loss = 0.09566128\n",
      "Validation score: 0.923353\n",
      "Iteration 24, loss = 0.08384237\n",
      "Validation score: 0.924551\n",
      "Iteration 25, loss = 0.08117590\n",
      "Validation score: 0.926946\n",
      "Iteration 26, loss = 0.08500033\n",
      "Validation score: 0.926946\n",
      "Iteration 27, loss = 0.08177044\n",
      "Validation score: 0.926946\n",
      "Iteration 28, loss = 0.08326134\n",
      "Validation score: 0.930539\n",
      "Iteration 29, loss = 0.08126139\n",
      "Validation score: 0.932934\n",
      "Iteration 30, loss = 0.07820232\n",
      "Validation score: 0.925749\n",
      "Iteration 31, loss = 0.08003500\n",
      "Validation score: 0.926946\n",
      "Iteration 32, loss = 0.07574010\n",
      "Validation score: 0.926946\n",
      "Iteration 33, loss = 0.07699964\n",
      "Validation score: 0.932934\n",
      "Iteration 34, loss = 0.07785569\n",
      "Validation score: 0.928144\n",
      "Iteration 35, loss = 0.07774414\n",
      "Validation score: 0.929341\n",
      "Iteration 36, loss = 0.08272170\n",
      "Validation score: 0.935329\n",
      "Iteration 37, loss = 0.07650797\n",
      "Validation score: 0.930539\n",
      "Iteration 38, loss = 0.11727294\n",
      "Validation score: 0.889820\n",
      "Iteration 39, loss = 0.11949634\n",
      "Validation score: 0.931737\n",
      "Iteration 40, loss = 0.09693124\n",
      "Validation score: 0.919760\n",
      "Iteration 41, loss = 0.10242287\n",
      "Validation score: 0.931737\n",
      "Iteration 42, loss = 0.08197674\n",
      "Validation score: 0.923353\n",
      "Iteration 43, loss = 0.08149308\n",
      "Validation score: 0.934132\n",
      "Iteration 44, loss = 0.07793481\n",
      "Validation score: 0.924551\n",
      "Iteration 45, loss = 0.07756969\n",
      "Validation score: 0.931737\n",
      "Iteration 46, loss = 0.08639775\n",
      "Validation score: 0.922156\n",
      "Iteration 47, loss = 0.07691686\n",
      "Validation score: 0.932934\n",
      "Validation score did not improve more than tol=0.000001 for 10 consecutive epochs. Stopping.\n"
     ]
    },
    {
     "data": {
      "text/html": [
       "<style>#sk-container-id-4 {color: black;}#sk-container-id-4 pre{padding: 0;}#sk-container-id-4 div.sk-toggleable {background-color: white;}#sk-container-id-4 label.sk-toggleable__label {cursor: pointer;display: block;width: 100%;margin-bottom: 0;padding: 0.3em;box-sizing: border-box;text-align: center;}#sk-container-id-4 label.sk-toggleable__label-arrow:before {content: \"▸\";float: left;margin-right: 0.25em;color: #696969;}#sk-container-id-4 label.sk-toggleable__label-arrow:hover:before {color: black;}#sk-container-id-4 div.sk-estimator:hover label.sk-toggleable__label-arrow:before {color: black;}#sk-container-id-4 div.sk-toggleable__content {max-height: 0;max-width: 0;overflow: hidden;text-align: left;background-color: #f0f8ff;}#sk-container-id-4 div.sk-toggleable__content pre {margin: 0.2em;color: black;border-radius: 0.25em;background-color: #f0f8ff;}#sk-container-id-4 input.sk-toggleable__control:checked~div.sk-toggleable__content {max-height: 200px;max-width: 100%;overflow: auto;}#sk-container-id-4 input.sk-toggleable__control:checked~label.sk-toggleable__label-arrow:before {content: \"▾\";}#sk-container-id-4 div.sk-estimator input.sk-toggleable__control:checked~label.sk-toggleable__label {background-color: #d4ebff;}#sk-container-id-4 div.sk-label input.sk-toggleable__control:checked~label.sk-toggleable__label {background-color: #d4ebff;}#sk-container-id-4 input.sk-hidden--visually {border: 0;clip: rect(1px 1px 1px 1px);clip: rect(1px, 1px, 1px, 1px);height: 1px;margin: -1px;overflow: hidden;padding: 0;position: absolute;width: 1px;}#sk-container-id-4 div.sk-estimator {font-family: monospace;background-color: #f0f8ff;border: 1px dotted black;border-radius: 0.25em;box-sizing: border-box;margin-bottom: 0.5em;}#sk-container-id-4 div.sk-estimator:hover {background-color: #d4ebff;}#sk-container-id-4 div.sk-parallel-item::after {content: \"\";width: 100%;border-bottom: 1px solid gray;flex-grow: 1;}#sk-container-id-4 div.sk-label:hover label.sk-toggleable__label {background-color: #d4ebff;}#sk-container-id-4 div.sk-serial::before {content: \"\";position: absolute;border-left: 1px solid gray;box-sizing: border-box;top: 0;bottom: 0;left: 50%;z-index: 0;}#sk-container-id-4 div.sk-serial {display: flex;flex-direction: column;align-items: center;background-color: white;padding-right: 0.2em;padding-left: 0.2em;position: relative;}#sk-container-id-4 div.sk-item {position: relative;z-index: 1;}#sk-container-id-4 div.sk-parallel {display: flex;align-items: stretch;justify-content: center;background-color: white;position: relative;}#sk-container-id-4 div.sk-item::before, #sk-container-id-4 div.sk-parallel-item::before {content: \"\";position: absolute;border-left: 1px solid gray;box-sizing: border-box;top: 0;bottom: 0;left: 50%;z-index: -1;}#sk-container-id-4 div.sk-parallel-item {display: flex;flex-direction: column;z-index: 1;position: relative;background-color: white;}#sk-container-id-4 div.sk-parallel-item:first-child::after {align-self: flex-end;width: 50%;}#sk-container-id-4 div.sk-parallel-item:last-child::after {align-self: flex-start;width: 50%;}#sk-container-id-4 div.sk-parallel-item:only-child::after {width: 0;}#sk-container-id-4 div.sk-dashed-wrapped {border: 1px dashed gray;margin: 0 0.4em 0.5em 0.4em;box-sizing: border-box;padding-bottom: 0.4em;background-color: white;}#sk-container-id-4 div.sk-label label {font-family: monospace;font-weight: bold;display: inline-block;line-height: 1.2em;}#sk-container-id-4 div.sk-label-container {text-align: center;}#sk-container-id-4 div.sk-container {/* jupyter's `normalize.less` sets `[hidden] { display: none; }` but bootstrap.min.css set `[hidden] { display: none !important; }` so we also need the `!important` here to be able to override the default hidden behavior on the sphinx rendered scikit-learn.org. See: https://github.com/scikit-learn/scikit-learn/issues/21755 */display: inline-block !important;position: relative;}#sk-container-id-4 div.sk-text-repr-fallback {display: none;}</style><div id=\"sk-container-id-4\" class=\"sk-top-container\"><div class=\"sk-text-repr-fallback\"><pre>MLPClassifier(batch_size=64, early_stopping=True,\n",
       "              hidden_layer_sizes=(256, 128, 64, 32), max_iter=2000,\n",
       "              random_state=1234, tol=1e-06, verbose=True)</pre><b>In a Jupyter environment, please rerun this cell to show the HTML representation or trust the notebook. <br />On GitHub, the HTML representation is unable to render, please try loading this page with nbviewer.org.</b></div><div class=\"sk-container\" hidden><div class=\"sk-item\"><div class=\"sk-estimator sk-toggleable\"><input class=\"sk-toggleable__control sk-hidden--visually\" id=\"sk-estimator-id-4\" type=\"checkbox\" checked><label for=\"sk-estimator-id-4\" class=\"sk-toggleable__label sk-toggleable__label-arrow\">MLPClassifier</label><div class=\"sk-toggleable__content\"><pre>MLPClassifier(batch_size=64, early_stopping=True,\n",
       "              hidden_layer_sizes=(256, 128, 64, 32), max_iter=2000,\n",
       "              random_state=1234, tol=1e-06, verbose=True)</pre></div></div></div></div></div>"
      ],
      "text/plain": [
       "MLPClassifier(batch_size=64, early_stopping=True,\n",
       "              hidden_layer_sizes=(256, 128, 64, 32), max_iter=2000,\n",
       "              random_state=1234, tol=1e-06, verbose=True)"
      ]
     },
     "execution_count": 91,
     "metadata": {},
     "output_type": "execute_result"
    }
   ],
   "source": [
    "# train the model\n",
    "MLP_clf.fit(trainX, trainy) "
   ]
  },
  {
   "cell_type": "code",
   "execution_count": 92,
   "id": "25b3c1c3",
   "metadata": {},
   "outputs": [],
   "source": [
    "ypred = MLP_clf.predict(trainX)\n"
   ]
  },
  {
   "cell_type": "code",
   "execution_count": 93,
   "id": "ad35d8e8",
   "metadata": {},
   "outputs": [
    {
     "data": {
      "text/plain": [
       "0.9621193958283385"
      ]
     },
     "execution_count": 93,
     "metadata": {},
     "output_type": "execute_result"
    }
   ],
   "source": [
    "accuracy_score(trainy, MLP_clf.predict(trainX))"
   ]
  },
  {
   "cell_type": "code",
   "execution_count": 94,
   "id": "657bc6ad",
   "metadata": {},
   "outputs": [
    {
     "name": "stdout",
     "output_type": "stream",
     "text": [
      "Iteration 1, loss = 0.39592746\n",
      "Validation score: 0.910786\n",
      "Iteration 2, loss = 0.17675758\n",
      "Validation score: 0.937417\n",
      "Iteration 3, loss = 0.13598778\n",
      "Validation score: 0.930759\n",
      "Iteration 4, loss = 0.11862481\n",
      "Validation score: 0.932091\n",
      "Iteration 5, loss = 0.11428744\n",
      "Validation score: 0.934754\n",
      "Iteration 6, loss = 0.09749911\n",
      "Validation score: 0.937417\n",
      "Iteration 7, loss = 0.09454953\n",
      "Validation score: 0.924101\n",
      "Iteration 8, loss = 0.08473944\n",
      "Validation score: 0.940080\n",
      "Iteration 9, loss = 0.08138890\n",
      "Validation score: 0.938748\n",
      "Iteration 10, loss = 0.08231483\n",
      "Validation score: 0.950732\n",
      "Iteration 11, loss = 0.07962083\n",
      "Validation score: 0.952064\n",
      "Iteration 12, loss = 0.07015718\n",
      "Validation score: 0.945406\n",
      "Iteration 13, loss = 0.07081466\n",
      "Validation score: 0.953395\n",
      "Iteration 14, loss = 0.06887859\n",
      "Validation score: 0.962716\n",
      "Iteration 15, loss = 0.07314365\n",
      "Validation score: 0.953395\n",
      "Iteration 16, loss = 0.06463627\n",
      "Validation score: 0.941411\n",
      "Iteration 17, loss = 0.07152861\n",
      "Validation score: 0.946738\n",
      "Iteration 18, loss = 0.08064947\n",
      "Validation score: 0.945406\n",
      "Iteration 19, loss = 0.07579231\n",
      "Validation score: 0.945406\n",
      "Iteration 20, loss = 0.06654975\n",
      "Validation score: 0.952064\n",
      "Iteration 21, loss = 0.06827528\n",
      "Validation score: 0.954727\n",
      "Iteration 22, loss = 0.06212669\n",
      "Validation score: 0.952064\n",
      "Iteration 23, loss = 0.05811291\n",
      "Validation score: 0.964048\n",
      "Iteration 24, loss = 0.05653491\n",
      "Validation score: 0.957390\n",
      "Iteration 25, loss = 0.05496293\n",
      "Validation score: 0.961385\n",
      "Iteration 26, loss = 0.04734456\n",
      "Validation score: 0.948069\n",
      "Iteration 27, loss = 0.05401558\n",
      "Validation score: 0.950732\n",
      "Iteration 28, loss = 0.05100685\n",
      "Validation score: 0.962716\n",
      "Iteration 29, loss = 0.05303981\n",
      "Validation score: 0.958722\n",
      "Iteration 30, loss = 0.05286894\n",
      "Validation score: 0.952064\n",
      "Iteration 31, loss = 0.04406884\n",
      "Validation score: 0.969374\n",
      "Iteration 32, loss = 0.04403094\n",
      "Validation score: 0.956059\n",
      "Iteration 33, loss = 0.04348061\n",
      "Validation score: 0.964048\n",
      "Iteration 34, loss = 0.04561288\n",
      "Validation score: 0.948069\n",
      "Iteration 35, loss = 0.07336563\n",
      "Validation score: 0.948069\n",
      "Iteration 36, loss = 0.04435495\n",
      "Validation score: 0.968043\n",
      "Iteration 37, loss = 0.05949801\n",
      "Validation score: 0.966711\n",
      "Iteration 38, loss = 0.05119534\n",
      "Validation score: 0.962716\n",
      "Iteration 39, loss = 0.04909138\n",
      "Validation score: 0.961385\n",
      "Iteration 40, loss = 0.04917693\n",
      "Validation score: 0.946738\n",
      "Iteration 41, loss = 0.04365190\n",
      "Validation score: 0.960053\n",
      "Iteration 42, loss = 0.04640449\n",
      "Validation score: 0.973369\n",
      "Iteration 43, loss = 0.04179087\n",
      "Validation score: 0.968043\n",
      "Iteration 44, loss = 0.04033490\n",
      "Validation score: 0.970706\n",
      "Iteration 45, loss = 0.03945963\n",
      "Validation score: 0.964048\n",
      "Iteration 46, loss = 0.04953638\n",
      "Validation score: 0.964048\n",
      "Iteration 47, loss = 0.04834968\n",
      "Validation score: 0.956059\n",
      "Iteration 48, loss = 0.04417969\n",
      "Validation score: 0.958722\n",
      "Iteration 49, loss = 0.04045653\n",
      "Validation score: 0.958722\n",
      "Iteration 50, loss = 0.03781029\n",
      "Validation score: 0.970706\n",
      "Iteration 51, loss = 0.03818941\n",
      "Validation score: 0.961385\n",
      "Iteration 52, loss = 0.04419292\n",
      "Validation score: 0.957390\n",
      "Iteration 53, loss = 0.03915511\n",
      "Validation score: 0.958722\n",
      "Validation score did not improve more than tol=0.000001 for 10 consecutive epochs. Stopping.\n",
      "Iteration 1, loss = 0.38314191\n",
      "Validation score: 0.921438\n",
      "Iteration 2, loss = 0.21269971\n",
      "Validation score: 0.925433\n",
      "Iteration 3, loss = 0.14452710\n",
      "Validation score: 0.922770\n",
      "Iteration 4, loss = 0.13183236\n",
      "Validation score: 0.945406\n",
      "Iteration 5, loss = 0.11304108\n",
      "Validation score: 0.928096\n",
      "Iteration 6, loss = 0.10978914\n",
      "Validation score: 0.928096\n",
      "Iteration 7, loss = 0.10233061\n",
      "Validation score: 0.929427\n",
      "Iteration 8, loss = 0.10198982\n",
      "Validation score: 0.946738\n",
      "Iteration 9, loss = 0.08461509\n",
      "Validation score: 0.936085\n",
      "Iteration 10, loss = 0.09089490\n",
      "Validation score: 0.948069\n",
      "Iteration 11, loss = 0.08500857\n",
      "Validation score: 0.948069\n",
      "Iteration 12, loss = 0.07995318\n",
      "Validation score: 0.933422\n",
      "Iteration 13, loss = 0.07167690\n",
      "Validation score: 0.954727\n",
      "Iteration 14, loss = 0.07234384\n",
      "Validation score: 0.946738\n",
      "Iteration 15, loss = 0.07873712\n",
      "Validation score: 0.946738\n",
      "Iteration 16, loss = 0.06927950\n",
      "Validation score: 0.952064\n",
      "Iteration 17, loss = 0.07075669\n",
      "Validation score: 0.952064\n",
      "Iteration 18, loss = 0.07700203\n",
      "Validation score: 0.944075\n",
      "Iteration 19, loss = 0.06555608\n",
      "Validation score: 0.946738\n",
      "Iteration 20, loss = 0.06420411\n",
      "Validation score: 0.946738\n",
      "Iteration 21, loss = 0.06893577\n",
      "Validation score: 0.953395\n",
      "Iteration 22, loss = 0.06149239\n",
      "Validation score: 0.956059\n",
      "Iteration 23, loss = 0.05733570\n",
      "Validation score: 0.945406\n",
      "Iteration 24, loss = 0.06990846\n",
      "Validation score: 0.964048\n",
      "Iteration 25, loss = 0.05854780\n",
      "Validation score: 0.961385\n",
      "Iteration 26, loss = 0.07506405\n",
      "Validation score: 0.950732\n",
      "Iteration 27, loss = 0.06217799\n",
      "Validation score: 0.944075\n",
      "Iteration 28, loss = 0.06207012\n",
      "Validation score: 0.965379\n",
      "Iteration 29, loss = 0.05219602\n",
      "Validation score: 0.958722\n",
      "Iteration 30, loss = 0.05328689\n",
      "Validation score: 0.944075\n",
      "Iteration 31, loss = 0.05657495\n",
      "Validation score: 0.960053\n",
      "Iteration 32, loss = 0.04909322\n",
      "Validation score: 0.958722\n",
      "Iteration 33, loss = 0.04710280\n",
      "Validation score: 0.953395\n",
      "Iteration 34, loss = 0.05228443\n",
      "Validation score: 0.949401\n",
      "Iteration 35, loss = 0.05200399\n",
      "Validation score: 0.956059\n",
      "Iteration 36, loss = 0.05549415\n",
      "Validation score: 0.954727\n",
      "Iteration 37, loss = 0.06795597\n",
      "Validation score: 0.956059\n",
      "Iteration 38, loss = 0.04998852\n",
      "Validation score: 0.960053\n",
      "Iteration 39, loss = 0.04860267\n",
      "Validation score: 0.956059\n",
      "Validation score did not improve more than tol=0.000001 for 10 consecutive epochs. Stopping.\n",
      "Iteration 1, loss = 0.44314768\n",
      "Validation score: 0.873502\n",
      "Iteration 2, loss = 0.22541886\n",
      "Validation score: 0.885486\n",
      "Iteration 3, loss = 0.18453326\n",
      "Validation score: 0.893475\n",
      "Iteration 4, loss = 0.18036602\n",
      "Validation score: 0.902796\n",
      "Iteration 5, loss = 0.16557889\n",
      "Validation score: 0.894807\n",
      "Iteration 6, loss = 0.15500832\n",
      "Validation score: 0.894807\n",
      "Iteration 7, loss = 0.14883544\n",
      "Validation score: 0.898802\n",
      "Iteration 8, loss = 0.13640059\n",
      "Validation score: 0.904128\n",
      "Iteration 9, loss = 0.13532783\n",
      "Validation score: 0.905459\n",
      "Iteration 10, loss = 0.12911333\n",
      "Validation score: 0.904128\n",
      "Iteration 11, loss = 0.12106253\n",
      "Validation score: 0.905459\n",
      "Iteration 12, loss = 0.11913288\n",
      "Validation score: 0.916112\n",
      "Iteration 13, loss = 0.11769026\n",
      "Validation score: 0.926764\n",
      "Iteration 14, loss = 0.11964941\n",
      "Validation score: 0.912117\n",
      "Iteration 15, loss = 0.11734255\n",
      "Validation score: 0.910786\n",
      "Iteration 16, loss = 0.12573461\n",
      "Validation score: 0.914780\n",
      "Iteration 17, loss = 0.11508437\n",
      "Validation score: 0.920107\n",
      "Iteration 18, loss = 0.10622129\n",
      "Validation score: 0.916112\n",
      "Iteration 19, loss = 0.10010331\n",
      "Validation score: 0.926764\n",
      "Iteration 20, loss = 0.11137984\n",
      "Validation score: 0.918775\n",
      "Iteration 21, loss = 0.10648579\n",
      "Validation score: 0.925433\n",
      "Iteration 22, loss = 0.10703264\n",
      "Validation score: 0.920107\n",
      "Iteration 23, loss = 0.10104738\n",
      "Validation score: 0.917443\n",
      "Iteration 24, loss = 0.09547369\n",
      "Validation score: 0.916112\n",
      "Validation score did not improve more than tol=0.000001 for 10 consecutive epochs. Stopping.\n",
      "Iteration 1, loss = 0.44156318\n",
      "Validation score: 0.841545\n",
      "Iteration 2, loss = 0.23125215\n",
      "Validation score: 0.870839\n",
      "Iteration 3, loss = 0.19738515\n",
      "Validation score: 0.880160\n",
      "Iteration 4, loss = 0.18212998\n",
      "Validation score: 0.894807\n",
      "Iteration 5, loss = 0.15341622\n",
      "Validation score: 0.884154\n",
      "Iteration 6, loss = 0.14858508\n",
      "Validation score: 0.882823\n",
      "Iteration 7, loss = 0.15090888\n",
      "Validation score: 0.910786\n",
      "Iteration 8, loss = 0.14112089\n",
      "Validation score: 0.908123\n",
      "Iteration 9, loss = 0.13048865\n",
      "Validation score: 0.888149\n",
      "Iteration 10, loss = 0.13564449\n",
      "Validation score: 0.905459\n",
      "Iteration 11, loss = 0.12135904\n",
      "Validation score: 0.900133\n",
      "Iteration 12, loss = 0.12073371\n",
      "Validation score: 0.898802\n",
      "Iteration 13, loss = 0.12202798\n",
      "Validation score: 0.910786\n",
      "Iteration 14, loss = 0.12160280\n",
      "Validation score: 0.897470\n",
      "Iteration 15, loss = 0.11566922\n",
      "Validation score: 0.901465\n",
      "Iteration 16, loss = 0.11670078\n",
      "Validation score: 0.912117\n",
      "Iteration 17, loss = 0.11136304\n",
      "Validation score: 0.925433\n",
      "Iteration 18, loss = 0.10700280\n",
      "Validation score: 0.920107\n",
      "Iteration 19, loss = 0.10410479\n",
      "Validation score: 0.924101\n"
     ]
    },
    {
     "name": "stdout",
     "output_type": "stream",
     "text": [
      "Iteration 20, loss = 0.10156689\n",
      "Validation score: 0.909454\n",
      "Iteration 21, loss = 0.09563941\n",
      "Validation score: 0.910786\n",
      "Iteration 22, loss = 0.09421450\n",
      "Validation score: 0.925433\n",
      "Iteration 23, loss = 0.10087945\n",
      "Validation score: 0.901465\n",
      "Iteration 24, loss = 0.09342269\n",
      "Validation score: 0.916112\n",
      "Iteration 25, loss = 0.10014901\n",
      "Validation score: 0.909454\n",
      "Iteration 26, loss = 0.10692356\n",
      "Validation score: 0.913449\n",
      "Iteration 27, loss = 0.09532571\n",
      "Validation score: 0.908123\n",
      "Iteration 28, loss = 0.09703528\n",
      "Validation score: 0.913449\n",
      "Validation score did not improve more than tol=0.000001 for 10 consecutive epochs. Stopping.\n",
      "Iteration 1, loss = 0.42961796\n",
      "Validation score: 0.877497\n",
      "Iteration 2, loss = 0.22456874\n",
      "Validation score: 0.882823\n",
      "Iteration 3, loss = 0.21734323\n",
      "Validation score: 0.885486\n",
      "Iteration 4, loss = 0.17969139\n",
      "Validation score: 0.878828\n",
      "Iteration 5, loss = 0.15049441\n",
      "Validation score: 0.881491\n",
      "Iteration 6, loss = 0.14046762\n",
      "Validation score: 0.886818\n",
      "Iteration 7, loss = 0.15480763\n",
      "Validation score: 0.893475\n",
      "Iteration 8, loss = 0.14273955\n",
      "Validation score: 0.900133\n",
      "Iteration 9, loss = 0.13663699\n",
      "Validation score: 0.886818\n",
      "Iteration 10, loss = 0.12168385\n",
      "Validation score: 0.904128\n",
      "Iteration 11, loss = 0.11344564\n",
      "Validation score: 0.897470\n",
      "Iteration 12, loss = 0.12259349\n",
      "Validation score: 0.902796\n",
      "Iteration 13, loss = 0.12217574\n",
      "Validation score: 0.904128\n",
      "Iteration 14, loss = 0.12441001\n",
      "Validation score: 0.892144\n",
      "Iteration 15, loss = 0.11452458\n",
      "Validation score: 0.908123\n",
      "Iteration 16, loss = 0.11198396\n",
      "Validation score: 0.906791\n",
      "Iteration 17, loss = 0.10493681\n",
      "Validation score: 0.912117\n",
      "Iteration 18, loss = 0.10791928\n",
      "Validation score: 0.912117\n",
      "Iteration 19, loss = 0.10184853\n",
      "Validation score: 0.912117\n",
      "Iteration 20, loss = 0.09849571\n",
      "Validation score: 0.904128\n",
      "Iteration 21, loss = 0.09721150\n",
      "Validation score: 0.908123\n",
      "Iteration 22, loss = 0.09549112\n",
      "Validation score: 0.902796\n",
      "Iteration 23, loss = 0.09909506\n",
      "Validation score: 0.900133\n",
      "Iteration 24, loss = 0.09296681\n",
      "Validation score: 0.917443\n",
      "Iteration 25, loss = 0.11161152\n",
      "Validation score: 0.904128\n",
      "Iteration 26, loss = 0.09701194\n",
      "Validation score: 0.917443\n",
      "Iteration 27, loss = 0.10611802\n",
      "Validation score: 0.908123\n",
      "Iteration 28, loss = 0.09085518\n",
      "Validation score: 0.908123\n",
      "Iteration 29, loss = 0.09024671\n",
      "Validation score: 0.908123\n",
      "Iteration 30, loss = 0.09021351\n",
      "Validation score: 0.906791\n",
      "Iteration 31, loss = 0.08410121\n",
      "Validation score: 0.918775\n",
      "Iteration 32, loss = 0.09116296\n",
      "Validation score: 0.917443\n",
      "Iteration 33, loss = 0.09294707\n",
      "Validation score: 0.914780\n",
      "Iteration 34, loss = 0.10371609\n",
      "Validation score: 0.913449\n",
      "Iteration 35, loss = 0.08807038\n",
      "Validation score: 0.913449\n",
      "Iteration 36, loss = 0.09518179\n",
      "Validation score: 0.912117\n",
      "Iteration 37, loss = 0.09734255\n",
      "Validation score: 0.916112\n",
      "Iteration 38, loss = 0.08644986\n",
      "Validation score: 0.914780\n",
      "Iteration 39, loss = 0.08347580\n",
      "Validation score: 0.909454\n",
      "Iteration 40, loss = 0.08256768\n",
      "Validation score: 0.918775\n",
      "Iteration 41, loss = 0.09849603\n",
      "Validation score: 0.912117\n",
      "Iteration 42, loss = 0.08257371\n",
      "Validation score: 0.916112\n",
      "Validation score did not improve more than tol=0.000001 for 10 consecutive epochs. Stopping.\n",
      "Iteration 1, loss = 0.42968917\n",
      "Validation score: 0.866844\n",
      "Iteration 2, loss = 0.24268092\n",
      "Validation score: 0.876165\n",
      "Iteration 3, loss = 0.20916406\n",
      "Validation score: 0.870839\n",
      "Iteration 4, loss = 0.17208655\n",
      "Validation score: 0.865513\n",
      "Iteration 5, loss = 0.15422642\n",
      "Validation score: 0.865513\n",
      "Iteration 6, loss = 0.15029183\n",
      "Validation score: 0.889481\n",
      "Iteration 7, loss = 0.14848577\n",
      "Validation score: 0.881491\n",
      "Iteration 8, loss = 0.13924647\n",
      "Validation score: 0.892144\n",
      "Iteration 9, loss = 0.13673931\n",
      "Validation score: 0.897470\n",
      "Iteration 10, loss = 0.12686128\n",
      "Validation score: 0.897470\n",
      "Iteration 11, loss = 0.12335545\n",
      "Validation score: 0.901465\n",
      "Iteration 12, loss = 0.13156985\n",
      "Validation score: 0.897470\n",
      "Iteration 13, loss = 0.12587688\n",
      "Validation score: 0.893475\n",
      "Iteration 14, loss = 0.13270763\n",
      "Validation score: 0.897470\n",
      "Iteration 15, loss = 0.11925180\n",
      "Validation score: 0.910786\n",
      "Iteration 16, loss = 0.11507383\n",
      "Validation score: 0.900133\n",
      "Iteration 17, loss = 0.10980430\n",
      "Validation score: 0.906791\n",
      "Iteration 18, loss = 0.10836751\n",
      "Validation score: 0.916112\n",
      "Iteration 19, loss = 0.10488249\n",
      "Validation score: 0.908123\n",
      "Iteration 20, loss = 0.10249618\n",
      "Validation score: 0.906791\n",
      "Iteration 21, loss = 0.11634608\n",
      "Validation score: 0.898802\n",
      "Iteration 22, loss = 0.15193695\n",
      "Validation score: 0.908123\n",
      "Iteration 23, loss = 0.11287221\n",
      "Validation score: 0.910786\n",
      "Iteration 24, loss = 0.10322264\n",
      "Validation score: 0.909454\n",
      "Iteration 25, loss = 0.10060556\n",
      "Validation score: 0.910786\n",
      "Iteration 26, loss = 0.09955731\n",
      "Validation score: 0.918775\n",
      "Iteration 27, loss = 0.09613909\n",
      "Validation score: 0.902796\n",
      "Iteration 28, loss = 0.09069210\n",
      "Validation score: 0.912117\n",
      "Iteration 29, loss = 0.09842727\n",
      "Validation score: 0.902796\n",
      "Iteration 30, loss = 0.10316592\n",
      "Validation score: 0.913449\n",
      "Iteration 31, loss = 0.09872120\n",
      "Validation score: 0.917443\n",
      "Iteration 32, loss = 0.09386179\n",
      "Validation score: 0.909454\n",
      "Iteration 33, loss = 0.09185446\n",
      "Validation score: 0.914780\n",
      "Iteration 34, loss = 0.10721687\n",
      "Validation score: 0.908123\n",
      "Iteration 35, loss = 0.09204622\n",
      "Validation score: 0.916112\n",
      "Iteration 36, loss = 0.09042447\n",
      "Validation score: 0.904128\n",
      "Iteration 37, loss = 0.08637692\n",
      "Validation score: 0.914780\n",
      "Validation score did not improve more than tol=0.000001 for 10 consecutive epochs. Stopping.\n",
      "Iteration 1, loss = 0.48099666\n",
      "Validation score: 0.861518\n",
      "Iteration 2, loss = 0.24069833\n",
      "Validation score: 0.869507\n",
      "Iteration 3, loss = 0.21870884\n",
      "Validation score: 0.877497\n",
      "Iteration 4, loss = 0.18079213\n",
      "Validation score: 0.868176\n",
      "Iteration 5, loss = 0.15326096\n",
      "Validation score: 0.886818\n",
      "Iteration 6, loss = 0.15039061\n",
      "Validation score: 0.890812\n",
      "Iteration 7, loss = 0.14677151\n",
      "Validation score: 0.892144\n",
      "Iteration 8, loss = 0.13746222\n",
      "Validation score: 0.898802\n",
      "Iteration 9, loss = 0.13219398\n",
      "Validation score: 0.898802\n",
      "Iteration 10, loss = 0.11901858\n",
      "Validation score: 0.912117\n",
      "Iteration 11, loss = 0.12593466\n",
      "Validation score: 0.900133\n",
      "Iteration 12, loss = 0.13046158\n",
      "Validation score: 0.901465\n",
      "Iteration 13, loss = 0.11882947\n",
      "Validation score: 0.894807\n",
      "Iteration 14, loss = 0.11782087\n",
      "Validation score: 0.897470\n",
      "Iteration 15, loss = 0.10630665\n",
      "Validation score: 0.900133\n",
      "Iteration 16, loss = 0.11438576\n",
      "Validation score: 0.898802\n",
      "Iteration 17, loss = 0.11056225\n",
      "Validation score: 0.902796\n",
      "Iteration 18, loss = 0.10837497\n",
      "Validation score: 0.913449\n",
      "Iteration 19, loss = 0.10857488\n",
      "Validation score: 0.904128\n",
      "Iteration 20, loss = 0.10540257\n",
      "Validation score: 0.906791\n",
      "Iteration 21, loss = 0.10372750\n",
      "Validation score: 0.905459\n",
      "Iteration 22, loss = 0.11453323\n",
      "Validation score: 0.904128\n",
      "Iteration 23, loss = 0.10634064\n",
      "Validation score: 0.894807\n",
      "Iteration 24, loss = 0.09957830\n",
      "Validation score: 0.897470\n",
      "Iteration 25, loss = 0.09840703\n",
      "Validation score: 0.912117\n",
      "Iteration 26, loss = 0.09633080\n",
      "Validation score: 0.897470\n",
      "Iteration 27, loss = 0.09413766\n",
      "Validation score: 0.912117\n",
      "Iteration 28, loss = 0.08754453\n",
      "Validation score: 0.918775\n",
      "Iteration 29, loss = 0.08903805\n",
      "Validation score: 0.909454\n",
      "Iteration 30, loss = 0.08948530\n",
      "Validation score: 0.912117\n",
      "Iteration 31, loss = 0.08687881\n",
      "Validation score: 0.916112\n",
      "Iteration 32, loss = 0.09097988\n",
      "Validation score: 0.916112\n",
      "Iteration 33, loss = 0.09021893\n",
      "Validation score: 0.913449\n",
      "Iteration 34, loss = 0.10711746\n",
      "Validation score: 0.906791\n",
      "Iteration 35, loss = 0.09999973\n",
      "Validation score: 0.910786\n",
      "Iteration 36, loss = 0.10058399\n",
      "Validation score: 0.910786\n",
      "Iteration 37, loss = 0.12851947\n",
      "Validation score: 0.912117\n",
      "Iteration 38, loss = 0.12610987\n",
      "Validation score: 0.918775\n",
      "Iteration 39, loss = 0.11376895\n",
      "Validation score: 0.921438\n",
      "Iteration 40, loss = 0.09950116\n",
      "Validation score: 0.918775\n",
      "Iteration 41, loss = 0.08626379\n",
      "Validation score: 0.909454\n",
      "Iteration 42, loss = 0.09036252\n",
      "Validation score: 0.914780\n",
      "Iteration 43, loss = 0.08013445\n",
      "Validation score: 0.914780\n",
      "Iteration 44, loss = 0.07680788\n",
      "Validation score: 0.929427\n",
      "Iteration 45, loss = 0.08389911\n",
      "Validation score: 0.924101\n",
      "Iteration 46, loss = 0.09079102\n",
      "Validation score: 0.917443\n",
      "Iteration 47, loss = 0.09497621\n",
      "Validation score: 0.916112\n"
     ]
    },
    {
     "name": "stdout",
     "output_type": "stream",
     "text": [
      "Iteration 48, loss = 0.07998033\n",
      "Validation score: 0.910786\n",
      "Iteration 49, loss = 0.07900334\n",
      "Validation score: 0.925433\n",
      "Iteration 50, loss = 0.08104063\n",
      "Validation score: 0.922770\n",
      "Iteration 51, loss = 0.07797746\n",
      "Validation score: 0.920107\n",
      "Iteration 52, loss = 0.08360421\n",
      "Validation score: 0.921438\n",
      "Iteration 53, loss = 0.08036767\n",
      "Validation score: 0.926764\n",
      "Iteration 54, loss = 0.07527796\n",
      "Validation score: 0.929427\n",
      "Iteration 55, loss = 0.07729256\n",
      "Validation score: 0.921438\n",
      "Validation score did not improve more than tol=0.000001 for 10 consecutive epochs. Stopping.\n",
      "Iteration 1, loss = 0.36293035\n",
      "Validation score: 0.872170\n",
      "Iteration 2, loss = 0.19281113\n",
      "Validation score: 0.890812\n",
      "Iteration 3, loss = 0.16416106\n",
      "Validation score: 0.877497\n",
      "Iteration 4, loss = 0.15398930\n",
      "Validation score: 0.882823\n",
      "Iteration 5, loss = 0.13869742\n",
      "Validation score: 0.894807\n",
      "Iteration 6, loss = 0.13201761\n",
      "Validation score: 0.898802\n",
      "Iteration 7, loss = 0.12634895\n",
      "Validation score: 0.902796\n",
      "Iteration 8, loss = 0.12423983\n",
      "Validation score: 0.894807\n",
      "Iteration 9, loss = 0.11964467\n",
      "Validation score: 0.902796\n",
      "Iteration 10, loss = 0.11509731\n",
      "Validation score: 0.908123\n",
      "Iteration 11, loss = 0.11797270\n",
      "Validation score: 0.898802\n",
      "Iteration 12, loss = 0.11451876\n",
      "Validation score: 0.909454\n",
      "Iteration 13, loss = 0.11023460\n",
      "Validation score: 0.904128\n",
      "Iteration 14, loss = 0.10835421\n",
      "Validation score: 0.909454\n",
      "Iteration 15, loss = 0.11152895\n",
      "Validation score: 0.912117\n",
      "Iteration 16, loss = 0.10772812\n",
      "Validation score: 0.905459\n",
      "Iteration 17, loss = 0.11196944\n",
      "Validation score: 0.917443\n",
      "Iteration 18, loss = 0.10225170\n",
      "Validation score: 0.918775\n",
      "Iteration 19, loss = 0.09990770\n",
      "Validation score: 0.906791\n",
      "Iteration 20, loss = 0.10136374\n",
      "Validation score: 0.908123\n",
      "Iteration 21, loss = 0.09833776\n",
      "Validation score: 0.910786\n",
      "Iteration 22, loss = 0.09705939\n",
      "Validation score: 0.909454\n",
      "Iteration 23, loss = 0.09136319\n",
      "Validation score: 0.916112\n",
      "Iteration 24, loss = 0.09493071\n",
      "Validation score: 0.908123\n",
      "Iteration 25, loss = 0.08750264\n",
      "Validation score: 0.917443\n",
      "Iteration 26, loss = 0.08714091\n",
      "Validation score: 0.924101\n",
      "Iteration 27, loss = 0.08923897\n",
      "Validation score: 0.914780\n",
      "Iteration 28, loss = 0.09121084\n",
      "Validation score: 0.921438\n",
      "Iteration 29, loss = 0.08678042\n",
      "Validation score: 0.918775\n",
      "Iteration 30, loss = 0.08618602\n",
      "Validation score: 0.926764\n",
      "Iteration 31, loss = 0.08360302\n",
      "Validation score: 0.926764\n",
      "Iteration 32, loss = 0.08317227\n",
      "Validation score: 0.920107\n",
      "Iteration 33, loss = 0.08627604\n",
      "Validation score: 0.921438\n",
      "Iteration 34, loss = 0.08402250\n",
      "Validation score: 0.922770\n",
      "Iteration 35, loss = 0.08353349\n",
      "Validation score: 0.921438\n",
      "Iteration 36, loss = 0.08425532\n",
      "Validation score: 0.917443\n",
      "Iteration 37, loss = 0.08945708\n",
      "Validation score: 0.925433\n",
      "Iteration 38, loss = 0.08359147\n",
      "Validation score: 0.926764\n",
      "Iteration 39, loss = 0.08048035\n",
      "Validation score: 0.921438\n",
      "Iteration 40, loss = 0.08025414\n",
      "Validation score: 0.924101\n",
      "Iteration 41, loss = 0.08137342\n",
      "Validation score: 0.925433\n",
      "Validation score did not improve more than tol=0.000001 for 10 consecutive epochs. Stopping.\n",
      "Iteration 1, loss = 0.40788482\n",
      "Validation score: 0.864181\n",
      "Iteration 2, loss = 0.26301039\n",
      "Validation score: 0.877497\n",
      "Iteration 3, loss = 0.20527504\n",
      "Validation score: 0.893475\n",
      "Iteration 4, loss = 0.16790422\n",
      "Validation score: 0.894807\n",
      "Iteration 5, loss = 0.15071160\n",
      "Validation score: 0.886818\n",
      "Iteration 6, loss = 0.14439299\n",
      "Validation score: 0.888149\n",
      "Iteration 7, loss = 0.14112146\n",
      "Validation score: 0.889481\n",
      "Iteration 8, loss = 0.13401118\n",
      "Validation score: 0.897470\n",
      "Iteration 9, loss = 0.13389126\n",
      "Validation score: 0.892144\n",
      "Iteration 10, loss = 0.12931225\n",
      "Validation score: 0.894807\n",
      "Iteration 11, loss = 0.12466278\n",
      "Validation score: 0.902796\n",
      "Iteration 12, loss = 0.14279558\n",
      "Validation score: 0.906791\n",
      "Iteration 13, loss = 0.12750283\n",
      "Validation score: 0.892144\n",
      "Iteration 14, loss = 0.12438882\n",
      "Validation score: 0.906791\n",
      "Iteration 15, loss = 0.11082191\n",
      "Validation score: 0.910786\n",
      "Iteration 16, loss = 0.11240740\n",
      "Validation score: 0.902796\n",
      "Iteration 17, loss = 0.11038678\n",
      "Validation score: 0.918775\n",
      "Iteration 18, loss = 0.11188434\n",
      "Validation score: 0.920107\n",
      "Iteration 19, loss = 0.10830397\n",
      "Validation score: 0.905459\n",
      "Iteration 20, loss = 0.10151177\n",
      "Validation score: 0.913449\n",
      "Iteration 21, loss = 0.09707397\n",
      "Validation score: 0.902796\n",
      "Iteration 22, loss = 0.09652720\n",
      "Validation score: 0.912117\n",
      "Iteration 23, loss = 0.09688977\n",
      "Validation score: 0.917443\n",
      "Iteration 24, loss = 0.09725326\n",
      "Validation score: 0.912117\n",
      "Iteration 25, loss = 0.10392207\n",
      "Validation score: 0.909454\n",
      "Iteration 26, loss = 0.09593367\n",
      "Validation score: 0.912117\n",
      "Iteration 27, loss = 0.09133628\n",
      "Validation score: 0.913449\n",
      "Iteration 28, loss = 0.09078607\n",
      "Validation score: 0.921438\n",
      "Iteration 29, loss = 0.08570349\n",
      "Validation score: 0.918775\n",
      "Iteration 30, loss = 0.09251666\n",
      "Validation score: 0.914780\n",
      "Iteration 31, loss = 0.08546574\n",
      "Validation score: 0.920107\n",
      "Iteration 32, loss = 0.09478688\n",
      "Validation score: 0.921438\n",
      "Iteration 33, loss = 0.09667905\n",
      "Validation score: 0.914780\n",
      "Iteration 34, loss = 0.10160392\n",
      "Validation score: 0.921438\n",
      "Iteration 35, loss = 0.10391098\n",
      "Validation score: 0.922770\n",
      "Iteration 36, loss = 0.09757792\n",
      "Validation score: 0.917443\n",
      "Iteration 37, loss = 0.09042376\n",
      "Validation score: 0.928096\n",
      "Iteration 38, loss = 0.08442926\n",
      "Validation score: 0.926764\n",
      "Iteration 39, loss = 0.08378421\n",
      "Validation score: 0.926764\n",
      "Iteration 40, loss = 0.08409952\n",
      "Validation score: 0.925433\n",
      "Iteration 41, loss = 0.08446483\n",
      "Validation score: 0.930759\n",
      "Iteration 42, loss = 0.08081458\n",
      "Validation score: 0.928096\n",
      "Iteration 43, loss = 0.07882310\n",
      "Validation score: 0.917443\n",
      "Iteration 44, loss = 0.08182938\n",
      "Validation score: 0.926764\n",
      "Iteration 45, loss = 0.07989511\n",
      "Validation score: 0.928096\n",
      "Iteration 46, loss = 0.09954828\n",
      "Validation score: 0.920107\n",
      "Iteration 47, loss = 0.09326205\n",
      "Validation score: 0.921438\n",
      "Iteration 48, loss = 0.09037350\n",
      "Validation score: 0.912117\n",
      "Iteration 49, loss = 0.08646370\n",
      "Validation score: 0.917443\n",
      "Iteration 50, loss = 0.08738321\n",
      "Validation score: 0.925433\n",
      "Iteration 51, loss = 0.07865670\n",
      "Validation score: 0.920107\n",
      "Iteration 52, loss = 0.07185369\n",
      "Validation score: 0.920107\n",
      "Validation score did not improve more than tol=0.000001 for 10 consecutive epochs. Stopping.\n",
      "Iteration 1, loss = 0.43471303\n",
      "Validation score: 0.877497\n",
      "Iteration 2, loss = 0.23829604\n",
      "Validation score: 0.874834\n",
      "Iteration 3, loss = 0.17986434\n",
      "Validation score: 0.906791\n",
      "Iteration 4, loss = 0.16568100\n",
      "Validation score: 0.890812\n",
      "Iteration 5, loss = 0.15062760\n",
      "Validation score: 0.892144\n",
      "Iteration 6, loss = 0.14024918\n",
      "Validation score: 0.904128\n",
      "Iteration 7, loss = 0.13616754\n",
      "Validation score: 0.906791\n",
      "Iteration 8, loss = 0.12883027\n",
      "Validation score: 0.909454\n",
      "Iteration 9, loss = 0.12431857\n",
      "Validation score: 0.905459\n",
      "Iteration 10, loss = 0.12072748\n",
      "Validation score: 0.906791\n",
      "Iteration 11, loss = 0.11660727\n",
      "Validation score: 0.904128\n",
      "Iteration 12, loss = 0.11705216\n",
      "Validation score: 0.920107\n",
      "Iteration 13, loss = 0.10918586\n",
      "Validation score: 0.896138\n",
      "Iteration 14, loss = 0.11033636\n",
      "Validation score: 0.909454\n",
      "Iteration 15, loss = 0.10750436\n",
      "Validation score: 0.910786\n",
      "Iteration 16, loss = 0.10848548\n",
      "Validation score: 0.905459\n",
      "Iteration 17, loss = 0.10433990\n",
      "Validation score: 0.908123\n",
      "Iteration 18, loss = 0.11655673\n",
      "Validation score: 0.916112\n",
      "Iteration 19, loss = 0.10364723\n",
      "Validation score: 0.910786\n",
      "Iteration 20, loss = 0.09636761\n",
      "Validation score: 0.908123\n",
      "Iteration 21, loss = 0.09464085\n",
      "Validation score: 0.905459\n",
      "Iteration 22, loss = 0.09527806\n",
      "Validation score: 0.916112\n",
      "Iteration 23, loss = 0.09827698\n",
      "Validation score: 0.916112\n",
      "Validation score did not improve more than tol=0.000001 for 10 consecutive epochs. Stopping.\n",
      "CV average score: 0.84\n"
     ]
    }
   ],
   "source": [
    "mlp_cv_scores = cross_val_score(MLP_clf, trainX, trainy, cv=10)\n",
    "print(\"CV average score: %.2f\" % mlp_cv_scores.mean())"
   ]
  },
  {
   "cell_type": "code",
   "execution_count": 95,
   "id": "5fb75574",
   "metadata": {},
   "outputs": [
    {
     "data": {
      "text/plain": [
       "array([[9.73037327e-01, 2.69626729e-02],\n",
       "       [9.99999649e-01, 3.51264121e-07]])"
      ]
     },
     "execution_count": 95,
     "metadata": {},
     "output_type": "execute_result"
    }
   ],
   "source": [
    "MLP_clf.predict_proba(testX[:2])"
   ]
  },
  {
   "cell_type": "code",
   "execution_count": 96,
   "id": "6900da6f",
   "metadata": {},
   "outputs": [],
   "source": [
    "yhat_mlp = MLP_clf.predict(testX)\n"
   ]
  },
  {
   "cell_type": "code",
   "execution_count": 97,
   "id": "5f3330cc",
   "metadata": {},
   "outputs": [
    {
     "name": "stdout",
     "output_type": "stream",
     "text": [
      "MLP test accuracy_score: 92.8388746803069\n"
     ]
    }
   ],
   "source": [
    "mlp_test_accuracy_score = accuracy_score(testY,MLP_clf.predict(testX))*100\n",
    "print(\"MLP test accuracy_score:\", mlp_test_accuracy_score)"
   ]
  },
  {
   "cell_type": "code",
   "execution_count": 98,
   "id": "5ace38f1",
   "metadata": {},
   "outputs": [
    {
     "data": {
      "text/plain": [
       "<sklearn.metrics._plot.roc_curve.RocCurveDisplay at 0x1f7e2cefe80>"
      ]
     },
     "execution_count": 98,
     "metadata": {},
     "output_type": "execute_result"
    },
    {
     "data": {
      "image/png": "[encoded data removed]",
      "text/plain": [
       "<Figure size 432x288 with 1 Axes>"
      ]
     },
     "metadata": {
      "needs_background": "light"
     },
     "output_type": "display_data"
    }
   ],
   "source": [
    "RocCurveDisplay.from_estimator(MLP_clf,testX,testY)"
   ]
  },
  {
   "cell_type": "code",
   "execution_count": 99,
   "id": "06f4b9a0",
   "metadata": {},
   "outputs": [
    {
     "data": {
      "text/plain": [
       "[<matplotlib.lines.Line2D at 0x1f7e325e730>]"
      ]
     },
     "execution_count": 99,
     "metadata": {},
     "output_type": "execute_result"
    },
    {
     "data": {
      "image/png": "[encoded data removed]",
      "text/plain": [
       "<Figure size 432x288 with 1 Axes>"
      ]
     },
     "metadata": {
      "needs_background": "light"
     },
     "output_type": "display_data"
    }
   ],
   "source": [
    "plt.plot(MLP_clf.loss_curve_,label='Loss')\n",
    "#plt.plot(MLP_clf.validation_scores_,label='validation')"
   ]
  },
  {
   "cell_type": "code",
   "execution_count": 100,
   "id": "67b33448",
   "metadata": {},
   "outputs": [
    {
     "data": {
      "text/plain": [
       "[<matplotlib.lines.Line2D at 0x1f7f6ac2b50>]"
      ]
     },
     "execution_count": 100,
     "metadata": {},
     "output_type": "execute_result"
    },
    {
     "data": {
      "image/png": "[encoded data removed]",
      "text/plain": [
       "<Figure size 432x288 with 1 Axes>"
      ]
     },
     "metadata": {
      "needs_background": "light"
     },
     "output_type": "display_data"
    }
   ],
   "source": [
    "plt.plot(MLP_clf.validation_scores_,label='validation')"
   ]
  },
  {
   "cell_type": "code",
   "execution_count": 101,
   "id": "c581e13f",
   "metadata": {},
   "outputs": [
    {
     "data": {
      "image/png": "[encoded data removed]",
      "text/plain": [
       "<Figure size 432x288 with 2 Axes>"
      ]
     },
     "metadata": {
      "needs_background": "light"
     },
     "output_type": "display_data"
    }
   ],
   "source": [
    "#confusion_matrix(y_test,yhat_svm)\n",
    "\n",
    "ConfusionMatrixDisplay.from_estimator(MLP_clf, testX, testY)  \n",
    "plt.show() "
   ]
  },
  {
   "cell_type": "code",
   "execution_count": 102,
   "id": "15432a6d",
   "metadata": {},
   "outputs": [
    {
     "name": "stdout",
     "output_type": "stream",
     "text": [
      "confusion matrix\n",
      " [[1762  159]\n",
      " [  93 1505]]\n",
      "\n",
      "classification report\n",
      "               precision    recall  f1-score   support\n",
      "\n",
      "         0.0       0.95      0.92      0.93      1921\n",
      "         1.0       0.90      0.94      0.92      1598\n",
      "\n",
      "    accuracy                           0.93      3519\n",
      "   macro avg       0.93      0.93      0.93      3519\n",
      "weighted avg       0.93      0.93      0.93      3519\n",
      "\n",
      "Accuracy:  92.8388746803069\n"
     ]
    }
   ],
   "source": [
    "\n",
    "print(\"confusion matrix\\n\",confusion_matrix(testY,yhat_mlp))\n",
    "print(\"\\nclassification report\\n\",classification_report(testY,yhat_mlp))\n",
    "print(\"Accuracy: \",accuracy_score(testY,yhat_mlp)*100)"
   ]
  },
  {
   "cell_type": "code",
   "execution_count": 103,
   "id": "84f78740",
   "metadata": {},
   "outputs": [
    {
     "name": "stdout",
     "output_type": "stream",
     "text": [
      "\n",
      "\n",
      "Coefficient of determination of test data:\n",
      "0.7111212023879613\n"
     ]
    }
   ],
   "source": [
    "#CALCULATE THE COEFFICIENT OF DETERMINATION ON TEST DATA\n",
    "y_pred_test=MLP_clf.predict(testX)\n",
    "msqe_test=mean_squared_error(testY, y_pred_test)  \n",
    "var_test=np.var(testY) \n",
    "score_test=1-msqe_test/var_test\n",
    "\n",
    "print('\\n')\n",
    "print('Coefficient of determination of test data:')\n",
    "print(score_test)"
   ]
  },
  {
   "cell_type": "code",
   "execution_count": 104,
   "id": "f2e3b8a1",
   "metadata": {},
   "outputs": [
    {
     "name": "stdout",
     "output_type": "stream",
     "text": [
      "\n",
      "\n",
      "Coefficient of determination of train data:\n",
      "0.8483457016040561\n"
     ]
    }
   ],
   "source": [
    "#CALCULATE THE COEFFICIENT OF DETERMINATION ON TRAIN DATA\n",
    "y_pred_train=MLP_clf.predict(trainX)\n",
    "msqe_train=mean_squared_error(trainy, y_pred_train) \n",
    "var_train=np.var(trainy)\n",
    "score_train=1-msqe_train/var_train\n",
    "\n",
    "print('\\n')\n",
    "print('Coefficient of determination of train data:')\n",
    "print(score_train)"
   ]
  },
  {
   "cell_type": "code",
   "execution_count": null,
   "id": "190d440b",
   "metadata": {},
   "outputs": [],
   "source": []
  }
 ],
 "metadata": {
  "kernelspec": {
   "display_name": "Python 3 (ipykernel)",
   "language": "python",
   "name": "python3"
  },
  "language_info": {
   "codemirror_mode": {
    "name": "ipython",
    "version": 3
   },
   "file_extension": ".py",
   "mimetype": "text/x-python",
   "name": "python",
   "nbconvert_exporter": "python",
   "pygments_lexer": "ipython3",
   "version": "3.9.12"
  }
 },
 "nbformat": 4,
 "nbformat_minor": 5
}
